{
 "cells": [
  {
   "cell_type": "markdown",
   "metadata": {},
   "source": [
    "## Estimating US crude exports"
   ]
  },
  {
   "cell_type": "markdown",
   "metadata": {},
   "source": [
    "In this notebook we have implemented a model to track real-time U.S. crude exports. The official US crude exports figures are available from U.S. Energy Information Administration (EIA). However, these figures are published with a 2-3 months delay. In the world of alternative data sources, could we reliably estimate U.S. crude exports ahead of the official figures? In this example we're using trade flows data retrieved using [RDMS (Refinitiv Data Management Solution)](https://my.refinitiv.com/content/mytr/en/product/refinitiv-data-management-solution.html) to gain insight into crude oil supply trends and buying patterns. We also create a basic arbitrage model using crude prices and freight rates to assess when U.S. crude is more favourable compared to Middle Eastern crude for a crude buyer in Asia. Finally we use fixtures to assess the forward view of exports from the U.S. Gulf.  \n",
    "The notebooks utilizes the following Python packages:  \n",
    "- RDP library to retrieve for pricing information from Eikon\n",
    "- JSON, requests and configparser are used for getting RDMS information\n",
    "- Plotly and Cufflinks are used for plotting\n",
    "- Other standard python packages such as pandas are used for data manipulation"
   ]
  },
  {
   "cell_type": "code",
   "execution_count": 1,
   "metadata": {},
   "outputs": [
    {
     "data": {
      "text/html": [
       "        <script type=\"text/javascript\">\n",
       "        window.PlotlyConfig = {MathJaxConfig: 'local'};\n",
       "        if (window.MathJax) {MathJax.Hub.Config({SVG: {font: \"STIX-Web\"}});}\n",
       "        if (typeof require !== 'undefined') {\n",
       "        require.undef(\"plotly\");\n",
       "        requirejs.config({\n",
       "            paths: {\n",
       "                'plotly': ['https://cdn.plot.ly/plotly-latest.min']\n",
       "            }\n",
       "        });\n",
       "        require(['plotly'], function(Plotly) {\n",
       "            window._Plotly = Plotly;\n",
       "        });\n",
       "        }\n",
       "        </script>\n",
       "        "
      ]
     },
     "metadata": {},
     "output_type": "display_data"
    },
    {
     "data": {
      "text/html": [
       "        <script type=\"text/javascript\">\n",
       "        window.PlotlyConfig = {MathJaxConfig: 'local'};\n",
       "        if (window.MathJax) {MathJax.Hub.Config({SVG: {font: \"STIX-Web\"}});}\n",
       "        if (typeof require !== 'undefined') {\n",
       "        require.undef(\"plotly\");\n",
       "        requirejs.config({\n",
       "            paths: {\n",
       "                'plotly': ['https://cdn.plot.ly/plotly-latest.min']\n",
       "            }\n",
       "        });\n",
       "        require(['plotly'], function(Plotly) {\n",
       "            window._Plotly = Plotly;\n",
       "        });\n",
       "        }\n",
       "        </script>\n",
       "        "
      ]
     },
     "metadata": {},
     "output_type": "display_data"
    }
   ],
   "source": [
    "import datetime as dt\n",
    "import requests\n",
    "import json\n",
    "import configparser\n",
    "import refinitiv.dataplatform.eikon as ek\n",
    "import refinitiv.dataplatform as rdp\n",
    "import pandas as pd\n",
    "import numpy as np\n",
    "import os\n",
    "# Use the Eikon Appkey generator app to create an appkey for accessing data using RDP/Eikon libraries\n",
    "rdp.open_desktop_session(os.environ['EIKON_APP_KEY'])\n",
    "from datetime import date,timedelta\n",
    "import csv\n",
    "import plotly.express as px\n",
    "import plotly.graph_objects as go\n",
    "from plotly.subplots import make_subplots\n",
    "import cufflinks as cf\n",
    "cf.set_config_file(offline=True,theme='solar')"
   ]
  },
  {
   "cell_type": "markdown",
   "metadata": {},
   "source": [
    "## Retrieving trade flow data from RDMS. \n",
    "RDMS is an open platform that allows you to integrate the great depth and breadth of Refinitiv’s commodity data into your workflows. RDMS merges and normalizes data across a range of sources including Refinitiv, 3rd party and internal customer's data. Refinitiv sources available through RDMS include Refinitiv Real-Time datafeed, DataScope Select and Pointconnect feeds. Client application can conveniently retrieve this data using a standard REST API.  \n",
    "  \n",
    "We start by retrieving the data for Dirty flows with Load Country as USA/Virgin Islands and Crude Oil as the Product. We also load Canada pipeline imports data, which we will later add to tanker crude flows originating from U.S. ports to estimate total U.S. crude exports. Static CSV file with U.S. ports locations is used to display port locations on the map."
   ]
  },
  {
   "cell_type": "code",
   "execution_count": 2,
   "metadata": {
    "scrolled": true
   },
   "outputs": [
    {
     "data": {
      "text/html": [
       "<div>\n",
       "<style scoped>\n",
       "    .dataframe tbody tr th:only-of-type {\n",
       "        vertical-align: middle;\n",
       "    }\n",
       "\n",
       "    .dataframe tbody tr th {\n",
       "        vertical-align: top;\n",
       "    }\n",
       "\n",
       "    .dataframe thead th {\n",
       "        text-align: right;\n",
       "    }\n",
       "</style>\n",
       "<table border=\"1\" class=\"dataframe\">\n",
       "  <thead>\n",
       "    <tr style=\"text-align: right;\">\n",
       "      <th></th>\n",
       "      <th>DepartureDate</th>\n",
       "      <th>Vessel</th>\n",
       "      <th>VesselType</th>\n",
       "      <th>LoadPort</th>\n",
       "      <th>DischargePort</th>\n",
       "      <th>Barrels</th>\n",
       "      <th>Status</th>\n",
       "    </tr>\n",
       "  </thead>\n",
       "  <tbody>\n",
       "    <tr>\n",
       "      <th>12930</th>\n",
       "      <td>2021-05-17 15:58:30</td>\n",
       "      <td>FRONT CORAL</td>\n",
       "      <td>Suezmax</td>\n",
       "      <td>Beaumont</td>\n",
       "      <td>NaN</td>\n",
       "      <td>995577</td>\n",
       "      <td>Vessel Underway</td>\n",
       "    </tr>\n",
       "    <tr>\n",
       "      <th>12931</th>\n",
       "      <td>2021-05-16 11:40:49</td>\n",
       "      <td>SOCRATES</td>\n",
       "      <td>Panamax</td>\n",
       "      <td>Beaumont</td>\n",
       "      <td>NaN</td>\n",
       "      <td>483835</td>\n",
       "      <td>Vessel Underway</td>\n",
       "    </tr>\n",
       "    <tr>\n",
       "      <th>12932</th>\n",
       "      <td>2021-05-16 18:15:01</td>\n",
       "      <td>EAGLE HELSINKI</td>\n",
       "      <td>Aframax / LRII</td>\n",
       "      <td>GOLA - Galveston Offshore Lightering Area</td>\n",
       "      <td>Corpus Christi</td>\n",
       "      <td>413072</td>\n",
       "      <td>Vessel Underway</td>\n",
       "    </tr>\n",
       "    <tr>\n",
       "      <th>12933</th>\n",
       "      <td>2021-05-18 12:00:00</td>\n",
       "      <td>PEGASUS VOYAGER</td>\n",
       "      <td>Suezmax</td>\n",
       "      <td>Pacific Area Lightering</td>\n",
       "      <td>NaN</td>\n",
       "      <td>951663</td>\n",
       "      <td>Vessel Loading</td>\n",
       "    </tr>\n",
       "    <tr>\n",
       "      <th>12934</th>\n",
       "      <td>2021-05-18 12:00:00</td>\n",
       "      <td>OLYMPIC LION</td>\n",
       "      <td>VLCC</td>\n",
       "      <td>Corpus Christi</td>\n",
       "      <td>NaN</td>\n",
       "      <td>1998133</td>\n",
       "      <td>Vessel Loading</td>\n",
       "    </tr>\n",
       "    <tr>\n",
       "      <th>12935</th>\n",
       "      <td>2021-05-18 12:00:00</td>\n",
       "      <td>NORDORCHID</td>\n",
       "      <td>Aframax / LRII</td>\n",
       "      <td>Corpus Christi</td>\n",
       "      <td>NaN</td>\n",
       "      <td>536080</td>\n",
       "      <td>Vessel Loading</td>\n",
       "    </tr>\n",
       "    <tr>\n",
       "      <th>12936</th>\n",
       "      <td>2021-05-18 12:00:00</td>\n",
       "      <td>AEGEAN DREAM</td>\n",
       "      <td>Suezmax</td>\n",
       "      <td>Bayport</td>\n",
       "      <td>NaN</td>\n",
       "      <td>962064</td>\n",
       "      <td>Vessel Loading</td>\n",
       "    </tr>\n",
       "    <tr>\n",
       "      <th>12937</th>\n",
       "      <td>2021-05-18 12:00:00</td>\n",
       "      <td>ASPASIA LEMOS</td>\n",
       "      <td>Aframax / LRII</td>\n",
       "      <td>LOOP</td>\n",
       "      <td>NaN</td>\n",
       "      <td>518035</td>\n",
       "      <td>Vessel Awaiting Load</td>\n",
       "    </tr>\n",
       "    <tr>\n",
       "      <th>12938</th>\n",
       "      <td>2021-05-18 12:00:00</td>\n",
       "      <td>HARMONIC</td>\n",
       "      <td>Suezmax</td>\n",
       "      <td>Houston</td>\n",
       "      <td>NaN</td>\n",
       "      <td>1110452</td>\n",
       "      <td>Vessel Loading</td>\n",
       "    </tr>\n",
       "    <tr>\n",
       "      <th>12939</th>\n",
       "      <td>2021-04-19 12:09:42</td>\n",
       "      <td>AUSTRALIAN SPIRIT</td>\n",
       "      <td>Aframax / LRII</td>\n",
       "      <td>Beaumont</td>\n",
       "      <td>Port Neches</td>\n",
       "      <td>515008</td>\n",
       "      <td>Vessel Discharged</td>\n",
       "    </tr>\n",
       "  </tbody>\n",
       "</table>\n",
       "</div>"
      ],
      "text/plain": [
       "             DepartureDate             Vessel      VesselType  \\\n",
       "12930  2021-05-17 15:58:30        FRONT CORAL         Suezmax   \n",
       "12931  2021-05-16 11:40:49           SOCRATES         Panamax   \n",
       "12932  2021-05-16 18:15:01     EAGLE HELSINKI  Aframax / LRII   \n",
       "12933  2021-05-18 12:00:00    PEGASUS VOYAGER         Suezmax   \n",
       "12934  2021-05-18 12:00:00       OLYMPIC LION            VLCC   \n",
       "12935  2021-05-18 12:00:00         NORDORCHID  Aframax / LRII   \n",
       "12936  2021-05-18 12:00:00       AEGEAN DREAM         Suezmax   \n",
       "12937  2021-05-18 12:00:00      ASPASIA LEMOS  Aframax / LRII   \n",
       "12938  2021-05-18 12:00:00           HARMONIC         Suezmax   \n",
       "12939  2021-04-19 12:09:42  AUSTRALIAN SPIRIT  Aframax / LRII   \n",
       "\n",
       "                                        LoadPort   DischargePort  Barrels  \\\n",
       "12930                                   Beaumont             NaN   995577   \n",
       "12931                                   Beaumont             NaN   483835   \n",
       "12932  GOLA - Galveston Offshore Lightering Area  Corpus Christi   413072   \n",
       "12933                    Pacific Area Lightering             NaN   951663   \n",
       "12934                             Corpus Christi             NaN  1998133   \n",
       "12935                             Corpus Christi             NaN   536080   \n",
       "12936                                    Bayport             NaN   962064   \n",
       "12937                                       LOOP             NaN   518035   \n",
       "12938                                    Houston             NaN  1110452   \n",
       "12939                                   Beaumont     Port Neches   515008   \n",
       "\n",
       "                     Status  \n",
       "12930       Vessel Underway  \n",
       "12931       Vessel Underway  \n",
       "12932       Vessel Underway  \n",
       "12933        Vessel Loading  \n",
       "12934        Vessel Loading  \n",
       "12935        Vessel Loading  \n",
       "12936        Vessel Loading  \n",
       "12937  Vessel Awaiting Load  \n",
       "12938        Vessel Loading  \n",
       "12939     Vessel Discharged  "
      ]
     },
     "execution_count": 2,
     "metadata": {},
     "output_type": "execute_result"
    }
   ],
   "source": [
    "#A config file with the RDMS api key is stored and accessed separately\n",
    "config = configparser.ConfigParser()\n",
    "config.read('config.ini')\n",
    "api=config['RDMS']['Api']\n",
    "headers = { 'Authorization' : config['RDMS']['Key'],'Accept':\"text/csv\" }\n",
    "#params\n",
    "flowType = 'Dirty'\n",
    "fields = '*'\n",
    "filter = 'LoadCountry=United States,Virgin Islands (U.S.);Product=Crude Oil'\n",
    "result = requests.get(api + '/Flows/FlowData/'+flowType+'?Fields='+fields+'&Filter='+filter, headers=headers, verify=True)\n",
    "flows = open('USflows.csv', \"w\")\n",
    "flows.write(result.text)\n",
    "flows.close()\n",
    "df=pd.read_csv('USflows.csv', parse_dates=True, infer_datetime_format=True)\n",
    "port_locations=pd.read_csv(\"US_Ports_Locations.csv\")\n",
    "canada_imports=pd.read_csv(\"Canada Pipeline Imports.csv\",parse_dates=True,index_col='Bbls',thousands=',')\n",
    "canada_imports.index=canada_imports.index.to_period('M')\n",
    "#Display a sample of flows data we'll be analizing\n",
    "df[['DepartureDate','Vessel','VesselType','LoadPort','DischargePort','Barrels','Status']].tail(10)"
   ]
  },
  {
   "cell_type": "markdown",
   "metadata": {},
   "source": [
    "To produce an estimate for monthly crude exports we need to aggregate the flows into time intervals. For this purpose it's useful to add a number of columns detailing departure and arrival week, month, quarter and year."
   ]
  },
  {
   "cell_type": "code",
   "execution_count": 3,
   "metadata": {},
   "outputs": [],
   "source": [
    "df['DepartureDate'] = pd.to_datetime(df['DepartureDate'], errors='coerce')\n",
    "df['ArrivalDate'] = pd.to_datetime(df['ArrivalDate'], errors='coerce')\n",
    "df['Departure Week Number']=df['DepartureDate'].dt.week\n",
    "df['Departure Week']=pd.to_datetime(df['DepartureDate']).dt.to_period('w')\n",
    "df['Departure Month']=pd.to_datetime(df['DepartureDate']).dt.to_period('M')\n",
    "df['Departure Quarter']=pd.to_datetime(df['DepartureDate']).dt.to_period('Q')\n",
    "df['Departure Year']=pd.to_datetime(df['DepartureDate']).dt.to_period('Y')\n",
    "df['Arrival Week Number']=df['ArrivalDate'].dt.week\n",
    "df['Arrival Week']=pd.to_datetime(df['ArrivalDate']).dt.to_period('w')\n",
    "df['Arrival Month']=pd.to_datetime(df['ArrivalDate']).dt.to_period('M')\n",
    "df['Arrival Quarter']=pd.to_datetime(df['ArrivalDate']).dt.to_period('Q')\n",
    "df['Arrival Year']=pd.to_datetime(df['ArrivalDate']).dt.to_period('Y')"
   ]
  },
  {
   "cell_type": "markdown",
   "metadata": {},
   "source": [
    "Now we analyze the flows by geography.  \n",
    "Myanmar discharges are treated as imports by China as the Sino-Myanmar pipeline feeds the refineries in China provinces bordering Myanmar.  \n",
    "The trade flows data includes all crude transport. At the moment there's only one U.S. facility (The Louisiana Offshore Oil Port or LOOP) able to accommodate a fully loaded VLCC (Very Large Crude Carrier), a type of oil tanker able to carry approximately 2 mln barrels of crude oil and required for economic transportation of crude across the ocean, such as between the U.S. and Asia. All onshore U.S. ports in the Gulf Coast that actively trade petroleum are located in inland harbors and are connected to the open ocean through shipping channels or navigable rivers. Although these channels and rivers are regularly dredged to maintain depth and enable safe navigation for most ships, they are not deep enough for deep-draft vessels such as fully loaded VLCCs. To circumvent depth restrictions, VLCCs transporting crude oil to or from the U.S. Gulf Coast have typically used partial loadings and the process of ship-to-ship transfers or lightering. To accurately estimate U.S. crude exports, we need to account for lightering in our analysis of trade flows data, to avoid double counting crude first transported in a smaller tanker from a U.S. onshore port to an offshore lightering zone and then transferred to a larger tanker for trasporting to its ultimate destination port. To account for this we have compiled a list of loading and discharge ports to exclude from the trade flows dataset:  \n",
    "<br />\n",
    "<div>\n",
    "<table align=\"left\">\n",
    "    <tr><th style=\"text-align:left\"> Port Name</th><th style=\"text-align:left\"> Port RIC</th></tr>\n",
    "    <tr><td style=\"text-align:left\"> Pacific Area Lightering</td><td style=\"text-align:left\"> C}TS7309641681</td></tr>\n",
    "    <tr><td style=\"text-align:left\"> South Sabine Point</td><td style=\"text-align:left\"> C}TS7309533579</td></tr>\n",
    "    <tr><td style=\"text-align:left\"> US Golf Lightering Zones</td><td style=\"text-align:left\"> C}TS7309533561</td></tr>\n",
    "    <tr><td style=\"text-align:left\"> Calcasieu Pass (S) Anchorage</td><td style=\"text-align:left\"> C}TS7309786001</td></tr>\n",
    "    <tr><td style=\"text-align:left\"> Pacific Lightering Area 2</td><td style=\"text-align:left\"> C}TS7309709063</td></tr>\n",
    "    <tr><td style=\"text-align:left\"> Gulf Gateway Terminal</td><td style=\"text-align:left\"> C}TS7309557398</td></tr>\n",
    "    <tr><td style=\"text-align:left\"> Corpus Christi STS Area 2</td><td style=\"text-align:left\"> C}TS7309789693</td></tr>\n",
    "    <tr><td style=\"text-align:left\"> Pascaguola Lightering Zone</td><td style=\"text-align:left\"> C}TS7309823983</td></tr>\n",
    "    <tr><td style=\"text-align:left\"> GOLA - Galveston Offshore Lightering Area</td><td style=\"text-align:left\"> C}TS7309564485</td></tr>\n",
    "    <tr><td style=\"text-align:left\"> Gulfmex (SW Pass) Lightering</td><td style=\"text-align:left\"> C}TS7309533587</td></tr>\n",
    "    <tr><td style=\"text-align:left\"> Southwest Pass Lightering Area</td><td style=\"text-align:left\"> C}TS7309791374</td></tr>\n",
    "    <tr><td style=\"text-align:left\"> Corpus Christi STS 1</td><td style=\"text-align:left\"> C}TS7309944668</td></tr>\n",
    "</table>\n",
    "</div>\n",
    "<div style=\"clear:both\">\n",
    "<br />\n",
    "Flows are segregated based on their load and discharge port/berth characteristics to avoid double counting of ship-to-ship (STS) loads. Only STS loads with discharge country other than US/Virgin Islands and shore loads with discharge country other than US/Virgin Islands are counted towards exports. Vessels with status as Underway, Discharged, Discharging or Awaiting Discharge are departed flows and are included in the count.\n",
    "</div>"
   ]
  },
  {
   "cell_type": "code",
   "execution_count": 4,
   "metadata": {},
   "outputs": [],
   "source": [
    "df['Adjusted Discharge Country']=np.where(df['DischargeCountry']=='Myanmar','China',df['DischargeCountry'])\n",
    "sts_port_exclusion_list=['C}TS7309641681','C}TS7309533579','C}TS7309533561','C}TS7309786001','C}TS7309709063','C}TS7309557398',\n",
    "                         'C}TS7309789693','C}TS7309823983','C}TS7309564485','C}TS7309533587','C}TS7309791374','C}TS7309944668']\n",
    "df['Loadport_exclusion']=np.where(df['LoadPortRIC'].isin(sts_port_exclusion_list),1,0)\n",
    "df['Disport_exclusion']=np.where(df['LoadPortRIC'].isin(sts_port_exclusion_list),1,0)\n",
    "df['Discharge_country']=np.where(df['DischargeCountry'].isin(['United States','Virgin Islands (U.S.)']),1,0)\n",
    "df['Flow_exclusion']=np.where((df['Discharge_country']==0)&(df['Loadport_exclusion']==0),1,\n",
    "                              np.where((df['Discharge_country']==0)&(df['Loadport_exclusion']==1),1,0))\n",
    "us_exports=df[df['Flow_exclusion']==1]\n",
    "us_exports=us_exports[us_exports['Status'].isin(['Vessel Underway','Vessel Discharged','Vessel Discharging','Vessel Awaiting Discharge'])]\n",
    "zones=pd.read_csv(\"ports_zones.csv\")\n",
    "merged_df=us_exports.merge(zones,how='left',left_on='LoadPortRIC',right_on='Ric')\n",
    "merged_df=merged_df.merge(port_locations,how='left',left_on='LoadPortRIC',right_on='Instrument')"
   ]
  },
  {
   "cell_type": "markdown",
   "metadata": {},
   "source": [
    "In the cell above we added port zone info to the dataframe. This allows us to demonstrate that trade flows analysis can be done for a specific PADD. In this example we're only going to consider PADD 3 exports, which account for the bulk of U.S. crude exports. To achieve this we're filtering flows with Tanker zone as US Gulf. Then we can pivot the table to aggregate the flow by departure month and add Canada imports via pipelines."
   ]
  },
  {
   "cell_type": "code",
   "execution_count": 5,
   "metadata": {},
   "outputs": [
    {
     "name": "stdout",
     "output_type": "stream",
     "text": [
      "                  Barrels     PADD 3         mnbpd  Refinitiv Flows_kbpd  \\\n",
      "Departure Month                                                            \n",
      "2021-01          90430435  7979270.0  2.917111e+06           2917.110806   \n",
      "2021-02          58213064        NaN  2.079038e+06           2079.038000   \n",
      "2021-03          74626309        NaN  2.407300e+06           2407.300290   \n",
      "2021-04          85550575        NaN  2.851686e+06           2851.685833   \n",
      "2021-05          41688779        NaN  2.452281e+06           2452.281118   \n",
      "\n",
      "                 Pipeline exports_kbpd  \n",
      "Departure Month                         \n",
      "2021-01                     257.395806  \n",
      "2021-02                            NaN  \n",
      "2021-03                            NaN  \n",
      "2021-04                            NaN  \n",
      "2021-05                            NaN  \n"
     ]
    }
   ],
   "source": [
    "padd3=merged_df[merged_df['Tanker Zone']=='US Gulf']\n",
    "padd3_table=padd3.pivot_table(index='Departure Month',values='Barrels',aggfunc=np.sum,fill_value=0)\n",
    "padd3_table=padd3_table.merge(canada_imports['PADD 3'],how='left',left_index=True,right_index=True)\n",
    "padd3_mnbpd=padd3_table.copy()\n",
    "padd3_mnbpd['days']=np.where(padd3_mnbpd.index!=pd.Timestamp(dt.datetime.today()).to_period('M'),padd3_mnbpd.index.days_in_month,dt.datetime.today().day)\n",
    "padd3_mnbpd['mnbpd']=padd3_mnbpd.iloc[:,0]/(padd3_mnbpd['days'])\n",
    "padd3_mnbpd['Refinitiv Flows_kbpd']=padd3_mnbpd['mnbpd']/1000\n",
    "padd3_mnbpd['Pipeline exports_kbpd']=padd3_mnbpd['PADD 3']/1000/(padd3_mnbpd['days'])\n",
    "padd3_mnbpd.drop(columns='days',inplace=True)\n",
    "print(padd3_mnbpd.tail())"
   ]
  },
  {
   "cell_type": "raw",
   "metadata": {},
   "source": [
    "To visualize how well our estimated PADD 3 exports compare to the official figures from EIA, we're using Eikon API to retrieve the timeseries of EIA U.S. PADD 3 crude oil exports, construct a comparison table and plot the timeseries."
   ]
  },
  {
   "cell_type": "code",
   "execution_count": 6,
   "metadata": {},
   "outputs": [
    {
     "data": {
      "application/vnd.plotly.v1+json": {
       "config": {
        "plotlyServerURL": "https://plot.ly"
       },
       "data": [
        {
         "marker": {
          "color": "rgba(255, 153, 51, 0.6)",
          "line": {
           "color": "rgba(255, 153, 51, 1.0)",
           "width": 1
          }
         },
         "name": "Refinitiv Flows_kbpd",
         "orientation": "v",
         "text": "",
         "type": "bar",
         "x": [
          "2014-07",
          "2014-08",
          "2014-09",
          "2014-10",
          "2014-12",
          "2015-01",
          "2015-02",
          "2015-03",
          "2015-04",
          "2015-05",
          "2015-06",
          "2015-07",
          "2015-08",
          "2015-09",
          "2015-10",
          "2015-11",
          "2015-12",
          "2016-01",
          "2016-02",
          "2016-03",
          "2016-04",
          "2016-05",
          "2016-06",
          "2016-07",
          "2016-08",
          "2016-09",
          "2016-10",
          "2016-11",
          "2016-12",
          "2017-01",
          "2017-02",
          "2017-03",
          "2017-04",
          "2017-05",
          "2017-06",
          "2017-07",
          "2017-08",
          "2017-09",
          "2017-10",
          "2017-11",
          "2017-12",
          "2018-01",
          "2018-02",
          "2018-03",
          "2018-04",
          "2018-05",
          "2018-06",
          "2018-07",
          "2018-08",
          "2018-09",
          "2018-10",
          "2018-11",
          "2018-12",
          "2019-01",
          "2019-02",
          "2019-03",
          "2019-04",
          "2019-05",
          "2019-06",
          "2019-07",
          "2019-08",
          "2019-09",
          "2019-10",
          "2019-11",
          "2019-12",
          "2020-01",
          "2020-02",
          "2020-03",
          "2020-04",
          "2020-05",
          "2020-06",
          "2020-07",
          "2020-08",
          "2020-09",
          "2020-10",
          "2020-11",
          "2020-12",
          "2021-01",
          "2021-02",
          "2021-03",
          "2021-04",
          "2021-05"
         ],
         "y": [
          10.451193548387097,
          19.521935483870966,
          8.743566666666668,
          11.253548387096775,
          133.07761290322583,
          340.66148387096774,
          260.854,
          240.05216129032257,
          410.8533333333333,
          324.57477419354836,
          356.12216666666666,
          356.30532258064517,
          268.4228387096774,
          386.77863333333335,
          297.5606774193549,
          299.6108333333333,
          253.60490322580645,
          316.5214516129032,
          185.54155172413795,
          414.6058387096774,
          315.38413333333335,
          396.079935483871,
          263.6955,
          275.96267741935486,
          316.08277419354835,
          499.3052,
          326.21393548387096,
          327.1717,
          239.9338064516129,
          472.4363548387097,
          743.7261428571428,
          619.6956774193548,
          577.9849666666667,
          602.6230967741935,
          593.8353666666667,
          732.7077419354839,
          623.9339354838709,
          984.8283333333334,
          1628.6086129032258,
          1331.3402666666666,
          1436.7241612903226,
          1025.3376451612903,
          1414.4860714285714,
          1574.1794193548387,
          1778.7582333333335,
          1623.521935483871,
          2064.9107666666664,
          1874.2314838709678,
          1437.6449032258065,
          1858.3625666666667,
          1716.8935161290322,
          1775.3424666666665,
          2002.0414516129033,
          2354.061193548387,
          2326.6344285714285,
          2309.4412258064513,
          2190.1788666666666,
          2561.308193548387,
          2746.7206666666666,
          2366.3654193548387,
          2338.337483870968,
          2696.1942000000004,
          3189.841064516129,
          2610.8603333333335,
          3152.2243225806455,
          2892.9429677419357,
          3142.1789310344825,
          3081.5197419354836,
          2697.7891,
          2424.1950322580647,
          2418.429,
          2996.304870967742,
          2784.9037741935485,
          2730.5848333333333,
          2639.619064516129,
          2256.4577000000004,
          3047.567129032258,
          2917.110806451613,
          2079.038,
          2407.3002903225806,
          2851.6858333333334,
          2452.2811176470586
         ]
        },
        {
         "marker": {
          "color": "rgba(55, 128, 191, 0.6)",
          "line": {
           "color": "rgba(55, 128, 191, 1.0)",
           "width": 1
          }
         },
         "name": "Pipeline exports_kbpd",
         "orientation": "v",
         "text": "",
         "type": "bar",
         "x": [
          "2014-07",
          "2014-08",
          "2014-09",
          "2014-10",
          "2014-12",
          "2015-01",
          "2015-02",
          "2015-03",
          "2015-04",
          "2015-05",
          "2015-06",
          "2015-07",
          "2015-08",
          "2015-09",
          "2015-10",
          "2015-11",
          "2015-12",
          "2016-01",
          "2016-02",
          "2016-03",
          "2016-04",
          "2016-05",
          "2016-06",
          "2016-07",
          "2016-08",
          "2016-09",
          "2016-10",
          "2016-11",
          "2016-12",
          "2017-01",
          "2017-02",
          "2017-03",
          "2017-04",
          "2017-05",
          "2017-06",
          "2017-07",
          "2017-08",
          "2017-09",
          "2017-10",
          "2017-11",
          "2017-12",
          "2018-01",
          "2018-02",
          "2018-03",
          "2018-04",
          "2018-05",
          "2018-06",
          "2018-07",
          "2018-08",
          "2018-09",
          "2018-10",
          "2018-11",
          "2018-12",
          "2019-01",
          "2019-02",
          "2019-03",
          "2019-04",
          "2019-05",
          "2019-06",
          "2019-07",
          "2019-08",
          "2019-09",
          "2019-10",
          "2019-11",
          "2019-12",
          "2020-01",
          "2020-02",
          "2020-03",
          "2020-04",
          "2020-05",
          "2020-06",
          "2020-07",
          "2020-08",
          "2020-09",
          "2020-10",
          "2020-11",
          "2020-12",
          "2021-01",
          "2021-02",
          "2021-03",
          "2021-04",
          "2021-05"
         ],
         "y": [
          "",
          "",
          "",
          "",
          "",
          "",
          "",
          "",
          "",
          "",
          "",
          "",
          "",
          "",
          "",
          "",
          "",
          "",
          "",
          "",
          "",
          "",
          "",
          "",
          "",
          "",
          "",
          "",
          "",
          "",
          "",
          "",
          "",
          "",
          "",
          "",
          "",
          "",
          "",
          "",
          "",
          225.81099999999998,
          314.19989285714286,
          340.3294516129032,
          322.9097333333333,
          306.1351935483871,
          213.23100000000002,
          225.182,
          262.922,
          261.035,
          150.33100000000002,
          130.203,
          159.137,
          105.043,
          249.713,
          217.005,
          227.069,
          200.022,
          150.96,
          225.182,
          262.922,
          261.035,
          206.31199999999998,
          230.843,
          274.873,
          271.72799999999995,
          282.421,
          283.04999999999995,
          242.79399999999998,
          280.534,
          281.79200000000003,
          276.76,
          203.69825806451612,
          196.63770000000002,
          188.56158064516129,
          215.4333,
          255.8006129032258,
          257.39580645161294,
          "",
          "",
          "",
          ""
         ]
        },
        {
         "line": {
          "color": "lime"
         },
         "name": "EIA PADD3",
         "type": "scatter",
         "x": [
          "2014-07",
          "2014-08",
          "2014-09",
          "2014-10",
          "2014-12",
          "2015-01",
          "2015-02",
          "2015-03",
          "2015-04",
          "2015-05",
          "2015-06",
          "2015-07",
          "2015-08",
          "2015-09",
          "2015-10",
          "2015-11",
          "2015-12",
          "2016-01",
          "2016-02",
          "2016-03",
          "2016-04",
          "2016-05",
          "2016-06",
          "2016-07",
          "2016-08",
          "2016-09",
          "2016-10",
          "2016-11",
          "2016-12",
          "2017-01",
          "2017-02",
          "2017-03",
          "2017-04",
          "2017-05",
          "2017-06",
          "2017-07",
          "2017-08",
          "2017-09",
          "2017-10",
          "2017-11",
          "2017-12",
          "2018-01",
          "2018-02",
          "2018-03",
          "2018-04",
          "2018-05",
          "2018-06",
          "2018-07",
          "2018-08",
          "2018-09",
          "2018-10",
          "2018-11",
          "2018-12",
          "2019-01",
          "2019-02",
          "2019-03",
          "2019-04",
          "2019-05",
          "2019-06",
          "2019-07",
          "2019-08",
          "2019-09",
          "2019-10",
          "2019-11",
          "2019-12",
          "2020-01",
          "2020-02",
          "2020-03",
          "2020-04",
          "2020-05",
          "2020-06",
          "2020-07",
          "2020-08",
          "2020-09",
          "2020-10",
          "2020-11",
          "2020-12",
          "2021-01",
          "2021-02",
          "2021-03",
          "2021-04",
          "2021-05"
         ],
         "y": [
          null,
          null,
          null,
          null,
          null,
          270,
          237,
          268,
          333,
          309,
          262,
          316,
          289,
          268,
          408,
          243,
          292,
          207,
          220,
          298,
          302,
          401,
          192,
          132,
          410,
          491,
          221,
          330,
          292,
          421,
          868,
          698,
          862,
          778,
          599,
          710,
          607,
          1277,
          1581,
          1360,
          1314,
          1130,
          1409,
          1644,
          1676,
          1809,
          2050,
          1994,
          1672,
          1888,
          2052,
          2198,
          2198,
          2453,
          2715,
          2511,
          2700,
          2774,
          2931,
          2453,
          2593,
          2784,
          3218,
          2886,
          3354,
          2879,
          3504,
          3372,
          2887,
          2646,
          2581,
          3116,
          3089,
          2844,
          2709,
          2481,
          3175,
          3018,
          2512,
          null,
          null,
          null
         ]
        }
       ],
       "layout": {
        "barmode": "stack",
        "legend": {
         "bgcolor": "#151516",
         "font": {
          "color": "#D9D9D9"
         },
         "traceorder": "normal"
        },
        "paper_bgcolor": "#151516",
        "plot_bgcolor": "#151516",
        "template": {
         "data": {
          "bar": [
           {
            "error_x": {
             "color": "#2a3f5f"
            },
            "error_y": {
             "color": "#2a3f5f"
            },
            "marker": {
             "line": {
              "color": "#E5ECF6",
              "width": 0.5
             }
            },
            "type": "bar"
           }
          ],
          "barpolar": [
           {
            "marker": {
             "line": {
              "color": "#E5ECF6",
              "width": 0.5
             }
            },
            "type": "barpolar"
           }
          ],
          "carpet": [
           {
            "aaxis": {
             "endlinecolor": "#2a3f5f",
             "gridcolor": "white",
             "linecolor": "white",
             "minorgridcolor": "white",
             "startlinecolor": "#2a3f5f"
            },
            "baxis": {
             "endlinecolor": "#2a3f5f",
             "gridcolor": "white",
             "linecolor": "white",
             "minorgridcolor": "white",
             "startlinecolor": "#2a3f5f"
            },
            "type": "carpet"
           }
          ],
          "choropleth": [
           {
            "colorbar": {
             "outlinewidth": 0,
             "ticks": ""
            },
            "type": "choropleth"
           }
          ],
          "contour": [
           {
            "colorbar": {
             "outlinewidth": 0,
             "ticks": ""
            },
            "colorscale": [
             [
              0,
              "#0d0887"
             ],
             [
              0.1111111111111111,
              "#46039f"
             ],
             [
              0.2222222222222222,
              "#7201a8"
             ],
             [
              0.3333333333333333,
              "#9c179e"
             ],
             [
              0.4444444444444444,
              "#bd3786"
             ],
             [
              0.5555555555555556,
              "#d8576b"
             ],
             [
              0.6666666666666666,
              "#ed7953"
             ],
             [
              0.7777777777777778,
              "#fb9f3a"
             ],
             [
              0.8888888888888888,
              "#fdca26"
             ],
             [
              1,
              "#f0f921"
             ]
            ],
            "type": "contour"
           }
          ],
          "contourcarpet": [
           {
            "colorbar": {
             "outlinewidth": 0,
             "ticks": ""
            },
            "type": "contourcarpet"
           }
          ],
          "heatmap": [
           {
            "colorbar": {
             "outlinewidth": 0,
             "ticks": ""
            },
            "colorscale": [
             [
              0,
              "#0d0887"
             ],
             [
              0.1111111111111111,
              "#46039f"
             ],
             [
              0.2222222222222222,
              "#7201a8"
             ],
             [
              0.3333333333333333,
              "#9c179e"
             ],
             [
              0.4444444444444444,
              "#bd3786"
             ],
             [
              0.5555555555555556,
              "#d8576b"
             ],
             [
              0.6666666666666666,
              "#ed7953"
             ],
             [
              0.7777777777777778,
              "#fb9f3a"
             ],
             [
              0.8888888888888888,
              "#fdca26"
             ],
             [
              1,
              "#f0f921"
             ]
            ],
            "type": "heatmap"
           }
          ],
          "heatmapgl": [
           {
            "colorbar": {
             "outlinewidth": 0,
             "ticks": ""
            },
            "colorscale": [
             [
              0,
              "#0d0887"
             ],
             [
              0.1111111111111111,
              "#46039f"
             ],
             [
              0.2222222222222222,
              "#7201a8"
             ],
             [
              0.3333333333333333,
              "#9c179e"
             ],
             [
              0.4444444444444444,
              "#bd3786"
             ],
             [
              0.5555555555555556,
              "#d8576b"
             ],
             [
              0.6666666666666666,
              "#ed7953"
             ],
             [
              0.7777777777777778,
              "#fb9f3a"
             ],
             [
              0.8888888888888888,
              "#fdca26"
             ],
             [
              1,
              "#f0f921"
             ]
            ],
            "type": "heatmapgl"
           }
          ],
          "histogram": [
           {
            "marker": {
             "colorbar": {
              "outlinewidth": 0,
              "ticks": ""
             }
            },
            "type": "histogram"
           }
          ],
          "histogram2d": [
           {
            "colorbar": {
             "outlinewidth": 0,
             "ticks": ""
            },
            "colorscale": [
             [
              0,
              "#0d0887"
             ],
             [
              0.1111111111111111,
              "#46039f"
             ],
             [
              0.2222222222222222,
              "#7201a8"
             ],
             [
              0.3333333333333333,
              "#9c179e"
             ],
             [
              0.4444444444444444,
              "#bd3786"
             ],
             [
              0.5555555555555556,
              "#d8576b"
             ],
             [
              0.6666666666666666,
              "#ed7953"
             ],
             [
              0.7777777777777778,
              "#fb9f3a"
             ],
             [
              0.8888888888888888,
              "#fdca26"
             ],
             [
              1,
              "#f0f921"
             ]
            ],
            "type": "histogram2d"
           }
          ],
          "histogram2dcontour": [
           {
            "colorbar": {
             "outlinewidth": 0,
             "ticks": ""
            },
            "colorscale": [
             [
              0,
              "#0d0887"
             ],
             [
              0.1111111111111111,
              "#46039f"
             ],
             [
              0.2222222222222222,
              "#7201a8"
             ],
             [
              0.3333333333333333,
              "#9c179e"
             ],
             [
              0.4444444444444444,
              "#bd3786"
             ],
             [
              0.5555555555555556,
              "#d8576b"
             ],
             [
              0.6666666666666666,
              "#ed7953"
             ],
             [
              0.7777777777777778,
              "#fb9f3a"
             ],
             [
              0.8888888888888888,
              "#fdca26"
             ],
             [
              1,
              "#f0f921"
             ]
            ],
            "type": "histogram2dcontour"
           }
          ],
          "mesh3d": [
           {
            "colorbar": {
             "outlinewidth": 0,
             "ticks": ""
            },
            "type": "mesh3d"
           }
          ],
          "parcoords": [
           {
            "line": {
             "colorbar": {
              "outlinewidth": 0,
              "ticks": ""
             }
            },
            "type": "parcoords"
           }
          ],
          "scatter": [
           {
            "marker": {
             "colorbar": {
              "outlinewidth": 0,
              "ticks": ""
             }
            },
            "type": "scatter"
           }
          ],
          "scatter3d": [
           {
            "line": {
             "colorbar": {
              "outlinewidth": 0,
              "ticks": ""
             }
            },
            "marker": {
             "colorbar": {
              "outlinewidth": 0,
              "ticks": ""
             }
            },
            "type": "scatter3d"
           }
          ],
          "scattercarpet": [
           {
            "marker": {
             "colorbar": {
              "outlinewidth": 0,
              "ticks": ""
             }
            },
            "type": "scattercarpet"
           }
          ],
          "scattergeo": [
           {
            "marker": {
             "colorbar": {
              "outlinewidth": 0,
              "ticks": ""
             }
            },
            "type": "scattergeo"
           }
          ],
          "scattergl": [
           {
            "marker": {
             "colorbar": {
              "outlinewidth": 0,
              "ticks": ""
             }
            },
            "type": "scattergl"
           }
          ],
          "scattermapbox": [
           {
            "marker": {
             "colorbar": {
              "outlinewidth": 0,
              "ticks": ""
             }
            },
            "type": "scattermapbox"
           }
          ],
          "scatterpolar": [
           {
            "marker": {
             "colorbar": {
              "outlinewidth": 0,
              "ticks": ""
             }
            },
            "type": "scatterpolar"
           }
          ],
          "scatterpolargl": [
           {
            "marker": {
             "colorbar": {
              "outlinewidth": 0,
              "ticks": ""
             }
            },
            "type": "scatterpolargl"
           }
          ],
          "scatterternary": [
           {
            "marker": {
             "colorbar": {
              "outlinewidth": 0,
              "ticks": ""
             }
            },
            "type": "scatterternary"
           }
          ],
          "surface": [
           {
            "colorbar": {
             "outlinewidth": 0,
             "ticks": ""
            },
            "colorscale": [
             [
              0,
              "#0d0887"
             ],
             [
              0.1111111111111111,
              "#46039f"
             ],
             [
              0.2222222222222222,
              "#7201a8"
             ],
             [
              0.3333333333333333,
              "#9c179e"
             ],
             [
              0.4444444444444444,
              "#bd3786"
             ],
             [
              0.5555555555555556,
              "#d8576b"
             ],
             [
              0.6666666666666666,
              "#ed7953"
             ],
             [
              0.7777777777777778,
              "#fb9f3a"
             ],
             [
              0.8888888888888888,
              "#fdca26"
             ],
             [
              1,
              "#f0f921"
             ]
            ],
            "type": "surface"
           }
          ],
          "table": [
           {
            "cells": {
             "fill": {
              "color": "#EBF0F8"
             },
             "line": {
              "color": "white"
             }
            },
            "header": {
             "fill": {
              "color": "#C8D4E3"
             },
             "line": {
              "color": "white"
             }
            },
            "type": "table"
           }
          ]
         },
         "layout": {
          "annotationdefaults": {
           "arrowcolor": "#2a3f5f",
           "arrowhead": 0,
           "arrowwidth": 1
          },
          "colorscale": {
           "diverging": [
            [
             0,
             "#8e0152"
            ],
            [
             0.1,
             "#c51b7d"
            ],
            [
             0.2,
             "#de77ae"
            ],
            [
             0.3,
             "#f1b6da"
            ],
            [
             0.4,
             "#fde0ef"
            ],
            [
             0.5,
             "#f7f7f7"
            ],
            [
             0.6,
             "#e6f5d0"
            ],
            [
             0.7,
             "#b8e186"
            ],
            [
             0.8,
             "#7fbc41"
            ],
            [
             0.9,
             "#4d9221"
            ],
            [
             1,
             "#276419"
            ]
           ],
           "sequential": [
            [
             0,
             "#0d0887"
            ],
            [
             0.1111111111111111,
             "#46039f"
            ],
            [
             0.2222222222222222,
             "#7201a8"
            ],
            [
             0.3333333333333333,
             "#9c179e"
            ],
            [
             0.4444444444444444,
             "#bd3786"
            ],
            [
             0.5555555555555556,
             "#d8576b"
            ],
            [
             0.6666666666666666,
             "#ed7953"
            ],
            [
             0.7777777777777778,
             "#fb9f3a"
            ],
            [
             0.8888888888888888,
             "#fdca26"
            ],
            [
             1,
             "#f0f921"
            ]
           ],
           "sequentialminus": [
            [
             0,
             "#0d0887"
            ],
            [
             0.1111111111111111,
             "#46039f"
            ],
            [
             0.2222222222222222,
             "#7201a8"
            ],
            [
             0.3333333333333333,
             "#9c179e"
            ],
            [
             0.4444444444444444,
             "#bd3786"
            ],
            [
             0.5555555555555556,
             "#d8576b"
            ],
            [
             0.6666666666666666,
             "#ed7953"
            ],
            [
             0.7777777777777778,
             "#fb9f3a"
            ],
            [
             0.8888888888888888,
             "#fdca26"
            ],
            [
             1,
             "#f0f921"
            ]
           ]
          },
          "colorway": [
           "#636efa",
           "#EF553B",
           "#00cc96",
           "#ab63fa",
           "#FFA15A",
           "#19d3f3",
           "#FF6692",
           "#B6E880",
           "#FF97FF",
           "#FECB52"
          ],
          "font": {
           "color": "#2a3f5f"
          },
          "geo": {
           "bgcolor": "white",
           "lakecolor": "white",
           "landcolor": "#E5ECF6",
           "showlakes": true,
           "showland": true,
           "subunitcolor": "white"
          },
          "hoverlabel": {
           "align": "left"
          },
          "hovermode": "closest",
          "mapbox": {
           "style": "light"
          },
          "paper_bgcolor": "white",
          "plot_bgcolor": "#E5ECF6",
          "polar": {
           "angularaxis": {
            "gridcolor": "white",
            "linecolor": "white",
            "ticks": ""
           },
           "bgcolor": "#E5ECF6",
           "radialaxis": {
            "gridcolor": "white",
            "linecolor": "white",
            "ticks": ""
           }
          },
          "scene": {
           "xaxis": {
            "backgroundcolor": "#E5ECF6",
            "gridcolor": "white",
            "gridwidth": 2,
            "linecolor": "white",
            "showbackground": true,
            "ticks": "",
            "zerolinecolor": "white"
           },
           "yaxis": {
            "backgroundcolor": "#E5ECF6",
            "gridcolor": "white",
            "gridwidth": 2,
            "linecolor": "white",
            "showbackground": true,
            "ticks": "",
            "zerolinecolor": "white"
           },
           "zaxis": {
            "backgroundcolor": "#E5ECF6",
            "gridcolor": "white",
            "gridwidth": 2,
            "linecolor": "white",
            "showbackground": true,
            "ticks": "",
            "zerolinecolor": "white"
           }
          },
          "shapedefaults": {
           "line": {
            "color": "#2a3f5f"
           }
          },
          "ternary": {
           "aaxis": {
            "gridcolor": "white",
            "linecolor": "white",
            "ticks": ""
           },
           "baxis": {
            "gridcolor": "white",
            "linecolor": "white",
            "ticks": ""
           },
           "bgcolor": "#E5ECF6",
           "caxis": {
            "gridcolor": "white",
            "linecolor": "white",
            "ticks": ""
           }
          },
          "title": {
           "x": 0.05
          },
          "xaxis": {
           "automargin": true,
           "gridcolor": "white",
           "linecolor": "white",
           "ticks": "",
           "zerolinecolor": "white",
           "zerolinewidth": 2
          },
          "yaxis": {
           "automargin": true,
           "gridcolor": "white",
           "linecolor": "white",
           "ticks": "",
           "zerolinecolor": "white",
           "zerolinewidth": 2
          }
         }
        },
        "title": {
         "font": {
          "color": "#D9D9D9"
         },
         "text": "Comparison of EIA and Refinitiv Oil Research flows for US PADD 3 Crude Oil exports"
        },
        "xaxis": {
         "gridcolor": "#434343",
         "showgrid": true,
         "tickfont": {
          "color": "#C2C2C2"
         },
         "title": {
          "font": {
           "color": "#D9D9D9"
          },
          "text": ""
         },
         "zerolinecolor": "#666570"
        },
        "yaxis": {
         "gridcolor": "#434343",
         "showgrid": true,
         "tickfont": {
          "color": "#C2C2C2"
         },
         "title": {
          "font": {
           "color": "#D9D9D9"
          },
          "text": ""
         },
         "zerolinecolor": "#666570"
        }
       }
      },
      "text/html": [
       "<div>\n",
       "        \n",
       "        \n",
       "            <div id=\"9b715a32-908b-406a-9c49-79420f93fe5a\" class=\"plotly-graph-div\" style=\"height:525px; width:100%;\"></div>\n",
       "            <script type=\"text/javascript\">\n",
       "                require([\"plotly\"], function(Plotly) {\n",
       "                    window.PLOTLYENV=window.PLOTLYENV || {};\n",
       "                    \n",
       "                if (document.getElementById(\"9b715a32-908b-406a-9c49-79420f93fe5a\")) {\n",
       "                    Plotly.newPlot(\n",
       "                        '9b715a32-908b-406a-9c49-79420f93fe5a',\n",
       "                        [{\"marker\": {\"color\": \"rgba(255, 153, 51, 0.6)\", \"line\": {\"color\": \"rgba(255, 153, 51, 1.0)\", \"width\": 1}}, \"name\": \"Refinitiv Flows_kbpd\", \"orientation\": \"v\", \"text\": \"\", \"type\": \"bar\", \"x\": [\"2014-07\", \"2014-08\", \"2014-09\", \"2014-10\", \"2014-12\", \"2015-01\", \"2015-02\", \"2015-03\", \"2015-04\", \"2015-05\", \"2015-06\", \"2015-07\", \"2015-08\", \"2015-09\", \"2015-10\", \"2015-11\", \"2015-12\", \"2016-01\", \"2016-02\", \"2016-03\", \"2016-04\", \"2016-05\", \"2016-06\", \"2016-07\", \"2016-08\", \"2016-09\", \"2016-10\", \"2016-11\", \"2016-12\", \"2017-01\", \"2017-02\", \"2017-03\", \"2017-04\", \"2017-05\", \"2017-06\", \"2017-07\", \"2017-08\", \"2017-09\", \"2017-10\", \"2017-11\", \"2017-12\", \"2018-01\", \"2018-02\", \"2018-03\", \"2018-04\", \"2018-05\", \"2018-06\", \"2018-07\", \"2018-08\", \"2018-09\", \"2018-10\", \"2018-11\", \"2018-12\", \"2019-01\", \"2019-02\", \"2019-03\", \"2019-04\", \"2019-05\", \"2019-06\", \"2019-07\", \"2019-08\", \"2019-09\", \"2019-10\", \"2019-11\", \"2019-12\", \"2020-01\", \"2020-02\", \"2020-03\", \"2020-04\", \"2020-05\", \"2020-06\", \"2020-07\", \"2020-08\", \"2020-09\", \"2020-10\", \"2020-11\", \"2020-12\", \"2021-01\", \"2021-02\", \"2021-03\", \"2021-04\", \"2021-05\"], \"y\": [10.451193548387097, 19.521935483870966, 8.743566666666668, 11.253548387096775, 133.07761290322583, 340.66148387096774, 260.854, 240.05216129032257, 410.8533333333333, 324.57477419354836, 356.12216666666666, 356.30532258064517, 268.4228387096774, 386.77863333333335, 297.5606774193549, 299.6108333333333, 253.60490322580645, 316.5214516129032, 185.54155172413795, 414.6058387096774, 315.38413333333335, 396.079935483871, 263.6955, 275.96267741935486, 316.08277419354835, 499.3052, 326.21393548387096, 327.1717, 239.9338064516129, 472.4363548387097, 743.7261428571428, 619.6956774193548, 577.9849666666667, 602.6230967741935, 593.8353666666667, 732.7077419354839, 623.9339354838709, 984.8283333333334, 1628.6086129032258, 1331.3402666666666, 1436.7241612903226, 1025.3376451612903, 1414.4860714285714, 1574.1794193548387, 1778.7582333333335, 1623.521935483871, 2064.9107666666664, 1874.2314838709678, 1437.6449032258065, 1858.3625666666667, 1716.8935161290322, 1775.3424666666665, 2002.0414516129033, 2354.061193548387, 2326.6344285714285, 2309.4412258064513, 2190.1788666666666, 2561.308193548387, 2746.7206666666666, 2366.3654193548387, 2338.337483870968, 2696.1942000000004, 3189.841064516129, 2610.8603333333335, 3152.2243225806455, 2892.9429677419357, 3142.1789310344825, 3081.5197419354836, 2697.7891, 2424.1950322580647, 2418.429, 2996.304870967742, 2784.9037741935485, 2730.5848333333333, 2639.619064516129, 2256.4577000000004, 3047.567129032258, 2917.110806451613, 2079.038, 2407.3002903225806, 2851.6858333333334, 2452.2811176470586]}, {\"marker\": {\"color\": \"rgba(55, 128, 191, 0.6)\", \"line\": {\"color\": \"rgba(55, 128, 191, 1.0)\", \"width\": 1}}, \"name\": \"Pipeline exports_kbpd\", \"orientation\": \"v\", \"text\": \"\", \"type\": \"bar\", \"x\": [\"2014-07\", \"2014-08\", \"2014-09\", \"2014-10\", \"2014-12\", \"2015-01\", \"2015-02\", \"2015-03\", \"2015-04\", \"2015-05\", \"2015-06\", \"2015-07\", \"2015-08\", \"2015-09\", \"2015-10\", \"2015-11\", \"2015-12\", \"2016-01\", \"2016-02\", \"2016-03\", \"2016-04\", \"2016-05\", \"2016-06\", \"2016-07\", \"2016-08\", \"2016-09\", \"2016-10\", \"2016-11\", \"2016-12\", \"2017-01\", \"2017-02\", \"2017-03\", \"2017-04\", \"2017-05\", \"2017-06\", \"2017-07\", \"2017-08\", \"2017-09\", \"2017-10\", \"2017-11\", \"2017-12\", \"2018-01\", \"2018-02\", \"2018-03\", \"2018-04\", \"2018-05\", \"2018-06\", \"2018-07\", \"2018-08\", \"2018-09\", \"2018-10\", \"2018-11\", \"2018-12\", \"2019-01\", \"2019-02\", \"2019-03\", \"2019-04\", \"2019-05\", \"2019-06\", \"2019-07\", \"2019-08\", \"2019-09\", \"2019-10\", \"2019-11\", \"2019-12\", \"2020-01\", \"2020-02\", \"2020-03\", \"2020-04\", \"2020-05\", \"2020-06\", \"2020-07\", \"2020-08\", \"2020-09\", \"2020-10\", \"2020-11\", \"2020-12\", \"2021-01\", \"2021-02\", \"2021-03\", \"2021-04\", \"2021-05\"], \"y\": [\"\", \"\", \"\", \"\", \"\", \"\", \"\", \"\", \"\", \"\", \"\", \"\", \"\", \"\", \"\", \"\", \"\", \"\", \"\", \"\", \"\", \"\", \"\", \"\", \"\", \"\", \"\", \"\", \"\", \"\", \"\", \"\", \"\", \"\", \"\", \"\", \"\", \"\", \"\", \"\", \"\", 225.81099999999998, 314.19989285714286, 340.3294516129032, 322.9097333333333, 306.1351935483871, 213.23100000000002, 225.182, 262.922, 261.035, 150.33100000000002, 130.203, 159.137, 105.043, 249.713, 217.005, 227.069, 200.022, 150.96, 225.182, 262.922, 261.035, 206.31199999999998, 230.843, 274.873, 271.72799999999995, 282.421, 283.04999999999995, 242.79399999999998, 280.534, 281.79200000000003, 276.76, 203.69825806451612, 196.63770000000002, 188.56158064516129, 215.4333, 255.8006129032258, 257.39580645161294, \"\", \"\", \"\", \"\"]}, {\"line\": {\"color\": \"lime\"}, \"name\": \"EIA PADD3\", \"type\": \"scatter\", \"x\": [\"2014-07\", \"2014-08\", \"2014-09\", \"2014-10\", \"2014-12\", \"2015-01\", \"2015-02\", \"2015-03\", \"2015-04\", \"2015-05\", \"2015-06\", \"2015-07\", \"2015-08\", \"2015-09\", \"2015-10\", \"2015-11\", \"2015-12\", \"2016-01\", \"2016-02\", \"2016-03\", \"2016-04\", \"2016-05\", \"2016-06\", \"2016-07\", \"2016-08\", \"2016-09\", \"2016-10\", \"2016-11\", \"2016-12\", \"2017-01\", \"2017-02\", \"2017-03\", \"2017-04\", \"2017-05\", \"2017-06\", \"2017-07\", \"2017-08\", \"2017-09\", \"2017-10\", \"2017-11\", \"2017-12\", \"2018-01\", \"2018-02\", \"2018-03\", \"2018-04\", \"2018-05\", \"2018-06\", \"2018-07\", \"2018-08\", \"2018-09\", \"2018-10\", \"2018-11\", \"2018-12\", \"2019-01\", \"2019-02\", \"2019-03\", \"2019-04\", \"2019-05\", \"2019-06\", \"2019-07\", \"2019-08\", \"2019-09\", \"2019-10\", \"2019-11\", \"2019-12\", \"2020-01\", \"2020-02\", \"2020-03\", \"2020-04\", \"2020-05\", \"2020-06\", \"2020-07\", \"2020-08\", \"2020-09\", \"2020-10\", \"2020-11\", \"2020-12\", \"2021-01\", \"2021-02\", \"2021-03\", \"2021-04\", \"2021-05\"], \"y\": [null, null, null, null, null, 270.0, 237.0, 268.0, 333.0, 309.0, 262.0, 316.0, 289.0, 268.0, 408.0, 243.0, 292.0, 207.0, 220.0, 298.0, 302.0, 401.0, 192.0, 132.0, 410.0, 491.0, 221.0, 330.0, 292.0, 421.0, 868.0, 698.0, 862.0, 778.0, 599.0, 710.0, 607.0, 1277.0, 1581.0, 1360.0, 1314.0, 1130.0, 1409.0, 1644.0, 1676.0, 1809.0, 2050.0, 1994.0, 1672.0, 1888.0, 2052.0, 2198.0, 2198.0, 2453.0, 2715.0, 2511.0, 2700.0, 2774.0, 2931.0, 2453.0, 2593.0, 2784.0, 3218.0, 2886.0, 3354.0, 2879.0, 3504.0, 3372.0, 2887.0, 2646.0, 2581.0, 3116.0, 3089.0, 2844.0, 2709.0, 2481.0, 3175.0, 3018.0, 2512.0, null, null, null]}],\n",
       "                        {\"barmode\": \"stack\", \"legend\": {\"bgcolor\": \"#151516\", \"font\": {\"color\": \"#D9D9D9\"}, \"traceorder\": \"normal\"}, \"paper_bgcolor\": \"#151516\", \"plot_bgcolor\": \"#151516\", \"template\": {\"data\": {\"bar\": [{\"error_x\": {\"color\": \"#2a3f5f\"}, \"error_y\": {\"color\": \"#2a3f5f\"}, \"marker\": {\"line\": {\"color\": \"#E5ECF6\", \"width\": 0.5}}, \"type\": \"bar\"}], \"barpolar\": [{\"marker\": {\"line\": {\"color\": \"#E5ECF6\", \"width\": 0.5}}, \"type\": \"barpolar\"}], \"carpet\": [{\"aaxis\": {\"endlinecolor\": \"#2a3f5f\", \"gridcolor\": \"white\", \"linecolor\": \"white\", \"minorgridcolor\": \"white\", \"startlinecolor\": \"#2a3f5f\"}, \"baxis\": {\"endlinecolor\": \"#2a3f5f\", \"gridcolor\": \"white\", \"linecolor\": \"white\", \"minorgridcolor\": \"white\", \"startlinecolor\": \"#2a3f5f\"}, \"type\": \"carpet\"}], \"choropleth\": [{\"colorbar\": {\"outlinewidth\": 0, \"ticks\": \"\"}, \"type\": \"choropleth\"}], \"contour\": [{\"colorbar\": {\"outlinewidth\": 0, \"ticks\": \"\"}, \"colorscale\": [[0.0, \"#0d0887\"], [0.1111111111111111, \"#46039f\"], [0.2222222222222222, \"#7201a8\"], [0.3333333333333333, \"#9c179e\"], [0.4444444444444444, \"#bd3786\"], [0.5555555555555556, \"#d8576b\"], [0.6666666666666666, \"#ed7953\"], [0.7777777777777778, \"#fb9f3a\"], [0.8888888888888888, \"#fdca26\"], [1.0, \"#f0f921\"]], \"type\": \"contour\"}], \"contourcarpet\": [{\"colorbar\": {\"outlinewidth\": 0, \"ticks\": \"\"}, \"type\": \"contourcarpet\"}], \"heatmap\": [{\"colorbar\": {\"outlinewidth\": 0, \"ticks\": \"\"}, \"colorscale\": [[0.0, \"#0d0887\"], [0.1111111111111111, \"#46039f\"], [0.2222222222222222, \"#7201a8\"], [0.3333333333333333, \"#9c179e\"], [0.4444444444444444, \"#bd3786\"], [0.5555555555555556, \"#d8576b\"], [0.6666666666666666, \"#ed7953\"], [0.7777777777777778, \"#fb9f3a\"], [0.8888888888888888, \"#fdca26\"], [1.0, \"#f0f921\"]], \"type\": \"heatmap\"}], \"heatmapgl\": [{\"colorbar\": {\"outlinewidth\": 0, \"ticks\": \"\"}, \"colorscale\": [[0.0, \"#0d0887\"], [0.1111111111111111, \"#46039f\"], [0.2222222222222222, \"#7201a8\"], [0.3333333333333333, \"#9c179e\"], [0.4444444444444444, \"#bd3786\"], [0.5555555555555556, \"#d8576b\"], [0.6666666666666666, \"#ed7953\"], [0.7777777777777778, \"#fb9f3a\"], [0.8888888888888888, \"#fdca26\"], [1.0, \"#f0f921\"]], \"type\": \"heatmapgl\"}], \"histogram\": [{\"marker\": {\"colorbar\": {\"outlinewidth\": 0, \"ticks\": \"\"}}, \"type\": \"histogram\"}], \"histogram2d\": [{\"colorbar\": {\"outlinewidth\": 0, \"ticks\": \"\"}, \"colorscale\": [[0.0, \"#0d0887\"], [0.1111111111111111, \"#46039f\"], [0.2222222222222222, \"#7201a8\"], [0.3333333333333333, \"#9c179e\"], [0.4444444444444444, \"#bd3786\"], [0.5555555555555556, \"#d8576b\"], [0.6666666666666666, \"#ed7953\"], [0.7777777777777778, \"#fb9f3a\"], [0.8888888888888888, \"#fdca26\"], [1.0, \"#f0f921\"]], \"type\": \"histogram2d\"}], \"histogram2dcontour\": [{\"colorbar\": {\"outlinewidth\": 0, \"ticks\": \"\"}, \"colorscale\": [[0.0, \"#0d0887\"], [0.1111111111111111, \"#46039f\"], [0.2222222222222222, \"#7201a8\"], [0.3333333333333333, \"#9c179e\"], [0.4444444444444444, \"#bd3786\"], [0.5555555555555556, \"#d8576b\"], [0.6666666666666666, \"#ed7953\"], [0.7777777777777778, \"#fb9f3a\"], [0.8888888888888888, \"#fdca26\"], [1.0, \"#f0f921\"]], \"type\": \"histogram2dcontour\"}], \"mesh3d\": [{\"colorbar\": {\"outlinewidth\": 0, \"ticks\": \"\"}, \"type\": \"mesh3d\"}], \"parcoords\": [{\"line\": {\"colorbar\": {\"outlinewidth\": 0, \"ticks\": \"\"}}, \"type\": \"parcoords\"}], \"scatter\": [{\"marker\": {\"colorbar\": {\"outlinewidth\": 0, \"ticks\": \"\"}}, \"type\": \"scatter\"}], \"scatter3d\": [{\"line\": {\"colorbar\": {\"outlinewidth\": 0, \"ticks\": \"\"}}, \"marker\": {\"colorbar\": {\"outlinewidth\": 0, \"ticks\": \"\"}}, \"type\": \"scatter3d\"}], \"scattercarpet\": [{\"marker\": {\"colorbar\": {\"outlinewidth\": 0, \"ticks\": \"\"}}, \"type\": \"scattercarpet\"}], \"scattergeo\": [{\"marker\": {\"colorbar\": {\"outlinewidth\": 0, \"ticks\": \"\"}}, \"type\": \"scattergeo\"}], \"scattergl\": [{\"marker\": {\"colorbar\": {\"outlinewidth\": 0, \"ticks\": \"\"}}, \"type\": \"scattergl\"}], \"scattermapbox\": [{\"marker\": {\"colorbar\": {\"outlinewidth\": 0, \"ticks\": \"\"}}, \"type\": \"scattermapbox\"}], \"scatterpolar\": [{\"marker\": {\"colorbar\": {\"outlinewidth\": 0, \"ticks\": \"\"}}, \"type\": \"scatterpolar\"}], \"scatterpolargl\": [{\"marker\": {\"colorbar\": {\"outlinewidth\": 0, \"ticks\": \"\"}}, \"type\": \"scatterpolargl\"}], \"scatterternary\": [{\"marker\": {\"colorbar\": {\"outlinewidth\": 0, \"ticks\": \"\"}}, \"type\": \"scatterternary\"}], \"surface\": [{\"colorbar\": {\"outlinewidth\": 0, \"ticks\": \"\"}, \"colorscale\": [[0.0, \"#0d0887\"], [0.1111111111111111, \"#46039f\"], [0.2222222222222222, \"#7201a8\"], [0.3333333333333333, \"#9c179e\"], [0.4444444444444444, \"#bd3786\"], [0.5555555555555556, \"#d8576b\"], [0.6666666666666666, \"#ed7953\"], [0.7777777777777778, \"#fb9f3a\"], [0.8888888888888888, \"#fdca26\"], [1.0, \"#f0f921\"]], \"type\": \"surface\"}], \"table\": [{\"cells\": {\"fill\": {\"color\": \"#EBF0F8\"}, \"line\": {\"color\": \"white\"}}, \"header\": {\"fill\": {\"color\": \"#C8D4E3\"}, \"line\": {\"color\": \"white\"}}, \"type\": \"table\"}]}, \"layout\": {\"annotationdefaults\": {\"arrowcolor\": \"#2a3f5f\", \"arrowhead\": 0, \"arrowwidth\": 1}, \"colorscale\": {\"diverging\": [[0, \"#8e0152\"], [0.1, \"#c51b7d\"], [0.2, \"#de77ae\"], [0.3, \"#f1b6da\"], [0.4, \"#fde0ef\"], [0.5, \"#f7f7f7\"], [0.6, \"#e6f5d0\"], [0.7, \"#b8e186\"], [0.8, \"#7fbc41\"], [0.9, \"#4d9221\"], [1, \"#276419\"]], \"sequential\": [[0.0, \"#0d0887\"], [0.1111111111111111, \"#46039f\"], [0.2222222222222222, \"#7201a8\"], [0.3333333333333333, \"#9c179e\"], [0.4444444444444444, \"#bd3786\"], [0.5555555555555556, \"#d8576b\"], [0.6666666666666666, \"#ed7953\"], [0.7777777777777778, \"#fb9f3a\"], [0.8888888888888888, \"#fdca26\"], [1.0, \"#f0f921\"]], \"sequentialminus\": [[0.0, \"#0d0887\"], [0.1111111111111111, \"#46039f\"], [0.2222222222222222, \"#7201a8\"], [0.3333333333333333, \"#9c179e\"], [0.4444444444444444, \"#bd3786\"], [0.5555555555555556, \"#d8576b\"], [0.6666666666666666, \"#ed7953\"], [0.7777777777777778, \"#fb9f3a\"], [0.8888888888888888, \"#fdca26\"], [1.0, \"#f0f921\"]]}, \"colorway\": [\"#636efa\", \"#EF553B\", \"#00cc96\", \"#ab63fa\", \"#FFA15A\", \"#19d3f3\", \"#FF6692\", \"#B6E880\", \"#FF97FF\", \"#FECB52\"], \"font\": {\"color\": \"#2a3f5f\"}, \"geo\": {\"bgcolor\": \"white\", \"lakecolor\": \"white\", \"landcolor\": \"#E5ECF6\", \"showlakes\": true, \"showland\": true, \"subunitcolor\": \"white\"}, \"hoverlabel\": {\"align\": \"left\"}, \"hovermode\": \"closest\", \"mapbox\": {\"style\": \"light\"}, \"paper_bgcolor\": \"white\", \"plot_bgcolor\": \"#E5ECF6\", \"polar\": {\"angularaxis\": {\"gridcolor\": \"white\", \"linecolor\": \"white\", \"ticks\": \"\"}, \"bgcolor\": \"#E5ECF6\", \"radialaxis\": {\"gridcolor\": \"white\", \"linecolor\": \"white\", \"ticks\": \"\"}}, \"scene\": {\"xaxis\": {\"backgroundcolor\": \"#E5ECF6\", \"gridcolor\": \"white\", \"gridwidth\": 2, \"linecolor\": \"white\", \"showbackground\": true, \"ticks\": \"\", \"zerolinecolor\": \"white\"}, \"yaxis\": {\"backgroundcolor\": \"#E5ECF6\", \"gridcolor\": \"white\", \"gridwidth\": 2, \"linecolor\": \"white\", \"showbackground\": true, \"ticks\": \"\", \"zerolinecolor\": \"white\"}, \"zaxis\": {\"backgroundcolor\": \"#E5ECF6\", \"gridcolor\": \"white\", \"gridwidth\": 2, \"linecolor\": \"white\", \"showbackground\": true, \"ticks\": \"\", \"zerolinecolor\": \"white\"}}, \"shapedefaults\": {\"line\": {\"color\": \"#2a3f5f\"}}, \"ternary\": {\"aaxis\": {\"gridcolor\": \"white\", \"linecolor\": \"white\", \"ticks\": \"\"}, \"baxis\": {\"gridcolor\": \"white\", \"linecolor\": \"white\", \"ticks\": \"\"}, \"bgcolor\": \"#E5ECF6\", \"caxis\": {\"gridcolor\": \"white\", \"linecolor\": \"white\", \"ticks\": \"\"}}, \"title\": {\"x\": 0.05}, \"xaxis\": {\"automargin\": true, \"gridcolor\": \"white\", \"linecolor\": \"white\", \"ticks\": \"\", \"zerolinecolor\": \"white\", \"zerolinewidth\": 2}, \"yaxis\": {\"automargin\": true, \"gridcolor\": \"white\", \"linecolor\": \"white\", \"ticks\": \"\", \"zerolinecolor\": \"white\", \"zerolinewidth\": 2}}}, \"title\": {\"font\": {\"color\": \"#D9D9D9\"}, \"text\": \"Comparison of EIA and Refinitiv Oil Research flows for US PADD 3 Crude Oil exports\"}, \"xaxis\": {\"gridcolor\": \"#434343\", \"showgrid\": true, \"tickfont\": {\"color\": \"#C2C2C2\"}, \"title\": {\"font\": {\"color\": \"#D9D9D9\"}, \"text\": \"\"}, \"zerolinecolor\": \"#666570\"}, \"yaxis\": {\"gridcolor\": \"#434343\", \"showgrid\": true, \"tickfont\": {\"color\": \"#C2C2C2\"}, \"title\": {\"font\": {\"color\": \"#D9D9D9\"}, \"text\": \"\"}, \"zerolinecolor\": \"#666570\"}},\n",
       "                        {\"responsive\": true}\n",
       "                    ).then(function(){\n",
       "                            \n",
       "var gd = document.getElementById('9b715a32-908b-406a-9c49-79420f93fe5a');\n",
       "var x = new MutationObserver(function (mutations, observer) {{\n",
       "        var display = window.getComputedStyle(gd).display;\n",
       "        if (!display || display === 'none') {{\n",
       "            console.log([gd, 'removed!']);\n",
       "            Plotly.purge(gd);\n",
       "            observer.disconnect();\n",
       "        }}\n",
       "}});\n",
       "\n",
       "// Listen for the removal of the full notebook cells\n",
       "var notebookContainer = gd.closest('#notebook-container');\n",
       "if (notebookContainer) {{\n",
       "    x.observe(notebookContainer, {childList: true});\n",
       "}}\n",
       "\n",
       "// Listen for the clearing of the current output cell\n",
       "var outputEl = gd.closest('.output');\n",
       "if (outputEl) {{\n",
       "    x.observe(outputEl, {childList: true});\n",
       "}}\n",
       "\n",
       "                        })\n",
       "                };\n",
       "                });\n",
       "            </script>\n",
       "        </div>"
      ]
     },
     "metadata": {},
     "output_type": "display_data"
    }
   ],
   "source": [
    "eia=ek.get_timeseries('EXP-CLPD3D-EIA',start_date='2015-01-01',interval='monthly')\n",
    "eia.index=eia.index.to_period('M')\n",
    "compare=padd3_mnbpd.merge(eia,how='left',left_index=True,right_index=True)\n",
    "compare['PADD3_calculated']=compare['Refinitiv Flows_kbpd']+compare['Pipeline exports_kbpd']\n",
    "compare.index=compare.index.astype('str')\n",
    "compare['CLOSE']=compare['CLOSE'].astype('float64')\n",
    "fig_benchmarking=compare[['Refinitiv Flows_kbpd','Pipeline exports_kbpd']].iplot(kind='bar',barmode='stack',title='Comparison of EIA and Refinitiv Oil Research flows for US PADD 3 Crude Oil exports',asFigure=True)\n",
    "fig_benchmarking.add_trace(trace=go.Scatter(x=compare.index,y=compare['CLOSE'],name='EIA PADD3',line=dict(color='lime')))\n",
    "fig_benchmarking.show()"
   ]
  },
  {
   "cell_type": "markdown",
   "metadata": {},
   "source": [
    "As one can clearly see from the chart, Refinitiv Flows data for seaborne exports historically tracks the official EIA figures with very high degree of accuracy. The advantage of our estimate over official EIA data is of course that our estiate can be performed in real-time."
   ]
  },
  {
   "cell_type": "markdown",
   "metadata": {},
   "source": [
    "### Visualising the impact of export infrastructure addition on exports from PADD 3  \n",
    "In this analysis we're using Trade Flows data to visualize the impact of the addidion of the new export infrastructure including pipelines and terminals over the last few years. "
   ]
  },
  {
   "cell_type": "code",
   "execution_count": 7,
   "metadata": {},
   "outputs": [
    {
     "data": {
      "application/vnd.plotly.v1+json": {
       "config": {
        "plotlyServerURL": "https://plot.ly"
       },
       "data": [
        {
         "geo": "geo",
         "hoverlabel": {
          "namelength": 0
         },
         "hovertemplate": "<b>%{hovertext}</b><br><br>Depyear=2014<br>Barrels=%{marker.size}<br>Latitude=%{lat}<br>Longitude=%{lon}",
         "hovertext": [
          "Beaumont",
          "Corpus Christi",
          "GOLA - Galveston Offshore Lightering Area",
          "Houston",
          "Pacific Lightering Area 2",
          "Texas City"
         ],
         "lat": [
          30.053164,
          27.841887,
          28.56874,
          29.727513,
          31.897995,
          29.364245
         ],
         "legendgroup": "",
         "lon": [
          -94.086511,
          -97.270307,
          -94.460887,
          -95.127008,
          -119.438401,
          -94.897704
         ],
         "marker": {
          "color": "#636efa",
          "size": [
           173912,
           1831440,
           711891,
           855340,
           933173,
           2093157
          ],
          "sizemode": "area",
          "sizeref": 894627.2325
         },
         "name": "",
         "showlegend": false,
         "type": "scattergeo"
        }
       ],
       "frames": [
        {
         "data": [
          {
           "geo": "geo",
           "hoverlabel": {
            "namelength": 0
           },
           "hovertemplate": "<b>%{hovertext}</b><br><br>Depyear=2014<br>Barrels=%{marker.size}<br>Latitude=%{lat}<br>Longitude=%{lon}",
           "hovertext": [
            "Beaumont",
            "Corpus Christi",
            "GOLA - Galveston Offshore Lightering Area",
            "Houston",
            "Pacific Lightering Area 2",
            "Texas City"
           ],
           "lat": [
            30.053164,
            27.841887,
            28.56874,
            29.727513,
            31.897995,
            29.364245
           ],
           "legendgroup": "",
           "lon": [
            -94.086511,
            -97.270307,
            -94.460887,
            -95.127008,
            -119.438401,
            -94.897704
           ],
           "marker": {
            "color": "#636efa",
            "size": [
             173912,
             1831440,
             711891,
             855340,
             933173,
             2093157
            ],
            "sizemode": "area",
            "sizeref": 894627.2325
           },
           "name": "",
           "showlegend": false,
           "type": "scattergeo"
          }
         ],
         "name": "2014"
        },
        {
         "data": [
          {
           "geo": "geo",
           "hoverlabel": {
            "namelength": 0
           },
           "hovertemplate": "<b>%{hovertext}</b><br><br>Depyear=2015<br>Barrels=%{marker.size}<br>Latitude=%{lat}<br>Longitude=%{lon}",
           "hovertext": [
            "Beaumont",
            "Corpus Christi",
            "Freeport (USA)",
            "GOLA - Galveston Offshore Lightering Area",
            "Galveston",
            "Gulfmex (SW Pass) Lightering",
            "Houston",
            "Long Beach",
            "New Orleans",
            "Pacific Lightering Area 2",
            "Philadelphia",
            "Point Comfort",
            "Port Arthur",
            "Sabine (To be removed soon)",
            "South Louisiana Port",
            "South Sabine Point",
            "South West Pass",
            "Texas City",
            "Valdez"
           ],
           "lat": [
            30.053164,
            27.841887,
            28.94974,
            28.56874,
            29.313034,
            28.351253000000003,
            29.727513,
            33.76777668454549,
            29.935441,
            31.897995,
            39.90792,
            28.671686,
            29.851103,
            29.7,
            30.023456,
            28.610161,
            28.844036,
            29.364245,
            61.11411999999999
           ],
           "legendgroup": "",
           "lon": [
            -94.086511,
            -97.270307,
            -95.33753,
            -94.460887,
            -94.810938,
            -90.502712,
            -95.127008,
            -118.21093204521799,
            -90.079969,
            -119.438401,
            -75.252483,
            -96.558307,
            -93.915173,
            -93.866667,
            -90.603083,
            -93.488188,
            -89.48700500000002,
            -94.897704,
            -146.37006
           ],
           "marker": {
            "color": "#636efa",
            "size": [
             13729687,
             40852025,
             2876930,
             3094297,
             2965417,
             2072138,
             25154964,
             304359,
             1320994,
             2009912,
             404330,
             292442,
             597788,
             134704,
             11741669,
             1349850,
             518035,
             8720568,
             967985
            ],
            "sizemode": "area",
            "sizeref": 894627.2325
           },
           "name": "",
           "showlegend": false,
           "type": "scattergeo"
          }
         ],
         "name": "2015"
        },
        {
         "data": [
          {
           "geo": "geo",
           "hoverlabel": {
            "namelength": 0
           },
           "hovertemplate": "<b>%{hovertext}</b><br><br>Depyear=2016<br>Barrels=%{marker.size}<br>Latitude=%{lat}<br>Longitude=%{lon}",
           "hovertext": [
            "Beaumont",
            "Camden",
            "Convent",
            "Corpus Christi",
            "Corpus Christi STS 1",
            "Corpus Christi STS Area 2",
            "Freeport (USA)",
            "GOLA - Galveston Offshore Lightering Area",
            "Galveston",
            "Gulfmex (SW Pass) Lightering",
            "Houston",
            "Lake Charles",
            "Long Beach",
            "Miami",
            "Mobile",
            "New Orleans",
            "New York",
            "Pacific Lightering Area 2",
            "Pascagoula",
            "Philadelphia",
            "Port Arthur",
            "Richmond (California)",
            "South Louisiana Port",
            "South Sabine Point",
            "South West Pass",
            "St Croix",
            "St. Charles",
            "US Gulf Lightering Zones",
            "Valdez"
           ],
           "lat": [
            30.053164,
            39.923121,
            30.022438,
            27.841887,
            27.762469,
            27.312478,
            28.94974,
            28.56874,
            29.313034,
            28.351253000000003,
            29.727513,
            30.20095,
            33.76777668454549,
            25.77571,
            30.705183,
            29.935441,
            40.626717,
            31.897995,
            30.339556,
            39.90792,
            29.851103,
            37.943334,
            30.023456,
            28.610161,
            28.844036,
            17.735085,
            29.994154,
            26.916667,
            61.11411999999999
           ],
           "legendgroup": "",
           "lon": [
            -94.086511,
            -75.10203100000003,
            -90.840309,
            -97.270307,
            -96.424654,
            -96.834451,
            -95.33753,
            -94.460887,
            -94.810938,
            -90.502712,
            -95.127008,
            -93.273925,
            -118.21093204521799,
            -80.19185300000002,
            -88.04436899999997,
            -90.079969,
            -73.972511,
            -119.438401,
            -88.527354,
            -75.252483,
            -93.915173,
            -122.373288,
            -90.603083,
            -93.488188,
            -89.48700500000002,
            -64.74277099999999,
            -90.417621,
            -91.5,
            -146.37006
           ],
           "marker": {
            "color": "#636efa",
            "size": [
             16549259,
             518035,
             1385994,
             17570610,
             1998133,
             3478753,
             4508693,
             10841430,
             962064,
             1878945,
             31800476,
             592039,
             464677,
             441314,
             592039,
             2180161,
             221508,
             4864312,
             157257,
             337642,
             1536305,
             295598,
             17419485,
             2233765,
             1799663,
             753081,
             517517,
             392226,
             6341713
            ],
            "sizemode": "area",
            "sizeref": 894627.2325
           },
           "name": "",
           "showlegend": false,
           "type": "scattergeo"
          }
         ],
         "name": "2016"
        },
        {
         "data": [
          {
           "geo": "geo",
           "hoverlabel": {
            "namelength": 0
           },
           "hovertemplate": "<b>%{hovertext}</b><br><br>Depyear=2017<br>Barrels=%{marker.size}<br>Latitude=%{lat}<br>Longitude=%{lon}",
           "hovertext": [
            "Bayonne (USA - New Jersey)",
            "Beaumont",
            "Brownsville (Texas)",
            "Calcasieu Pass (S) Anchorage",
            "Camden",
            "Convent",
            "Corpus Christi",
            "Corpus Christi STS 1",
            "Corpus Christi STS Area 2",
            "Delaware Bay",
            "Freeport (USA)",
            "GOLA - Galveston Offshore Lightering Area",
            "Galveston",
            "Gulfmex (SW Pass) Lightering",
            "Houston",
            "Lake Charles",
            "Lewes",
            "Long Beach",
            "Marcus Hook",
            "Mobile",
            "New Orleans",
            "Pacific Area Lightering",
            "Pacific Lightering Area 2",
            "Pascagoula Lightering Zone",
            "Pedricktown",
            "Philadelphia",
            "Port Arthur",
            "Port Neches",
            "South Louisiana Port",
            "South Sabine Point",
            "Southwest Pass Lightering Area (test)",
            "St Croix",
            "St. Rose",
            "Texas City",
            "US Gulf Lightering Zones",
            "Valdez",
            "Wilmington (Del.)"
           ],
           "lat": [
            40.666135,
            30.053164,
            25.992855,
            28.97979,
            39.923121,
            30.022438,
            27.841887,
            27.762469,
            27.312478,
            38.928375,
            28.94974,
            28.56874,
            29.313034,
            28.351253000000003,
            29.727513,
            30.20095,
            38.8064639944569,
            33.76777668454549,
            39.815882,
            30.705183,
            29.935441,
            33.07557,
            31.897995,
            29.649432,
            39.7889970260995,
            39.90792,
            29.851103,
            29.975318,
            30.023456,
            28.610161,
            28.312037,
            17.735085,
            29.936604,
            29.364245,
            26.916667,
            61.11411999999999,
            39.728831
           ],
           "legendgroup": "",
           "lon": [
            -74.105377,
            -94.086511,
            -97.304779,
            -93.259846,
            -75.10203100000003,
            -90.840309,
            -97.270307,
            -96.424654,
            -96.834451,
            -75.161867,
            -95.33753,
            -94.460887,
            -94.810938,
            -90.502712,
            -95.127008,
            -93.273925,
            -75.1312493298523,
            -118.21093204521799,
            -75.410598,
            -88.04436899999997,
            -90.079969,
            -117.8295,
            -119.438401,
            -88.19617,
            -75.40736339960091,
            -75.252483,
            -93.915173,
            -93.948541,
            -90.603083,
            -93.488188,
            -89.54969399999997,
            -64.74277099999999,
            -90.339019,
            -94.897704,
            -91.5,
            -146.37006,
            -75.53293599999998
           ],
           "marker": {
            "color": "#636efa",
            "size": [
             243654,
             26125356,
             240400,
             953277,
             1060352,
             8164655,
             65156603,
             2622575,
             6402643,
             658381,
             9211649,
             116541955,
             2210369,
             16704890,
             37999782,
             117923,
             296020,
             480476,
             2612071,
             545814,
             836773,
             2333946,
             15776567,
             463700,
             586632,
             1226585,
             2247294,
             518035,
             3080766,
             10354486,
             1241536,
             10232721,
             250405,
             1224931,
             1866800,
             953277,
             3875106
            ],
            "sizemode": "area",
            "sizeref": 894627.2325
           },
           "name": "",
           "showlegend": false,
           "type": "scattergeo"
          }
         ],
         "name": "2017"
        },
        {
         "data": [
          {
           "geo": "geo",
           "hoverlabel": {
            "namelength": 0
           },
           "hovertemplate": "<b>%{hovertext}</b><br><br>Depyear=2018<br>Barrels=%{marker.size}<br>Latitude=%{lat}<br>Longitude=%{lon}",
           "hovertext": [
            "Alliance",
            "Baton Rouge",
            "Bayonne (USA - New Jersey)",
            "Bayport",
            "Beaumont",
            "Brownsville (Texas)",
            "Camden",
            "Chalmette",
            "Convent",
            "Corpus Christi",
            "Corpus Christi STS 1",
            "Corpus Christi STS Area 2",
            "Delaware Bay",
            "Delaware Bay Offshore Lightering Area (test)",
            "El Segundo Terminal",
            "Freeport (USA)",
            "GOLA - Galveston Offshore Lightering Area",
            "Gulfmex (SW Pass) Lightering",
            "Gulfmex No.2 Lightering",
            "Houston",
            "Kenai (Nikiski)",
            "LOOP",
            "Los Angeles (incl San Pedro)",
            "Marcus Hook",
            "Mobile",
            "New Orleans",
            "Pacific Area Lightering",
            "Pacific Lightering Area 2",
            "Pascagoula Anchorage and Lightering Area",
            "Paulsboro",
            "Philadelphia",
            "Port Arthur",
            "Port Neches",
            "Portland (Maine)",
            "Portland (US - Oregon)",
            "Richmond (California)",
            "South Louisiana Port",
            "South Sabine Point",
            "South West Pass",
            "Southtex Lightering",
            "Southwest Pass Lightering Area (test)",
            "St Croix",
            "St. Charles",
            "Tacoma",
            "Texas City",
            "Valdez"
           ],
           "lat": [
            29.682195,
            30.466976000000006,
            40.666135,
            29.627453000000006,
            30.053164,
            25.992855,
            39.923121,
            29.94456,
            30.022438,
            27.841887,
            27.762469,
            27.312478,
            38.928375,
            38.70206,
            33.911346,
            28.94974,
            28.56874,
            28.351253000000003,
            27.199477,
            29.727513,
            60.678764,
            28.87618,
            33.740434,
            39.815882,
            30.705183,
            29.935441,
            33.07557,
            31.897995,
            30.099764,
            39.838137,
            39.90792,
            29.851103,
            29.975318,
            43.655857974463395,
            45.574846,
            37.943334,
            30.023456,
            28.610161,
            28.844036,
            27.116063,
            28.312037,
            17.735085,
            29.994154,
            47.26248,
            29.364245,
            61.11411999999999
           ],
           "legendgroup": "",
           "lon": [
            -89.970254,
            -91.221965,
            -74.105377,
            -95.015405,
            -94.086511,
            -97.304779,
            -75.10203100000003,
            -89.966886,
            -90.840309,
            -97.270307,
            -96.424654,
            -96.834451,
            -75.161867,
            -74.51951600000002,
            -118.489702,
            -95.33753,
            -94.460887,
            -90.502712,
            -90.251583,
            -95.127008,
            -151.392557,
            -90.008112,
            -118.269551,
            -75.410598,
            -88.04436899999997,
            -90.079969,
            -117.8295,
            -119.438401,
            -88.550161,
            -75.246143,
            -75.252483,
            -93.915173,
            -93.948541,
            -70.2575675660577,
            -122.746774,
            -122.373288,
            -90.603083,
            -93.488188,
            -89.48700500000002,
            -94.490555,
            -89.54969399999997,
            -64.74277099999999,
            -90.417621,
            -122.412203,
            -94.897704,
            -146.37006
           ],
           "marker": {
            "color": "#636efa",
            "size": [
             1511780,
             1039009,
             289300,
             4820107,
             59095287,
             319145,
             2076250,
             605004,
             16471395,
             113426649,
             15522202,
             14381817,
             386315,
             240701,
             444614,
             16383089,
             188127438,
             15240835,
             5673576,
             85315022,
             542351,
             20222048,
             389139,
             3789145,
             580003,
             2413924,
             962064,
             13508838,
             612663,
             786417,
             955753,
             864548,
             586632,
             314462,
             1479160,
             586632,
             8154984,
             14112442,
             953277,
             5413935,
             709045,
             1897395,
             1993874,
             314681,
             18246462,
             1899740
            ],
            "sizemode": "area",
            "sizeref": 894627.2325
           },
           "name": "",
           "showlegend": false,
           "type": "scattergeo"
          }
         ],
         "name": "2018"
        },
        {
         "data": [
          {
           "geo": "geo",
           "hoverlabel": {
            "namelength": 0
           },
           "hovertemplate": "<b>%{hovertext}</b><br><br>Depyear=2019<br>Barrels=%{marker.size}<br>Latitude=%{lat}<br>Longitude=%{lon}",
           "hovertext": [
            "Baton Rouge",
            "Bayport",
            "Beaumont",
            "Brownsville (Texas)",
            "Camden",
            "Convent",
            "Corpus Christi",
            "Corpus Christi STS 1",
            "Corpus Christi STS Area 2",
            "Delaware Bay Offshore Lightering Area (test)",
            "Delaware City",
            "Enterprise HSC (HOU)",
            "Freeport (USA)",
            "GOLA - Galveston Offshore Lightering Area",
            "Gulfmex (SW Pass) Lightering",
            "Gulfmex No.2 Lightering",
            "Houston",
            "Kenai (Nikiski)",
            "LOOP",
            "Lake Charles",
            "Long Beach",
            "Los Angeles (incl San Pedro)",
            "Marrero",
            "New Orleans",
            "Pacific Lightering Area 2",
            "Pascagoula Lightering Zone",
            "Paulsboro",
            "Philadelphia",
            "Port Arthur",
            "Port Neches",
            "Portland (Maine)",
            "Savannah",
            "South Louisiana Port",
            "South Sabine Point",
            "South West Pass",
            "Southtex Lightering",
            "Southwest Pass - River",
            "Southwest Pass Lightering Area (test)",
            "St Croix",
            "St. Charles",
            "St. Rose",
            "Texas City",
            "Valdez"
           ],
           "lat": [
            30.466976000000006,
            29.627453000000006,
            30.053164,
            25.992855,
            39.923121,
            30.022438,
            27.841887,
            27.762469,
            27.312478,
            38.70206,
            39.586314,
            29.73806,
            28.94974,
            28.56874,
            28.351253000000003,
            27.199477,
            29.727513,
            60.678764,
            28.87618,
            30.20095,
            33.76777668454549,
            33.740434,
            29.9,
            29.935441,
            31.897995,
            29.649432,
            39.838137,
            39.90792,
            29.851103,
            29.975318,
            43.655857974463395,
            32.103894,
            30.023456,
            28.610161,
            28.844036,
            27.116063,
            29.031171,
            28.312037,
            17.735085,
            29.994154,
            29.936604,
            29.364245,
            61.11411999999999
           ],
           "legendgroup": "",
           "lon": [
            -91.221965,
            -95.015405,
            -94.086511,
            -97.304779,
            -75.10203100000003,
            -90.840309,
            -97.270307,
            -96.424654,
            -96.834451,
            -74.51951600000002,
            -75.622899,
            -95.127447,
            -95.33753,
            -94.460887,
            -90.502712,
            -90.251583,
            -95.127008,
            -151.392557,
            -90.008112,
            -93.273925,
            -118.21093204521799,
            -118.269551,
            -90.1,
            -90.079969,
            -119.438401,
            -88.19617,
            -75.246143,
            -75.252483,
            -93.915173,
            -93.948541,
            -70.2575675660577,
            -81.11099499999997,
            -90.603083,
            -93.488188,
            -89.48700500000002,
            -94.490555,
            -89.33159,
            -89.54969399999997,
            -64.74277099999999,
            -90.417621,
            -90.339019,
            -94.897704,
            -146.37006
           ],
           "marker": {
            "color": "#636efa",
            "size": [
             2686709,
             26999762,
             110958025,
             1144823,
             721506,
             14877088,
             191886061,
             15467639,
             19480172,
             454183,
             1443466,
             27283,
             18078686,
             282649027,
             11543675,
             727000,
             145967495,
             548160,
             35942206,
             586632,
             4559685,
             2053212,
             366645,
             4262509,
             4776641,
             553978,
             295087,
             962064,
             890750,
             64895,
             118284,
             313012,
             1937005,
             20713839,
             1109742,
             4327888,
             391845,
             2121908,
             5240574,
             623413,
             750128,
             21746504,
             6923799
            ],
            "sizemode": "area",
            "sizeref": 894627.2325
           },
           "name": "",
           "showlegend": false,
           "type": "scattergeo"
          }
         ],
         "name": "2019"
        },
        {
         "data": [
          {
           "geo": "geo",
           "hoverlabel": {
            "namelength": 0
           },
           "hovertemplate": "<b>%{hovertext}</b><br><br>Depyear=2020<br>Barrels=%{marker.size}<br>Latitude=%{lat}<br>Longitude=%{lon}",
           "hovertext": [
            "Bayport",
            "Beaumont",
            "Brownsville (Texas)",
            "Chalmette",
            "Convent",
            "Corpus Christi",
            "Corpus Christi STS 1",
            "Corpus Christi STS Area 2",
            "Empire",
            "Freeport (USA)",
            "GOLA - Galveston Offshore Lightering Area",
            "Galveston",
            "Gulfmex (SW Pass) Lightering",
            "Gulfmex No.2 Lightering",
            "Houston",
            "LOOP",
            "Limetree Bay",
            "Long Beach",
            "Los Angeles (incl San Pedro)",
            "Mobile",
            "New Orleans",
            "New York",
            "Pacific Lightering Area 2",
            "Point Comfort",
            "Port Arthur",
            "Riverhead Terminal",
            "Savannah",
            "South Louisiana Port",
            "South Sabine Point",
            "South West Pass",
            "Southtex Lightering",
            "Southwest Pass Lightering Area (test)",
            "St Croix",
            "St. Rose",
            "Texas City",
            "Valdez"
           ],
           "lat": [
            29.627453000000006,
            30.053164,
            25.992855,
            29.94456,
            30.022438,
            27.841887,
            27.762469,
            27.312478,
            29.379917,
            28.94974,
            28.56874,
            29.313034,
            28.351253000000003,
            27.199477,
            29.727513,
            28.87618,
            17.683332999999994,
            33.76777668454549,
            33.740434,
            30.705183,
            29.935441,
            40.626717,
            31.897995,
            28.671686,
            29.851103,
            40.9860279096872,
            32.103894,
            30.023456,
            28.610161,
            28.844036,
            27.116063,
            28.312037,
            17.735085,
            29.936604,
            29.364245,
            61.11411999999999
           ],
           "legendgroup": "",
           "lon": [
            -95.015405,
            -94.086511,
            -97.304779,
            -89.966886,
            -90.840309,
            -97.270307,
            -96.424654,
            -96.834451,
            -89.572012,
            -95.33753,
            -94.460887,
            -94.810938,
            -90.502712,
            -90.251583,
            -95.127008,
            -90.008112,
            -64.733333,
            -118.21093204521799,
            -118.269551,
            -88.04436899999997,
            -90.079969,
            -73.972511,
            -119.438401,
            -96.558307,
            -93.915173,
            -72.6475126528167,
            -81.11099499999997,
            -90.603083,
            -93.488188,
            -89.48700500000002,
            -94.490555,
            -89.54969399999997,
            -64.74277099999999,
            -90.339019,
            -94.897704,
            -146.37006
           ],
           "marker": {
            "color": "#636efa",
            "size": [
             46718423,
             57378622,
             3908134,
             458644,
             6232070,
             357850893,
             59479922,
             44098285,
             592039,
             8444782,
             180156279,
             2574700,
             11752770,
             12351942,
             113890428,
             62461213,
             3982310,
             1035311,
             434489,
             463167,
             2766681,
             390042,
             1780389,
             252608,
             219601,
             513303,
             485604,
             510660,
             8007278,
             459494,
             16931790,
             962064,
             4336946,
             404215,
             11364973,
             12638456
            ],
            "sizemode": "area",
            "sizeref": 894627.2325
           },
           "name": "",
           "showlegend": false,
           "type": "scattergeo"
          }
         ],
         "name": "2020"
        },
        {
         "data": [
          {
           "geo": "geo",
           "hoverlabel": {
            "namelength": 0
           },
           "hovertemplate": "<b>%{hovertext}</b><br><br>Depyear=2021<br>Barrels=%{marker.size}<br>Latitude=%{lat}<br>Longitude=%{lon}",
           "hovertext": [
            "Baton Rouge",
            "Baton Rouge Exxon Terminal",
            "Bayport",
            "Beaumont",
            "Brownsville (Texas)",
            "Camden",
            "Convent",
            "Corpus Christi",
            "Corpus Christi STS 1",
            "Corpus Christi STS Area 2",
            "Empire",
            "Freeport (USA)",
            "GOLA - Galveston Offshore Lightering Area",
            "Gulf Gateway Terminal",
            "Gulfmex (SW Pass) Lightering",
            "Gulfmex No.2 Lightering",
            "Houston",
            "LOOP",
            "Limetree Bay",
            "Long Beach",
            "New Orleans",
            "Pacific Lightering Area 2",
            "Riverhead Terminal",
            "South Sabine Point",
            "Southtex Lightering",
            "Southwest Pass Lightering Area (test)",
            "St Croix",
            "St. Rose",
            "Valdez"
           ],
           "lat": [
            30.466976000000006,
            null,
            29.627453000000006,
            30.053164,
            25.992855,
            39.923121,
            30.022438,
            27.841887,
            27.762469,
            27.312478,
            29.379917,
            28.94974,
            28.56874,
            null,
            28.351253000000003,
            27.199477,
            29.727513,
            28.87618,
            17.683332999999994,
            33.76777668454549,
            29.935441,
            31.897995,
            40.9860279096872,
            28.610161,
            27.116063,
            28.312037,
            17.735085,
            29.936604,
            61.11411999999999
           ],
           "legendgroup": "",
           "lon": [
            -91.221965,
            null,
            -95.015405,
            -94.086511,
            -97.304779,
            -75.10203100000003,
            -90.840309,
            -97.270307,
            -96.424654,
            -96.834451,
            -89.572012,
            -95.33753,
            -94.460887,
            null,
            -90.502712,
            -90.251583,
            -95.127008,
            -90.008112,
            -64.733333,
            -118.21093204521799,
            -90.079969,
            -119.438401,
            -72.6475126528167,
            -93.488188,
            -94.490555,
            -89.54969399999997,
            -64.74277099999999,
            -90.339019,
            -146.37006
           ],
           "marker": {
            "color": "#636efa",
            "size": [
             429783,
             68493,
             12222306,
             6274338,
             1200760,
             276290,
             3133644,
             160733118,
             13469137,
             14705540,
             259017,
             5922208,
             57806166,
             586632,
             2330908,
             471537,
             27944075,
             32090890,
             2072138,
             586632,
             38919,
             1554103,
             525191,
             1998133,
             8535094,
             508562,
             1384208,
             38919,
             4856083
            ],
            "sizemode": "area",
            "sizeref": 894627.2325
           },
           "name": "",
           "showlegend": false,
           "type": "scattergeo"
          }
         ],
         "name": "2021"
        }
       ],
       "layout": {
        "geo": {
         "center": {},
         "domain": {
          "x": [
           0,
           0.98
          ],
          "y": [
           0,
           1
          ]
         },
         "projection": {
          "type": "albers usa"
         }
        },
        "height": 600,
        "legend": {
         "itemsizing": "constant",
         "tracegroupgap": 0
        },
        "margin": {
         "t": 60
        },
        "sliders": [
         {
          "active": 0,
          "currentvalue": {
           "prefix": "Depyear="
          },
          "len": 0.9,
          "pad": {
           "b": 10,
           "t": 60
          },
          "steps": [
           {
            "args": [
             [
              "2014"
             ],
             {
              "frame": {
               "duration": 0,
               "redraw": true
              },
              "fromcurrent": true,
              "mode": "immediate",
              "transition": {
               "duration": 0,
               "easing": "linear"
              }
             }
            ],
            "label": "2014",
            "method": "animate"
           },
           {
            "args": [
             [
              "2015"
             ],
             {
              "frame": {
               "duration": 0,
               "redraw": true
              },
              "fromcurrent": true,
              "mode": "immediate",
              "transition": {
               "duration": 0,
               "easing": "linear"
              }
             }
            ],
            "label": "2015",
            "method": "animate"
           },
           {
            "args": [
             [
              "2016"
             ],
             {
              "frame": {
               "duration": 0,
               "redraw": true
              },
              "fromcurrent": true,
              "mode": "immediate",
              "transition": {
               "duration": 0,
               "easing": "linear"
              }
             }
            ],
            "label": "2016",
            "method": "animate"
           },
           {
            "args": [
             [
              "2017"
             ],
             {
              "frame": {
               "duration": 0,
               "redraw": true
              },
              "fromcurrent": true,
              "mode": "immediate",
              "transition": {
               "duration": 0,
               "easing": "linear"
              }
             }
            ],
            "label": "2017",
            "method": "animate"
           },
           {
            "args": [
             [
              "2018"
             ],
             {
              "frame": {
               "duration": 0,
               "redraw": true
              },
              "fromcurrent": true,
              "mode": "immediate",
              "transition": {
               "duration": 0,
               "easing": "linear"
              }
             }
            ],
            "label": "2018",
            "method": "animate"
           },
           {
            "args": [
             [
              "2019"
             ],
             {
              "frame": {
               "duration": 0,
               "redraw": true
              },
              "fromcurrent": true,
              "mode": "immediate",
              "transition": {
               "duration": 0,
               "easing": "linear"
              }
             }
            ],
            "label": "2019",
            "method": "animate"
           },
           {
            "args": [
             [
              "2020"
             ],
             {
              "frame": {
               "duration": 0,
               "redraw": true
              },
              "fromcurrent": true,
              "mode": "immediate",
              "transition": {
               "duration": 0,
               "easing": "linear"
              }
             }
            ],
            "label": "2020",
            "method": "animate"
           },
           {
            "args": [
             [
              "2021"
             ],
             {
              "frame": {
               "duration": 0,
               "redraw": true
              },
              "fromcurrent": true,
              "mode": "immediate",
              "transition": {
               "duration": 0,
               "easing": "linear"
              }
             }
            ],
            "label": "2021",
            "method": "animate"
           }
          ],
          "x": 0.1,
          "xanchor": "left",
          "y": 0,
          "yanchor": "top"
         }
        ],
        "template": {
         "data": {
          "bar": [
           {
            "error_x": {
             "color": "#2a3f5f"
            },
            "error_y": {
             "color": "#2a3f5f"
            },
            "marker": {
             "line": {
              "color": "#E5ECF6",
              "width": 0.5
             }
            },
            "type": "bar"
           }
          ],
          "barpolar": [
           {
            "marker": {
             "line": {
              "color": "#E5ECF6",
              "width": 0.5
             }
            },
            "type": "barpolar"
           }
          ],
          "carpet": [
           {
            "aaxis": {
             "endlinecolor": "#2a3f5f",
             "gridcolor": "white",
             "linecolor": "white",
             "minorgridcolor": "white",
             "startlinecolor": "#2a3f5f"
            },
            "baxis": {
             "endlinecolor": "#2a3f5f",
             "gridcolor": "white",
             "linecolor": "white",
             "minorgridcolor": "white",
             "startlinecolor": "#2a3f5f"
            },
            "type": "carpet"
           }
          ],
          "choropleth": [
           {
            "colorbar": {
             "outlinewidth": 0,
             "ticks": ""
            },
            "type": "choropleth"
           }
          ],
          "contour": [
           {
            "colorbar": {
             "outlinewidth": 0,
             "ticks": ""
            },
            "colorscale": [
             [
              0,
              "#0d0887"
             ],
             [
              0.1111111111111111,
              "#46039f"
             ],
             [
              0.2222222222222222,
              "#7201a8"
             ],
             [
              0.3333333333333333,
              "#9c179e"
             ],
             [
              0.4444444444444444,
              "#bd3786"
             ],
             [
              0.5555555555555556,
              "#d8576b"
             ],
             [
              0.6666666666666666,
              "#ed7953"
             ],
             [
              0.7777777777777778,
              "#fb9f3a"
             ],
             [
              0.8888888888888888,
              "#fdca26"
             ],
             [
              1,
              "#f0f921"
             ]
            ],
            "type": "contour"
           }
          ],
          "contourcarpet": [
           {
            "colorbar": {
             "outlinewidth": 0,
             "ticks": ""
            },
            "type": "contourcarpet"
           }
          ],
          "heatmap": [
           {
            "colorbar": {
             "outlinewidth": 0,
             "ticks": ""
            },
            "colorscale": [
             [
              0,
              "#0d0887"
             ],
             [
              0.1111111111111111,
              "#46039f"
             ],
             [
              0.2222222222222222,
              "#7201a8"
             ],
             [
              0.3333333333333333,
              "#9c179e"
             ],
             [
              0.4444444444444444,
              "#bd3786"
             ],
             [
              0.5555555555555556,
              "#d8576b"
             ],
             [
              0.6666666666666666,
              "#ed7953"
             ],
             [
              0.7777777777777778,
              "#fb9f3a"
             ],
             [
              0.8888888888888888,
              "#fdca26"
             ],
             [
              1,
              "#f0f921"
             ]
            ],
            "type": "heatmap"
           }
          ],
          "heatmapgl": [
           {
            "colorbar": {
             "outlinewidth": 0,
             "ticks": ""
            },
            "colorscale": [
             [
              0,
              "#0d0887"
             ],
             [
              0.1111111111111111,
              "#46039f"
             ],
             [
              0.2222222222222222,
              "#7201a8"
             ],
             [
              0.3333333333333333,
              "#9c179e"
             ],
             [
              0.4444444444444444,
              "#bd3786"
             ],
             [
              0.5555555555555556,
              "#d8576b"
             ],
             [
              0.6666666666666666,
              "#ed7953"
             ],
             [
              0.7777777777777778,
              "#fb9f3a"
             ],
             [
              0.8888888888888888,
              "#fdca26"
             ],
             [
              1,
              "#f0f921"
             ]
            ],
            "type": "heatmapgl"
           }
          ],
          "histogram": [
           {
            "marker": {
             "colorbar": {
              "outlinewidth": 0,
              "ticks": ""
             }
            },
            "type": "histogram"
           }
          ],
          "histogram2d": [
           {
            "colorbar": {
             "outlinewidth": 0,
             "ticks": ""
            },
            "colorscale": [
             [
              0,
              "#0d0887"
             ],
             [
              0.1111111111111111,
              "#46039f"
             ],
             [
              0.2222222222222222,
              "#7201a8"
             ],
             [
              0.3333333333333333,
              "#9c179e"
             ],
             [
              0.4444444444444444,
              "#bd3786"
             ],
             [
              0.5555555555555556,
              "#d8576b"
             ],
             [
              0.6666666666666666,
              "#ed7953"
             ],
             [
              0.7777777777777778,
              "#fb9f3a"
             ],
             [
              0.8888888888888888,
              "#fdca26"
             ],
             [
              1,
              "#f0f921"
             ]
            ],
            "type": "histogram2d"
           }
          ],
          "histogram2dcontour": [
           {
            "colorbar": {
             "outlinewidth": 0,
             "ticks": ""
            },
            "colorscale": [
             [
              0,
              "#0d0887"
             ],
             [
              0.1111111111111111,
              "#46039f"
             ],
             [
              0.2222222222222222,
              "#7201a8"
             ],
             [
              0.3333333333333333,
              "#9c179e"
             ],
             [
              0.4444444444444444,
              "#bd3786"
             ],
             [
              0.5555555555555556,
              "#d8576b"
             ],
             [
              0.6666666666666666,
              "#ed7953"
             ],
             [
              0.7777777777777778,
              "#fb9f3a"
             ],
             [
              0.8888888888888888,
              "#fdca26"
             ],
             [
              1,
              "#f0f921"
             ]
            ],
            "type": "histogram2dcontour"
           }
          ],
          "mesh3d": [
           {
            "colorbar": {
             "outlinewidth": 0,
             "ticks": ""
            },
            "type": "mesh3d"
           }
          ],
          "parcoords": [
           {
            "line": {
             "colorbar": {
              "outlinewidth": 0,
              "ticks": ""
             }
            },
            "type": "parcoords"
           }
          ],
          "scatter": [
           {
            "marker": {
             "colorbar": {
              "outlinewidth": 0,
              "ticks": ""
             }
            },
            "type": "scatter"
           }
          ],
          "scatter3d": [
           {
            "line": {
             "colorbar": {
              "outlinewidth": 0,
              "ticks": ""
             }
            },
            "marker": {
             "colorbar": {
              "outlinewidth": 0,
              "ticks": ""
             }
            },
            "type": "scatter3d"
           }
          ],
          "scattercarpet": [
           {
            "marker": {
             "colorbar": {
              "outlinewidth": 0,
              "ticks": ""
             }
            },
            "type": "scattercarpet"
           }
          ],
          "scattergeo": [
           {
            "marker": {
             "colorbar": {
              "outlinewidth": 0,
              "ticks": ""
             }
            },
            "type": "scattergeo"
           }
          ],
          "scattergl": [
           {
            "marker": {
             "colorbar": {
              "outlinewidth": 0,
              "ticks": ""
             }
            },
            "type": "scattergl"
           }
          ],
          "scattermapbox": [
           {
            "marker": {
             "colorbar": {
              "outlinewidth": 0,
              "ticks": ""
             }
            },
            "type": "scattermapbox"
           }
          ],
          "scatterpolar": [
           {
            "marker": {
             "colorbar": {
              "outlinewidth": 0,
              "ticks": ""
             }
            },
            "type": "scatterpolar"
           }
          ],
          "scatterpolargl": [
           {
            "marker": {
             "colorbar": {
              "outlinewidth": 0,
              "ticks": ""
             }
            },
            "type": "scatterpolargl"
           }
          ],
          "scatterternary": [
           {
            "marker": {
             "colorbar": {
              "outlinewidth": 0,
              "ticks": ""
             }
            },
            "type": "scatterternary"
           }
          ],
          "surface": [
           {
            "colorbar": {
             "outlinewidth": 0,
             "ticks": ""
            },
            "colorscale": [
             [
              0,
              "#0d0887"
             ],
             [
              0.1111111111111111,
              "#46039f"
             ],
             [
              0.2222222222222222,
              "#7201a8"
             ],
             [
              0.3333333333333333,
              "#9c179e"
             ],
             [
              0.4444444444444444,
              "#bd3786"
             ],
             [
              0.5555555555555556,
              "#d8576b"
             ],
             [
              0.6666666666666666,
              "#ed7953"
             ],
             [
              0.7777777777777778,
              "#fb9f3a"
             ],
             [
              0.8888888888888888,
              "#fdca26"
             ],
             [
              1,
              "#f0f921"
             ]
            ],
            "type": "surface"
           }
          ],
          "table": [
           {
            "cells": {
             "fill": {
              "color": "#EBF0F8"
             },
             "line": {
              "color": "white"
             }
            },
            "header": {
             "fill": {
              "color": "#C8D4E3"
             },
             "line": {
              "color": "white"
             }
            },
            "type": "table"
           }
          ]
         },
         "layout": {
          "annotationdefaults": {
           "arrowcolor": "#2a3f5f",
           "arrowhead": 0,
           "arrowwidth": 1
          },
          "colorscale": {
           "diverging": [
            [
             0,
             "#8e0152"
            ],
            [
             0.1,
             "#c51b7d"
            ],
            [
             0.2,
             "#de77ae"
            ],
            [
             0.3,
             "#f1b6da"
            ],
            [
             0.4,
             "#fde0ef"
            ],
            [
             0.5,
             "#f7f7f7"
            ],
            [
             0.6,
             "#e6f5d0"
            ],
            [
             0.7,
             "#b8e186"
            ],
            [
             0.8,
             "#7fbc41"
            ],
            [
             0.9,
             "#4d9221"
            ],
            [
             1,
             "#276419"
            ]
           ],
           "sequential": [
            [
             0,
             "#0d0887"
            ],
            [
             0.1111111111111111,
             "#46039f"
            ],
            [
             0.2222222222222222,
             "#7201a8"
            ],
            [
             0.3333333333333333,
             "#9c179e"
            ],
            [
             0.4444444444444444,
             "#bd3786"
            ],
            [
             0.5555555555555556,
             "#d8576b"
            ],
            [
             0.6666666666666666,
             "#ed7953"
            ],
            [
             0.7777777777777778,
             "#fb9f3a"
            ],
            [
             0.8888888888888888,
             "#fdca26"
            ],
            [
             1,
             "#f0f921"
            ]
           ],
           "sequentialminus": [
            [
             0,
             "#0d0887"
            ],
            [
             0.1111111111111111,
             "#46039f"
            ],
            [
             0.2222222222222222,
             "#7201a8"
            ],
            [
             0.3333333333333333,
             "#9c179e"
            ],
            [
             0.4444444444444444,
             "#bd3786"
            ],
            [
             0.5555555555555556,
             "#d8576b"
            ],
            [
             0.6666666666666666,
             "#ed7953"
            ],
            [
             0.7777777777777778,
             "#fb9f3a"
            ],
            [
             0.8888888888888888,
             "#fdca26"
            ],
            [
             1,
             "#f0f921"
            ]
           ]
          },
          "colorway": [
           "#636efa",
           "#EF553B",
           "#00cc96",
           "#ab63fa",
           "#FFA15A",
           "#19d3f3",
           "#FF6692",
           "#B6E880",
           "#FF97FF",
           "#FECB52"
          ],
          "font": {
           "color": "#2a3f5f"
          },
          "geo": {
           "bgcolor": "white",
           "lakecolor": "white",
           "landcolor": "#E5ECF6",
           "showlakes": true,
           "showland": true,
           "subunitcolor": "white"
          },
          "hoverlabel": {
           "align": "left"
          },
          "hovermode": "closest",
          "mapbox": {
           "style": "light"
          },
          "paper_bgcolor": "white",
          "plot_bgcolor": "#E5ECF6",
          "polar": {
           "angularaxis": {
            "gridcolor": "white",
            "linecolor": "white",
            "ticks": ""
           },
           "bgcolor": "#E5ECF6",
           "radialaxis": {
            "gridcolor": "white",
            "linecolor": "white",
            "ticks": ""
           }
          },
          "scene": {
           "xaxis": {
            "backgroundcolor": "#E5ECF6",
            "gridcolor": "white",
            "gridwidth": 2,
            "linecolor": "white",
            "showbackground": true,
            "ticks": "",
            "zerolinecolor": "white"
           },
           "yaxis": {
            "backgroundcolor": "#E5ECF6",
            "gridcolor": "white",
            "gridwidth": 2,
            "linecolor": "white",
            "showbackground": true,
            "ticks": "",
            "zerolinecolor": "white"
           },
           "zaxis": {
            "backgroundcolor": "#E5ECF6",
            "gridcolor": "white",
            "gridwidth": 2,
            "linecolor": "white",
            "showbackground": true,
            "ticks": "",
            "zerolinecolor": "white"
           }
          },
          "shapedefaults": {
           "line": {
            "color": "#2a3f5f"
           }
          },
          "ternary": {
           "aaxis": {
            "gridcolor": "white",
            "linecolor": "white",
            "ticks": ""
           },
           "baxis": {
            "gridcolor": "white",
            "linecolor": "white",
            "ticks": ""
           },
           "bgcolor": "#E5ECF6",
           "caxis": {
            "gridcolor": "white",
            "linecolor": "white",
            "ticks": ""
           }
          },
          "title": {
           "x": 0.05
          },
          "xaxis": {
           "automargin": true,
           "gridcolor": "white",
           "linecolor": "white",
           "ticks": "",
           "zerolinecolor": "white",
           "zerolinewidth": 2
          },
          "yaxis": {
           "automargin": true,
           "gridcolor": "white",
           "linecolor": "white",
           "ticks": "",
           "zerolinecolor": "white",
           "zerolinewidth": 2
          }
         }
        },
        "updatemenus": [
         {
          "buttons": [
           {
            "args": [
             null,
             {
              "frame": {
               "duration": 1000,
               "redraw": true
              },
              "fromcurrent": true,
              "mode": "immediate",
              "transition": {
               "duration": 500,
               "easing": "linear"
              }
             }
            ],
            "label": "&#9654;",
            "method": "animate"
           },
           {
            "args": [
             [
              null
             ],
             {
              "frame": {
               "duration": 0,
               "redraw": true
              },
              "fromcurrent": true,
              "mode": "immediate",
              "transition": {
               "duration": 0,
               "easing": "linear"
              }
             }
            ],
            "label": "&#9724;",
            "method": "animate"
           }
          ],
          "direction": "left",
          "pad": {
           "r": 10,
           "t": 70
          },
          "showactive": false,
          "type": "buttons",
          "x": 0.1,
          "xanchor": "right",
          "y": 0,
          "yanchor": "top"
         }
        ]
       }
      },
      "text/html": [
       "<div>\n",
       "        \n",
       "        \n",
       "            <div id=\"ff7a3eb2-a682-4e86-94bc-b07b810815c0\" class=\"plotly-graph-div\" style=\"height:600px; width:100%;\"></div>\n",
       "            <script type=\"text/javascript\">\n",
       "                require([\"plotly\"], function(Plotly) {\n",
       "                    window.PLOTLYENV=window.PLOTLYENV || {};\n",
       "                    \n",
       "                if (document.getElementById(\"ff7a3eb2-a682-4e86-94bc-b07b810815c0\")) {\n",
       "                    Plotly.newPlot(\n",
       "                        'ff7a3eb2-a682-4e86-94bc-b07b810815c0',\n",
       "                        [{\"geo\": \"geo\", \"hoverlabel\": {\"namelength\": 0}, \"hovertemplate\": \"<b>%{hovertext}</b><br><br>Depyear=2014<br>Barrels=%{marker.size}<br>Latitude=%{lat}<br>Longitude=%{lon}\", \"hovertext\": [\"Beaumont\", \"Corpus Christi\", \"GOLA - Galveston Offshore Lightering Area\", \"Houston\", \"Pacific Lightering Area 2\", \"Texas City\"], \"lat\": [30.053164, 27.841887, 28.56874, 29.727513, 31.897995, 29.364245], \"legendgroup\": \"\", \"lon\": [-94.086511, -97.270307, -94.460887, -95.127008, -119.438401, -94.897704], \"marker\": {\"color\": \"#636efa\", \"size\": [173912, 1831440, 711891, 855340, 933173, 2093157], \"sizemode\": \"area\", \"sizeref\": 894627.2325}, \"name\": \"\", \"showlegend\": false, \"type\": \"scattergeo\"}],\n",
       "                        {\"geo\": {\"center\": {}, \"domain\": {\"x\": [0.0, 0.98], \"y\": [0.0, 1.0]}, \"projection\": {\"type\": \"albers usa\"}}, \"height\": 600, \"legend\": {\"itemsizing\": \"constant\", \"tracegroupgap\": 0}, \"margin\": {\"t\": 60}, \"sliders\": [{\"active\": 0, \"currentvalue\": {\"prefix\": \"Depyear=\"}, \"len\": 0.9, \"pad\": {\"b\": 10, \"t\": 60}, \"steps\": [{\"args\": [[\"2014\"], {\"frame\": {\"duration\": 0, \"redraw\": true}, \"fromcurrent\": true, \"mode\": \"immediate\", \"transition\": {\"duration\": 0, \"easing\": \"linear\"}}], \"label\": \"2014\", \"method\": \"animate\"}, {\"args\": [[\"2015\"], {\"frame\": {\"duration\": 0, \"redraw\": true}, \"fromcurrent\": true, \"mode\": \"immediate\", \"transition\": {\"duration\": 0, \"easing\": \"linear\"}}], \"label\": \"2015\", \"method\": \"animate\"}, {\"args\": [[\"2016\"], {\"frame\": {\"duration\": 0, \"redraw\": true}, \"fromcurrent\": true, \"mode\": \"immediate\", \"transition\": {\"duration\": 0, \"easing\": \"linear\"}}], \"label\": \"2016\", \"method\": \"animate\"}, {\"args\": [[\"2017\"], {\"frame\": {\"duration\": 0, \"redraw\": true}, \"fromcurrent\": true, \"mode\": \"immediate\", \"transition\": {\"duration\": 0, \"easing\": \"linear\"}}], \"label\": \"2017\", \"method\": \"animate\"}, {\"args\": [[\"2018\"], {\"frame\": {\"duration\": 0, \"redraw\": true}, \"fromcurrent\": true, \"mode\": \"immediate\", \"transition\": {\"duration\": 0, \"easing\": \"linear\"}}], \"label\": \"2018\", \"method\": \"animate\"}, {\"args\": [[\"2019\"], {\"frame\": {\"duration\": 0, \"redraw\": true}, \"fromcurrent\": true, \"mode\": \"immediate\", \"transition\": {\"duration\": 0, \"easing\": \"linear\"}}], \"label\": \"2019\", \"method\": \"animate\"}, {\"args\": [[\"2020\"], {\"frame\": {\"duration\": 0, \"redraw\": true}, \"fromcurrent\": true, \"mode\": \"immediate\", \"transition\": {\"duration\": 0, \"easing\": \"linear\"}}], \"label\": \"2020\", \"method\": \"animate\"}, {\"args\": [[\"2021\"], {\"frame\": {\"duration\": 0, \"redraw\": true}, \"fromcurrent\": true, \"mode\": \"immediate\", \"transition\": {\"duration\": 0, \"easing\": \"linear\"}}], \"label\": \"2021\", \"method\": \"animate\"}], \"x\": 0.1, \"xanchor\": \"left\", \"y\": 0, \"yanchor\": \"top\"}], \"template\": {\"data\": {\"bar\": [{\"error_x\": {\"color\": \"#2a3f5f\"}, \"error_y\": {\"color\": \"#2a3f5f\"}, \"marker\": {\"line\": {\"color\": \"#E5ECF6\", \"width\": 0.5}}, \"type\": \"bar\"}], \"barpolar\": [{\"marker\": {\"line\": {\"color\": \"#E5ECF6\", \"width\": 0.5}}, \"type\": \"barpolar\"}], \"carpet\": [{\"aaxis\": {\"endlinecolor\": \"#2a3f5f\", \"gridcolor\": \"white\", \"linecolor\": \"white\", \"minorgridcolor\": \"white\", \"startlinecolor\": \"#2a3f5f\"}, \"baxis\": {\"endlinecolor\": \"#2a3f5f\", \"gridcolor\": \"white\", \"linecolor\": \"white\", \"minorgridcolor\": \"white\", \"startlinecolor\": \"#2a3f5f\"}, \"type\": \"carpet\"}], \"choropleth\": [{\"colorbar\": {\"outlinewidth\": 0, \"ticks\": \"\"}, \"type\": \"choropleth\"}], \"contour\": [{\"colorbar\": {\"outlinewidth\": 0, \"ticks\": \"\"}, \"colorscale\": [[0.0, \"#0d0887\"], [0.1111111111111111, \"#46039f\"], [0.2222222222222222, \"#7201a8\"], [0.3333333333333333, \"#9c179e\"], [0.4444444444444444, \"#bd3786\"], [0.5555555555555556, \"#d8576b\"], [0.6666666666666666, \"#ed7953\"], [0.7777777777777778, \"#fb9f3a\"], [0.8888888888888888, \"#fdca26\"], [1.0, \"#f0f921\"]], \"type\": \"contour\"}], \"contourcarpet\": [{\"colorbar\": {\"outlinewidth\": 0, \"ticks\": \"\"}, \"type\": \"contourcarpet\"}], \"heatmap\": [{\"colorbar\": {\"outlinewidth\": 0, \"ticks\": \"\"}, \"colorscale\": [[0.0, \"#0d0887\"], [0.1111111111111111, \"#46039f\"], [0.2222222222222222, \"#7201a8\"], [0.3333333333333333, \"#9c179e\"], [0.4444444444444444, \"#bd3786\"], [0.5555555555555556, \"#d8576b\"], [0.6666666666666666, \"#ed7953\"], [0.7777777777777778, \"#fb9f3a\"], [0.8888888888888888, \"#fdca26\"], [1.0, \"#f0f921\"]], \"type\": \"heatmap\"}], \"heatmapgl\": [{\"colorbar\": {\"outlinewidth\": 0, \"ticks\": \"\"}, \"colorscale\": [[0.0, \"#0d0887\"], [0.1111111111111111, \"#46039f\"], [0.2222222222222222, \"#7201a8\"], [0.3333333333333333, \"#9c179e\"], [0.4444444444444444, \"#bd3786\"], [0.5555555555555556, \"#d8576b\"], [0.6666666666666666, \"#ed7953\"], [0.7777777777777778, \"#fb9f3a\"], [0.8888888888888888, \"#fdca26\"], [1.0, \"#f0f921\"]], \"type\": \"heatmapgl\"}], \"histogram\": [{\"marker\": {\"colorbar\": {\"outlinewidth\": 0, \"ticks\": \"\"}}, \"type\": \"histogram\"}], \"histogram2d\": [{\"colorbar\": {\"outlinewidth\": 0, \"ticks\": \"\"}, \"colorscale\": [[0.0, \"#0d0887\"], [0.1111111111111111, \"#46039f\"], [0.2222222222222222, \"#7201a8\"], [0.3333333333333333, \"#9c179e\"], [0.4444444444444444, \"#bd3786\"], [0.5555555555555556, \"#d8576b\"], [0.6666666666666666, \"#ed7953\"], [0.7777777777777778, \"#fb9f3a\"], [0.8888888888888888, \"#fdca26\"], [1.0, \"#f0f921\"]], \"type\": \"histogram2d\"}], \"histogram2dcontour\": [{\"colorbar\": {\"outlinewidth\": 0, \"ticks\": \"\"}, \"colorscale\": [[0.0, \"#0d0887\"], [0.1111111111111111, \"#46039f\"], [0.2222222222222222, \"#7201a8\"], [0.3333333333333333, \"#9c179e\"], [0.4444444444444444, \"#bd3786\"], [0.5555555555555556, \"#d8576b\"], [0.6666666666666666, \"#ed7953\"], [0.7777777777777778, \"#fb9f3a\"], [0.8888888888888888, \"#fdca26\"], [1.0, \"#f0f921\"]], \"type\": \"histogram2dcontour\"}], \"mesh3d\": [{\"colorbar\": {\"outlinewidth\": 0, \"ticks\": \"\"}, \"type\": \"mesh3d\"}], \"parcoords\": [{\"line\": {\"colorbar\": {\"outlinewidth\": 0, \"ticks\": \"\"}}, \"type\": \"parcoords\"}], \"scatter\": [{\"marker\": {\"colorbar\": {\"outlinewidth\": 0, \"ticks\": \"\"}}, \"type\": \"scatter\"}], \"scatter3d\": [{\"line\": {\"colorbar\": {\"outlinewidth\": 0, \"ticks\": \"\"}}, \"marker\": {\"colorbar\": {\"outlinewidth\": 0, \"ticks\": \"\"}}, \"type\": \"scatter3d\"}], \"scattercarpet\": [{\"marker\": {\"colorbar\": {\"outlinewidth\": 0, \"ticks\": \"\"}}, \"type\": \"scattercarpet\"}], \"scattergeo\": [{\"marker\": {\"colorbar\": {\"outlinewidth\": 0, \"ticks\": \"\"}}, \"type\": \"scattergeo\"}], \"scattergl\": [{\"marker\": {\"colorbar\": {\"outlinewidth\": 0, \"ticks\": \"\"}}, \"type\": \"scattergl\"}], \"scattermapbox\": [{\"marker\": {\"colorbar\": {\"outlinewidth\": 0, \"ticks\": \"\"}}, \"type\": \"scattermapbox\"}], \"scatterpolar\": [{\"marker\": {\"colorbar\": {\"outlinewidth\": 0, \"ticks\": \"\"}}, \"type\": \"scatterpolar\"}], \"scatterpolargl\": [{\"marker\": {\"colorbar\": {\"outlinewidth\": 0, \"ticks\": \"\"}}, \"type\": \"scatterpolargl\"}], \"scatterternary\": [{\"marker\": {\"colorbar\": {\"outlinewidth\": 0, \"ticks\": \"\"}}, \"type\": \"scatterternary\"}], \"surface\": [{\"colorbar\": {\"outlinewidth\": 0, \"ticks\": \"\"}, \"colorscale\": [[0.0, \"#0d0887\"], [0.1111111111111111, \"#46039f\"], [0.2222222222222222, \"#7201a8\"], [0.3333333333333333, \"#9c179e\"], [0.4444444444444444, \"#bd3786\"], [0.5555555555555556, \"#d8576b\"], [0.6666666666666666, \"#ed7953\"], [0.7777777777777778, \"#fb9f3a\"], [0.8888888888888888, \"#fdca26\"], [1.0, \"#f0f921\"]], \"type\": \"surface\"}], \"table\": [{\"cells\": {\"fill\": {\"color\": \"#EBF0F8\"}, \"line\": {\"color\": \"white\"}}, \"header\": {\"fill\": {\"color\": \"#C8D4E3\"}, \"line\": {\"color\": \"white\"}}, \"type\": \"table\"}]}, \"layout\": {\"annotationdefaults\": {\"arrowcolor\": \"#2a3f5f\", \"arrowhead\": 0, \"arrowwidth\": 1}, \"colorscale\": {\"diverging\": [[0, \"#8e0152\"], [0.1, \"#c51b7d\"], [0.2, \"#de77ae\"], [0.3, \"#f1b6da\"], [0.4, \"#fde0ef\"], [0.5, \"#f7f7f7\"], [0.6, \"#e6f5d0\"], [0.7, \"#b8e186\"], [0.8, \"#7fbc41\"], [0.9, \"#4d9221\"], [1, \"#276419\"]], \"sequential\": [[0.0, \"#0d0887\"], [0.1111111111111111, \"#46039f\"], [0.2222222222222222, \"#7201a8\"], [0.3333333333333333, \"#9c179e\"], [0.4444444444444444, \"#bd3786\"], [0.5555555555555556, \"#d8576b\"], [0.6666666666666666, \"#ed7953\"], [0.7777777777777778, \"#fb9f3a\"], [0.8888888888888888, \"#fdca26\"], [1.0, \"#f0f921\"]], \"sequentialminus\": [[0.0, \"#0d0887\"], [0.1111111111111111, \"#46039f\"], [0.2222222222222222, \"#7201a8\"], [0.3333333333333333, \"#9c179e\"], [0.4444444444444444, \"#bd3786\"], [0.5555555555555556, \"#d8576b\"], [0.6666666666666666, \"#ed7953\"], [0.7777777777777778, \"#fb9f3a\"], [0.8888888888888888, \"#fdca26\"], [1.0, \"#f0f921\"]]}, \"colorway\": [\"#636efa\", \"#EF553B\", \"#00cc96\", \"#ab63fa\", \"#FFA15A\", \"#19d3f3\", \"#FF6692\", \"#B6E880\", \"#FF97FF\", \"#FECB52\"], \"font\": {\"color\": \"#2a3f5f\"}, \"geo\": {\"bgcolor\": \"white\", \"lakecolor\": \"white\", \"landcolor\": \"#E5ECF6\", \"showlakes\": true, \"showland\": true, \"subunitcolor\": \"white\"}, \"hoverlabel\": {\"align\": \"left\"}, \"hovermode\": \"closest\", \"mapbox\": {\"style\": \"light\"}, \"paper_bgcolor\": \"white\", \"plot_bgcolor\": \"#E5ECF6\", \"polar\": {\"angularaxis\": {\"gridcolor\": \"white\", \"linecolor\": \"white\", \"ticks\": \"\"}, \"bgcolor\": \"#E5ECF6\", \"radialaxis\": {\"gridcolor\": \"white\", \"linecolor\": \"white\", \"ticks\": \"\"}}, \"scene\": {\"xaxis\": {\"backgroundcolor\": \"#E5ECF6\", \"gridcolor\": \"white\", \"gridwidth\": 2, \"linecolor\": \"white\", \"showbackground\": true, \"ticks\": \"\", \"zerolinecolor\": \"white\"}, \"yaxis\": {\"backgroundcolor\": \"#E5ECF6\", \"gridcolor\": \"white\", \"gridwidth\": 2, \"linecolor\": \"white\", \"showbackground\": true, \"ticks\": \"\", \"zerolinecolor\": \"white\"}, \"zaxis\": {\"backgroundcolor\": \"#E5ECF6\", \"gridcolor\": \"white\", \"gridwidth\": 2, \"linecolor\": \"white\", \"showbackground\": true, \"ticks\": \"\", \"zerolinecolor\": \"white\"}}, \"shapedefaults\": {\"line\": {\"color\": \"#2a3f5f\"}}, \"ternary\": {\"aaxis\": {\"gridcolor\": \"white\", \"linecolor\": \"white\", \"ticks\": \"\"}, \"baxis\": {\"gridcolor\": \"white\", \"linecolor\": \"white\", \"ticks\": \"\"}, \"bgcolor\": \"#E5ECF6\", \"caxis\": {\"gridcolor\": \"white\", \"linecolor\": \"white\", \"ticks\": \"\"}}, \"title\": {\"x\": 0.05}, \"xaxis\": {\"automargin\": true, \"gridcolor\": \"white\", \"linecolor\": \"white\", \"ticks\": \"\", \"zerolinecolor\": \"white\", \"zerolinewidth\": 2}, \"yaxis\": {\"automargin\": true, \"gridcolor\": \"white\", \"linecolor\": \"white\", \"ticks\": \"\", \"zerolinecolor\": \"white\", \"zerolinewidth\": 2}}}, \"updatemenus\": [{\"buttons\": [{\"args\": [null, {\"frame\": {\"duration\": 1000, \"redraw\": true}, \"fromcurrent\": true, \"mode\": \"immediate\", \"transition\": {\"duration\": 500, \"easing\": \"linear\"}}], \"label\": \"&#9654;\", \"method\": \"animate\"}, {\"args\": [[null], {\"frame\": {\"duration\": 0, \"redraw\": true}, \"fromcurrent\": true, \"mode\": \"immediate\", \"transition\": {\"duration\": 0, \"easing\": \"linear\"}}], \"label\": \"&#9724;\", \"method\": \"animate\"}], \"direction\": \"left\", \"pad\": {\"r\": 10, \"t\": 70}, \"showactive\": false, \"type\": \"buttons\", \"x\": 0.1, \"xanchor\": \"right\", \"y\": 0, \"yanchor\": \"top\"}]},\n",
       "                        {\"responsive\": true}\n",
       "                    ).then(function(){\n",
       "                            Plotly.addFrames('ff7a3eb2-a682-4e86-94bc-b07b810815c0', [{\"data\": [{\"geo\": \"geo\", \"hoverlabel\": {\"namelength\": 0}, \"hovertemplate\": \"<b>%{hovertext}</b><br><br>Depyear=2014<br>Barrels=%{marker.size}<br>Latitude=%{lat}<br>Longitude=%{lon}\", \"hovertext\": [\"Beaumont\", \"Corpus Christi\", \"GOLA - Galveston Offshore Lightering Area\", \"Houston\", \"Pacific Lightering Area 2\", \"Texas City\"], \"lat\": [30.053164, 27.841887, 28.56874, 29.727513, 31.897995, 29.364245], \"legendgroup\": \"\", \"lon\": [-94.086511, -97.270307, -94.460887, -95.127008, -119.438401, -94.897704], \"marker\": {\"color\": \"#636efa\", \"size\": [173912, 1831440, 711891, 855340, 933173, 2093157], \"sizemode\": \"area\", \"sizeref\": 894627.2325}, \"name\": \"\", \"showlegend\": false, \"type\": \"scattergeo\"}], \"name\": \"2014\"}, {\"data\": [{\"geo\": \"geo\", \"hoverlabel\": {\"namelength\": 0}, \"hovertemplate\": \"<b>%{hovertext}</b><br><br>Depyear=2015<br>Barrels=%{marker.size}<br>Latitude=%{lat}<br>Longitude=%{lon}\", \"hovertext\": [\"Beaumont\", \"Corpus Christi\", \"Freeport (USA)\", \"GOLA - Galveston Offshore Lightering Area\", \"Galveston\", \"Gulfmex (SW Pass) Lightering\", \"Houston\", \"Long Beach\", \"New Orleans\", \"Pacific Lightering Area 2\", \"Philadelphia\", \"Point Comfort\", \"Port Arthur\", \"Sabine (To be removed soon)\", \"South Louisiana Port\", \"South Sabine Point\", \"South West Pass\", \"Texas City\", \"Valdez\"], \"lat\": [30.053164, 27.841887, 28.94974, 28.56874, 29.313034, 28.351253000000003, 29.727513, 33.76777668454549, 29.935441, 31.897995, 39.90792, 28.671686, 29.851103, 29.7, 30.023456, 28.610161, 28.844036, 29.364245, 61.11411999999999], \"legendgroup\": \"\", \"lon\": [-94.086511, -97.270307, -95.33753, -94.460887, -94.810938, -90.502712, -95.127008, -118.21093204521799, -90.079969, -119.438401, -75.252483, -96.558307, -93.915173, -93.866667, -90.603083, -93.488188, -89.48700500000002, -94.897704, -146.37006], \"marker\": {\"color\": \"#636efa\", \"size\": [13729687, 40852025, 2876930, 3094297, 2965417, 2072138, 25154964, 304359, 1320994, 2009912, 404330, 292442, 597788, 134704, 11741669, 1349850, 518035, 8720568, 967985], \"sizemode\": \"area\", \"sizeref\": 894627.2325}, \"name\": \"\", \"showlegend\": false, \"type\": \"scattergeo\"}], \"name\": \"2015\"}, {\"data\": [{\"geo\": \"geo\", \"hoverlabel\": {\"namelength\": 0}, \"hovertemplate\": \"<b>%{hovertext}</b><br><br>Depyear=2016<br>Barrels=%{marker.size}<br>Latitude=%{lat}<br>Longitude=%{lon}\", \"hovertext\": [\"Beaumont\", \"Camden\", \"Convent\", \"Corpus Christi\", \"Corpus Christi STS 1\", \"Corpus Christi STS Area 2\", \"Freeport (USA)\", \"GOLA - Galveston Offshore Lightering Area\", \"Galveston\", \"Gulfmex (SW Pass) Lightering\", \"Houston\", \"Lake Charles\", \"Long Beach\", \"Miami\", \"Mobile\", \"New Orleans\", \"New York\", \"Pacific Lightering Area 2\", \"Pascagoula\", \"Philadelphia\", \"Port Arthur\", \"Richmond (California)\", \"South Louisiana Port\", \"South Sabine Point\", \"South West Pass\", \"St Croix\", \"St. Charles\", \"US Gulf Lightering Zones\", \"Valdez\"], \"lat\": [30.053164, 39.923121, 30.022438, 27.841887, 27.762469, 27.312478, 28.94974, 28.56874, 29.313034, 28.351253000000003, 29.727513, 30.20095, 33.76777668454549, 25.77571, 30.705183, 29.935441, 40.626717, 31.897995, 30.339556, 39.90792, 29.851103, 37.943334, 30.023456, 28.610161, 28.844036, 17.735085, 29.994154, 26.916667, 61.11411999999999], \"legendgroup\": \"\", \"lon\": [-94.086511, -75.10203100000003, -90.840309, -97.270307, -96.424654, -96.834451, -95.33753, -94.460887, -94.810938, -90.502712, -95.127008, -93.273925, -118.21093204521799, -80.19185300000002, -88.04436899999997, -90.079969, -73.972511, -119.438401, -88.527354, -75.252483, -93.915173, -122.373288, -90.603083, -93.488188, -89.48700500000002, -64.74277099999999, -90.417621, -91.5, -146.37006], \"marker\": {\"color\": \"#636efa\", \"size\": [16549259, 518035, 1385994, 17570610, 1998133, 3478753, 4508693, 10841430, 962064, 1878945, 31800476, 592039, 464677, 441314, 592039, 2180161, 221508, 4864312, 157257, 337642, 1536305, 295598, 17419485, 2233765, 1799663, 753081, 517517, 392226, 6341713], \"sizemode\": \"area\", \"sizeref\": 894627.2325}, \"name\": \"\", \"showlegend\": false, \"type\": \"scattergeo\"}], \"name\": \"2016\"}, {\"data\": [{\"geo\": \"geo\", \"hoverlabel\": {\"namelength\": 0}, \"hovertemplate\": \"<b>%{hovertext}</b><br><br>Depyear=2017<br>Barrels=%{marker.size}<br>Latitude=%{lat}<br>Longitude=%{lon}\", \"hovertext\": [\"Bayonne (USA - New Jersey)\", \"Beaumont\", \"Brownsville (Texas)\", \"Calcasieu Pass (S) Anchorage\", \"Camden\", \"Convent\", \"Corpus Christi\", \"Corpus Christi STS 1\", \"Corpus Christi STS Area 2\", \"Delaware Bay\", \"Freeport (USA)\", \"GOLA - Galveston Offshore Lightering Area\", \"Galveston\", \"Gulfmex (SW Pass) Lightering\", \"Houston\", \"Lake Charles\", \"Lewes\", \"Long Beach\", \"Marcus Hook\", \"Mobile\", \"New Orleans\", \"Pacific Area Lightering\", \"Pacific Lightering Area 2\", \"Pascagoula Lightering Zone\", \"Pedricktown\", \"Philadelphia\", \"Port Arthur\", \"Port Neches\", \"South Louisiana Port\", \"South Sabine Point\", \"Southwest Pass Lightering Area (test)\", \"St Croix\", \"St. Rose\", \"Texas City\", \"US Gulf Lightering Zones\", \"Valdez\", \"Wilmington (Del.)\"], \"lat\": [40.666135, 30.053164, 25.992855, 28.97979, 39.923121, 30.022438, 27.841887, 27.762469, 27.312478, 38.928375, 28.94974, 28.56874, 29.313034, 28.351253000000003, 29.727513, 30.20095, 38.8064639944569, 33.76777668454549, 39.815882, 30.705183, 29.935441, 33.07557, 31.897995, 29.649432, 39.7889970260995, 39.90792, 29.851103, 29.975318, 30.023456, 28.610161, 28.312037, 17.735085, 29.936604, 29.364245, 26.916667, 61.11411999999999, 39.728831], \"legendgroup\": \"\", \"lon\": [-74.105377, -94.086511, -97.304779, -93.259846, -75.10203100000003, -90.840309, -97.270307, -96.424654, -96.834451, -75.161867, -95.33753, -94.460887, -94.810938, -90.502712, -95.127008, -93.273925, -75.1312493298523, -118.21093204521799, -75.410598, -88.04436899999997, -90.079969, -117.8295, -119.438401, -88.19617, -75.40736339960091, -75.252483, -93.915173, -93.948541, -90.603083, -93.488188, -89.54969399999997, -64.74277099999999, -90.339019, -94.897704, -91.5, -146.37006, -75.53293599999998], \"marker\": {\"color\": \"#636efa\", \"size\": [243654, 26125356, 240400, 953277, 1060352, 8164655, 65156603, 2622575, 6402643, 658381, 9211649, 116541955, 2210369, 16704890, 37999782, 117923, 296020, 480476, 2612071, 545814, 836773, 2333946, 15776567, 463700, 586632, 1226585, 2247294, 518035, 3080766, 10354486, 1241536, 10232721, 250405, 1224931, 1866800, 953277, 3875106], \"sizemode\": \"area\", \"sizeref\": 894627.2325}, \"name\": \"\", \"showlegend\": false, \"type\": \"scattergeo\"}], \"name\": \"2017\"}, {\"data\": [{\"geo\": \"geo\", \"hoverlabel\": {\"namelength\": 0}, \"hovertemplate\": \"<b>%{hovertext}</b><br><br>Depyear=2018<br>Barrels=%{marker.size}<br>Latitude=%{lat}<br>Longitude=%{lon}\", \"hovertext\": [\"Alliance\", \"Baton Rouge\", \"Bayonne (USA - New Jersey)\", \"Bayport\", \"Beaumont\", \"Brownsville (Texas)\", \"Camden\", \"Chalmette\", \"Convent\", \"Corpus Christi\", \"Corpus Christi STS 1\", \"Corpus Christi STS Area 2\", \"Delaware Bay\", \"Delaware Bay Offshore Lightering Area (test)\", \"El Segundo Terminal\", \"Freeport (USA)\", \"GOLA - Galveston Offshore Lightering Area\", \"Gulfmex (SW Pass) Lightering\", \"Gulfmex No.2 Lightering\", \"Houston\", \"Kenai (Nikiski)\", \"LOOP\", \"Los Angeles (incl San Pedro)\", \"Marcus Hook\", \"Mobile\", \"New Orleans\", \"Pacific Area Lightering\", \"Pacific Lightering Area 2\", \"Pascagoula Anchorage and Lightering Area\", \"Paulsboro\", \"Philadelphia\", \"Port Arthur\", \"Port Neches\", \"Portland (Maine)\", \"Portland (US - Oregon)\", \"Richmond (California)\", \"South Louisiana Port\", \"South Sabine Point\", \"South West Pass\", \"Southtex Lightering\", \"Southwest Pass Lightering Area (test)\", \"St Croix\", \"St. Charles\", \"Tacoma\", \"Texas City\", \"Valdez\"], \"lat\": [29.682195, 30.466976000000006, 40.666135, 29.627453000000006, 30.053164, 25.992855, 39.923121, 29.94456, 30.022438, 27.841887, 27.762469, 27.312478, 38.928375, 38.70206, 33.911346, 28.94974, 28.56874, 28.351253000000003, 27.199477, 29.727513, 60.678764, 28.87618, 33.740434, 39.815882, 30.705183, 29.935441, 33.07557, 31.897995, 30.099764, 39.838137, 39.90792, 29.851103, 29.975318, 43.655857974463395, 45.574846, 37.943334, 30.023456, 28.610161, 28.844036, 27.116063, 28.312037, 17.735085, 29.994154, 47.26248, 29.364245, 61.11411999999999], \"legendgroup\": \"\", \"lon\": [-89.970254, -91.221965, -74.105377, -95.015405, -94.086511, -97.304779, -75.10203100000003, -89.966886, -90.840309, -97.270307, -96.424654, -96.834451, -75.161867, -74.51951600000002, -118.489702, -95.33753, -94.460887, -90.502712, -90.251583, -95.127008, -151.392557, -90.008112, -118.269551, -75.410598, -88.04436899999997, -90.079969, -117.8295, -119.438401, -88.550161, -75.246143, -75.252483, -93.915173, -93.948541, -70.2575675660577, -122.746774, -122.373288, -90.603083, -93.488188, -89.48700500000002, -94.490555, -89.54969399999997, -64.74277099999999, -90.417621, -122.412203, -94.897704, -146.37006], \"marker\": {\"color\": \"#636efa\", \"size\": [1511780, 1039009, 289300, 4820107, 59095287, 319145, 2076250, 605004, 16471395, 113426649, 15522202, 14381817, 386315, 240701, 444614, 16383089, 188127438, 15240835, 5673576, 85315022, 542351, 20222048, 389139, 3789145, 580003, 2413924, 962064, 13508838, 612663, 786417, 955753, 864548, 586632, 314462, 1479160, 586632, 8154984, 14112442, 953277, 5413935, 709045, 1897395, 1993874, 314681, 18246462, 1899740], \"sizemode\": \"area\", \"sizeref\": 894627.2325}, \"name\": \"\", \"showlegend\": false, \"type\": \"scattergeo\"}], \"name\": \"2018\"}, {\"data\": [{\"geo\": \"geo\", \"hoverlabel\": {\"namelength\": 0}, \"hovertemplate\": \"<b>%{hovertext}</b><br><br>Depyear=2019<br>Barrels=%{marker.size}<br>Latitude=%{lat}<br>Longitude=%{lon}\", \"hovertext\": [\"Baton Rouge\", \"Bayport\", \"Beaumont\", \"Brownsville (Texas)\", \"Camden\", \"Convent\", \"Corpus Christi\", \"Corpus Christi STS 1\", \"Corpus Christi STS Area 2\", \"Delaware Bay Offshore Lightering Area (test)\", \"Delaware City\", \"Enterprise HSC (HOU)\", \"Freeport (USA)\", \"GOLA - Galveston Offshore Lightering Area\", \"Gulfmex (SW Pass) Lightering\", \"Gulfmex No.2 Lightering\", \"Houston\", \"Kenai (Nikiski)\", \"LOOP\", \"Lake Charles\", \"Long Beach\", \"Los Angeles (incl San Pedro)\", \"Marrero\", \"New Orleans\", \"Pacific Lightering Area 2\", \"Pascagoula Lightering Zone\", \"Paulsboro\", \"Philadelphia\", \"Port Arthur\", \"Port Neches\", \"Portland (Maine)\", \"Savannah\", \"South Louisiana Port\", \"South Sabine Point\", \"South West Pass\", \"Southtex Lightering\", \"Southwest Pass - River\", \"Southwest Pass Lightering Area (test)\", \"St Croix\", \"St. Charles\", \"St. Rose\", \"Texas City\", \"Valdez\"], \"lat\": [30.466976000000006, 29.627453000000006, 30.053164, 25.992855, 39.923121, 30.022438, 27.841887, 27.762469, 27.312478, 38.70206, 39.586314, 29.73806, 28.94974, 28.56874, 28.351253000000003, 27.199477, 29.727513, 60.678764, 28.87618, 30.20095, 33.76777668454549, 33.740434, 29.9, 29.935441, 31.897995, 29.649432, 39.838137, 39.90792, 29.851103, 29.975318, 43.655857974463395, 32.103894, 30.023456, 28.610161, 28.844036, 27.116063, 29.031171, 28.312037, 17.735085, 29.994154, 29.936604, 29.364245, 61.11411999999999], \"legendgroup\": \"\", \"lon\": [-91.221965, -95.015405, -94.086511, -97.304779, -75.10203100000003, -90.840309, -97.270307, -96.424654, -96.834451, -74.51951600000002, -75.622899, -95.127447, -95.33753, -94.460887, -90.502712, -90.251583, -95.127008, -151.392557, -90.008112, -93.273925, -118.21093204521799, -118.269551, -90.1, -90.079969, -119.438401, -88.19617, -75.246143, -75.252483, -93.915173, -93.948541, -70.2575675660577, -81.11099499999997, -90.603083, -93.488188, -89.48700500000002, -94.490555, -89.33159, -89.54969399999997, -64.74277099999999, -90.417621, -90.339019, -94.897704, -146.37006], \"marker\": {\"color\": \"#636efa\", \"size\": [2686709, 26999762, 110958025, 1144823, 721506, 14877088, 191886061, 15467639, 19480172, 454183, 1443466, 27283, 18078686, 282649027, 11543675, 727000, 145967495, 548160, 35942206, 586632, 4559685, 2053212, 366645, 4262509, 4776641, 553978, 295087, 962064, 890750, 64895, 118284, 313012, 1937005, 20713839, 1109742, 4327888, 391845, 2121908, 5240574, 623413, 750128, 21746504, 6923799], \"sizemode\": \"area\", \"sizeref\": 894627.2325}, \"name\": \"\", \"showlegend\": false, \"type\": \"scattergeo\"}], \"name\": \"2019\"}, {\"data\": [{\"geo\": \"geo\", \"hoverlabel\": {\"namelength\": 0}, \"hovertemplate\": \"<b>%{hovertext}</b><br><br>Depyear=2020<br>Barrels=%{marker.size}<br>Latitude=%{lat}<br>Longitude=%{lon}\", \"hovertext\": [\"Bayport\", \"Beaumont\", \"Brownsville (Texas)\", \"Chalmette\", \"Convent\", \"Corpus Christi\", \"Corpus Christi STS 1\", \"Corpus Christi STS Area 2\", \"Empire\", \"Freeport (USA)\", \"GOLA - Galveston Offshore Lightering Area\", \"Galveston\", \"Gulfmex (SW Pass) Lightering\", \"Gulfmex No.2 Lightering\", \"Houston\", \"LOOP\", \"Limetree Bay\", \"Long Beach\", \"Los Angeles (incl San Pedro)\", \"Mobile\", \"New Orleans\", \"New York\", \"Pacific Lightering Area 2\", \"Point Comfort\", \"Port Arthur\", \"Riverhead Terminal\", \"Savannah\", \"South Louisiana Port\", \"South Sabine Point\", \"South West Pass\", \"Southtex Lightering\", \"Southwest Pass Lightering Area (test)\", \"St Croix\", \"St. Rose\", \"Texas City\", \"Valdez\"], \"lat\": [29.627453000000006, 30.053164, 25.992855, 29.94456, 30.022438, 27.841887, 27.762469, 27.312478, 29.379917, 28.94974, 28.56874, 29.313034, 28.351253000000003, 27.199477, 29.727513, 28.87618, 17.683332999999994, 33.76777668454549, 33.740434, 30.705183, 29.935441, 40.626717, 31.897995, 28.671686, 29.851103, 40.9860279096872, 32.103894, 30.023456, 28.610161, 28.844036, 27.116063, 28.312037, 17.735085, 29.936604, 29.364245, 61.11411999999999], \"legendgroup\": \"\", \"lon\": [-95.015405, -94.086511, -97.304779, -89.966886, -90.840309, -97.270307, -96.424654, -96.834451, -89.572012, -95.33753, -94.460887, -94.810938, -90.502712, -90.251583, -95.127008, -90.008112, -64.733333, -118.21093204521799, -118.269551, -88.04436899999997, -90.079969, -73.972511, -119.438401, -96.558307, -93.915173, -72.6475126528167, -81.11099499999997, -90.603083, -93.488188, -89.48700500000002, -94.490555, -89.54969399999997, -64.74277099999999, -90.339019, -94.897704, -146.37006], \"marker\": {\"color\": \"#636efa\", \"size\": [46718423, 57378622, 3908134, 458644, 6232070, 357850893, 59479922, 44098285, 592039, 8444782, 180156279, 2574700, 11752770, 12351942, 113890428, 62461213, 3982310, 1035311, 434489, 463167, 2766681, 390042, 1780389, 252608, 219601, 513303, 485604, 510660, 8007278, 459494, 16931790, 962064, 4336946, 404215, 11364973, 12638456], \"sizemode\": \"area\", \"sizeref\": 894627.2325}, \"name\": \"\", \"showlegend\": false, \"type\": \"scattergeo\"}], \"name\": \"2020\"}, {\"data\": [{\"geo\": \"geo\", \"hoverlabel\": {\"namelength\": 0}, \"hovertemplate\": \"<b>%{hovertext}</b><br><br>Depyear=2021<br>Barrels=%{marker.size}<br>Latitude=%{lat}<br>Longitude=%{lon}\", \"hovertext\": [\"Baton Rouge\", \"Baton Rouge Exxon Terminal\", \"Bayport\", \"Beaumont\", \"Brownsville (Texas)\", \"Camden\", \"Convent\", \"Corpus Christi\", \"Corpus Christi STS 1\", \"Corpus Christi STS Area 2\", \"Empire\", \"Freeport (USA)\", \"GOLA - Galveston Offshore Lightering Area\", \"Gulf Gateway Terminal\", \"Gulfmex (SW Pass) Lightering\", \"Gulfmex No.2 Lightering\", \"Houston\", \"LOOP\", \"Limetree Bay\", \"Long Beach\", \"New Orleans\", \"Pacific Lightering Area 2\", \"Riverhead Terminal\", \"South Sabine Point\", \"Southtex Lightering\", \"Southwest Pass Lightering Area (test)\", \"St Croix\", \"St. Rose\", \"Valdez\"], \"lat\": [30.466976000000006, null, 29.627453000000006, 30.053164, 25.992855, 39.923121, 30.022438, 27.841887, 27.762469, 27.312478, 29.379917, 28.94974, 28.56874, null, 28.351253000000003, 27.199477, 29.727513, 28.87618, 17.683332999999994, 33.76777668454549, 29.935441, 31.897995, 40.9860279096872, 28.610161, 27.116063, 28.312037, 17.735085, 29.936604, 61.11411999999999], \"legendgroup\": \"\", \"lon\": [-91.221965, null, -95.015405, -94.086511, -97.304779, -75.10203100000003, -90.840309, -97.270307, -96.424654, -96.834451, -89.572012, -95.33753, -94.460887, null, -90.502712, -90.251583, -95.127008, -90.008112, -64.733333, -118.21093204521799, -90.079969, -119.438401, -72.6475126528167, -93.488188, -94.490555, -89.54969399999997, -64.74277099999999, -90.339019, -146.37006], \"marker\": {\"color\": \"#636efa\", \"size\": [429783, 68493, 12222306, 6274338, 1200760, 276290, 3133644, 160733118, 13469137, 14705540, 259017, 5922208, 57806166, 586632, 2330908, 471537, 27944075, 32090890, 2072138, 586632, 38919, 1554103, 525191, 1998133, 8535094, 508562, 1384208, 38919, 4856083], \"sizemode\": \"area\", \"sizeref\": 894627.2325}, \"name\": \"\", \"showlegend\": false, \"type\": \"scattergeo\"}], \"name\": \"2021\"}]);\n",
       "                        }).then(function(){\n",
       "                            \n",
       "var gd = document.getElementById('ff7a3eb2-a682-4e86-94bc-b07b810815c0');\n",
       "var x = new MutationObserver(function (mutations, observer) {{\n",
       "        var display = window.getComputedStyle(gd).display;\n",
       "        if (!display || display === 'none') {{\n",
       "            console.log([gd, 'removed!']);\n",
       "            Plotly.purge(gd);\n",
       "            observer.disconnect();\n",
       "        }}\n",
       "}});\n",
       "\n",
       "// Listen for the removal of the full notebook cells\n",
       "var notebookContainer = gd.closest('#notebook-container');\n",
       "if (notebookContainer) {{\n",
       "    x.observe(notebookContainer, {childList: true});\n",
       "}}\n",
       "\n",
       "// Listen for the clearing of the current output cell\n",
       "var outputEl = gd.closest('.output');\n",
       "if (outputEl) {{\n",
       "    x.observe(outputEl, {childList: true});\n",
       "}}\n",
       "\n",
       "                        })\n",
       "                };\n",
       "                });\n",
       "            </script>\n",
       "        </div>"
      ]
     },
     "metadata": {},
     "output_type": "display_data"
    }
   ],
   "source": [
    "map_data=merged_df.pivot_table(index=['Departure Year','LoadPort'],values='Barrels',aggfunc=np.sum)\n",
    "map_data=map_data.reset_index()\n",
    "map_data=map_data.merge(port_locations[['Latitude','Longitude','Name']],how='left',left_on='LoadPort',right_on='Name')\n",
    "map_data['Depyear']=map_data['Departure Year'].astype('str')\n",
    "#map_data['Depyear']=pd.to_datetime(map_data['Depyear'])\n",
    "#map_data['Depyear']=map_data['Depyear'].astype('str')\n",
    "fig_export_infra=px.scatter_geo(map_data,lat='Latitude',lon='Longitude',size='Barrels',projection='albers usa',animation_frame='Depyear',hover_name='LoadPort')\n",
    "fig_export_infra.layout.updatemenus[0].buttons[0].args[1][\"frame\"][\"duration\"] = 1000\n",
    "fig_export_infra.show()"
   ]
  },
  {
   "cell_type": "markdown",
   "metadata": {},
   "source": [
    "In this visual we can see the story of how U.S. crude exports from the Gulf of Mexico ports grew from 2015 to 2020. Before 2015 U.S. was primarily importing oil and was exporting very little of it. The legislation enacted in 2015 authorized the export of U.S. crude without a license. This legislation combined with shale production boom resulted in the U.S. producers starting to export significant amounts of oil to get better value in international markets, particular from countries with significant demand for light sweet crude. We can also see that it took a couple of years for the export volumes to pick up. This is because the traditionally import oriented infrastructure had to catch up with the demand for exports. It's interesting to note how Corpus Christi became a major loading port for U.S. crude exports with addition of new export infrastructure including pipelines from the Permian basin and new terminals."
   ]
  },
  {
   "cell_type": "markdown",
   "metadata": {},
   "source": [
    "### Top regions where U.S. crude flows to\n",
    "In the following visualization we can see where the U.S. crude flows to and how the flows evolved over the last 3 years. It's very clear that the emphasis on the top 4 Asian buyers: China, India, South Korea and Japan has been increasing."
   ]
  },
  {
   "cell_type": "code",
   "execution_count": 8,
   "metadata": {},
   "outputs": [
    {
     "data": {
      "application/vnd.plotly.v1+json": {
       "config": {
        "plotlyServerURL": "https://plot.ly"
       },
       "data": [
        {
         "link": {
          "hovertemplate": "%{value} bbls",
          "source": [
           0,
           0,
           0,
           0,
           0,
           0,
           0,
           0,
           0,
           0,
           0,
           0,
           1,
           1,
           1,
           1,
           1,
           1,
           1,
           1,
           1,
           1,
           1,
           2,
           2,
           2,
           2,
           2,
           2,
           2,
           2,
           2,
           2,
           2,
           2,
           3,
           3,
           3,
           3,
           3,
           3,
           3,
           3,
           3,
           3
          ],
          "target": [
           4,
           5,
           6,
           7,
           8,
           9,
           10,
           11,
           12,
           13,
           14,
           15,
           4,
           5,
           6,
           16,
           7,
           8,
           9,
           10,
           11,
           12,
           14,
           4,
           5,
           6,
           16,
           7,
           8,
           9,
           11,
           12,
           13,
           14,
           15,
           4,
           5,
           6,
           7,
           8,
           9,
           11,
           12,
           13,
           14
          ],
          "value": [
           87344209,
           194608695,
           5833433,
           7946052,
           53815975,
           58430489,
           9548304,
           64218272,
           3361007,
           764824,
           117834041,
           314514,
           142348385,
           284001680,
           7969058,
           1893847,
           8398766,
           71234301,
           83338817,
           3147859,
           103278906,
           6147614,
           226532060,
           136733343,
           340621819,
           17357578,
           2022211,
           13189928,
           57734312,
           99533956,
           83153982,
           4073391,
           2669928,
           250949799,
           995578,
           45877966,
           135794949,
           2789619,
           2356248,
           20703698,
           26490784,
           22530796,
           2040905,
           1073072,
           84757849
          ]
         },
         "node": {
          "color": "blue",
          "hovertemplate": "%{value} bbls",
          "label": [
           "2018",
           "2019",
           "2020",
           "2021",
           "APAC-Others",
           "APAC-Top 4",
           "Baltics",
           "Carribean",
           "Latin America",
           "Med and North Africa",
           "Middle East",
           "North America",
           "Others",
           "South Africa and Indian Ocean",
           "UKC/NWE",
           "West Africa",
           "Black Sea"
          ],
          "line": {
           "color": "black",
           "width": 0.5
          },
          "pad": 15,
          "thickness": 20
         },
         "type": "sankey"
        }
       ],
       "layout": {
        "font": {
         "size": 10
        },
        "template": {
         "data": {
          "bar": [
           {
            "error_x": {
             "color": "#2a3f5f"
            },
            "error_y": {
             "color": "#2a3f5f"
            },
            "marker": {
             "line": {
              "color": "#E5ECF6",
              "width": 0.5
             }
            },
            "type": "bar"
           }
          ],
          "barpolar": [
           {
            "marker": {
             "line": {
              "color": "#E5ECF6",
              "width": 0.5
             }
            },
            "type": "barpolar"
           }
          ],
          "carpet": [
           {
            "aaxis": {
             "endlinecolor": "#2a3f5f",
             "gridcolor": "white",
             "linecolor": "white",
             "minorgridcolor": "white",
             "startlinecolor": "#2a3f5f"
            },
            "baxis": {
             "endlinecolor": "#2a3f5f",
             "gridcolor": "white",
             "linecolor": "white",
             "minorgridcolor": "white",
             "startlinecolor": "#2a3f5f"
            },
            "type": "carpet"
           }
          ],
          "choropleth": [
           {
            "colorbar": {
             "outlinewidth": 0,
             "ticks": ""
            },
            "type": "choropleth"
           }
          ],
          "contour": [
           {
            "colorbar": {
             "outlinewidth": 0,
             "ticks": ""
            },
            "colorscale": [
             [
              0,
              "#0d0887"
             ],
             [
              0.1111111111111111,
              "#46039f"
             ],
             [
              0.2222222222222222,
              "#7201a8"
             ],
             [
              0.3333333333333333,
              "#9c179e"
             ],
             [
              0.4444444444444444,
              "#bd3786"
             ],
             [
              0.5555555555555556,
              "#d8576b"
             ],
             [
              0.6666666666666666,
              "#ed7953"
             ],
             [
              0.7777777777777778,
              "#fb9f3a"
             ],
             [
              0.8888888888888888,
              "#fdca26"
             ],
             [
              1,
              "#f0f921"
             ]
            ],
            "type": "contour"
           }
          ],
          "contourcarpet": [
           {
            "colorbar": {
             "outlinewidth": 0,
             "ticks": ""
            },
            "type": "contourcarpet"
           }
          ],
          "heatmap": [
           {
            "colorbar": {
             "outlinewidth": 0,
             "ticks": ""
            },
            "colorscale": [
             [
              0,
              "#0d0887"
             ],
             [
              0.1111111111111111,
              "#46039f"
             ],
             [
              0.2222222222222222,
              "#7201a8"
             ],
             [
              0.3333333333333333,
              "#9c179e"
             ],
             [
              0.4444444444444444,
              "#bd3786"
             ],
             [
              0.5555555555555556,
              "#d8576b"
             ],
             [
              0.6666666666666666,
              "#ed7953"
             ],
             [
              0.7777777777777778,
              "#fb9f3a"
             ],
             [
              0.8888888888888888,
              "#fdca26"
             ],
             [
              1,
              "#f0f921"
             ]
            ],
            "type": "heatmap"
           }
          ],
          "heatmapgl": [
           {
            "colorbar": {
             "outlinewidth": 0,
             "ticks": ""
            },
            "colorscale": [
             [
              0,
              "#0d0887"
             ],
             [
              0.1111111111111111,
              "#46039f"
             ],
             [
              0.2222222222222222,
              "#7201a8"
             ],
             [
              0.3333333333333333,
              "#9c179e"
             ],
             [
              0.4444444444444444,
              "#bd3786"
             ],
             [
              0.5555555555555556,
              "#d8576b"
             ],
             [
              0.6666666666666666,
              "#ed7953"
             ],
             [
              0.7777777777777778,
              "#fb9f3a"
             ],
             [
              0.8888888888888888,
              "#fdca26"
             ],
             [
              1,
              "#f0f921"
             ]
            ],
            "type": "heatmapgl"
           }
          ],
          "histogram": [
           {
            "marker": {
             "colorbar": {
              "outlinewidth": 0,
              "ticks": ""
             }
            },
            "type": "histogram"
           }
          ],
          "histogram2d": [
           {
            "colorbar": {
             "outlinewidth": 0,
             "ticks": ""
            },
            "colorscale": [
             [
              0,
              "#0d0887"
             ],
             [
              0.1111111111111111,
              "#46039f"
             ],
             [
              0.2222222222222222,
              "#7201a8"
             ],
             [
              0.3333333333333333,
              "#9c179e"
             ],
             [
              0.4444444444444444,
              "#bd3786"
             ],
             [
              0.5555555555555556,
              "#d8576b"
             ],
             [
              0.6666666666666666,
              "#ed7953"
             ],
             [
              0.7777777777777778,
              "#fb9f3a"
             ],
             [
              0.8888888888888888,
              "#fdca26"
             ],
             [
              1,
              "#f0f921"
             ]
            ],
            "type": "histogram2d"
           }
          ],
          "histogram2dcontour": [
           {
            "colorbar": {
             "outlinewidth": 0,
             "ticks": ""
            },
            "colorscale": [
             [
              0,
              "#0d0887"
             ],
             [
              0.1111111111111111,
              "#46039f"
             ],
             [
              0.2222222222222222,
              "#7201a8"
             ],
             [
              0.3333333333333333,
              "#9c179e"
             ],
             [
              0.4444444444444444,
              "#bd3786"
             ],
             [
              0.5555555555555556,
              "#d8576b"
             ],
             [
              0.6666666666666666,
              "#ed7953"
             ],
             [
              0.7777777777777778,
              "#fb9f3a"
             ],
             [
              0.8888888888888888,
              "#fdca26"
             ],
             [
              1,
              "#f0f921"
             ]
            ],
            "type": "histogram2dcontour"
           }
          ],
          "mesh3d": [
           {
            "colorbar": {
             "outlinewidth": 0,
             "ticks": ""
            },
            "type": "mesh3d"
           }
          ],
          "parcoords": [
           {
            "line": {
             "colorbar": {
              "outlinewidth": 0,
              "ticks": ""
             }
            },
            "type": "parcoords"
           }
          ],
          "scatter": [
           {
            "marker": {
             "colorbar": {
              "outlinewidth": 0,
              "ticks": ""
             }
            },
            "type": "scatter"
           }
          ],
          "scatter3d": [
           {
            "line": {
             "colorbar": {
              "outlinewidth": 0,
              "ticks": ""
             }
            },
            "marker": {
             "colorbar": {
              "outlinewidth": 0,
              "ticks": ""
             }
            },
            "type": "scatter3d"
           }
          ],
          "scattercarpet": [
           {
            "marker": {
             "colorbar": {
              "outlinewidth": 0,
              "ticks": ""
             }
            },
            "type": "scattercarpet"
           }
          ],
          "scattergeo": [
           {
            "marker": {
             "colorbar": {
              "outlinewidth": 0,
              "ticks": ""
             }
            },
            "type": "scattergeo"
           }
          ],
          "scattergl": [
           {
            "marker": {
             "colorbar": {
              "outlinewidth": 0,
              "ticks": ""
             }
            },
            "type": "scattergl"
           }
          ],
          "scattermapbox": [
           {
            "marker": {
             "colorbar": {
              "outlinewidth": 0,
              "ticks": ""
             }
            },
            "type": "scattermapbox"
           }
          ],
          "scatterpolar": [
           {
            "marker": {
             "colorbar": {
              "outlinewidth": 0,
              "ticks": ""
             }
            },
            "type": "scatterpolar"
           }
          ],
          "scatterpolargl": [
           {
            "marker": {
             "colorbar": {
              "outlinewidth": 0,
              "ticks": ""
             }
            },
            "type": "scatterpolargl"
           }
          ],
          "scatterternary": [
           {
            "marker": {
             "colorbar": {
              "outlinewidth": 0,
              "ticks": ""
             }
            },
            "type": "scatterternary"
           }
          ],
          "surface": [
           {
            "colorbar": {
             "outlinewidth": 0,
             "ticks": ""
            },
            "colorscale": [
             [
              0,
              "#0d0887"
             ],
             [
              0.1111111111111111,
              "#46039f"
             ],
             [
              0.2222222222222222,
              "#7201a8"
             ],
             [
              0.3333333333333333,
              "#9c179e"
             ],
             [
              0.4444444444444444,
              "#bd3786"
             ],
             [
              0.5555555555555556,
              "#d8576b"
             ],
             [
              0.6666666666666666,
              "#ed7953"
             ],
             [
              0.7777777777777778,
              "#fb9f3a"
             ],
             [
              0.8888888888888888,
              "#fdca26"
             ],
             [
              1,
              "#f0f921"
             ]
            ],
            "type": "surface"
           }
          ],
          "table": [
           {
            "cells": {
             "fill": {
              "color": "#EBF0F8"
             },
             "line": {
              "color": "white"
             }
            },
            "header": {
             "fill": {
              "color": "#C8D4E3"
             },
             "line": {
              "color": "white"
             }
            },
            "type": "table"
           }
          ]
         },
         "layout": {
          "annotationdefaults": {
           "arrowcolor": "#2a3f5f",
           "arrowhead": 0,
           "arrowwidth": 1
          },
          "colorscale": {
           "diverging": [
            [
             0,
             "#8e0152"
            ],
            [
             0.1,
             "#c51b7d"
            ],
            [
             0.2,
             "#de77ae"
            ],
            [
             0.3,
             "#f1b6da"
            ],
            [
             0.4,
             "#fde0ef"
            ],
            [
             0.5,
             "#f7f7f7"
            ],
            [
             0.6,
             "#e6f5d0"
            ],
            [
             0.7,
             "#b8e186"
            ],
            [
             0.8,
             "#7fbc41"
            ],
            [
             0.9,
             "#4d9221"
            ],
            [
             1,
             "#276419"
            ]
           ],
           "sequential": [
            [
             0,
             "#0d0887"
            ],
            [
             0.1111111111111111,
             "#46039f"
            ],
            [
             0.2222222222222222,
             "#7201a8"
            ],
            [
             0.3333333333333333,
             "#9c179e"
            ],
            [
             0.4444444444444444,
             "#bd3786"
            ],
            [
             0.5555555555555556,
             "#d8576b"
            ],
            [
             0.6666666666666666,
             "#ed7953"
            ],
            [
             0.7777777777777778,
             "#fb9f3a"
            ],
            [
             0.8888888888888888,
             "#fdca26"
            ],
            [
             1,
             "#f0f921"
            ]
           ],
           "sequentialminus": [
            [
             0,
             "#0d0887"
            ],
            [
             0.1111111111111111,
             "#46039f"
            ],
            [
             0.2222222222222222,
             "#7201a8"
            ],
            [
             0.3333333333333333,
             "#9c179e"
            ],
            [
             0.4444444444444444,
             "#bd3786"
            ],
            [
             0.5555555555555556,
             "#d8576b"
            ],
            [
             0.6666666666666666,
             "#ed7953"
            ],
            [
             0.7777777777777778,
             "#fb9f3a"
            ],
            [
             0.8888888888888888,
             "#fdca26"
            ],
            [
             1,
             "#f0f921"
            ]
           ]
          },
          "colorway": [
           "#636efa",
           "#EF553B",
           "#00cc96",
           "#ab63fa",
           "#FFA15A",
           "#19d3f3",
           "#FF6692",
           "#B6E880",
           "#FF97FF",
           "#FECB52"
          ],
          "font": {
           "color": "#2a3f5f"
          },
          "geo": {
           "bgcolor": "white",
           "lakecolor": "white",
           "landcolor": "#E5ECF6",
           "showlakes": true,
           "showland": true,
           "subunitcolor": "white"
          },
          "hoverlabel": {
           "align": "left"
          },
          "hovermode": "closest",
          "mapbox": {
           "style": "light"
          },
          "paper_bgcolor": "white",
          "plot_bgcolor": "#E5ECF6",
          "polar": {
           "angularaxis": {
            "gridcolor": "white",
            "linecolor": "white",
            "ticks": ""
           },
           "bgcolor": "#E5ECF6",
           "radialaxis": {
            "gridcolor": "white",
            "linecolor": "white",
            "ticks": ""
           }
          },
          "scene": {
           "xaxis": {
            "backgroundcolor": "#E5ECF6",
            "gridcolor": "white",
            "gridwidth": 2,
            "linecolor": "white",
            "showbackground": true,
            "ticks": "",
            "zerolinecolor": "white"
           },
           "yaxis": {
            "backgroundcolor": "#E5ECF6",
            "gridcolor": "white",
            "gridwidth": 2,
            "linecolor": "white",
            "showbackground": true,
            "ticks": "",
            "zerolinecolor": "white"
           },
           "zaxis": {
            "backgroundcolor": "#E5ECF6",
            "gridcolor": "white",
            "gridwidth": 2,
            "linecolor": "white",
            "showbackground": true,
            "ticks": "",
            "zerolinecolor": "white"
           }
          },
          "shapedefaults": {
           "line": {
            "color": "#2a3f5f"
           }
          },
          "ternary": {
           "aaxis": {
            "gridcolor": "white",
            "linecolor": "white",
            "ticks": ""
           },
           "baxis": {
            "gridcolor": "white",
            "linecolor": "white",
            "ticks": ""
           },
           "bgcolor": "#E5ECF6",
           "caxis": {
            "gridcolor": "white",
            "linecolor": "white",
            "ticks": ""
           }
          },
          "title": {
           "x": 0.05
          },
          "xaxis": {
           "automargin": true,
           "gridcolor": "white",
           "linecolor": "white",
           "ticks": "",
           "zerolinecolor": "white",
           "zerolinewidth": 2
          },
          "yaxis": {
           "automargin": true,
           "gridcolor": "white",
           "linecolor": "white",
           "ticks": "",
           "zerolinecolor": "white",
           "zerolinewidth": 2
          }
         }
        },
        "title": {
         "text": "Export destinations of crude oil exported from PADD 3"
        }
       }
      },
      "text/html": [
       "<div>\n",
       "        \n",
       "        \n",
       "            <div id=\"47e93952-cc76-4b54-8fc8-9bd7982245e3\" class=\"plotly-graph-div\" style=\"height:525px; width:100%;\"></div>\n",
       "            <script type=\"text/javascript\">\n",
       "                require([\"plotly\"], function(Plotly) {\n",
       "                    window.PLOTLYENV=window.PLOTLYENV || {};\n",
       "                    \n",
       "                if (document.getElementById(\"47e93952-cc76-4b54-8fc8-9bd7982245e3\")) {\n",
       "                    Plotly.newPlot(\n",
       "                        '47e93952-cc76-4b54-8fc8-9bd7982245e3',\n",
       "                        [{\"link\": {\"hovertemplate\": \"%{value} bbls\", \"source\": [0, 0, 0, 0, 0, 0, 0, 0, 0, 0, 0, 0, 1, 1, 1, 1, 1, 1, 1, 1, 1, 1, 1, 2, 2, 2, 2, 2, 2, 2, 2, 2, 2, 2, 2, 3, 3, 3, 3, 3, 3, 3, 3, 3, 3], \"target\": [4, 5, 6, 7, 8, 9, 10, 11, 12, 13, 14, 15, 4, 5, 6, 16, 7, 8, 9, 10, 11, 12, 14, 4, 5, 6, 16, 7, 8, 9, 11, 12, 13, 14, 15, 4, 5, 6, 7, 8, 9, 11, 12, 13, 14], \"value\": [87344209, 194608695, 5833433, 7946052, 53815975, 58430489, 9548304, 64218272, 3361007, 764824, 117834041, 314514, 142348385, 284001680, 7969058, 1893847, 8398766, 71234301, 83338817, 3147859, 103278906, 6147614, 226532060, 136733343, 340621819, 17357578, 2022211, 13189928, 57734312, 99533956, 83153982, 4073391, 2669928, 250949799, 995578, 45877966, 135794949, 2789619, 2356248, 20703698, 26490784, 22530796, 2040905, 1073072, 84757849]}, \"node\": {\"color\": \"blue\", \"hovertemplate\": \"%{value} bbls\", \"label\": [\"2018\", \"2019\", \"2020\", \"2021\", \"APAC-Others\", \"APAC-Top 4\", \"Baltics\", \"Carribean\", \"Latin America\", \"Med and North Africa\", \"Middle East\", \"North America\", \"Others\", \"South Africa and Indian Ocean\", \"UKC/NWE\", \"West Africa\", \"Black Sea\"], \"line\": {\"color\": \"black\", \"width\": 0.5}, \"pad\": 15, \"thickness\": 20}, \"type\": \"sankey\"}],\n",
       "                        {\"font\": {\"size\": 10}, \"template\": {\"data\": {\"bar\": [{\"error_x\": {\"color\": \"#2a3f5f\"}, \"error_y\": {\"color\": \"#2a3f5f\"}, \"marker\": {\"line\": {\"color\": \"#E5ECF6\", \"width\": 0.5}}, \"type\": \"bar\"}], \"barpolar\": [{\"marker\": {\"line\": {\"color\": \"#E5ECF6\", \"width\": 0.5}}, \"type\": \"barpolar\"}], \"carpet\": [{\"aaxis\": {\"endlinecolor\": \"#2a3f5f\", \"gridcolor\": \"white\", \"linecolor\": \"white\", \"minorgridcolor\": \"white\", \"startlinecolor\": \"#2a3f5f\"}, \"baxis\": {\"endlinecolor\": \"#2a3f5f\", \"gridcolor\": \"white\", \"linecolor\": \"white\", \"minorgridcolor\": \"white\", \"startlinecolor\": \"#2a3f5f\"}, \"type\": \"carpet\"}], \"choropleth\": [{\"colorbar\": {\"outlinewidth\": 0, \"ticks\": \"\"}, \"type\": \"choropleth\"}], \"contour\": [{\"colorbar\": {\"outlinewidth\": 0, \"ticks\": \"\"}, \"colorscale\": [[0.0, \"#0d0887\"], [0.1111111111111111, \"#46039f\"], [0.2222222222222222, \"#7201a8\"], [0.3333333333333333, \"#9c179e\"], [0.4444444444444444, \"#bd3786\"], [0.5555555555555556, \"#d8576b\"], [0.6666666666666666, \"#ed7953\"], [0.7777777777777778, \"#fb9f3a\"], [0.8888888888888888, \"#fdca26\"], [1.0, \"#f0f921\"]], \"type\": \"contour\"}], \"contourcarpet\": [{\"colorbar\": {\"outlinewidth\": 0, \"ticks\": \"\"}, \"type\": \"contourcarpet\"}], \"heatmap\": [{\"colorbar\": {\"outlinewidth\": 0, \"ticks\": \"\"}, \"colorscale\": [[0.0, \"#0d0887\"], [0.1111111111111111, \"#46039f\"], [0.2222222222222222, \"#7201a8\"], [0.3333333333333333, \"#9c179e\"], [0.4444444444444444, \"#bd3786\"], [0.5555555555555556, \"#d8576b\"], [0.6666666666666666, \"#ed7953\"], [0.7777777777777778, \"#fb9f3a\"], [0.8888888888888888, \"#fdca26\"], [1.0, \"#f0f921\"]], \"type\": \"heatmap\"}], \"heatmapgl\": [{\"colorbar\": {\"outlinewidth\": 0, \"ticks\": \"\"}, \"colorscale\": [[0.0, \"#0d0887\"], [0.1111111111111111, \"#46039f\"], [0.2222222222222222, \"#7201a8\"], [0.3333333333333333, \"#9c179e\"], [0.4444444444444444, \"#bd3786\"], [0.5555555555555556, \"#d8576b\"], [0.6666666666666666, \"#ed7953\"], [0.7777777777777778, \"#fb9f3a\"], [0.8888888888888888, \"#fdca26\"], [1.0, \"#f0f921\"]], \"type\": \"heatmapgl\"}], \"histogram\": [{\"marker\": {\"colorbar\": {\"outlinewidth\": 0, \"ticks\": \"\"}}, \"type\": \"histogram\"}], \"histogram2d\": [{\"colorbar\": {\"outlinewidth\": 0, \"ticks\": \"\"}, \"colorscale\": [[0.0, \"#0d0887\"], [0.1111111111111111, \"#46039f\"], [0.2222222222222222, \"#7201a8\"], [0.3333333333333333, \"#9c179e\"], [0.4444444444444444, \"#bd3786\"], [0.5555555555555556, \"#d8576b\"], [0.6666666666666666, \"#ed7953\"], [0.7777777777777778, \"#fb9f3a\"], [0.8888888888888888, \"#fdca26\"], [1.0, \"#f0f921\"]], \"type\": \"histogram2d\"}], \"histogram2dcontour\": [{\"colorbar\": {\"outlinewidth\": 0, \"ticks\": \"\"}, \"colorscale\": [[0.0, \"#0d0887\"], [0.1111111111111111, \"#46039f\"], [0.2222222222222222, \"#7201a8\"], [0.3333333333333333, \"#9c179e\"], [0.4444444444444444, \"#bd3786\"], [0.5555555555555556, \"#d8576b\"], [0.6666666666666666, \"#ed7953\"], [0.7777777777777778, \"#fb9f3a\"], [0.8888888888888888, \"#fdca26\"], [1.0, \"#f0f921\"]], \"type\": \"histogram2dcontour\"}], \"mesh3d\": [{\"colorbar\": {\"outlinewidth\": 0, \"ticks\": \"\"}, \"type\": \"mesh3d\"}], \"parcoords\": [{\"line\": {\"colorbar\": {\"outlinewidth\": 0, \"ticks\": \"\"}}, \"type\": \"parcoords\"}], \"scatter\": [{\"marker\": {\"colorbar\": {\"outlinewidth\": 0, \"ticks\": \"\"}}, \"type\": \"scatter\"}], \"scatter3d\": [{\"line\": {\"colorbar\": {\"outlinewidth\": 0, \"ticks\": \"\"}}, \"marker\": {\"colorbar\": {\"outlinewidth\": 0, \"ticks\": \"\"}}, \"type\": \"scatter3d\"}], \"scattercarpet\": [{\"marker\": {\"colorbar\": {\"outlinewidth\": 0, \"ticks\": \"\"}}, \"type\": \"scattercarpet\"}], \"scattergeo\": [{\"marker\": {\"colorbar\": {\"outlinewidth\": 0, \"ticks\": \"\"}}, \"type\": \"scattergeo\"}], \"scattergl\": [{\"marker\": {\"colorbar\": {\"outlinewidth\": 0, \"ticks\": \"\"}}, \"type\": \"scattergl\"}], \"scattermapbox\": [{\"marker\": {\"colorbar\": {\"outlinewidth\": 0, \"ticks\": \"\"}}, \"type\": \"scattermapbox\"}], \"scatterpolar\": [{\"marker\": {\"colorbar\": {\"outlinewidth\": 0, \"ticks\": \"\"}}, \"type\": \"scatterpolar\"}], \"scatterpolargl\": [{\"marker\": {\"colorbar\": {\"outlinewidth\": 0, \"ticks\": \"\"}}, \"type\": \"scatterpolargl\"}], \"scatterternary\": [{\"marker\": {\"colorbar\": {\"outlinewidth\": 0, \"ticks\": \"\"}}, \"type\": \"scatterternary\"}], \"surface\": [{\"colorbar\": {\"outlinewidth\": 0, \"ticks\": \"\"}, \"colorscale\": [[0.0, \"#0d0887\"], [0.1111111111111111, \"#46039f\"], [0.2222222222222222, \"#7201a8\"], [0.3333333333333333, \"#9c179e\"], [0.4444444444444444, \"#bd3786\"], [0.5555555555555556, \"#d8576b\"], [0.6666666666666666, \"#ed7953\"], [0.7777777777777778, \"#fb9f3a\"], [0.8888888888888888, \"#fdca26\"], [1.0, \"#f0f921\"]], \"type\": \"surface\"}], \"table\": [{\"cells\": {\"fill\": {\"color\": \"#EBF0F8\"}, \"line\": {\"color\": \"white\"}}, \"header\": {\"fill\": {\"color\": \"#C8D4E3\"}, \"line\": {\"color\": \"white\"}}, \"type\": \"table\"}]}, \"layout\": {\"annotationdefaults\": {\"arrowcolor\": \"#2a3f5f\", \"arrowhead\": 0, \"arrowwidth\": 1}, \"colorscale\": {\"diverging\": [[0, \"#8e0152\"], [0.1, \"#c51b7d\"], [0.2, \"#de77ae\"], [0.3, \"#f1b6da\"], [0.4, \"#fde0ef\"], [0.5, \"#f7f7f7\"], [0.6, \"#e6f5d0\"], [0.7, \"#b8e186\"], [0.8, \"#7fbc41\"], [0.9, \"#4d9221\"], [1, \"#276419\"]], \"sequential\": [[0.0, \"#0d0887\"], [0.1111111111111111, \"#46039f\"], [0.2222222222222222, \"#7201a8\"], [0.3333333333333333, \"#9c179e\"], [0.4444444444444444, \"#bd3786\"], [0.5555555555555556, \"#d8576b\"], [0.6666666666666666, \"#ed7953\"], [0.7777777777777778, \"#fb9f3a\"], [0.8888888888888888, \"#fdca26\"], [1.0, \"#f0f921\"]], \"sequentialminus\": [[0.0, \"#0d0887\"], [0.1111111111111111, \"#46039f\"], [0.2222222222222222, \"#7201a8\"], [0.3333333333333333, \"#9c179e\"], [0.4444444444444444, \"#bd3786\"], [0.5555555555555556, \"#d8576b\"], [0.6666666666666666, \"#ed7953\"], [0.7777777777777778, \"#fb9f3a\"], [0.8888888888888888, \"#fdca26\"], [1.0, \"#f0f921\"]]}, \"colorway\": [\"#636efa\", \"#EF553B\", \"#00cc96\", \"#ab63fa\", \"#FFA15A\", \"#19d3f3\", \"#FF6692\", \"#B6E880\", \"#FF97FF\", \"#FECB52\"], \"font\": {\"color\": \"#2a3f5f\"}, \"geo\": {\"bgcolor\": \"white\", \"lakecolor\": \"white\", \"landcolor\": \"#E5ECF6\", \"showlakes\": true, \"showland\": true, \"subunitcolor\": \"white\"}, \"hoverlabel\": {\"align\": \"left\"}, \"hovermode\": \"closest\", \"mapbox\": {\"style\": \"light\"}, \"paper_bgcolor\": \"white\", \"plot_bgcolor\": \"#E5ECF6\", \"polar\": {\"angularaxis\": {\"gridcolor\": \"white\", \"linecolor\": \"white\", \"ticks\": \"\"}, \"bgcolor\": \"#E5ECF6\", \"radialaxis\": {\"gridcolor\": \"white\", \"linecolor\": \"white\", \"ticks\": \"\"}}, \"scene\": {\"xaxis\": {\"backgroundcolor\": \"#E5ECF6\", \"gridcolor\": \"white\", \"gridwidth\": 2, \"linecolor\": \"white\", \"showbackground\": true, \"ticks\": \"\", \"zerolinecolor\": \"white\"}, \"yaxis\": {\"backgroundcolor\": \"#E5ECF6\", \"gridcolor\": \"white\", \"gridwidth\": 2, \"linecolor\": \"white\", \"showbackground\": true, \"ticks\": \"\", \"zerolinecolor\": \"white\"}, \"zaxis\": {\"backgroundcolor\": \"#E5ECF6\", \"gridcolor\": \"white\", \"gridwidth\": 2, \"linecolor\": \"white\", \"showbackground\": true, \"ticks\": \"\", \"zerolinecolor\": \"white\"}}, \"shapedefaults\": {\"line\": {\"color\": \"#2a3f5f\"}}, \"ternary\": {\"aaxis\": {\"gridcolor\": \"white\", \"linecolor\": \"white\", \"ticks\": \"\"}, \"baxis\": {\"gridcolor\": \"white\", \"linecolor\": \"white\", \"ticks\": \"\"}, \"bgcolor\": \"#E5ECF6\", \"caxis\": {\"gridcolor\": \"white\", \"linecolor\": \"white\", \"ticks\": \"\"}}, \"title\": {\"x\": 0.05}, \"xaxis\": {\"automargin\": true, \"gridcolor\": \"white\", \"linecolor\": \"white\", \"ticks\": \"\", \"zerolinecolor\": \"white\", \"zerolinewidth\": 2}, \"yaxis\": {\"automargin\": true, \"gridcolor\": \"white\", \"linecolor\": \"white\", \"ticks\": \"\", \"zerolinecolor\": \"white\", \"zerolinewidth\": 2}}}, \"title\": {\"text\": \"Export destinations of crude oil exported from PADD 3\"}},\n",
       "                        {\"responsive\": true}\n",
       "                    ).then(function(){\n",
       "                            \n",
       "var gd = document.getElementById('47e93952-cc76-4b54-8fc8-9bd7982245e3');\n",
       "var x = new MutationObserver(function (mutations, observer) {{\n",
       "        var display = window.getComputedStyle(gd).display;\n",
       "        if (!display || display === 'none') {{\n",
       "            console.log([gd, 'removed!']);\n",
       "            Plotly.purge(gd);\n",
       "            observer.disconnect();\n",
       "        }}\n",
       "}});\n",
       "\n",
       "// Listen for the removal of the full notebook cells\n",
       "var notebookContainer = gd.closest('#notebook-container');\n",
       "if (notebookContainer) {{\n",
       "    x.observe(notebookContainer, {childList: true});\n",
       "}}\n",
       "\n",
       "// Listen for the clearing of the current output cell\n",
       "var outputEl = gd.closest('.output');\n",
       "if (outputEl) {{\n",
       "    x.observe(outputEl, {childList: true});\n",
       "}}\n",
       "\n",
       "                        })\n",
       "                };\n",
       "                });\n",
       "            </script>\n",
       "        </div>"
      ]
     },
     "metadata": {},
     "output_type": "display_data"
    }
   ],
   "source": [
    "sankey_data=merged_df[merged_df['Tanker Zone']=='US Gulf']\n",
    "regions=pd.read_csv('Regions.csv')\n",
    "sankey_data=sankey_data.merge(regions,how='left',left_on='Adjusted Discharge Country',right_on='Country')\n",
    "sankey_data=sankey_data.pivot_table(index=['Departure Year','Region'],values='Barrels',aggfunc=np.sum)\n",
    "sankey_data=sankey_data.reset_index()\n",
    "sankey_data['Departure Year']=sankey_data['Departure Year'].astype('str')\n",
    "sankey_data=sankey_data[sankey_data['Departure Year'].isin(['2018','2019','2020','2021'])]\n",
    "labels=sankey_data['Departure Year'].drop_duplicates().to_list()\n",
    "labels.extend(sankey_data['Region'].drop_duplicates().to_list())\n",
    "source=list()\n",
    "target=list()\n",
    "values=list()\n",
    "for index,rows in sankey_data.iterrows():\n",
    "    source.append(labels.index(rows['Departure Year']))\n",
    "    target.append(labels.index(rows['Region']))\n",
    "    values.append(rows['Barrels'])\n",
    "sankey = go.Figure(data=[go.Sankey(\n",
    "    node = dict(\n",
    "      pad = 15,\n",
    "      thickness = 20,\n",
    "      line = dict(color = \"black\", width = 0.5),\n",
    "      label = labels,\n",
    "      color = \"blue\",\n",
    "      hovertemplate='%{value} bbls',\n",
    "    ),\n",
    "    link = dict(\n",
    "      source = source, # indices correspond to labels, eg A1, A2, A1, B1, ...\n",
    "      target = target,\n",
    "      value = values,\n",
    "      hovertemplate='%{value} bbls',\n",
    "        \n",
    "  ))])\n",
    "\n",
    "sankey.update_layout(title_text=\"Export destinations of crude oil exported from PADD 3\", font_size=10)\n",
    "sankey.show()"
   ]
  },
  {
   "cell_type": "markdown",
   "metadata": {},
   "source": [
    "### How the key customers have changed over time"
   ]
  },
  {
   "cell_type": "code",
   "execution_count": 9,
   "metadata": {},
   "outputs": [
    {
     "data": {
      "application/vnd.plotly.v1+json": {
       "config": {
        "plotlyServerURL": "https://plot.ly"
       },
       "data": [
        {
         "geo": "geo",
         "hoverlabel": {
          "namelength": 0
         },
         "hovertemplate": "<b>%{hovertext}</b><br><br>Depyear=2014<br>Barrels=%{marker.color}<br>ISO ALPHA-3 code=%{location}",
         "hovertext": [
          "Canada",
          "China",
          "France (Southern)",
          "Japan",
          "Netherlands",
          "South Korea"
         ],
         "legendgroup": "",
         "locations": [
          "CAN",
          "CHN",
          "FRA",
          "JPN",
          "NLD",
          "KOR"
         ],
         "marker": {
          "color": [
           2743847,
           293763,
           534973,
           1193235,
           1160248,
           672847
          ],
          "coloraxis": "coloraxis",
          "size": [
           2743847,
           293763,
           534973,
           1193235,
           1160248,
           672847
          ],
          "sizemode": "area",
          "sizeref": 380347.1275
         },
         "name": "",
         "showlegend": false,
         "type": "scattergeo"
        }
       ],
       "frames": [
        {
         "data": [
          {
           "geo": "geo",
           "hoverlabel": {
            "namelength": 0
           },
           "hovertemplate": "<b>%{hovertext}</b><br><br>Depyear=2014<br>Barrels=%{marker.color}<br>ISO ALPHA-3 code=%{location}",
           "hovertext": [
            "Canada",
            "China",
            "France (Southern)",
            "Japan",
            "Netherlands",
            "South Korea"
           ],
           "legendgroup": "",
           "locations": [
            "CAN",
            "CHN",
            "FRA",
            "JPN",
            "NLD",
            "KOR"
           ],
           "marker": {
            "color": [
             2743847,
             293763,
             534973,
             1193235,
             1160248,
             672847
            ],
            "coloraxis": "coloraxis",
            "size": [
             2743847,
             293763,
             534973,
             1193235,
             1160248,
             672847
            ],
            "sizemode": "area",
            "sizeref": 380347.1275
           },
           "name": "",
           "showlegend": false,
           "type": "scattergeo"
          }
         ],
         "name": "2014"
        },
        {
         "data": [
          {
           "geo": "geo",
           "hoverlabel": {
            "namelength": 0
           },
           "hovertemplate": "<b>%{hovertext}</b><br><br>Depyear=2015<br>Barrels=%{marker.color}<br>ISO ALPHA-3 code=%{location}",
           "hovertext": [
            "Canada",
            "France (Southern)",
            "Japan",
            "Netherlands",
            "South Korea",
            "Bahamas",
            "Brazil",
            "Egypt",
            "India",
            "Italy",
            "Malta",
            "Mexico",
            "Singapore",
            "Spain",
            "United Arab Emirates",
            "United Kingdom",
            "Venezuela"
           ],
           "legendgroup": "",
           "locations": [
            "CAN",
            "FRA",
            "JPN",
            "NLD",
            "KOR",
            "BHS",
            "BRA",
            "EGY",
            "IND",
            "ITA",
            "MLT",
            "MEX",
            "SGP",
            "ESP",
            "ARE",
            "GBR",
            "VEN"
           ],
           "marker": {
            "color": [
             85013853,
             2787193,
             250169,
             10968531,
             2262827,
             107961,
             1825231,
             575282,
             2009912,
             4037532,
             538369,
             896398,
             2111522,
             1925879,
             1930049,
             871017,
             996369
            ],
            "coloraxis": "coloraxis",
            "size": [
             85013853,
             2787193,
             250169,
             10968531,
             2262827,
             107961,
             1825231,
             575282,
             2009912,
             4037532,
             538369,
             896398,
             2111522,
             1925879,
             1930049,
             871017,
             996369
            ],
            "sizemode": "area",
            "sizeref": 380347.1275
           },
           "name": "",
           "showlegend": false,
           "type": "scattergeo"
          }
         ],
         "name": "2015"
        },
        {
         "data": [
          {
           "geo": "geo",
           "hoverlabel": {
            "namelength": 0
           },
           "hovertemplate": "<b>%{hovertext}</b><br><br>Depyear=2016<br>Barrels=%{marker.color}<br>ISO ALPHA-3 code=%{location}",
           "hovertext": [
            "Canada",
            "China",
            "France (Southern)",
            "Japan",
            "Netherlands",
            "South Korea",
            "Bahamas",
            "Brazil",
            "Egypt",
            "India",
            "Italy",
            "Mexico",
            "Singapore",
            "Spain",
            "United Kingdom",
            "Venezuela",
            "Argentina",
            "Aruba",
            "Belgium",
            "Bonaire, Sint Eustatius and Saba",
            "Chile",
            "Colombia",
            "Curacao",
            "Cyprus",
            "Dominican Republic",
            "France (Northern)",
            "Germany",
            "Indonesia",
            "Malaysia",
            "Nicaragua",
            "Panama",
            "Peru",
            "Puerto Rico",
            "Thailand",
            "Togo"
           ],
           "legendgroup": "",
           "locations": [
            "CAN",
            "CHN",
            "FRA",
            "JPN",
            "NLD",
            "KOR",
            "BHS",
            "BRA",
            "EGY",
            "IND",
            "ITA",
            "MEX",
            "SGP",
            "ESP",
            "GBR",
            "VEN",
            "ARG",
            "ABW",
            "BEL",
            "BES",
            "CHL",
            "COL",
            "CUW",
            "CYP",
            "DOM",
            "FRA",
            "DEU",
            "IDN",
            "MYS",
            "NIC",
            "PAN",
            "PER",
            "PRI",
            "THA",
            "TGO"
           ],
           "marker": {
            "color": [
             29848960,
             4450738,
             6036080,
             2906961,
             15959539,
             2435866,
             2002777,
             1277788,
             3594661,
             2072138,
             6558703,
             369691,
             2857301,
             5561633,
             6387731,
             2806313,
             589173,
             517517,
             542332,
             518035,
             157257,
             4341830,
             11930107,
             867851,
             538623,
             821454,
             524371,
             1998133,
             953277,
             1231573,
             4434049,
             2291114,
             753081,
             989942,
             828189
            ],
            "coloraxis": "coloraxis",
            "size": [
             29848960,
             4450738,
             6036080,
             2906961,
             15959539,
             2435866,
             2002777,
             1277788,
             3594661,
             2072138,
             6558703,
             369691,
             2857301,
             5561633,
             6387731,
             2806313,
             589173,
             517517,
             542332,
             518035,
             157257,
             4341830,
             11930107,
             867851,
             538623,
             821454,
             524371,
             1998133,
             953277,
             1231573,
             4434049,
             2291114,
             753081,
             989942,
             828189
            ],
            "sizemode": "area",
            "sizeref": 380347.1275
           },
           "name": "",
           "showlegend": false,
           "type": "scattergeo"
          }
         ],
         "name": "2016"
        },
        {
         "data": [
          {
           "geo": "geo",
           "hoverlabel": {
            "namelength": 0
           },
           "hovertemplate": "<b>%{hovertext}</b><br><br>Depyear=2017<br>Barrels=%{marker.color}<br>ISO ALPHA-3 code=%{location}",
           "hovertext": [
            "Canada",
            "China",
            "France (Southern)",
            "Japan",
            "Netherlands",
            "South Korea",
            "Bahamas",
            "Brazil",
            "India",
            "Italy",
            "Malta",
            "Mexico",
            "Singapore",
            "Spain",
            "United Arab Emirates",
            "United Kingdom",
            "Venezuela",
            "Argentina",
            "Aruba",
            "Bonaire, Sint Eustatius and Saba",
            "Colombia",
            "Curacao",
            "Dominican Republic",
            "France (Northern)",
            "Indonesia",
            "Malaysia",
            "Nicaragua",
            "Panama",
            "Peru",
            "Thailand",
            "Denmark",
            "Gibraltar",
            "Guatemala",
            "Honduras",
            "Ireland",
            "Jamaica",
            "Lithuania",
            "Norway",
            "Poland",
            "South Africa",
            "Taiwan",
            "Turkey",
            "Uruguay"
           ],
           "legendgroup": "",
           "locations": [
            "CAN",
            "CHN",
            "FRA",
            "JPN",
            "NLD",
            "KOR",
            "BHS",
            "BRA",
            "IND",
            "ITA",
            "MLT",
            "MEX",
            "SGP",
            "ESP",
            "ARE",
            "GBR",
            "VEN",
            "ARG",
            "ABW",
            "BES",
            "COL",
            "CUW",
            "DOM",
            "FRA",
            "IDN",
            "MYS",
            "NIC",
            "PAN",
            "PER",
            "THA",
            "DNK",
            "GIB",
            "GTM",
            "HND",
            "IRL",
            "JAM",
            "LTU",
            "NOR",
            "POL",
            "ZAF",
            "TWN",
            "TUR",
            "URY"
           ],
           "marker": {
            "color": [
             41515794,
             73113297,
             2844618,
             11777209,
             19564440,
             20225114,
             3719548,
             6061340,
             13986512,
             12207147,
             962064,
             3662132,
             19572066,
             8241488,
             1596159,
             28745828,
             13742329,
             1765929,
             4556241,
             626762,
             4482688,
             5484402,
             729562,
             2718364,
             3823761,
             12266301,
             402144,
             2195547,
             943105,
             2137324,
             741086,
             1063851,
             371017,
             320361,
             183323,
             391883,
             1330766,
             1039886,
             2618016,
             646034,
             8489555,
             795092,
             284772
            ],
            "coloraxis": "coloraxis",
            "size": [
             41515794,
             73113297,
             2844618,
             11777209,
             19564440,
             20225114,
             3719548,
             6061340,
             13986512,
             12207147,
             962064,
             3662132,
             19572066,
             8241488,
             1596159,
             28745828,
             13742329,
             1765929,
             4556241,
             626762,
             4482688,
             5484402,
             729562,
             2718364,
             3823761,
             12266301,
             402144,
             2195547,
             943105,
             2137324,
             741086,
             1063851,
             371017,
             320361,
             183323,
             391883,
             1330766,
             1039886,
             2618016,
             646034,
             8489555,
             795092,
             284772
            ],
            "sizemode": "area",
            "sizeref": 380347.1275
           },
           "name": "",
           "showlegend": false,
           "type": "scattergeo"
          }
         ],
         "name": "2017"
        },
        {
         "data": [
          {
           "geo": "geo",
           "hoverlabel": {
            "namelength": 0
           },
           "hovertemplate": "<b>%{hovertext}</b><br><br>Depyear=2018<br>Barrels=%{marker.color}<br>ISO ALPHA-3 code=%{location}",
           "hovertext": [
            "Canada",
            "China",
            "France (Southern)",
            "Japan",
            "Netherlands",
            "South Korea",
            "Bahamas",
            "Brazil",
            "India",
            "Italy",
            "Mexico",
            "Singapore",
            "Spain",
            "United Arab Emirates",
            "United Kingdom",
            "Venezuela",
            "Bonaire, Sint Eustatius and Saba",
            "Chile",
            "Colombia",
            "Curacao",
            "Dominican Republic",
            "France (Northern)",
            "Germany",
            "Indonesia",
            "Malaysia",
            "Nicaragua",
            "Panama",
            "Peru",
            "Thailand",
            "Togo",
            "Denmark",
            "Gibraltar",
            "Ireland",
            "Jamaica",
            "Norway",
            "Poland",
            "South Africa",
            "Taiwan",
            "Uruguay",
            "Cote DIvoire",
            "Croatia",
            "Greece",
            "Lebanon",
            "Portugal",
            "Sweden",
            "Trinidad and Tobago"
           ],
           "legendgroup": "",
           "locations": [
            "CAN",
            "CHN",
            "FRA",
            "JPN",
            "NLD",
            "KOR",
            "BHS",
            "BRA",
            "IND",
            "ITA",
            "MEX",
            "SGP",
            "ESP",
            "ARE",
            "GBR",
            "VEN",
            "BES",
            "CHL",
            "COL",
            "CUW",
            "DOM",
            "FRA",
            "DEU",
            "IDN",
            "MYS",
            "NIC",
            "PAN",
            "PER",
            "THA",
            "TGO",
            "DNK",
            "GIB",
            "IRL",
            "JAM",
            "NOR",
            "POL",
            "ZAF",
            "TWN",
            "URY",
            "CIV",
            "HRV",
            "GRC",
            "LBN",
            "PRT",
            "SWE",
            "TTO"
           ],
           "marker": {
            "color": [
             66449866,
             69775521,
             7142453,
             25594926,
             41299852,
             68231655,
             2486669,
             10954177,
             38074314,
             36099249,
             8589765,
             32635708,
             9959427,
             9548304,
             51917394,
             20305272,
             3564976,
             3380719,
             6747790,
             1999980,
             3829987,
             3875900,
             1067770,
             2802617,
             8274624,
             1240874,
             4993906,
             2452153,
             7010833,
             314514,
             6933577,
             456152,
             5024319,
             1049719,
             9096726,
             5320130,
             764824,
             45024810,
             2331193,
             464657,
             1280926,
             2417108,
             370025,
             1161301,
             513303,
             281198
            ],
            "coloraxis": "coloraxis",
            "size": [
             66449866,
             69775521,
             7142453,
             25594926,
             41299852,
             68231655,
             2486669,
             10954177,
             38074314,
             36099249,
             8589765,
             32635708,
             9959427,
             9548304,
             51917394,
             20305272,
             3564976,
             3380719,
             6747790,
             1999980,
             3829987,
             3875900,
             1067770,
             2802617,
             8274624,
             1240874,
             4993906,
             2452153,
             7010833,
             314514,
             6933577,
             456152,
             5024319,
             1049719,
             9096726,
             5320130,
             764824,
             45024810,
             2331193,
             464657,
             1280926,
             2417108,
             370025,
             1161301,
             513303,
             281198
            ],
            "sizemode": "area",
            "sizeref": 380347.1275
           },
           "name": "",
           "showlegend": false,
           "type": "scattergeo"
          }
         ],
         "name": "2018"
        },
        {
         "data": [
          {
           "geo": "geo",
           "hoverlabel": {
            "namelength": 0
           },
           "hovertemplate": "<b>%{hovertext}</b><br><br>Depyear=2019<br>Barrels=%{marker.color}<br>ISO ALPHA-3 code=%{location}",
           "hovertext": [
            "Canada",
            "China",
            "France (Southern)",
            "Japan",
            "Netherlands",
            "South Korea",
            "Bahamas",
            "Brazil",
            "Egypt",
            "India",
            "Italy",
            "Malta",
            "Mexico",
            "Singapore",
            "Spain",
            "United Arab Emirates",
            "United Kingdom",
            "Venezuela",
            "Argentina",
            "Aruba",
            "Belgium",
            "Bonaire, Sint Eustatius and Saba",
            "Chile",
            "Colombia",
            "Dominican Republic",
            "France (Northern)",
            "Germany",
            "Indonesia",
            "Malaysia",
            "Nicaragua",
            "Panama",
            "Peru",
            "Thailand",
            "Denmark",
            "Gibraltar",
            "Honduras",
            "Ireland",
            "Jamaica",
            "Lithuania",
            "Norway",
            "Poland",
            "Taiwan",
            "Uruguay",
            "Croatia",
            "Greece",
            "Sweden",
            "Australia",
            "Bulgaria",
            "Hong Kong",
            "Israel",
            "Morocco",
            "Philippines",
            "Ukraine",
            "Vietnam"
           ],
           "legendgroup": "",
           "locations": [
            "CAN",
            "CHN",
            "FRA",
            "JPN",
            "NLD",
            "KOR",
            "BHS",
            "BRA",
            "EGY",
            "IND",
            "ITA",
            "MLT",
            "MEX",
            "SGP",
            "ESP",
            "ARE",
            "GBR",
            "VEN",
            "ARG",
            "ABW",
            "BEL",
            "BES",
            "CHL",
            "COL",
            "DOM",
            "FRA",
            "DEU",
            "IDN",
            "MYS",
            "NIC",
            "PAN",
            "PER",
            "THA",
            "DNK",
            "GIB",
            "HND",
            "IRL",
            "JAM",
            "LTU",
            "NOR",
            "POL",
            "TWN",
            "URY",
            "HRV",
            "GRC",
            "SWE",
            "AUS",
            "BGR",
            "HKG",
            "ISR",
            "MAR",
            "PHL",
            "UKR",
            "VNM"
           ],
           "marker": {
            "color": [
             103714587,
             41338578,
             15730271,
             19498210,
             78199667,
             146609889,
             7227058,
             17830208,
             572127,
             84151403,
             38807298,
             1461258,
             6696134,
             21786359,
             18407503,
             3147859,
             87351101,
             1631030,
             1942040,
             613934,
             291161,
             2185815,
             8849097,
             7668783,
             5817730,
             18580249,
             10161579,
             1963253,
             19077892,
             4063470,
             25463504,
             7421355,
             26004446,
             10354048,
             635302,
             329884,
             13620200,
             607722,
             268040,
             7974055,
             5234852,
             58033595,
             2323558,
             1617086,
             5002700,
             2466166,
             13309997,
             538991,
             1036069,
             1684823,
             382513,
             2067738,
             1354856,
             3593923
            ],
            "coloraxis": "coloraxis",
            "size": [
             103714587,
             41338578,
             15730271,
             19498210,
             78199667,
             146609889,
             7227058,
             17830208,
             572127,
             84151403,
             38807298,
             1461258,
             6696134,
             21786359,
             18407503,
             3147859,
             87351101,
             1631030,
             1942040,
             613934,
             291161,
             2185815,
             8849097,
             7668783,
             5817730,
             18580249,
             10161579,
             1963253,
             19077892,
             4063470,
             25463504,
             7421355,
             26004446,
             10354048,
             635302,
             329884,
             13620200,
             607722,
             268040,
             7974055,
             5234852,
             58033595,
             2323558,
             1617086,
             5002700,
             2466166,
             13309997,
             538991,
             1036069,
             1684823,
             382513,
             2067738,
             1354856,
             3593923
            ],
            "sizemode": "area",
            "sizeref": 380347.1275
           },
           "name": "",
           "showlegend": false,
           "type": "scattergeo"
          }
         ],
         "name": "2019"
        },
        {
         "data": [
          {
           "geo": "geo",
           "hoverlabel": {
            "namelength": 0
           },
           "hovertemplate": "<b>%{hovertext}</b><br><br>Depyear=2020<br>Barrels=%{marker.color}<br>ISO ALPHA-3 code=%{location}",
           "hovertext": [
            "Canada",
            "China",
            "France (Southern)",
            "Japan",
            "Netherlands",
            "South Korea",
            "Bahamas",
            "Brazil",
            "Egypt",
            "India",
            "Italy",
            "Mexico",
            "Singapore",
            "Spain",
            "United Kingdom",
            "Aruba",
            "Belgium",
            "Bonaire, Sint Eustatius and Saba",
            "Chile",
            "Colombia",
            "Curacao",
            "Cyprus",
            "Dominican Republic",
            "France (Northern)",
            "Germany",
            "Indonesia",
            "Malaysia",
            "Nicaragua",
            "Panama",
            "Peru",
            "Thailand",
            "Togo",
            "Denmark",
            "Honduras",
            "Ireland",
            "Jamaica",
            "Lithuania",
            "Norway",
            "South Africa",
            "Taiwan",
            "Uruguay",
            "Croatia",
            "Greece",
            "Lebanon",
            "Portugal",
            "Sweden",
            "Australia",
            "Hong Kong",
            "Israel",
            "Ukraine",
            "Vietnam",
            "Finland",
            "New Zealand",
            "Saint Lucia"
           ],
           "legendgroup": "",
           "locations": [
            "CAN",
            "CHN",
            "FRA",
            "JPN",
            "NLD",
            "KOR",
            "BHS",
            "BRA",
            "EGY",
            "IND",
            "ITA",
            "MEX",
            "SGP",
            "ESP",
            "GBR",
            "ABW",
            "BEL",
            "BES",
            "CHL",
            "COL",
            "CUW",
            "CYP",
            "DOM",
            "FRA",
            "DEU",
            "IDN",
            "MYS",
            "NIC",
            "PAN",
            "PER",
            "THA",
            "TGO",
            "DNK",
            "HND",
            "IRL",
            "JAM",
            "LTU",
            "NOR",
            "ZAF",
            "TWN",
            "URY",
            "HRV",
            "GRC",
            "LBN",
            "PRT",
            "SWE",
            "AUS",
            "HKG",
            "ISR",
            "UKR",
            "VNM",
            "FIN",
            "NZL",
            "LCA"
           ],
           "marker": {
            "color": [
             83746021,
             152138851,
             15301015,
             11647539,
             82582836,
             93019421,
             8615415,
             13018470,
             736918,
             101283234,
             50942981,
             3119994,
             22176253,
             20685272,
             86125723,
             995577,
             111811,
             4108663,
             6945458,
             5831260,
             361827,
             210205,
             3033634,
             18162321,
             36843146,
             7095600,
             26198695,
             2442730,
             19294445,
             6454567,
             22720405,
             995578,
             9869278,
             1039757,
             15217757,
             485444,
             2595213,
             3312336,
             2669928,
             45305180,
             2870963,
             831856,
             2880688,
             485298,
             5853727,
             14149702,
             8724225,
             616442,
             2124031,
             2022211,
             3613197,
             612663,
             756578,
             2242375
            ],
            "coloraxis": "coloraxis",
            "size": [
             83746021,
             152138851,
             15301015,
             11647539,
             82582836,
             93019421,
             8615415,
             13018470,
             736918,
             101283234,
             50942981,
             3119994,
             22176253,
             20685272,
             86125723,
             995577,
             111811,
             4108663,
             6945458,
             5831260,
             361827,
             210205,
             3033634,
             18162321,
             36843146,
             7095600,
             26198695,
             2442730,
             19294445,
             6454567,
             22720405,
             995578,
             9869278,
             1039757,
             15217757,
             485444,
             2595213,
             3312336,
             2669928,
             45305180,
             2870963,
             831856,
             2880688,
             485298,
             5853727,
             14149702,
             8724225,
             616442,
             2124031,
             2022211,
             3613197,
             612663,
             756578,
             2242375
            ],
            "sizemode": "area",
            "sizeref": 380347.1275
           },
           "name": "",
           "showlegend": false,
           "type": "scattergeo"
          }
         ],
         "name": "2020"
        },
        {
         "data": [
          {
           "geo": "geo",
           "hoverlabel": {
            "namelength": 0
           },
           "hovertemplate": "<b>%{hovertext}</b><br><br>Depyear=2021<br>Barrels=%{marker.color}<br>ISO ALPHA-3 code=%{location}",
           "hovertext": [
            "Canada",
            "China",
            "France (Southern)",
            "Japan",
            "Netherlands",
            "South Korea",
            "Bahamas",
            "Brazil",
            "India",
            "Italy",
            "Mexico",
            "Singapore",
            "Spain",
            "United Kingdom",
            "Belgium",
            "Bonaire, Sint Eustatius and Saba",
            "Chile",
            "Colombia",
            "Dominican Republic",
            "France (Northern)",
            "Germany",
            "Indonesia",
            "Malaysia",
            "Nicaragua",
            "Panama",
            "Peru",
            "Thailand",
            "Denmark",
            "Gibraltar",
            "Ireland",
            "Lithuania",
            "Norway",
            "South Africa",
            "Taiwan",
            "Portugal",
            "Sweden",
            "Trinidad and Tobago",
            "Australia",
            "Vietnam"
           ],
           "legendgroup": "",
           "locations": [
            "CAN",
            "CHN",
            "FRA",
            "JPN",
            "NLD",
            "KOR",
            "BHS",
            "BRA",
            "IND",
            "ITA",
            "MEX",
            "SGP",
            "ESP",
            "GBR",
            "BEL",
            "BES",
            "CHL",
            "COL",
            "DOM",
            "FRA",
            "DEU",
            "IDN",
            "MYS",
            "NIC",
            "PAN",
            "PER",
            "THA",
            "DNK",
            "GIB",
            "IRL",
            "LTU",
            "NOR",
            "ZAF",
            "TWN",
            "PRT",
            "SWE",
            "TTO",
            "AUS",
            "VNM"
           ],
           "marker": {
            "color": [
             23584138,
             38207857,
             3564895,
             3536636,
             31407797,
             44860813,
             2328908,
             5710541,
             56117864,
             11889728,
             2835337,
             16439917,
             7913411,
             27384499,
             136164,
             463730,
             2753565,
             2186199,
             2040905,
             5751990,
             10819611,
             306752,
             2407843,
             1149251,
             5435570,
             1811906,
             4612056,
             2029271,
             592039,
             3133118,
             742555,
             4620590,
             1073072,
             18399240,
             2530711,
             2047064,
             429783,
             3601150,
             1073072
            ],
            "coloraxis": "coloraxis",
            "size": [
             23584138,
             38207857,
             3564895,
             3536636,
             31407797,
             44860813,
             2328908,
             5710541,
             56117864,
             11889728,
             2835337,
             16439917,
             7913411,
             27384499,
             136164,
             463730,
             2753565,
             2186199,
             2040905,
             5751990,
             10819611,
             306752,
             2407843,
             1149251,
             5435570,
             1811906,
             4612056,
             2029271,
             592039,
             3133118,
             742555,
             4620590,
             1073072,
             18399240,
             2530711,
             2047064,
             429783,
             3601150,
             1073072
            ],
            "sizemode": "area",
            "sizeref": 380347.1275
           },
           "name": "",
           "showlegend": false,
           "type": "scattergeo"
          }
         ],
         "name": "2021"
        }
       ],
       "layout": {
        "coloraxis": {
         "colorbar": {
          "title": {
           "text": "Barrels"
          }
         },
         "colorscale": [
          [
           0,
           "rgb(237, 229, 207)"
          ],
          [
           0.16666666666666666,
           "rgb(224, 194, 162)"
          ],
          [
           0.3333333333333333,
           "rgb(211, 156, 131)"
          ],
          [
           0.5,
           "rgb(193, 118, 111)"
          ],
          [
           0.6666666666666666,
           "rgb(166, 84, 97)"
          ],
          [
           0.8333333333333334,
           "rgb(129, 55, 83)"
          ],
          [
           1,
           "rgb(84, 31, 63)"
          ]
         ]
        },
        "geo": {
         "center": {},
         "domain": {
          "x": [
           0,
           0.98
          ],
          "y": [
           0,
           1
          ]
         }
        },
        "height": 600,
        "legend": {
         "itemsizing": "constant",
         "tracegroupgap": 0
        },
        "margin": {
         "t": 60
        },
        "sliders": [
         {
          "active": 0,
          "currentvalue": {
           "prefix": "Depyear="
          },
          "len": 0.9,
          "pad": {
           "b": 10,
           "t": 60
          },
          "steps": [
           {
            "args": [
             [
              "2014"
             ],
             {
              "frame": {
               "duration": 0,
               "redraw": true
              },
              "fromcurrent": true,
              "mode": "immediate",
              "transition": {
               "duration": 0,
               "easing": "linear"
              }
             }
            ],
            "label": "2014",
            "method": "animate"
           },
           {
            "args": [
             [
              "2015"
             ],
             {
              "frame": {
               "duration": 0,
               "redraw": true
              },
              "fromcurrent": true,
              "mode": "immediate",
              "transition": {
               "duration": 0,
               "easing": "linear"
              }
             }
            ],
            "label": "2015",
            "method": "animate"
           },
           {
            "args": [
             [
              "2016"
             ],
             {
              "frame": {
               "duration": 0,
               "redraw": true
              },
              "fromcurrent": true,
              "mode": "immediate",
              "transition": {
               "duration": 0,
               "easing": "linear"
              }
             }
            ],
            "label": "2016",
            "method": "animate"
           },
           {
            "args": [
             [
              "2017"
             ],
             {
              "frame": {
               "duration": 0,
               "redraw": true
              },
              "fromcurrent": true,
              "mode": "immediate",
              "transition": {
               "duration": 0,
               "easing": "linear"
              }
             }
            ],
            "label": "2017",
            "method": "animate"
           },
           {
            "args": [
             [
              "2018"
             ],
             {
              "frame": {
               "duration": 0,
               "redraw": true
              },
              "fromcurrent": true,
              "mode": "immediate",
              "transition": {
               "duration": 0,
               "easing": "linear"
              }
             }
            ],
            "label": "2018",
            "method": "animate"
           },
           {
            "args": [
             [
              "2019"
             ],
             {
              "frame": {
               "duration": 0,
               "redraw": true
              },
              "fromcurrent": true,
              "mode": "immediate",
              "transition": {
               "duration": 0,
               "easing": "linear"
              }
             }
            ],
            "label": "2019",
            "method": "animate"
           },
           {
            "args": [
             [
              "2020"
             ],
             {
              "frame": {
               "duration": 0,
               "redraw": true
              },
              "fromcurrent": true,
              "mode": "immediate",
              "transition": {
               "duration": 0,
               "easing": "linear"
              }
             }
            ],
            "label": "2020",
            "method": "animate"
           },
           {
            "args": [
             [
              "2021"
             ],
             {
              "frame": {
               "duration": 0,
               "redraw": true
              },
              "fromcurrent": true,
              "mode": "immediate",
              "transition": {
               "duration": 0,
               "easing": "linear"
              }
             }
            ],
            "label": "2021",
            "method": "animate"
           }
          ],
          "x": 0.1,
          "xanchor": "left",
          "y": 0,
          "yanchor": "top"
         }
        ],
        "template": {
         "data": {
          "bar": [
           {
            "error_x": {
             "color": "#2a3f5f"
            },
            "error_y": {
             "color": "#2a3f5f"
            },
            "marker": {
             "line": {
              "color": "#E5ECF6",
              "width": 0.5
             }
            },
            "type": "bar"
           }
          ],
          "barpolar": [
           {
            "marker": {
             "line": {
              "color": "#E5ECF6",
              "width": 0.5
             }
            },
            "type": "barpolar"
           }
          ],
          "carpet": [
           {
            "aaxis": {
             "endlinecolor": "#2a3f5f",
             "gridcolor": "white",
             "linecolor": "white",
             "minorgridcolor": "white",
             "startlinecolor": "#2a3f5f"
            },
            "baxis": {
             "endlinecolor": "#2a3f5f",
             "gridcolor": "white",
             "linecolor": "white",
             "minorgridcolor": "white",
             "startlinecolor": "#2a3f5f"
            },
            "type": "carpet"
           }
          ],
          "choropleth": [
           {
            "colorbar": {
             "outlinewidth": 0,
             "ticks": ""
            },
            "type": "choropleth"
           }
          ],
          "contour": [
           {
            "colorbar": {
             "outlinewidth": 0,
             "ticks": ""
            },
            "colorscale": [
             [
              0,
              "#0d0887"
             ],
             [
              0.1111111111111111,
              "#46039f"
             ],
             [
              0.2222222222222222,
              "#7201a8"
             ],
             [
              0.3333333333333333,
              "#9c179e"
             ],
             [
              0.4444444444444444,
              "#bd3786"
             ],
             [
              0.5555555555555556,
              "#d8576b"
             ],
             [
              0.6666666666666666,
              "#ed7953"
             ],
             [
              0.7777777777777778,
              "#fb9f3a"
             ],
             [
              0.8888888888888888,
              "#fdca26"
             ],
             [
              1,
              "#f0f921"
             ]
            ],
            "type": "contour"
           }
          ],
          "contourcarpet": [
           {
            "colorbar": {
             "outlinewidth": 0,
             "ticks": ""
            },
            "type": "contourcarpet"
           }
          ],
          "heatmap": [
           {
            "colorbar": {
             "outlinewidth": 0,
             "ticks": ""
            },
            "colorscale": [
             [
              0,
              "#0d0887"
             ],
             [
              0.1111111111111111,
              "#46039f"
             ],
             [
              0.2222222222222222,
              "#7201a8"
             ],
             [
              0.3333333333333333,
              "#9c179e"
             ],
             [
              0.4444444444444444,
              "#bd3786"
             ],
             [
              0.5555555555555556,
              "#d8576b"
             ],
             [
              0.6666666666666666,
              "#ed7953"
             ],
             [
              0.7777777777777778,
              "#fb9f3a"
             ],
             [
              0.8888888888888888,
              "#fdca26"
             ],
             [
              1,
              "#f0f921"
             ]
            ],
            "type": "heatmap"
           }
          ],
          "heatmapgl": [
           {
            "colorbar": {
             "outlinewidth": 0,
             "ticks": ""
            },
            "colorscale": [
             [
              0,
              "#0d0887"
             ],
             [
              0.1111111111111111,
              "#46039f"
             ],
             [
              0.2222222222222222,
              "#7201a8"
             ],
             [
              0.3333333333333333,
              "#9c179e"
             ],
             [
              0.4444444444444444,
              "#bd3786"
             ],
             [
              0.5555555555555556,
              "#d8576b"
             ],
             [
              0.6666666666666666,
              "#ed7953"
             ],
             [
              0.7777777777777778,
              "#fb9f3a"
             ],
             [
              0.8888888888888888,
              "#fdca26"
             ],
             [
              1,
              "#f0f921"
             ]
            ],
            "type": "heatmapgl"
           }
          ],
          "histogram": [
           {
            "marker": {
             "colorbar": {
              "outlinewidth": 0,
              "ticks": ""
             }
            },
            "type": "histogram"
           }
          ],
          "histogram2d": [
           {
            "colorbar": {
             "outlinewidth": 0,
             "ticks": ""
            },
            "colorscale": [
             [
              0,
              "#0d0887"
             ],
             [
              0.1111111111111111,
              "#46039f"
             ],
             [
              0.2222222222222222,
              "#7201a8"
             ],
             [
              0.3333333333333333,
              "#9c179e"
             ],
             [
              0.4444444444444444,
              "#bd3786"
             ],
             [
              0.5555555555555556,
              "#d8576b"
             ],
             [
              0.6666666666666666,
              "#ed7953"
             ],
             [
              0.7777777777777778,
              "#fb9f3a"
             ],
             [
              0.8888888888888888,
              "#fdca26"
             ],
             [
              1,
              "#f0f921"
             ]
            ],
            "type": "histogram2d"
           }
          ],
          "histogram2dcontour": [
           {
            "colorbar": {
             "outlinewidth": 0,
             "ticks": ""
            },
            "colorscale": [
             [
              0,
              "#0d0887"
             ],
             [
              0.1111111111111111,
              "#46039f"
             ],
             [
              0.2222222222222222,
              "#7201a8"
             ],
             [
              0.3333333333333333,
              "#9c179e"
             ],
             [
              0.4444444444444444,
              "#bd3786"
             ],
             [
              0.5555555555555556,
              "#d8576b"
             ],
             [
              0.6666666666666666,
              "#ed7953"
             ],
             [
              0.7777777777777778,
              "#fb9f3a"
             ],
             [
              0.8888888888888888,
              "#fdca26"
             ],
             [
              1,
              "#f0f921"
             ]
            ],
            "type": "histogram2dcontour"
           }
          ],
          "mesh3d": [
           {
            "colorbar": {
             "outlinewidth": 0,
             "ticks": ""
            },
            "type": "mesh3d"
           }
          ],
          "parcoords": [
           {
            "line": {
             "colorbar": {
              "outlinewidth": 0,
              "ticks": ""
             }
            },
            "type": "parcoords"
           }
          ],
          "scatter": [
           {
            "marker": {
             "colorbar": {
              "outlinewidth": 0,
              "ticks": ""
             }
            },
            "type": "scatter"
           }
          ],
          "scatter3d": [
           {
            "line": {
             "colorbar": {
              "outlinewidth": 0,
              "ticks": ""
             }
            },
            "marker": {
             "colorbar": {
              "outlinewidth": 0,
              "ticks": ""
             }
            },
            "type": "scatter3d"
           }
          ],
          "scattercarpet": [
           {
            "marker": {
             "colorbar": {
              "outlinewidth": 0,
              "ticks": ""
             }
            },
            "type": "scattercarpet"
           }
          ],
          "scattergeo": [
           {
            "marker": {
             "colorbar": {
              "outlinewidth": 0,
              "ticks": ""
             }
            },
            "type": "scattergeo"
           }
          ],
          "scattergl": [
           {
            "marker": {
             "colorbar": {
              "outlinewidth": 0,
              "ticks": ""
             }
            },
            "type": "scattergl"
           }
          ],
          "scattermapbox": [
           {
            "marker": {
             "colorbar": {
              "outlinewidth": 0,
              "ticks": ""
             }
            },
            "type": "scattermapbox"
           }
          ],
          "scatterpolar": [
           {
            "marker": {
             "colorbar": {
              "outlinewidth": 0,
              "ticks": ""
             }
            },
            "type": "scatterpolar"
           }
          ],
          "scatterpolargl": [
           {
            "marker": {
             "colorbar": {
              "outlinewidth": 0,
              "ticks": ""
             }
            },
            "type": "scatterpolargl"
           }
          ],
          "scatterternary": [
           {
            "marker": {
             "colorbar": {
              "outlinewidth": 0,
              "ticks": ""
             }
            },
            "type": "scatterternary"
           }
          ],
          "surface": [
           {
            "colorbar": {
             "outlinewidth": 0,
             "ticks": ""
            },
            "colorscale": [
             [
              0,
              "#0d0887"
             ],
             [
              0.1111111111111111,
              "#46039f"
             ],
             [
              0.2222222222222222,
              "#7201a8"
             ],
             [
              0.3333333333333333,
              "#9c179e"
             ],
             [
              0.4444444444444444,
              "#bd3786"
             ],
             [
              0.5555555555555556,
              "#d8576b"
             ],
             [
              0.6666666666666666,
              "#ed7953"
             ],
             [
              0.7777777777777778,
              "#fb9f3a"
             ],
             [
              0.8888888888888888,
              "#fdca26"
             ],
             [
              1,
              "#f0f921"
             ]
            ],
            "type": "surface"
           }
          ],
          "table": [
           {
            "cells": {
             "fill": {
              "color": "#EBF0F8"
             },
             "line": {
              "color": "white"
             }
            },
            "header": {
             "fill": {
              "color": "#C8D4E3"
             },
             "line": {
              "color": "white"
             }
            },
            "type": "table"
           }
          ]
         },
         "layout": {
          "annotationdefaults": {
           "arrowcolor": "#2a3f5f",
           "arrowhead": 0,
           "arrowwidth": 1
          },
          "colorscale": {
           "diverging": [
            [
             0,
             "#8e0152"
            ],
            [
             0.1,
             "#c51b7d"
            ],
            [
             0.2,
             "#de77ae"
            ],
            [
             0.3,
             "#f1b6da"
            ],
            [
             0.4,
             "#fde0ef"
            ],
            [
             0.5,
             "#f7f7f7"
            ],
            [
             0.6,
             "#e6f5d0"
            ],
            [
             0.7,
             "#b8e186"
            ],
            [
             0.8,
             "#7fbc41"
            ],
            [
             0.9,
             "#4d9221"
            ],
            [
             1,
             "#276419"
            ]
           ],
           "sequential": [
            [
             0,
             "#0d0887"
            ],
            [
             0.1111111111111111,
             "#46039f"
            ],
            [
             0.2222222222222222,
             "#7201a8"
            ],
            [
             0.3333333333333333,
             "#9c179e"
            ],
            [
             0.4444444444444444,
             "#bd3786"
            ],
            [
             0.5555555555555556,
             "#d8576b"
            ],
            [
             0.6666666666666666,
             "#ed7953"
            ],
            [
             0.7777777777777778,
             "#fb9f3a"
            ],
            [
             0.8888888888888888,
             "#fdca26"
            ],
            [
             1,
             "#f0f921"
            ]
           ],
           "sequentialminus": [
            [
             0,
             "#0d0887"
            ],
            [
             0.1111111111111111,
             "#46039f"
            ],
            [
             0.2222222222222222,
             "#7201a8"
            ],
            [
             0.3333333333333333,
             "#9c179e"
            ],
            [
             0.4444444444444444,
             "#bd3786"
            ],
            [
             0.5555555555555556,
             "#d8576b"
            ],
            [
             0.6666666666666666,
             "#ed7953"
            ],
            [
             0.7777777777777778,
             "#fb9f3a"
            ],
            [
             0.8888888888888888,
             "#fdca26"
            ],
            [
             1,
             "#f0f921"
            ]
           ]
          },
          "colorway": [
           "#636efa",
           "#EF553B",
           "#00cc96",
           "#ab63fa",
           "#FFA15A",
           "#19d3f3",
           "#FF6692",
           "#B6E880",
           "#FF97FF",
           "#FECB52"
          ],
          "font": {
           "color": "#2a3f5f"
          },
          "geo": {
           "bgcolor": "white",
           "lakecolor": "white",
           "landcolor": "#E5ECF6",
           "showlakes": true,
           "showland": true,
           "subunitcolor": "white"
          },
          "hoverlabel": {
           "align": "left"
          },
          "hovermode": "closest",
          "mapbox": {
           "style": "light"
          },
          "paper_bgcolor": "white",
          "plot_bgcolor": "#E5ECF6",
          "polar": {
           "angularaxis": {
            "gridcolor": "white",
            "linecolor": "white",
            "ticks": ""
           },
           "bgcolor": "#E5ECF6",
           "radialaxis": {
            "gridcolor": "white",
            "linecolor": "white",
            "ticks": ""
           }
          },
          "scene": {
           "xaxis": {
            "backgroundcolor": "#E5ECF6",
            "gridcolor": "white",
            "gridwidth": 2,
            "linecolor": "white",
            "showbackground": true,
            "ticks": "",
            "zerolinecolor": "white"
           },
           "yaxis": {
            "backgroundcolor": "#E5ECF6",
            "gridcolor": "white",
            "gridwidth": 2,
            "linecolor": "white",
            "showbackground": true,
            "ticks": "",
            "zerolinecolor": "white"
           },
           "zaxis": {
            "backgroundcolor": "#E5ECF6",
            "gridcolor": "white",
            "gridwidth": 2,
            "linecolor": "white",
            "showbackground": true,
            "ticks": "",
            "zerolinecolor": "white"
           }
          },
          "shapedefaults": {
           "line": {
            "color": "#2a3f5f"
           }
          },
          "ternary": {
           "aaxis": {
            "gridcolor": "white",
            "linecolor": "white",
            "ticks": ""
           },
           "baxis": {
            "gridcolor": "white",
            "linecolor": "white",
            "ticks": ""
           },
           "bgcolor": "#E5ECF6",
           "caxis": {
            "gridcolor": "white",
            "linecolor": "white",
            "ticks": ""
           }
          },
          "title": {
           "x": 0.05
          },
          "xaxis": {
           "automargin": true,
           "gridcolor": "white",
           "linecolor": "white",
           "ticks": "",
           "zerolinecolor": "white",
           "zerolinewidth": 2
          },
          "yaxis": {
           "automargin": true,
           "gridcolor": "white",
           "linecolor": "white",
           "ticks": "",
           "zerolinecolor": "white",
           "zerolinewidth": 2
          }
         }
        },
        "updatemenus": [
         {
          "buttons": [
           {
            "args": [
             null,
             {
              "frame": {
               "duration": 2000,
               "redraw": true
              },
              "fromcurrent": true,
              "mode": "immediate",
              "transition": {
               "duration": 500,
               "easing": "linear"
              }
             }
            ],
            "label": "&#9654;",
            "method": "animate"
           },
           {
            "args": [
             [
              null
             ],
             {
              "frame": {
               "duration": 0,
               "redraw": true
              },
              "fromcurrent": true,
              "mode": "immediate",
              "transition": {
               "duration": 0,
               "easing": "linear"
              }
             }
            ],
            "label": "&#9724;",
            "method": "animate"
           }
          ],
          "direction": "left",
          "pad": {
           "r": 10,
           "t": 70
          },
          "showactive": false,
          "type": "buttons",
          "x": 0.1,
          "xanchor": "right",
          "y": 0,
          "yanchor": "top"
         }
        ]
       }
      },
      "text/html": [
       "<div>\n",
       "        \n",
       "        \n",
       "            <div id=\"c8ee7b76-e359-4319-90e1-6037bd630aae\" class=\"plotly-graph-div\" style=\"height:600px; width:100%;\"></div>\n",
       "            <script type=\"text/javascript\">\n",
       "                require([\"plotly\"], function(Plotly) {\n",
       "                    window.PLOTLYENV=window.PLOTLYENV || {};\n",
       "                    \n",
       "                if (document.getElementById(\"c8ee7b76-e359-4319-90e1-6037bd630aae\")) {\n",
       "                    Plotly.newPlot(\n",
       "                        'c8ee7b76-e359-4319-90e1-6037bd630aae',\n",
       "                        [{\"geo\": \"geo\", \"hoverlabel\": {\"namelength\": 0}, \"hovertemplate\": \"<b>%{hovertext}</b><br><br>Depyear=2014<br>Barrels=%{marker.color}<br>ISO ALPHA-3 code=%{location}\", \"hovertext\": [\"Canada\", \"China\", \"France (Southern)\", \"Japan\", \"Netherlands\", \"South Korea\"], \"legendgroup\": \"\", \"locations\": [\"CAN\", \"CHN\", \"FRA\", \"JPN\", \"NLD\", \"KOR\"], \"marker\": {\"color\": [2743847, 293763, 534973, 1193235, 1160248, 672847], \"coloraxis\": \"coloraxis\", \"size\": [2743847, 293763, 534973, 1193235, 1160248, 672847], \"sizemode\": \"area\", \"sizeref\": 380347.1275}, \"name\": \"\", \"showlegend\": false, \"type\": \"scattergeo\"}],\n",
       "                        {\"coloraxis\": {\"colorbar\": {\"title\": {\"text\": \"Barrels\"}}, \"colorscale\": [[0.0, \"rgb(237, 229, 207)\"], [0.16666666666666666, \"rgb(224, 194, 162)\"], [0.3333333333333333, \"rgb(211, 156, 131)\"], [0.5, \"rgb(193, 118, 111)\"], [0.6666666666666666, \"rgb(166, 84, 97)\"], [0.8333333333333334, \"rgb(129, 55, 83)\"], [1.0, \"rgb(84, 31, 63)\"]]}, \"geo\": {\"center\": {}, \"domain\": {\"x\": [0.0, 0.98], \"y\": [0.0, 1.0]}}, \"height\": 600, \"legend\": {\"itemsizing\": \"constant\", \"tracegroupgap\": 0}, \"margin\": {\"t\": 60}, \"sliders\": [{\"active\": 0, \"currentvalue\": {\"prefix\": \"Depyear=\"}, \"len\": 0.9, \"pad\": {\"b\": 10, \"t\": 60}, \"steps\": [{\"args\": [[\"2014\"], {\"frame\": {\"duration\": 0, \"redraw\": true}, \"fromcurrent\": true, \"mode\": \"immediate\", \"transition\": {\"duration\": 0, \"easing\": \"linear\"}}], \"label\": \"2014\", \"method\": \"animate\"}, {\"args\": [[\"2015\"], {\"frame\": {\"duration\": 0, \"redraw\": true}, \"fromcurrent\": true, \"mode\": \"immediate\", \"transition\": {\"duration\": 0, \"easing\": \"linear\"}}], \"label\": \"2015\", \"method\": \"animate\"}, {\"args\": [[\"2016\"], {\"frame\": {\"duration\": 0, \"redraw\": true}, \"fromcurrent\": true, \"mode\": \"immediate\", \"transition\": {\"duration\": 0, \"easing\": \"linear\"}}], \"label\": \"2016\", \"method\": \"animate\"}, {\"args\": [[\"2017\"], {\"frame\": {\"duration\": 0, \"redraw\": true}, \"fromcurrent\": true, \"mode\": \"immediate\", \"transition\": {\"duration\": 0, \"easing\": \"linear\"}}], \"label\": \"2017\", \"method\": \"animate\"}, {\"args\": [[\"2018\"], {\"frame\": {\"duration\": 0, \"redraw\": true}, \"fromcurrent\": true, \"mode\": \"immediate\", \"transition\": {\"duration\": 0, \"easing\": \"linear\"}}], \"label\": \"2018\", \"method\": \"animate\"}, {\"args\": [[\"2019\"], {\"frame\": {\"duration\": 0, \"redraw\": true}, \"fromcurrent\": true, \"mode\": \"immediate\", \"transition\": {\"duration\": 0, \"easing\": \"linear\"}}], \"label\": \"2019\", \"method\": \"animate\"}, {\"args\": [[\"2020\"], {\"frame\": {\"duration\": 0, \"redraw\": true}, \"fromcurrent\": true, \"mode\": \"immediate\", \"transition\": {\"duration\": 0, \"easing\": \"linear\"}}], \"label\": \"2020\", \"method\": \"animate\"}, {\"args\": [[\"2021\"], {\"frame\": {\"duration\": 0, \"redraw\": true}, \"fromcurrent\": true, \"mode\": \"immediate\", \"transition\": {\"duration\": 0, \"easing\": \"linear\"}}], \"label\": \"2021\", \"method\": \"animate\"}], \"x\": 0.1, \"xanchor\": \"left\", \"y\": 0, \"yanchor\": \"top\"}], \"template\": {\"data\": {\"bar\": [{\"error_x\": {\"color\": \"#2a3f5f\"}, \"error_y\": {\"color\": \"#2a3f5f\"}, \"marker\": {\"line\": {\"color\": \"#E5ECF6\", \"width\": 0.5}}, \"type\": \"bar\"}], \"barpolar\": [{\"marker\": {\"line\": {\"color\": \"#E5ECF6\", \"width\": 0.5}}, \"type\": \"barpolar\"}], \"carpet\": [{\"aaxis\": {\"endlinecolor\": \"#2a3f5f\", \"gridcolor\": \"white\", \"linecolor\": \"white\", \"minorgridcolor\": \"white\", \"startlinecolor\": \"#2a3f5f\"}, \"baxis\": {\"endlinecolor\": \"#2a3f5f\", \"gridcolor\": \"white\", \"linecolor\": \"white\", \"minorgridcolor\": \"white\", \"startlinecolor\": \"#2a3f5f\"}, \"type\": \"carpet\"}], \"choropleth\": [{\"colorbar\": {\"outlinewidth\": 0, \"ticks\": \"\"}, \"type\": \"choropleth\"}], \"contour\": [{\"colorbar\": {\"outlinewidth\": 0, \"ticks\": \"\"}, \"colorscale\": [[0.0, \"#0d0887\"], [0.1111111111111111, \"#46039f\"], [0.2222222222222222, \"#7201a8\"], [0.3333333333333333, \"#9c179e\"], [0.4444444444444444, \"#bd3786\"], [0.5555555555555556, \"#d8576b\"], [0.6666666666666666, \"#ed7953\"], [0.7777777777777778, \"#fb9f3a\"], [0.8888888888888888, \"#fdca26\"], [1.0, \"#f0f921\"]], \"type\": \"contour\"}], \"contourcarpet\": [{\"colorbar\": {\"outlinewidth\": 0, \"ticks\": \"\"}, \"type\": \"contourcarpet\"}], \"heatmap\": [{\"colorbar\": {\"outlinewidth\": 0, \"ticks\": \"\"}, \"colorscale\": [[0.0, \"#0d0887\"], [0.1111111111111111, \"#46039f\"], [0.2222222222222222, \"#7201a8\"], [0.3333333333333333, \"#9c179e\"], [0.4444444444444444, \"#bd3786\"], [0.5555555555555556, \"#d8576b\"], [0.6666666666666666, \"#ed7953\"], [0.7777777777777778, \"#fb9f3a\"], [0.8888888888888888, \"#fdca26\"], [1.0, \"#f0f921\"]], \"type\": \"heatmap\"}], \"heatmapgl\": [{\"colorbar\": {\"outlinewidth\": 0, \"ticks\": \"\"}, \"colorscale\": [[0.0, \"#0d0887\"], [0.1111111111111111, \"#46039f\"], [0.2222222222222222, \"#7201a8\"], [0.3333333333333333, \"#9c179e\"], [0.4444444444444444, \"#bd3786\"], [0.5555555555555556, \"#d8576b\"], [0.6666666666666666, \"#ed7953\"], [0.7777777777777778, \"#fb9f3a\"], [0.8888888888888888, \"#fdca26\"], [1.0, \"#f0f921\"]], \"type\": \"heatmapgl\"}], \"histogram\": [{\"marker\": {\"colorbar\": {\"outlinewidth\": 0, \"ticks\": \"\"}}, \"type\": \"histogram\"}], \"histogram2d\": [{\"colorbar\": {\"outlinewidth\": 0, \"ticks\": \"\"}, \"colorscale\": [[0.0, \"#0d0887\"], [0.1111111111111111, \"#46039f\"], [0.2222222222222222, \"#7201a8\"], [0.3333333333333333, \"#9c179e\"], [0.4444444444444444, \"#bd3786\"], [0.5555555555555556, \"#d8576b\"], [0.6666666666666666, \"#ed7953\"], [0.7777777777777778, \"#fb9f3a\"], [0.8888888888888888, \"#fdca26\"], [1.0, \"#f0f921\"]], \"type\": \"histogram2d\"}], \"histogram2dcontour\": [{\"colorbar\": {\"outlinewidth\": 0, \"ticks\": \"\"}, \"colorscale\": [[0.0, \"#0d0887\"], [0.1111111111111111, \"#46039f\"], [0.2222222222222222, \"#7201a8\"], [0.3333333333333333, \"#9c179e\"], [0.4444444444444444, \"#bd3786\"], [0.5555555555555556, \"#d8576b\"], [0.6666666666666666, \"#ed7953\"], [0.7777777777777778, \"#fb9f3a\"], [0.8888888888888888, \"#fdca26\"], [1.0, \"#f0f921\"]], \"type\": \"histogram2dcontour\"}], \"mesh3d\": [{\"colorbar\": {\"outlinewidth\": 0, \"ticks\": \"\"}, \"type\": \"mesh3d\"}], \"parcoords\": [{\"line\": {\"colorbar\": {\"outlinewidth\": 0, \"ticks\": \"\"}}, \"type\": \"parcoords\"}], \"scatter\": [{\"marker\": {\"colorbar\": {\"outlinewidth\": 0, \"ticks\": \"\"}}, \"type\": \"scatter\"}], \"scatter3d\": [{\"line\": {\"colorbar\": {\"outlinewidth\": 0, \"ticks\": \"\"}}, \"marker\": {\"colorbar\": {\"outlinewidth\": 0, \"ticks\": \"\"}}, \"type\": \"scatter3d\"}], \"scattercarpet\": [{\"marker\": {\"colorbar\": {\"outlinewidth\": 0, \"ticks\": \"\"}}, \"type\": \"scattercarpet\"}], \"scattergeo\": [{\"marker\": {\"colorbar\": {\"outlinewidth\": 0, \"ticks\": \"\"}}, \"type\": \"scattergeo\"}], \"scattergl\": [{\"marker\": {\"colorbar\": {\"outlinewidth\": 0, \"ticks\": \"\"}}, \"type\": \"scattergl\"}], \"scattermapbox\": [{\"marker\": {\"colorbar\": {\"outlinewidth\": 0, \"ticks\": \"\"}}, \"type\": \"scattermapbox\"}], \"scatterpolar\": [{\"marker\": {\"colorbar\": {\"outlinewidth\": 0, \"ticks\": \"\"}}, \"type\": \"scatterpolar\"}], \"scatterpolargl\": [{\"marker\": {\"colorbar\": {\"outlinewidth\": 0, \"ticks\": \"\"}}, \"type\": \"scatterpolargl\"}], \"scatterternary\": [{\"marker\": {\"colorbar\": {\"outlinewidth\": 0, \"ticks\": \"\"}}, \"type\": \"scatterternary\"}], \"surface\": [{\"colorbar\": {\"outlinewidth\": 0, \"ticks\": \"\"}, \"colorscale\": [[0.0, \"#0d0887\"], [0.1111111111111111, \"#46039f\"], [0.2222222222222222, \"#7201a8\"], [0.3333333333333333, \"#9c179e\"], [0.4444444444444444, \"#bd3786\"], [0.5555555555555556, \"#d8576b\"], [0.6666666666666666, \"#ed7953\"], [0.7777777777777778, \"#fb9f3a\"], [0.8888888888888888, \"#fdca26\"], [1.0, \"#f0f921\"]], \"type\": \"surface\"}], \"table\": [{\"cells\": {\"fill\": {\"color\": \"#EBF0F8\"}, \"line\": {\"color\": \"white\"}}, \"header\": {\"fill\": {\"color\": \"#C8D4E3\"}, \"line\": {\"color\": \"white\"}}, \"type\": \"table\"}]}, \"layout\": {\"annotationdefaults\": {\"arrowcolor\": \"#2a3f5f\", \"arrowhead\": 0, \"arrowwidth\": 1}, \"colorscale\": {\"diverging\": [[0, \"#8e0152\"], [0.1, \"#c51b7d\"], [0.2, \"#de77ae\"], [0.3, \"#f1b6da\"], [0.4, \"#fde0ef\"], [0.5, \"#f7f7f7\"], [0.6, \"#e6f5d0\"], [0.7, \"#b8e186\"], [0.8, \"#7fbc41\"], [0.9, \"#4d9221\"], [1, \"#276419\"]], \"sequential\": [[0.0, \"#0d0887\"], [0.1111111111111111, \"#46039f\"], [0.2222222222222222, \"#7201a8\"], [0.3333333333333333, \"#9c179e\"], [0.4444444444444444, \"#bd3786\"], [0.5555555555555556, \"#d8576b\"], [0.6666666666666666, \"#ed7953\"], [0.7777777777777778, \"#fb9f3a\"], [0.8888888888888888, \"#fdca26\"], [1.0, \"#f0f921\"]], \"sequentialminus\": [[0.0, \"#0d0887\"], [0.1111111111111111, \"#46039f\"], [0.2222222222222222, \"#7201a8\"], [0.3333333333333333, \"#9c179e\"], [0.4444444444444444, \"#bd3786\"], [0.5555555555555556, \"#d8576b\"], [0.6666666666666666, \"#ed7953\"], [0.7777777777777778, \"#fb9f3a\"], [0.8888888888888888, \"#fdca26\"], [1.0, \"#f0f921\"]]}, \"colorway\": [\"#636efa\", \"#EF553B\", \"#00cc96\", \"#ab63fa\", \"#FFA15A\", \"#19d3f3\", \"#FF6692\", \"#B6E880\", \"#FF97FF\", \"#FECB52\"], \"font\": {\"color\": \"#2a3f5f\"}, \"geo\": {\"bgcolor\": \"white\", \"lakecolor\": \"white\", \"landcolor\": \"#E5ECF6\", \"showlakes\": true, \"showland\": true, \"subunitcolor\": \"white\"}, \"hoverlabel\": {\"align\": \"left\"}, \"hovermode\": \"closest\", \"mapbox\": {\"style\": \"light\"}, \"paper_bgcolor\": \"white\", \"plot_bgcolor\": \"#E5ECF6\", \"polar\": {\"angularaxis\": {\"gridcolor\": \"white\", \"linecolor\": \"white\", \"ticks\": \"\"}, \"bgcolor\": \"#E5ECF6\", \"radialaxis\": {\"gridcolor\": \"white\", \"linecolor\": \"white\", \"ticks\": \"\"}}, \"scene\": {\"xaxis\": {\"backgroundcolor\": \"#E5ECF6\", \"gridcolor\": \"white\", \"gridwidth\": 2, \"linecolor\": \"white\", \"showbackground\": true, \"ticks\": \"\", \"zerolinecolor\": \"white\"}, \"yaxis\": {\"backgroundcolor\": \"#E5ECF6\", \"gridcolor\": \"white\", \"gridwidth\": 2, \"linecolor\": \"white\", \"showbackground\": true, \"ticks\": \"\", \"zerolinecolor\": \"white\"}, \"zaxis\": {\"backgroundcolor\": \"#E5ECF6\", \"gridcolor\": \"white\", \"gridwidth\": 2, \"linecolor\": \"white\", \"showbackground\": true, \"ticks\": \"\", \"zerolinecolor\": \"white\"}}, \"shapedefaults\": {\"line\": {\"color\": \"#2a3f5f\"}}, \"ternary\": {\"aaxis\": {\"gridcolor\": \"white\", \"linecolor\": \"white\", \"ticks\": \"\"}, \"baxis\": {\"gridcolor\": \"white\", \"linecolor\": \"white\", \"ticks\": \"\"}, \"bgcolor\": \"#E5ECF6\", \"caxis\": {\"gridcolor\": \"white\", \"linecolor\": \"white\", \"ticks\": \"\"}}, \"title\": {\"x\": 0.05}, \"xaxis\": {\"automargin\": true, \"gridcolor\": \"white\", \"linecolor\": \"white\", \"ticks\": \"\", \"zerolinecolor\": \"white\", \"zerolinewidth\": 2}, \"yaxis\": {\"automargin\": true, \"gridcolor\": \"white\", \"linecolor\": \"white\", \"ticks\": \"\", \"zerolinecolor\": \"white\", \"zerolinewidth\": 2}}}, \"updatemenus\": [{\"buttons\": [{\"args\": [null, {\"frame\": {\"duration\": 2000, \"redraw\": true}, \"fromcurrent\": true, \"mode\": \"immediate\", \"transition\": {\"duration\": 500, \"easing\": \"linear\"}}], \"label\": \"&#9654;\", \"method\": \"animate\"}, {\"args\": [[null], {\"frame\": {\"duration\": 0, \"redraw\": true}, \"fromcurrent\": true, \"mode\": \"immediate\", \"transition\": {\"duration\": 0, \"easing\": \"linear\"}}], \"label\": \"&#9724;\", \"method\": \"animate\"}], \"direction\": \"left\", \"pad\": {\"r\": 10, \"t\": 70}, \"showactive\": false, \"type\": \"buttons\", \"x\": 0.1, \"xanchor\": \"right\", \"y\": 0, \"yanchor\": \"top\"}]},\n",
       "                        {\"responsive\": true}\n",
       "                    ).then(function(){\n",
       "                            Plotly.addFrames('c8ee7b76-e359-4319-90e1-6037bd630aae', [{\"data\": [{\"geo\": \"geo\", \"hoverlabel\": {\"namelength\": 0}, \"hovertemplate\": \"<b>%{hovertext}</b><br><br>Depyear=2014<br>Barrels=%{marker.color}<br>ISO ALPHA-3 code=%{location}\", \"hovertext\": [\"Canada\", \"China\", \"France (Southern)\", \"Japan\", \"Netherlands\", \"South Korea\"], \"legendgroup\": \"\", \"locations\": [\"CAN\", \"CHN\", \"FRA\", \"JPN\", \"NLD\", \"KOR\"], \"marker\": {\"color\": [2743847, 293763, 534973, 1193235, 1160248, 672847], \"coloraxis\": \"coloraxis\", \"size\": [2743847, 293763, 534973, 1193235, 1160248, 672847], \"sizemode\": \"area\", \"sizeref\": 380347.1275}, \"name\": \"\", \"showlegend\": false, \"type\": \"scattergeo\"}], \"name\": \"2014\"}, {\"data\": [{\"geo\": \"geo\", \"hoverlabel\": {\"namelength\": 0}, \"hovertemplate\": \"<b>%{hovertext}</b><br><br>Depyear=2015<br>Barrels=%{marker.color}<br>ISO ALPHA-3 code=%{location}\", \"hovertext\": [\"Canada\", \"France (Southern)\", \"Japan\", \"Netherlands\", \"South Korea\", \"Bahamas\", \"Brazil\", \"Egypt\", \"India\", \"Italy\", \"Malta\", \"Mexico\", \"Singapore\", \"Spain\", \"United Arab Emirates\", \"United Kingdom\", \"Venezuela\"], \"legendgroup\": \"\", \"locations\": [\"CAN\", \"FRA\", \"JPN\", \"NLD\", \"KOR\", \"BHS\", \"BRA\", \"EGY\", \"IND\", \"ITA\", \"MLT\", \"MEX\", \"SGP\", \"ESP\", \"ARE\", \"GBR\", \"VEN\"], \"marker\": {\"color\": [85013853, 2787193, 250169, 10968531, 2262827, 107961, 1825231, 575282, 2009912, 4037532, 538369, 896398, 2111522, 1925879, 1930049, 871017, 996369], \"coloraxis\": \"coloraxis\", \"size\": [85013853, 2787193, 250169, 10968531, 2262827, 107961, 1825231, 575282, 2009912, 4037532, 538369, 896398, 2111522, 1925879, 1930049, 871017, 996369], \"sizemode\": \"area\", \"sizeref\": 380347.1275}, \"name\": \"\", \"showlegend\": false, \"type\": \"scattergeo\"}], \"name\": \"2015\"}, {\"data\": [{\"geo\": \"geo\", \"hoverlabel\": {\"namelength\": 0}, \"hovertemplate\": \"<b>%{hovertext}</b><br><br>Depyear=2016<br>Barrels=%{marker.color}<br>ISO ALPHA-3 code=%{location}\", \"hovertext\": [\"Canada\", \"China\", \"France (Southern)\", \"Japan\", \"Netherlands\", \"South Korea\", \"Bahamas\", \"Brazil\", \"Egypt\", \"India\", \"Italy\", \"Mexico\", \"Singapore\", \"Spain\", \"United Kingdom\", \"Venezuela\", \"Argentina\", \"Aruba\", \"Belgium\", \"Bonaire, Sint Eustatius and Saba\", \"Chile\", \"Colombia\", \"Curacao\", \"Cyprus\", \"Dominican Republic\", \"France (Northern)\", \"Germany\", \"Indonesia\", \"Malaysia\", \"Nicaragua\", \"Panama\", \"Peru\", \"Puerto Rico\", \"Thailand\", \"Togo\"], \"legendgroup\": \"\", \"locations\": [\"CAN\", \"CHN\", \"FRA\", \"JPN\", \"NLD\", \"KOR\", \"BHS\", \"BRA\", \"EGY\", \"IND\", \"ITA\", \"MEX\", \"SGP\", \"ESP\", \"GBR\", \"VEN\", \"ARG\", \"ABW\", \"BEL\", \"BES\", \"CHL\", \"COL\", \"CUW\", \"CYP\", \"DOM\", \"FRA\", \"DEU\", \"IDN\", \"MYS\", \"NIC\", \"PAN\", \"PER\", \"PRI\", \"THA\", \"TGO\"], \"marker\": {\"color\": [29848960, 4450738, 6036080, 2906961, 15959539, 2435866, 2002777, 1277788, 3594661, 2072138, 6558703, 369691, 2857301, 5561633, 6387731, 2806313, 589173, 517517, 542332, 518035, 157257, 4341830, 11930107, 867851, 538623, 821454, 524371, 1998133, 953277, 1231573, 4434049, 2291114, 753081, 989942, 828189], \"coloraxis\": \"coloraxis\", \"size\": [29848960, 4450738, 6036080, 2906961, 15959539, 2435866, 2002777, 1277788, 3594661, 2072138, 6558703, 369691, 2857301, 5561633, 6387731, 2806313, 589173, 517517, 542332, 518035, 157257, 4341830, 11930107, 867851, 538623, 821454, 524371, 1998133, 953277, 1231573, 4434049, 2291114, 753081, 989942, 828189], \"sizemode\": \"area\", \"sizeref\": 380347.1275}, \"name\": \"\", \"showlegend\": false, \"type\": \"scattergeo\"}], \"name\": \"2016\"}, {\"data\": [{\"geo\": \"geo\", \"hoverlabel\": {\"namelength\": 0}, \"hovertemplate\": \"<b>%{hovertext}</b><br><br>Depyear=2017<br>Barrels=%{marker.color}<br>ISO ALPHA-3 code=%{location}\", \"hovertext\": [\"Canada\", \"China\", \"France (Southern)\", \"Japan\", \"Netherlands\", \"South Korea\", \"Bahamas\", \"Brazil\", \"India\", \"Italy\", \"Malta\", \"Mexico\", \"Singapore\", \"Spain\", \"United Arab Emirates\", \"United Kingdom\", \"Venezuela\", \"Argentina\", \"Aruba\", \"Bonaire, Sint Eustatius and Saba\", \"Colombia\", \"Curacao\", \"Dominican Republic\", \"France (Northern)\", \"Indonesia\", \"Malaysia\", \"Nicaragua\", \"Panama\", \"Peru\", \"Thailand\", \"Denmark\", \"Gibraltar\", \"Guatemala\", \"Honduras\", \"Ireland\", \"Jamaica\", \"Lithuania\", \"Norway\", \"Poland\", \"South Africa\", \"Taiwan\", \"Turkey\", \"Uruguay\"], \"legendgroup\": \"\", \"locations\": [\"CAN\", \"CHN\", \"FRA\", \"JPN\", \"NLD\", \"KOR\", \"BHS\", \"BRA\", \"IND\", \"ITA\", \"MLT\", \"MEX\", \"SGP\", \"ESP\", \"ARE\", \"GBR\", \"VEN\", \"ARG\", \"ABW\", \"BES\", \"COL\", \"CUW\", \"DOM\", \"FRA\", \"IDN\", \"MYS\", \"NIC\", \"PAN\", \"PER\", \"THA\", \"DNK\", \"GIB\", \"GTM\", \"HND\", \"IRL\", \"JAM\", \"LTU\", \"NOR\", \"POL\", \"ZAF\", \"TWN\", \"TUR\", \"URY\"], \"marker\": {\"color\": [41515794, 73113297, 2844618, 11777209, 19564440, 20225114, 3719548, 6061340, 13986512, 12207147, 962064, 3662132, 19572066, 8241488, 1596159, 28745828, 13742329, 1765929, 4556241, 626762, 4482688, 5484402, 729562, 2718364, 3823761, 12266301, 402144, 2195547, 943105, 2137324, 741086, 1063851, 371017, 320361, 183323, 391883, 1330766, 1039886, 2618016, 646034, 8489555, 795092, 284772], \"coloraxis\": \"coloraxis\", \"size\": [41515794, 73113297, 2844618, 11777209, 19564440, 20225114, 3719548, 6061340, 13986512, 12207147, 962064, 3662132, 19572066, 8241488, 1596159, 28745828, 13742329, 1765929, 4556241, 626762, 4482688, 5484402, 729562, 2718364, 3823761, 12266301, 402144, 2195547, 943105, 2137324, 741086, 1063851, 371017, 320361, 183323, 391883, 1330766, 1039886, 2618016, 646034, 8489555, 795092, 284772], \"sizemode\": \"area\", \"sizeref\": 380347.1275}, \"name\": \"\", \"showlegend\": false, \"type\": \"scattergeo\"}], \"name\": \"2017\"}, {\"data\": [{\"geo\": \"geo\", \"hoverlabel\": {\"namelength\": 0}, \"hovertemplate\": \"<b>%{hovertext}</b><br><br>Depyear=2018<br>Barrels=%{marker.color}<br>ISO ALPHA-3 code=%{location}\", \"hovertext\": [\"Canada\", \"China\", \"France (Southern)\", \"Japan\", \"Netherlands\", \"South Korea\", \"Bahamas\", \"Brazil\", \"India\", \"Italy\", \"Mexico\", \"Singapore\", \"Spain\", \"United Arab Emirates\", \"United Kingdom\", \"Venezuela\", \"Bonaire, Sint Eustatius and Saba\", \"Chile\", \"Colombia\", \"Curacao\", \"Dominican Republic\", \"France (Northern)\", \"Germany\", \"Indonesia\", \"Malaysia\", \"Nicaragua\", \"Panama\", \"Peru\", \"Thailand\", \"Togo\", \"Denmark\", \"Gibraltar\", \"Ireland\", \"Jamaica\", \"Norway\", \"Poland\", \"South Africa\", \"Taiwan\", \"Uruguay\", \"Cote DIvoire\", \"Croatia\", \"Greece\", \"Lebanon\", \"Portugal\", \"Sweden\", \"Trinidad and Tobago\"], \"legendgroup\": \"\", \"locations\": [\"CAN\", \"CHN\", \"FRA\", \"JPN\", \"NLD\", \"KOR\", \"BHS\", \"BRA\", \"IND\", \"ITA\", \"MEX\", \"SGP\", \"ESP\", \"ARE\", \"GBR\", \"VEN\", \"BES\", \"CHL\", \"COL\", \"CUW\", \"DOM\", \"FRA\", \"DEU\", \"IDN\", \"MYS\", \"NIC\", \"PAN\", \"PER\", \"THA\", \"TGO\", \"DNK\", \"GIB\", \"IRL\", \"JAM\", \"NOR\", \"POL\", \"ZAF\", \"TWN\", \"URY\", \"CIV\", \"HRV\", \"GRC\", \"LBN\", \"PRT\", \"SWE\", \"TTO\"], \"marker\": {\"color\": [66449866, 69775521, 7142453, 25594926, 41299852, 68231655, 2486669, 10954177, 38074314, 36099249, 8589765, 32635708, 9959427, 9548304, 51917394, 20305272, 3564976, 3380719, 6747790, 1999980, 3829987, 3875900, 1067770, 2802617, 8274624, 1240874, 4993906, 2452153, 7010833, 314514, 6933577, 456152, 5024319, 1049719, 9096726, 5320130, 764824, 45024810, 2331193, 464657, 1280926, 2417108, 370025, 1161301, 513303, 281198], \"coloraxis\": \"coloraxis\", \"size\": [66449866, 69775521, 7142453, 25594926, 41299852, 68231655, 2486669, 10954177, 38074314, 36099249, 8589765, 32635708, 9959427, 9548304, 51917394, 20305272, 3564976, 3380719, 6747790, 1999980, 3829987, 3875900, 1067770, 2802617, 8274624, 1240874, 4993906, 2452153, 7010833, 314514, 6933577, 456152, 5024319, 1049719, 9096726, 5320130, 764824, 45024810, 2331193, 464657, 1280926, 2417108, 370025, 1161301, 513303, 281198], \"sizemode\": \"area\", \"sizeref\": 380347.1275}, \"name\": \"\", \"showlegend\": false, \"type\": \"scattergeo\"}], \"name\": \"2018\"}, {\"data\": [{\"geo\": \"geo\", \"hoverlabel\": {\"namelength\": 0}, \"hovertemplate\": \"<b>%{hovertext}</b><br><br>Depyear=2019<br>Barrels=%{marker.color}<br>ISO ALPHA-3 code=%{location}\", \"hovertext\": [\"Canada\", \"China\", \"France (Southern)\", \"Japan\", \"Netherlands\", \"South Korea\", \"Bahamas\", \"Brazil\", \"Egypt\", \"India\", \"Italy\", \"Malta\", \"Mexico\", \"Singapore\", \"Spain\", \"United Arab Emirates\", \"United Kingdom\", \"Venezuela\", \"Argentina\", \"Aruba\", \"Belgium\", \"Bonaire, Sint Eustatius and Saba\", \"Chile\", \"Colombia\", \"Dominican Republic\", \"France (Northern)\", \"Germany\", \"Indonesia\", \"Malaysia\", \"Nicaragua\", \"Panama\", \"Peru\", \"Thailand\", \"Denmark\", \"Gibraltar\", \"Honduras\", \"Ireland\", \"Jamaica\", \"Lithuania\", \"Norway\", \"Poland\", \"Taiwan\", \"Uruguay\", \"Croatia\", \"Greece\", \"Sweden\", \"Australia\", \"Bulgaria\", \"Hong Kong\", \"Israel\", \"Morocco\", \"Philippines\", \"Ukraine\", \"Vietnam\"], \"legendgroup\": \"\", \"locations\": [\"CAN\", \"CHN\", \"FRA\", \"JPN\", \"NLD\", \"KOR\", \"BHS\", \"BRA\", \"EGY\", \"IND\", \"ITA\", \"MLT\", \"MEX\", \"SGP\", \"ESP\", \"ARE\", \"GBR\", \"VEN\", \"ARG\", \"ABW\", \"BEL\", \"BES\", \"CHL\", \"COL\", \"DOM\", \"FRA\", \"DEU\", \"IDN\", \"MYS\", \"NIC\", \"PAN\", \"PER\", \"THA\", \"DNK\", \"GIB\", \"HND\", \"IRL\", \"JAM\", \"LTU\", \"NOR\", \"POL\", \"TWN\", \"URY\", \"HRV\", \"GRC\", \"SWE\", \"AUS\", \"BGR\", \"HKG\", \"ISR\", \"MAR\", \"PHL\", \"UKR\", \"VNM\"], \"marker\": {\"color\": [103714587, 41338578, 15730271, 19498210, 78199667, 146609889, 7227058, 17830208, 572127, 84151403, 38807298, 1461258, 6696134, 21786359, 18407503, 3147859, 87351101, 1631030, 1942040, 613934, 291161, 2185815, 8849097, 7668783, 5817730, 18580249, 10161579, 1963253, 19077892, 4063470, 25463504, 7421355, 26004446, 10354048, 635302, 329884, 13620200, 607722, 268040, 7974055, 5234852, 58033595, 2323558, 1617086, 5002700, 2466166, 13309997, 538991, 1036069, 1684823, 382513, 2067738, 1354856, 3593923], \"coloraxis\": \"coloraxis\", \"size\": [103714587, 41338578, 15730271, 19498210, 78199667, 146609889, 7227058, 17830208, 572127, 84151403, 38807298, 1461258, 6696134, 21786359, 18407503, 3147859, 87351101, 1631030, 1942040, 613934, 291161, 2185815, 8849097, 7668783, 5817730, 18580249, 10161579, 1963253, 19077892, 4063470, 25463504, 7421355, 26004446, 10354048, 635302, 329884, 13620200, 607722, 268040, 7974055, 5234852, 58033595, 2323558, 1617086, 5002700, 2466166, 13309997, 538991, 1036069, 1684823, 382513, 2067738, 1354856, 3593923], \"sizemode\": \"area\", \"sizeref\": 380347.1275}, \"name\": \"\", \"showlegend\": false, \"type\": \"scattergeo\"}], \"name\": \"2019\"}, {\"data\": [{\"geo\": \"geo\", \"hoverlabel\": {\"namelength\": 0}, \"hovertemplate\": \"<b>%{hovertext}</b><br><br>Depyear=2020<br>Barrels=%{marker.color}<br>ISO ALPHA-3 code=%{location}\", \"hovertext\": [\"Canada\", \"China\", \"France (Southern)\", \"Japan\", \"Netherlands\", \"South Korea\", \"Bahamas\", \"Brazil\", \"Egypt\", \"India\", \"Italy\", \"Mexico\", \"Singapore\", \"Spain\", \"United Kingdom\", \"Aruba\", \"Belgium\", \"Bonaire, Sint Eustatius and Saba\", \"Chile\", \"Colombia\", \"Curacao\", \"Cyprus\", \"Dominican Republic\", \"France (Northern)\", \"Germany\", \"Indonesia\", \"Malaysia\", \"Nicaragua\", \"Panama\", \"Peru\", \"Thailand\", \"Togo\", \"Denmark\", \"Honduras\", \"Ireland\", \"Jamaica\", \"Lithuania\", \"Norway\", \"South Africa\", \"Taiwan\", \"Uruguay\", \"Croatia\", \"Greece\", \"Lebanon\", \"Portugal\", \"Sweden\", \"Australia\", \"Hong Kong\", \"Israel\", \"Ukraine\", \"Vietnam\", \"Finland\", \"New Zealand\", \"Saint Lucia\"], \"legendgroup\": \"\", \"locations\": [\"CAN\", \"CHN\", \"FRA\", \"JPN\", \"NLD\", \"KOR\", \"BHS\", \"BRA\", \"EGY\", \"IND\", \"ITA\", \"MEX\", \"SGP\", \"ESP\", \"GBR\", \"ABW\", \"BEL\", \"BES\", \"CHL\", \"COL\", \"CUW\", \"CYP\", \"DOM\", \"FRA\", \"DEU\", \"IDN\", \"MYS\", \"NIC\", \"PAN\", \"PER\", \"THA\", \"TGO\", \"DNK\", \"HND\", \"IRL\", \"JAM\", \"LTU\", \"NOR\", \"ZAF\", \"TWN\", \"URY\", \"HRV\", \"GRC\", \"LBN\", \"PRT\", \"SWE\", \"AUS\", \"HKG\", \"ISR\", \"UKR\", \"VNM\", \"FIN\", \"NZL\", \"LCA\"], \"marker\": {\"color\": [83746021, 152138851, 15301015, 11647539, 82582836, 93019421, 8615415, 13018470, 736918, 101283234, 50942981, 3119994, 22176253, 20685272, 86125723, 995577, 111811, 4108663, 6945458, 5831260, 361827, 210205, 3033634, 18162321, 36843146, 7095600, 26198695, 2442730, 19294445, 6454567, 22720405, 995578, 9869278, 1039757, 15217757, 485444, 2595213, 3312336, 2669928, 45305180, 2870963, 831856, 2880688, 485298, 5853727, 14149702, 8724225, 616442, 2124031, 2022211, 3613197, 612663, 756578, 2242375], \"coloraxis\": \"coloraxis\", \"size\": [83746021, 152138851, 15301015, 11647539, 82582836, 93019421, 8615415, 13018470, 736918, 101283234, 50942981, 3119994, 22176253, 20685272, 86125723, 995577, 111811, 4108663, 6945458, 5831260, 361827, 210205, 3033634, 18162321, 36843146, 7095600, 26198695, 2442730, 19294445, 6454567, 22720405, 995578, 9869278, 1039757, 15217757, 485444, 2595213, 3312336, 2669928, 45305180, 2870963, 831856, 2880688, 485298, 5853727, 14149702, 8724225, 616442, 2124031, 2022211, 3613197, 612663, 756578, 2242375], \"sizemode\": \"area\", \"sizeref\": 380347.1275}, \"name\": \"\", \"showlegend\": false, \"type\": \"scattergeo\"}], \"name\": \"2020\"}, {\"data\": [{\"geo\": \"geo\", \"hoverlabel\": {\"namelength\": 0}, \"hovertemplate\": \"<b>%{hovertext}</b><br><br>Depyear=2021<br>Barrels=%{marker.color}<br>ISO ALPHA-3 code=%{location}\", \"hovertext\": [\"Canada\", \"China\", \"France (Southern)\", \"Japan\", \"Netherlands\", \"South Korea\", \"Bahamas\", \"Brazil\", \"India\", \"Italy\", \"Mexico\", \"Singapore\", \"Spain\", \"United Kingdom\", \"Belgium\", \"Bonaire, Sint Eustatius and Saba\", \"Chile\", \"Colombia\", \"Dominican Republic\", \"France (Northern)\", \"Germany\", \"Indonesia\", \"Malaysia\", \"Nicaragua\", \"Panama\", \"Peru\", \"Thailand\", \"Denmark\", \"Gibraltar\", \"Ireland\", \"Lithuania\", \"Norway\", \"South Africa\", \"Taiwan\", \"Portugal\", \"Sweden\", \"Trinidad and Tobago\", \"Australia\", \"Vietnam\"], \"legendgroup\": \"\", \"locations\": [\"CAN\", \"CHN\", \"FRA\", \"JPN\", \"NLD\", \"KOR\", \"BHS\", \"BRA\", \"IND\", \"ITA\", \"MEX\", \"SGP\", \"ESP\", \"GBR\", \"BEL\", \"BES\", \"CHL\", \"COL\", \"DOM\", \"FRA\", \"DEU\", \"IDN\", \"MYS\", \"NIC\", \"PAN\", \"PER\", \"THA\", \"DNK\", \"GIB\", \"IRL\", \"LTU\", \"NOR\", \"ZAF\", \"TWN\", \"PRT\", \"SWE\", \"TTO\", \"AUS\", \"VNM\"], \"marker\": {\"color\": [23584138, 38207857, 3564895, 3536636, 31407797, 44860813, 2328908, 5710541, 56117864, 11889728, 2835337, 16439917, 7913411, 27384499, 136164, 463730, 2753565, 2186199, 2040905, 5751990, 10819611, 306752, 2407843, 1149251, 5435570, 1811906, 4612056, 2029271, 592039, 3133118, 742555, 4620590, 1073072, 18399240, 2530711, 2047064, 429783, 3601150, 1073072], \"coloraxis\": \"coloraxis\", \"size\": [23584138, 38207857, 3564895, 3536636, 31407797, 44860813, 2328908, 5710541, 56117864, 11889728, 2835337, 16439917, 7913411, 27384499, 136164, 463730, 2753565, 2186199, 2040905, 5751990, 10819611, 306752, 2407843, 1149251, 5435570, 1811906, 4612056, 2029271, 592039, 3133118, 742555, 4620590, 1073072, 18399240, 2530711, 2047064, 429783, 3601150, 1073072], \"sizemode\": \"area\", \"sizeref\": 380347.1275}, \"name\": \"\", \"showlegend\": false, \"type\": \"scattergeo\"}], \"name\": \"2021\"}]);\n",
       "                        }).then(function(){\n",
       "                            \n",
       "var gd = document.getElementById('c8ee7b76-e359-4319-90e1-6037bd630aae');\n",
       "var x = new MutationObserver(function (mutations, observer) {{\n",
       "        var display = window.getComputedStyle(gd).display;\n",
       "        if (!display || display === 'none') {{\n",
       "            console.log([gd, 'removed!']);\n",
       "            Plotly.purge(gd);\n",
       "            observer.disconnect();\n",
       "        }}\n",
       "}});\n",
       "\n",
       "// Listen for the removal of the full notebook cells\n",
       "var notebookContainer = gd.closest('#notebook-container');\n",
       "if (notebookContainer) {{\n",
       "    x.observe(notebookContainer, {childList: true});\n",
       "}}\n",
       "\n",
       "// Listen for the clearing of the current output cell\n",
       "var outputEl = gd.closest('.output');\n",
       "if (outputEl) {{\n",
       "    x.observe(outputEl, {childList: true});\n",
       "}}\n",
       "\n",
       "                        })\n",
       "                };\n",
       "                });\n",
       "            </script>\n",
       "        </div>"
      ]
     },
     "metadata": {},
     "output_type": "display_data"
    }
   ],
   "source": [
    "iso=pd.read_csv(\"country_code_web.csv\")\n",
    "merged_df=merged_df.merge(iso,left_on='DischargeCountry',right_on='Load Country')\n",
    "discharge_countries=merged_df.pivot_table(index=['Departure Year','Adjusted Discharge Country'],values='Barrels',aggfunc=np.sum)\n",
    "discharge_countries.reset_index(inplace=True)\n",
    "discharge_countries=discharge_countries.merge(iso,left_on='Adjusted Discharge Country',right_on='Load Country')\n",
    "discharge_countries['Depyear']=discharge_countries['Departure Year'].astype('str')\n",
    "discharge_countries['Depyear']=discharge_countries['Depyear'].astype('int')\n",
    "fig_exports_destinations=px.scatter_geo(discharge_countries,locations='ISO ALPHA-3 code',size='Barrels',color='Barrels',color_continuous_scale='Brwnyl',animation_frame='Depyear',hover_name='Adjusted Discharge Country')\n",
    "fig_exports_destinations.layout.updatemenus[0].buttons[0].args[1][\"frame\"][\"duration\"] = 2000\n",
    "fig_exports_destinations.show()"
   ]
  },
  {
   "cell_type": "markdown",
   "metadata": {},
   "source": [
    "Exports originally limited to Canada picked up pace to other parts of the world especially to North-West Europe and Asia starting in 2017 and 2018. As Chinese refining capacity grew, the demand for U.S. crude steadily increased till 2019 when the trade wars caused a sharp drop in the imports by China. While the volumes went to South Korea and India, this raised a lot of friction between the USA and China. In 2020, the 2 countries agreed on a mechanism to resolve the trade dispute under which China was to reduce the trade deficit by purchasing increased value of energy commodities. That, coupled with the sharp decoupling of WTI prices during Covid-19 related crash, led to a strong rebound in 2020 volumes."
   ]
  },
  {
   "cell_type": "markdown",
   "metadata": {},
   "source": [
    "### Analyzing the sourcing of U.S. crude by Asian refiners based on spreads and freight  \n",
    "Here we are obtaining the prices of WTI-1M and 2M contracts, Dubai Singapore Swaps-M2 and M3, Freight rates for LOOP to Singapore for VLCC and Forward Freight Agreement (FFA) or assessed fair forward freight value for Corpus Christi to Japan for VLCC. The benchmark prices are used to calculate the spreads used in the analysis. For a refiner in Asia, the decision on buying a US crude oil depends on the oil landing cheaper in the refinery after accounting for the cost price and transport costs. Compared to purchases from Middle East, the U.S. cargoes have longer voyage time. The comparison of the two benchmarks needs to be performed on a lagged basis. The U.S. crude arriving in Asia loads a month earlier than the crude from Middle East and hence respective month prices are used."
   ]
  },
  {
   "cell_type": "code",
   "execution_count": 10,
   "metadata": {},
   "outputs": [],
   "source": [
    "prices=ek.get_timeseries(['CLc1','DUBSGSWMc2','CLc2','DUBSGSWMc3'],fields='Close',start_date='2017-01-01',interval='daily').fillna(method='ffill')\n",
    "freight=ek.get_timeseries(['TD-LPP-SIN'],start_date='2017-01-01',interval='daily').fillna(method='ffill')\n",
    "prices=prices.merge(freight,how='left',left_index=True,right_index=True)\n",
    "ffa=ek.get_timeseries(['TRTDCRPCHIFVMc2'],fields='CLOSE',start_date='2017-01-01',interval='daily').fillna(method='ffill')\n",
    "prices=prices.merge(ffa,how='left',left_index=True,right_index=True)\n",
    "prices.rename(columns={'CLc1':'WTI-1M','DUBSGSWMc2':'Dubai-2M','VALUE':'VLCC Freight US LOOP to Singapore',\n",
    "                      'CLc2':'WTI-2M','DUBSGSWMc3':'Dubai-3M','CLOSE':'FFA-Corpus Christi to Chiba M2'},inplace=True)\n",
    "prices.index=prices.index.to_period('M')"
   ]
  },
  {
   "cell_type": "code",
   "execution_count": 11,
   "metadata": {},
   "outputs": [],
   "source": [
    "monthly_prices=prices.groupby(by=prices.index).mean()\n",
    "monthly_prices['Spread1']=monthly_prices['WTI-1M']-monthly_prices['Dubai-2M']\n",
    "monthly_prices['Spread2']=monthly_prices['WTI-2M']-monthly_prices['Dubai-3M']"
   ]
  },
  {
   "cell_type": "code",
   "execution_count": 12,
   "metadata": {},
   "outputs": [],
   "source": [
    "pricing_analytics=merged_df.copy()\n",
    "pricing_analytics['Disch Region']=np.where(pricing_analytics['Adjusted Discharge Country'].isin(['India','China','Japan','South Korea']),\n",
    "                                          'APAC-4','Others')\n",
    "pricing_analytics=pricing_analytics.pivot_table(index='Departure Month',columns='Disch Region',values='Barrels',aggfunc=np.sum,fill_value=0,margins=True,margins_name='Total')\n",
    "pricing_analytics.drop(index='Total',inplace=True)\n",
    "pricing_analytics=pricing_analytics.loc[pd.Period('2017-01'):,]\n",
    "pricing_analytics=pricing_analytics.merge(monthly_prices,how='left',left_index=True,right_index=True)\n",
    "pricing_analytics.drop(columns=['Others','Total','WTI-1M','Dubai-2M','WTI-2M','Dubai-3M'],inplace=True)\n",
    "pricing_analytics['Flows_2M']=pricing_analytics['APAC-4'].shift(-2)\n",
    "pricing_analytics.dropna(inplace=True)"
   ]
  },
  {
   "cell_type": "code",
   "execution_count": 13,
   "metadata": {},
   "outputs": [
    {
     "data": {
      "application/vnd.plotly.v1+json": {
       "config": {
        "plotlyServerURL": "https://plot.ly"
       },
       "data": [
        {
         "hoverlabel": {
          "namelength": 0
         },
         "hovertemplate": "FFA-Corpus Christi to Chiba M2=%{x}<br>Spread2=%{y}<br>Flows_2M=%{marker.size}",
         "legendgroup": "",
         "marker": {
          "color": "#636efa",
          "size": [
           13614137,
           15141142,
           17165720,
           21820084,
           17995325,
           17684154,
           23260295,
           20428258,
           18875577,
           34909347,
           30843845,
           25995893,
           29157862,
           31603835,
           18743204,
           14975792,
           25120018,
           18939284,
           19659960,
           17089971,
           22155296,
           48163049,
           33337580,
           34473331,
           28904825,
           36830735,
           35049541,
           25101769,
           38383704,
           45430059,
           22590019,
           27904649,
           32115269,
           14683174
          ],
          "sizemode": "area",
          "sizeref": 120407.6225,
          "symbol": "circle"
         },
         "mode": "markers",
         "name": "",
         "showlegend": false,
         "type": "scatter",
         "x": [
          18.035714285714285,
          18.237272727272725,
          19.76826086956522,
          22.6275,
          28.69826086956522,
          29.441363636363633,
          28.445238095238096,
          21.196086956521736,
          19.675500000000003,
          20.845238095238095,
          19.672727272727272,
          19.1895652173913,
          20.078,
          22.096521739130434,
          24.88818181818182,
          29.222500000000004,
          51.09826086956521,
          40.172380952380955,
          36.50714285714286,
          37.35863636363635,
          22.083500000000004,
          47.429545454545455,
          52.464285714285715,
          25.067,
          24.994545454545456,
          19.75217391304348,
          22.274761904761903,
          21.009090909090904,
          19.735,
          16.7647619047619,
          17.55954545454546,
          15.597,
          17.095000000000002,
          16.820000000000004
         ],
         "xaxis": "x",
         "y": [
          -4.926520146520147,
          -3.1599999999999966,
          -4.6410869565217325,
          -5.436000000000007,
          -7.214347826086936,
          -8.636590909090934,
          -7.299047619047641,
          -6.514782608695661,
          -8.045749999999998,
          -7.530000000000008,
          -4.848181818181807,
          -5.609782608695646,
          -4.265999999999998,
          -3.7117391304348004,
          -1.7224999999999753,
          -1.0909523809523805,
          -1.9078260869565185,
          -1.170952380952393,
          -1.7480952380952388,
          -3.5695454545454552,
          -3.4035000000000153,
          -6.337727272727264,
          -7.221428571428564,
          -4.071000000000005,
          -1.5718181818181947,
          -1.6882608695652195,
          -2.23952380952381,
          -2.3536363636363618,
          -1.7404545454545257,
          -1.5242857142857247,
          -1.9699999999999989,
          -1.931999999999995,
          -0.6585000000000036,
          -0.3126086956521661
         ],
         "yaxis": "y"
        }
       ],
       "layout": {
        "height": 600,
        "legend": {
         "itemsizing": "constant",
         "tracegroupgap": 0
        },
        "template": {
         "data": {
          "bar": [
           {
            "error_x": {
             "color": "#2a3f5f"
            },
            "error_y": {
             "color": "#2a3f5f"
            },
            "marker": {
             "line": {
              "color": "#E5ECF6",
              "width": 0.5
             }
            },
            "type": "bar"
           }
          ],
          "barpolar": [
           {
            "marker": {
             "line": {
              "color": "#E5ECF6",
              "width": 0.5
             }
            },
            "type": "barpolar"
           }
          ],
          "carpet": [
           {
            "aaxis": {
             "endlinecolor": "#2a3f5f",
             "gridcolor": "white",
             "linecolor": "white",
             "minorgridcolor": "white",
             "startlinecolor": "#2a3f5f"
            },
            "baxis": {
             "endlinecolor": "#2a3f5f",
             "gridcolor": "white",
             "linecolor": "white",
             "minorgridcolor": "white",
             "startlinecolor": "#2a3f5f"
            },
            "type": "carpet"
           }
          ],
          "choropleth": [
           {
            "colorbar": {
             "outlinewidth": 0,
             "ticks": ""
            },
            "type": "choropleth"
           }
          ],
          "contour": [
           {
            "colorbar": {
             "outlinewidth": 0,
             "ticks": ""
            },
            "colorscale": [
             [
              0,
              "#0d0887"
             ],
             [
              0.1111111111111111,
              "#46039f"
             ],
             [
              0.2222222222222222,
              "#7201a8"
             ],
             [
              0.3333333333333333,
              "#9c179e"
             ],
             [
              0.4444444444444444,
              "#bd3786"
             ],
             [
              0.5555555555555556,
              "#d8576b"
             ],
             [
              0.6666666666666666,
              "#ed7953"
             ],
             [
              0.7777777777777778,
              "#fb9f3a"
             ],
             [
              0.8888888888888888,
              "#fdca26"
             ],
             [
              1,
              "#f0f921"
             ]
            ],
            "type": "contour"
           }
          ],
          "contourcarpet": [
           {
            "colorbar": {
             "outlinewidth": 0,
             "ticks": ""
            },
            "type": "contourcarpet"
           }
          ],
          "heatmap": [
           {
            "colorbar": {
             "outlinewidth": 0,
             "ticks": ""
            },
            "colorscale": [
             [
              0,
              "#0d0887"
             ],
             [
              0.1111111111111111,
              "#46039f"
             ],
             [
              0.2222222222222222,
              "#7201a8"
             ],
             [
              0.3333333333333333,
              "#9c179e"
             ],
             [
              0.4444444444444444,
              "#bd3786"
             ],
             [
              0.5555555555555556,
              "#d8576b"
             ],
             [
              0.6666666666666666,
              "#ed7953"
             ],
             [
              0.7777777777777778,
              "#fb9f3a"
             ],
             [
              0.8888888888888888,
              "#fdca26"
             ],
             [
              1,
              "#f0f921"
             ]
            ],
            "type": "heatmap"
           }
          ],
          "heatmapgl": [
           {
            "colorbar": {
             "outlinewidth": 0,
             "ticks": ""
            },
            "colorscale": [
             [
              0,
              "#0d0887"
             ],
             [
              0.1111111111111111,
              "#46039f"
             ],
             [
              0.2222222222222222,
              "#7201a8"
             ],
             [
              0.3333333333333333,
              "#9c179e"
             ],
             [
              0.4444444444444444,
              "#bd3786"
             ],
             [
              0.5555555555555556,
              "#d8576b"
             ],
             [
              0.6666666666666666,
              "#ed7953"
             ],
             [
              0.7777777777777778,
              "#fb9f3a"
             ],
             [
              0.8888888888888888,
              "#fdca26"
             ],
             [
              1,
              "#f0f921"
             ]
            ],
            "type": "heatmapgl"
           }
          ],
          "histogram": [
           {
            "marker": {
             "colorbar": {
              "outlinewidth": 0,
              "ticks": ""
             }
            },
            "type": "histogram"
           }
          ],
          "histogram2d": [
           {
            "colorbar": {
             "outlinewidth": 0,
             "ticks": ""
            },
            "colorscale": [
             [
              0,
              "#0d0887"
             ],
             [
              0.1111111111111111,
              "#46039f"
             ],
             [
              0.2222222222222222,
              "#7201a8"
             ],
             [
              0.3333333333333333,
              "#9c179e"
             ],
             [
              0.4444444444444444,
              "#bd3786"
             ],
             [
              0.5555555555555556,
              "#d8576b"
             ],
             [
              0.6666666666666666,
              "#ed7953"
             ],
             [
              0.7777777777777778,
              "#fb9f3a"
             ],
             [
              0.8888888888888888,
              "#fdca26"
             ],
             [
              1,
              "#f0f921"
             ]
            ],
            "type": "histogram2d"
           }
          ],
          "histogram2dcontour": [
           {
            "colorbar": {
             "outlinewidth": 0,
             "ticks": ""
            },
            "colorscale": [
             [
              0,
              "#0d0887"
             ],
             [
              0.1111111111111111,
              "#46039f"
             ],
             [
              0.2222222222222222,
              "#7201a8"
             ],
             [
              0.3333333333333333,
              "#9c179e"
             ],
             [
              0.4444444444444444,
              "#bd3786"
             ],
             [
              0.5555555555555556,
              "#d8576b"
             ],
             [
              0.6666666666666666,
              "#ed7953"
             ],
             [
              0.7777777777777778,
              "#fb9f3a"
             ],
             [
              0.8888888888888888,
              "#fdca26"
             ],
             [
              1,
              "#f0f921"
             ]
            ],
            "type": "histogram2dcontour"
           }
          ],
          "mesh3d": [
           {
            "colorbar": {
             "outlinewidth": 0,
             "ticks": ""
            },
            "type": "mesh3d"
           }
          ],
          "parcoords": [
           {
            "line": {
             "colorbar": {
              "outlinewidth": 0,
              "ticks": ""
             }
            },
            "type": "parcoords"
           }
          ],
          "scatter": [
           {
            "marker": {
             "colorbar": {
              "outlinewidth": 0,
              "ticks": ""
             }
            },
            "type": "scatter"
           }
          ],
          "scatter3d": [
           {
            "line": {
             "colorbar": {
              "outlinewidth": 0,
              "ticks": ""
             }
            },
            "marker": {
             "colorbar": {
              "outlinewidth": 0,
              "ticks": ""
             }
            },
            "type": "scatter3d"
           }
          ],
          "scattercarpet": [
           {
            "marker": {
             "colorbar": {
              "outlinewidth": 0,
              "ticks": ""
             }
            },
            "type": "scattercarpet"
           }
          ],
          "scattergeo": [
           {
            "marker": {
             "colorbar": {
              "outlinewidth": 0,
              "ticks": ""
             }
            },
            "type": "scattergeo"
           }
          ],
          "scattergl": [
           {
            "marker": {
             "colorbar": {
              "outlinewidth": 0,
              "ticks": ""
             }
            },
            "type": "scattergl"
           }
          ],
          "scattermapbox": [
           {
            "marker": {
             "colorbar": {
              "outlinewidth": 0,
              "ticks": ""
             }
            },
            "type": "scattermapbox"
           }
          ],
          "scatterpolar": [
           {
            "marker": {
             "colorbar": {
              "outlinewidth": 0,
              "ticks": ""
             }
            },
            "type": "scatterpolar"
           }
          ],
          "scatterpolargl": [
           {
            "marker": {
             "colorbar": {
              "outlinewidth": 0,
              "ticks": ""
             }
            },
            "type": "scatterpolargl"
           }
          ],
          "scatterternary": [
           {
            "marker": {
             "colorbar": {
              "outlinewidth": 0,
              "ticks": ""
             }
            },
            "type": "scatterternary"
           }
          ],
          "surface": [
           {
            "colorbar": {
             "outlinewidth": 0,
             "ticks": ""
            },
            "colorscale": [
             [
              0,
              "#0d0887"
             ],
             [
              0.1111111111111111,
              "#46039f"
             ],
             [
              0.2222222222222222,
              "#7201a8"
             ],
             [
              0.3333333333333333,
              "#9c179e"
             ],
             [
              0.4444444444444444,
              "#bd3786"
             ],
             [
              0.5555555555555556,
              "#d8576b"
             ],
             [
              0.6666666666666666,
              "#ed7953"
             ],
             [
              0.7777777777777778,
              "#fb9f3a"
             ],
             [
              0.8888888888888888,
              "#fdca26"
             ],
             [
              1,
              "#f0f921"
             ]
            ],
            "type": "surface"
           }
          ],
          "table": [
           {
            "cells": {
             "fill": {
              "color": "#EBF0F8"
             },
             "line": {
              "color": "white"
             }
            },
            "header": {
             "fill": {
              "color": "#C8D4E3"
             },
             "line": {
              "color": "white"
             }
            },
            "type": "table"
           }
          ]
         },
         "layout": {
          "annotationdefaults": {
           "arrowcolor": "#2a3f5f",
           "arrowhead": 0,
           "arrowwidth": 1
          },
          "colorscale": {
           "diverging": [
            [
             0,
             "#8e0152"
            ],
            [
             0.1,
             "#c51b7d"
            ],
            [
             0.2,
             "#de77ae"
            ],
            [
             0.3,
             "#f1b6da"
            ],
            [
             0.4,
             "#fde0ef"
            ],
            [
             0.5,
             "#f7f7f7"
            ],
            [
             0.6,
             "#e6f5d0"
            ],
            [
             0.7,
             "#b8e186"
            ],
            [
             0.8,
             "#7fbc41"
            ],
            [
             0.9,
             "#4d9221"
            ],
            [
             1,
             "#276419"
            ]
           ],
           "sequential": [
            [
             0,
             "#0d0887"
            ],
            [
             0.1111111111111111,
             "#46039f"
            ],
            [
             0.2222222222222222,
             "#7201a8"
            ],
            [
             0.3333333333333333,
             "#9c179e"
            ],
            [
             0.4444444444444444,
             "#bd3786"
            ],
            [
             0.5555555555555556,
             "#d8576b"
            ],
            [
             0.6666666666666666,
             "#ed7953"
            ],
            [
             0.7777777777777778,
             "#fb9f3a"
            ],
            [
             0.8888888888888888,
             "#fdca26"
            ],
            [
             1,
             "#f0f921"
            ]
           ],
           "sequentialminus": [
            [
             0,
             "#0d0887"
            ],
            [
             0.1111111111111111,
             "#46039f"
            ],
            [
             0.2222222222222222,
             "#7201a8"
            ],
            [
             0.3333333333333333,
             "#9c179e"
            ],
            [
             0.4444444444444444,
             "#bd3786"
            ],
            [
             0.5555555555555556,
             "#d8576b"
            ],
            [
             0.6666666666666666,
             "#ed7953"
            ],
            [
             0.7777777777777778,
             "#fb9f3a"
            ],
            [
             0.8888888888888888,
             "#fdca26"
            ],
            [
             1,
             "#f0f921"
            ]
           ]
          },
          "colorway": [
           "#636efa",
           "#EF553B",
           "#00cc96",
           "#ab63fa",
           "#FFA15A",
           "#19d3f3",
           "#FF6692",
           "#B6E880",
           "#FF97FF",
           "#FECB52"
          ],
          "font": {
           "color": "#2a3f5f"
          },
          "geo": {
           "bgcolor": "white",
           "lakecolor": "white",
           "landcolor": "#E5ECF6",
           "showlakes": true,
           "showland": true,
           "subunitcolor": "white"
          },
          "hoverlabel": {
           "align": "left"
          },
          "hovermode": "closest",
          "mapbox": {
           "style": "light"
          },
          "paper_bgcolor": "white",
          "plot_bgcolor": "#E5ECF6",
          "polar": {
           "angularaxis": {
            "gridcolor": "white",
            "linecolor": "white",
            "ticks": ""
           },
           "bgcolor": "#E5ECF6",
           "radialaxis": {
            "gridcolor": "white",
            "linecolor": "white",
            "ticks": ""
           }
          },
          "scene": {
           "xaxis": {
            "backgroundcolor": "#E5ECF6",
            "gridcolor": "white",
            "gridwidth": 2,
            "linecolor": "white",
            "showbackground": true,
            "ticks": "",
            "zerolinecolor": "white"
           },
           "yaxis": {
            "backgroundcolor": "#E5ECF6",
            "gridcolor": "white",
            "gridwidth": 2,
            "linecolor": "white",
            "showbackground": true,
            "ticks": "",
            "zerolinecolor": "white"
           },
           "zaxis": {
            "backgroundcolor": "#E5ECF6",
            "gridcolor": "white",
            "gridwidth": 2,
            "linecolor": "white",
            "showbackground": true,
            "ticks": "",
            "zerolinecolor": "white"
           }
          },
          "shapedefaults": {
           "line": {
            "color": "#2a3f5f"
           }
          },
          "ternary": {
           "aaxis": {
            "gridcolor": "white",
            "linecolor": "white",
            "ticks": ""
           },
           "baxis": {
            "gridcolor": "white",
            "linecolor": "white",
            "ticks": ""
           },
           "bgcolor": "#E5ECF6",
           "caxis": {
            "gridcolor": "white",
            "linecolor": "white",
            "ticks": ""
           }
          },
          "title": {
           "x": 0.05
          },
          "xaxis": {
           "automargin": true,
           "gridcolor": "white",
           "linecolor": "white",
           "ticks": "",
           "zerolinecolor": "white",
           "zerolinewidth": 2
          },
          "yaxis": {
           "automargin": true,
           "gridcolor": "white",
           "linecolor": "white",
           "ticks": "",
           "zerolinecolor": "white",
           "zerolinewidth": 2
          }
         }
        },
        "title": {
         "text": "Exports to APAC-4"
        },
        "xaxis": {
         "anchor": "y",
         "domain": [
          0,
          0.98
         ],
         "title": {
          "text": "FFA-Corpus Christi to Chiba M2"
         }
        },
        "yaxis": {
         "anchor": "x",
         "domain": [
          0,
          1
         ],
         "title": {
          "text": "Spread2"
         }
        }
       }
      },
      "text/html": [
       "<div>\n",
       "        \n",
       "        \n",
       "            <div id=\"e63b07bf-700d-48ed-8d45-995daacf0290\" class=\"plotly-graph-div\" style=\"height:600px; width:100%;\"></div>\n",
       "            <script type=\"text/javascript\">\n",
       "                require([\"plotly\"], function(Plotly) {\n",
       "                    window.PLOTLYENV=window.PLOTLYENV || {};\n",
       "                    \n",
       "                if (document.getElementById(\"e63b07bf-700d-48ed-8d45-995daacf0290\")) {\n",
       "                    Plotly.newPlot(\n",
       "                        'e63b07bf-700d-48ed-8d45-995daacf0290',\n",
       "                        [{\"hoverlabel\": {\"namelength\": 0}, \"hovertemplate\": \"FFA-Corpus Christi to Chiba M2=%{x}<br>Spread2=%{y}<br>Flows_2M=%{marker.size}\", \"legendgroup\": \"\", \"marker\": {\"color\": \"#636efa\", \"size\": [13614137.0, 15141142.0, 17165720.0, 21820084.0, 17995325.0, 17684154.0, 23260295.0, 20428258.0, 18875577.0, 34909347.0, 30843845.0, 25995893.0, 29157862.0, 31603835.0, 18743204.0, 14975792.0, 25120018.0, 18939284.0, 19659960.0, 17089971.0, 22155296.0, 48163049.0, 33337580.0, 34473331.0, 28904825.0, 36830735.0, 35049541.0, 25101769.0, 38383704.0, 45430059.0, 22590019.0, 27904649.0, 32115269.0, 14683174.0], \"sizemode\": \"area\", \"sizeref\": 120407.6225, \"symbol\": \"circle\"}, \"mode\": \"markers\", \"name\": \"\", \"showlegend\": false, \"type\": \"scatter\", \"x\": [18.035714285714285, 18.237272727272725, 19.76826086956522, 22.6275, 28.69826086956522, 29.441363636363633, 28.445238095238096, 21.196086956521736, 19.675500000000003, 20.845238095238095, 19.672727272727272, 19.1895652173913, 20.078, 22.096521739130434, 24.88818181818182, 29.222500000000004, 51.09826086956521, 40.172380952380955, 36.50714285714286, 37.35863636363635, 22.083500000000004, 47.429545454545455, 52.464285714285715, 25.067, 24.994545454545456, 19.75217391304348, 22.274761904761903, 21.009090909090904, 19.735, 16.7647619047619, 17.55954545454546, 15.597, 17.095000000000002, 16.820000000000004], \"xaxis\": \"x\", \"y\": [-4.926520146520147, -3.1599999999999966, -4.6410869565217325, -5.436000000000007, -7.214347826086936, -8.636590909090934, -7.299047619047641, -6.514782608695661, -8.045749999999998, -7.530000000000008, -4.848181818181807, -5.609782608695646, -4.265999999999998, -3.7117391304348004, -1.7224999999999753, -1.0909523809523805, -1.9078260869565185, -1.170952380952393, -1.7480952380952388, -3.5695454545454552, -3.4035000000000153, -6.337727272727264, -7.221428571428564, -4.071000000000005, -1.5718181818181947, -1.6882608695652195, -2.23952380952381, -2.3536363636363618, -1.7404545454545257, -1.5242857142857247, -1.9699999999999989, -1.931999999999995, -0.6585000000000036, -0.3126086956521661], \"yaxis\": \"y\"}],\n",
       "                        {\"height\": 600, \"legend\": {\"itemsizing\": \"constant\", \"tracegroupgap\": 0}, \"template\": {\"data\": {\"bar\": [{\"error_x\": {\"color\": \"#2a3f5f\"}, \"error_y\": {\"color\": \"#2a3f5f\"}, \"marker\": {\"line\": {\"color\": \"#E5ECF6\", \"width\": 0.5}}, \"type\": \"bar\"}], \"barpolar\": [{\"marker\": {\"line\": {\"color\": \"#E5ECF6\", \"width\": 0.5}}, \"type\": \"barpolar\"}], \"carpet\": [{\"aaxis\": {\"endlinecolor\": \"#2a3f5f\", \"gridcolor\": \"white\", \"linecolor\": \"white\", \"minorgridcolor\": \"white\", \"startlinecolor\": \"#2a3f5f\"}, \"baxis\": {\"endlinecolor\": \"#2a3f5f\", \"gridcolor\": \"white\", \"linecolor\": \"white\", \"minorgridcolor\": \"white\", \"startlinecolor\": \"#2a3f5f\"}, \"type\": \"carpet\"}], \"choropleth\": [{\"colorbar\": {\"outlinewidth\": 0, \"ticks\": \"\"}, \"type\": \"choropleth\"}], \"contour\": [{\"colorbar\": {\"outlinewidth\": 0, \"ticks\": \"\"}, \"colorscale\": [[0.0, \"#0d0887\"], [0.1111111111111111, \"#46039f\"], [0.2222222222222222, \"#7201a8\"], [0.3333333333333333, \"#9c179e\"], [0.4444444444444444, \"#bd3786\"], [0.5555555555555556, \"#d8576b\"], [0.6666666666666666, \"#ed7953\"], [0.7777777777777778, \"#fb9f3a\"], [0.8888888888888888, \"#fdca26\"], [1.0, \"#f0f921\"]], \"type\": \"contour\"}], \"contourcarpet\": [{\"colorbar\": {\"outlinewidth\": 0, \"ticks\": \"\"}, \"type\": \"contourcarpet\"}], \"heatmap\": [{\"colorbar\": {\"outlinewidth\": 0, \"ticks\": \"\"}, \"colorscale\": [[0.0, \"#0d0887\"], [0.1111111111111111, \"#46039f\"], [0.2222222222222222, \"#7201a8\"], [0.3333333333333333, \"#9c179e\"], [0.4444444444444444, \"#bd3786\"], [0.5555555555555556, \"#d8576b\"], [0.6666666666666666, \"#ed7953\"], [0.7777777777777778, \"#fb9f3a\"], [0.8888888888888888, \"#fdca26\"], [1.0, \"#f0f921\"]], \"type\": \"heatmap\"}], \"heatmapgl\": [{\"colorbar\": {\"outlinewidth\": 0, \"ticks\": \"\"}, \"colorscale\": [[0.0, \"#0d0887\"], [0.1111111111111111, \"#46039f\"], [0.2222222222222222, \"#7201a8\"], [0.3333333333333333, \"#9c179e\"], [0.4444444444444444, \"#bd3786\"], [0.5555555555555556, \"#d8576b\"], [0.6666666666666666, \"#ed7953\"], [0.7777777777777778, \"#fb9f3a\"], [0.8888888888888888, \"#fdca26\"], [1.0, \"#f0f921\"]], \"type\": \"heatmapgl\"}], \"histogram\": [{\"marker\": {\"colorbar\": {\"outlinewidth\": 0, \"ticks\": \"\"}}, \"type\": \"histogram\"}], \"histogram2d\": [{\"colorbar\": {\"outlinewidth\": 0, \"ticks\": \"\"}, \"colorscale\": [[0.0, \"#0d0887\"], [0.1111111111111111, \"#46039f\"], [0.2222222222222222, \"#7201a8\"], [0.3333333333333333, \"#9c179e\"], [0.4444444444444444, \"#bd3786\"], [0.5555555555555556, \"#d8576b\"], [0.6666666666666666, \"#ed7953\"], [0.7777777777777778, \"#fb9f3a\"], [0.8888888888888888, \"#fdca26\"], [1.0, \"#f0f921\"]], \"type\": \"histogram2d\"}], \"histogram2dcontour\": [{\"colorbar\": {\"outlinewidth\": 0, \"ticks\": \"\"}, \"colorscale\": [[0.0, \"#0d0887\"], [0.1111111111111111, \"#46039f\"], [0.2222222222222222, \"#7201a8\"], [0.3333333333333333, \"#9c179e\"], [0.4444444444444444, \"#bd3786\"], [0.5555555555555556, \"#d8576b\"], [0.6666666666666666, \"#ed7953\"], [0.7777777777777778, \"#fb9f3a\"], [0.8888888888888888, \"#fdca26\"], [1.0, \"#f0f921\"]], \"type\": \"histogram2dcontour\"}], \"mesh3d\": [{\"colorbar\": {\"outlinewidth\": 0, \"ticks\": \"\"}, \"type\": \"mesh3d\"}], \"parcoords\": [{\"line\": {\"colorbar\": {\"outlinewidth\": 0, \"ticks\": \"\"}}, \"type\": \"parcoords\"}], \"scatter\": [{\"marker\": {\"colorbar\": {\"outlinewidth\": 0, \"ticks\": \"\"}}, \"type\": \"scatter\"}], \"scatter3d\": [{\"line\": {\"colorbar\": {\"outlinewidth\": 0, \"ticks\": \"\"}}, \"marker\": {\"colorbar\": {\"outlinewidth\": 0, \"ticks\": \"\"}}, \"type\": \"scatter3d\"}], \"scattercarpet\": [{\"marker\": {\"colorbar\": {\"outlinewidth\": 0, \"ticks\": \"\"}}, \"type\": \"scattercarpet\"}], \"scattergeo\": [{\"marker\": {\"colorbar\": {\"outlinewidth\": 0, \"ticks\": \"\"}}, \"type\": \"scattergeo\"}], \"scattergl\": [{\"marker\": {\"colorbar\": {\"outlinewidth\": 0, \"ticks\": \"\"}}, \"type\": \"scattergl\"}], \"scattermapbox\": [{\"marker\": {\"colorbar\": {\"outlinewidth\": 0, \"ticks\": \"\"}}, \"type\": \"scattermapbox\"}], \"scatterpolar\": [{\"marker\": {\"colorbar\": {\"outlinewidth\": 0, \"ticks\": \"\"}}, \"type\": \"scatterpolar\"}], \"scatterpolargl\": [{\"marker\": {\"colorbar\": {\"outlinewidth\": 0, \"ticks\": \"\"}}, \"type\": \"scatterpolargl\"}], \"scatterternary\": [{\"marker\": {\"colorbar\": {\"outlinewidth\": 0, \"ticks\": \"\"}}, \"type\": \"scatterternary\"}], \"surface\": [{\"colorbar\": {\"outlinewidth\": 0, \"ticks\": \"\"}, \"colorscale\": [[0.0, \"#0d0887\"], [0.1111111111111111, \"#46039f\"], [0.2222222222222222, \"#7201a8\"], [0.3333333333333333, \"#9c179e\"], [0.4444444444444444, \"#bd3786\"], [0.5555555555555556, \"#d8576b\"], [0.6666666666666666, \"#ed7953\"], [0.7777777777777778, \"#fb9f3a\"], [0.8888888888888888, \"#fdca26\"], [1.0, \"#f0f921\"]], \"type\": \"surface\"}], \"table\": [{\"cells\": {\"fill\": {\"color\": \"#EBF0F8\"}, \"line\": {\"color\": \"white\"}}, \"header\": {\"fill\": {\"color\": \"#C8D4E3\"}, \"line\": {\"color\": \"white\"}}, \"type\": \"table\"}]}, \"layout\": {\"annotationdefaults\": {\"arrowcolor\": \"#2a3f5f\", \"arrowhead\": 0, \"arrowwidth\": 1}, \"colorscale\": {\"diverging\": [[0, \"#8e0152\"], [0.1, \"#c51b7d\"], [0.2, \"#de77ae\"], [0.3, \"#f1b6da\"], [0.4, \"#fde0ef\"], [0.5, \"#f7f7f7\"], [0.6, \"#e6f5d0\"], [0.7, \"#b8e186\"], [0.8, \"#7fbc41\"], [0.9, \"#4d9221\"], [1, \"#276419\"]], \"sequential\": [[0.0, \"#0d0887\"], [0.1111111111111111, \"#46039f\"], [0.2222222222222222, \"#7201a8\"], [0.3333333333333333, \"#9c179e\"], [0.4444444444444444, \"#bd3786\"], [0.5555555555555556, \"#d8576b\"], [0.6666666666666666, \"#ed7953\"], [0.7777777777777778, \"#fb9f3a\"], [0.8888888888888888, \"#fdca26\"], [1.0, \"#f0f921\"]], \"sequentialminus\": [[0.0, \"#0d0887\"], [0.1111111111111111, \"#46039f\"], [0.2222222222222222, \"#7201a8\"], [0.3333333333333333, \"#9c179e\"], [0.4444444444444444, \"#bd3786\"], [0.5555555555555556, \"#d8576b\"], [0.6666666666666666, \"#ed7953\"], [0.7777777777777778, \"#fb9f3a\"], [0.8888888888888888, \"#fdca26\"], [1.0, \"#f0f921\"]]}, \"colorway\": [\"#636efa\", \"#EF553B\", \"#00cc96\", \"#ab63fa\", \"#FFA15A\", \"#19d3f3\", \"#FF6692\", \"#B6E880\", \"#FF97FF\", \"#FECB52\"], \"font\": {\"color\": \"#2a3f5f\"}, \"geo\": {\"bgcolor\": \"white\", \"lakecolor\": \"white\", \"landcolor\": \"#E5ECF6\", \"showlakes\": true, \"showland\": true, \"subunitcolor\": \"white\"}, \"hoverlabel\": {\"align\": \"left\"}, \"hovermode\": \"closest\", \"mapbox\": {\"style\": \"light\"}, \"paper_bgcolor\": \"white\", \"plot_bgcolor\": \"#E5ECF6\", \"polar\": {\"angularaxis\": {\"gridcolor\": \"white\", \"linecolor\": \"white\", \"ticks\": \"\"}, \"bgcolor\": \"#E5ECF6\", \"radialaxis\": {\"gridcolor\": \"white\", \"linecolor\": \"white\", \"ticks\": \"\"}}, \"scene\": {\"xaxis\": {\"backgroundcolor\": \"#E5ECF6\", \"gridcolor\": \"white\", \"gridwidth\": 2, \"linecolor\": \"white\", \"showbackground\": true, \"ticks\": \"\", \"zerolinecolor\": \"white\"}, \"yaxis\": {\"backgroundcolor\": \"#E5ECF6\", \"gridcolor\": \"white\", \"gridwidth\": 2, \"linecolor\": \"white\", \"showbackground\": true, \"ticks\": \"\", \"zerolinecolor\": \"white\"}, \"zaxis\": {\"backgroundcolor\": \"#E5ECF6\", \"gridcolor\": \"white\", \"gridwidth\": 2, \"linecolor\": \"white\", \"showbackground\": true, \"ticks\": \"\", \"zerolinecolor\": \"white\"}}, \"shapedefaults\": {\"line\": {\"color\": \"#2a3f5f\"}}, \"ternary\": {\"aaxis\": {\"gridcolor\": \"white\", \"linecolor\": \"white\", \"ticks\": \"\"}, \"baxis\": {\"gridcolor\": \"white\", \"linecolor\": \"white\", \"ticks\": \"\"}, \"bgcolor\": \"#E5ECF6\", \"caxis\": {\"gridcolor\": \"white\", \"linecolor\": \"white\", \"ticks\": \"\"}}, \"title\": {\"x\": 0.05}, \"xaxis\": {\"automargin\": true, \"gridcolor\": \"white\", \"linecolor\": \"white\", \"ticks\": \"\", \"zerolinecolor\": \"white\", \"zerolinewidth\": 2}, \"yaxis\": {\"automargin\": true, \"gridcolor\": \"white\", \"linecolor\": \"white\", \"ticks\": \"\", \"zerolinecolor\": \"white\", \"zerolinewidth\": 2}}}, \"title\": {\"text\": \"Exports to APAC-4\"}, \"xaxis\": {\"anchor\": \"y\", \"domain\": [0.0, 0.98], \"title\": {\"text\": \"FFA-Corpus Christi to Chiba M2\"}}, \"yaxis\": {\"anchor\": \"x\", \"domain\": [0.0, 1.0], \"title\": {\"text\": \"Spread2\"}}},\n",
       "                        {\"responsive\": true}\n",
       "                    ).then(function(){\n",
       "                            \n",
       "var gd = document.getElementById('e63b07bf-700d-48ed-8d45-995daacf0290');\n",
       "var x = new MutationObserver(function (mutations, observer) {{\n",
       "        var display = window.getComputedStyle(gd).display;\n",
       "        if (!display || display === 'none') {{\n",
       "            console.log([gd, 'removed!']);\n",
       "            Plotly.purge(gd);\n",
       "            observer.disconnect();\n",
       "        }}\n",
       "}});\n",
       "\n",
       "// Listen for the removal of the full notebook cells\n",
       "var notebookContainer = gd.closest('#notebook-container');\n",
       "if (notebookContainer) {{\n",
       "    x.observe(notebookContainer, {childList: true});\n",
       "}}\n",
       "\n",
       "// Listen for the clearing of the current output cell\n",
       "var outputEl = gd.closest('.output');\n",
       "if (outputEl) {{\n",
       "    x.observe(outputEl, {childList: true});\n",
       "}}\n",
       "\n",
       "                        })\n",
       "                };\n",
       "                });\n",
       "            </script>\n",
       "        </div>"
      ]
     },
     "metadata": {},
     "output_type": "display_data"
    }
   ],
   "source": [
    "px.scatter(pricing_analytics,x='FFA-Corpus Christi to Chiba M2',y='Spread2',size='Flows_2M',title='Exports to APAC-4')"
   ]
  },
  {
   "cell_type": "markdown",
   "metadata": {},
   "source": [
    "The clustering of the data towards the low end of forward freight scale suggests that forward freight between USGC and Asia is a bigger factor in drawing volumes towards the continent compared to the spreads between WTI and Dubai. While the spreads are important, the value of freight appears to be a bigger motivator for Asian buyers in deciding whether to purchase crude from Middle East or from the U.S. \n",
    "\n",
    "Such analysis can help extract more value from data in making trading decisions. For instance a sample could be used to test a hypothesis to see if U.S. crude would be more attractive in a contango price environment, as it would be bought earlier than Dubai linked crude."
   ]
  },
  {
   "cell_type": "markdown",
   "metadata": {},
   "source": [
    "### Using Fixtures data to forecast crude exports. \n",
    "Finally we're going to see if fixtures data could be a predictor of U.S. crude exports. We retrieve Refinitiv Fixtures data through RDMS API call and combining it with our estimates of crude exports from PADD 3 we compiled before using trade flows."
   ]
  },
  {
   "cell_type": "code",
   "execution_count": 14,
   "metadata": {},
   "outputs": [],
   "source": [
    "fixturesType = 'Tanker'\n",
    "fields = '*'\n",
    "headers = { 'Authorization' : config['RDMS']['Key'],'Accept':\"text/csv\" }\n",
    "result = requests.get(api + '/Fixtures/FixtureData/'+fixturesType+'?Fields='+fields, headers=headers, verify=True)\n",
    "fixtures = open('Fixtures.csv', \"w\")\n",
    "fixtures.write(result.text)\n",
    "fixtures.close()\n",
    "fixtures_df=pd.read_csv('Fixtures.csv',parse_dates=True,infer_datetime_format=True)"
   ]
  },
  {
   "cell_type": "code",
   "execution_count": 15,
   "metadata": {},
   "outputs": [],
   "source": [
    "filtered_fixtures_df=fixtures_df[fixtures_df['LoadZone']=='US Gulf']\n",
    "filtered_fixtures_df=filtered_fixtures_df[filtered_fixtures_df['Commodity']=='Crude Oil']\n",
    "filtered_fixtures_df['Laycan Month']=pd.to_datetime(filtered_fixtures_df['LaycanFrom']).dt.to_period('M')\n",
    "fix_pivot=filtered_fixtures_df.pivot_table(index='Laycan Month',values='CargoSize',aggfunc=np.sum)\n",
    "fix_pivot=fix_pivot.merge(padd3_mnbpd,how='left',left_index=True,right_index=True)\n",
    "fix_pivot.drop(columns=['PADD 3','mnbpd','Pipeline exports_kbpd'],inplace=True)\n",
    "fix_pivot['CargoSize']=fix_pivot['CargoSize']*7.3 #Converting from Tonnes to Barrels using BPT\n",
    "fix_pivot=fix_pivot.loc[pd.Period('2020-01'):]\n",
    "fix_pivot.index=fix_pivot.index.astype('str')"
   ]
  },
  {
   "cell_type": "code",
   "execution_count": 16,
   "metadata": {},
   "outputs": [
    {
     "data": {
      "application/vnd.plotly.v1+json": {
       "config": {
        "plotlyServerURL": "https://plot.ly"
       },
       "data": [
        {
         "marker": {
          "color": "rgba(255, 153, 51, 0.6)",
          "line": {
           "color": "rgba(255, 153, 51, 1.0)",
           "width": 1
          }
         },
         "name": "Barrels",
         "orientation": "v",
         "text": "",
         "type": "bar",
         "x": [
          "2020-01",
          "2020-02",
          "2020-03",
          "2020-04",
          "2020-05",
          "2020-06",
          "2020-07",
          "2020-08",
          "2020-09",
          "2020-10",
          "2020-11",
          "2020-12",
          "2021-01",
          "2021-02",
          "2021-03",
          "2021-04",
          "2021-05",
          "2021-06"
         ],
         "y": [
          89681232,
          91123189,
          95527112,
          80933673,
          75150046,
          72552870,
          92885451,
          86332017,
          81917545,
          81828191,
          67693731,
          94474581,
          90430435,
          58213064,
          74626309,
          85550575,
          41688779,
          ""
         ]
        },
        {
         "line": {
          "color": "lime"
         },
         "name": "Fixtures qty",
         "type": "scatter",
         "x": [
          "2020-01",
          "2020-02",
          "2020-03",
          "2020-04",
          "2020-05",
          "2020-06",
          "2020-07",
          "2020-08",
          "2020-09",
          "2020-10",
          "2020-11",
          "2020-12",
          "2021-01",
          "2021-02",
          "2021-03",
          "2021-04",
          "2021-05",
          "2021-06"
         ],
         "y": [
          53874000,
          39434600,
          63677900,
          46574000,
          46026500,
          39675427,
          36536500,
          48472000,
          44128500,
          33981500,
          20038500,
          41135500,
          39785000,
          35551000,
          33434000,
          43727000,
          37996500,
          13797000
         ]
        }
       ],
       "layout": {
        "legend": {
         "bgcolor": "#151516",
         "font": {
          "color": "#D9D9D9"
         }
        },
        "paper_bgcolor": "#151516",
        "plot_bgcolor": "#151516",
        "template": {
         "data": {
          "bar": [
           {
            "error_x": {
             "color": "#2a3f5f"
            },
            "error_y": {
             "color": "#2a3f5f"
            },
            "marker": {
             "line": {
              "color": "#E5ECF6",
              "width": 0.5
             }
            },
            "type": "bar"
           }
          ],
          "barpolar": [
           {
            "marker": {
             "line": {
              "color": "#E5ECF6",
              "width": 0.5
             }
            },
            "type": "barpolar"
           }
          ],
          "carpet": [
           {
            "aaxis": {
             "endlinecolor": "#2a3f5f",
             "gridcolor": "white",
             "linecolor": "white",
             "minorgridcolor": "white",
             "startlinecolor": "#2a3f5f"
            },
            "baxis": {
             "endlinecolor": "#2a3f5f",
             "gridcolor": "white",
             "linecolor": "white",
             "minorgridcolor": "white",
             "startlinecolor": "#2a3f5f"
            },
            "type": "carpet"
           }
          ],
          "choropleth": [
           {
            "colorbar": {
             "outlinewidth": 0,
             "ticks": ""
            },
            "type": "choropleth"
           }
          ],
          "contour": [
           {
            "colorbar": {
             "outlinewidth": 0,
             "ticks": ""
            },
            "colorscale": [
             [
              0,
              "#0d0887"
             ],
             [
              0.1111111111111111,
              "#46039f"
             ],
             [
              0.2222222222222222,
              "#7201a8"
             ],
             [
              0.3333333333333333,
              "#9c179e"
             ],
             [
              0.4444444444444444,
              "#bd3786"
             ],
             [
              0.5555555555555556,
              "#d8576b"
             ],
             [
              0.6666666666666666,
              "#ed7953"
             ],
             [
              0.7777777777777778,
              "#fb9f3a"
             ],
             [
              0.8888888888888888,
              "#fdca26"
             ],
             [
              1,
              "#f0f921"
             ]
            ],
            "type": "contour"
           }
          ],
          "contourcarpet": [
           {
            "colorbar": {
             "outlinewidth": 0,
             "ticks": ""
            },
            "type": "contourcarpet"
           }
          ],
          "heatmap": [
           {
            "colorbar": {
             "outlinewidth": 0,
             "ticks": ""
            },
            "colorscale": [
             [
              0,
              "#0d0887"
             ],
             [
              0.1111111111111111,
              "#46039f"
             ],
             [
              0.2222222222222222,
              "#7201a8"
             ],
             [
              0.3333333333333333,
              "#9c179e"
             ],
             [
              0.4444444444444444,
              "#bd3786"
             ],
             [
              0.5555555555555556,
              "#d8576b"
             ],
             [
              0.6666666666666666,
              "#ed7953"
             ],
             [
              0.7777777777777778,
              "#fb9f3a"
             ],
             [
              0.8888888888888888,
              "#fdca26"
             ],
             [
              1,
              "#f0f921"
             ]
            ],
            "type": "heatmap"
           }
          ],
          "heatmapgl": [
           {
            "colorbar": {
             "outlinewidth": 0,
             "ticks": ""
            },
            "colorscale": [
             [
              0,
              "#0d0887"
             ],
             [
              0.1111111111111111,
              "#46039f"
             ],
             [
              0.2222222222222222,
              "#7201a8"
             ],
             [
              0.3333333333333333,
              "#9c179e"
             ],
             [
              0.4444444444444444,
              "#bd3786"
             ],
             [
              0.5555555555555556,
              "#d8576b"
             ],
             [
              0.6666666666666666,
              "#ed7953"
             ],
             [
              0.7777777777777778,
              "#fb9f3a"
             ],
             [
              0.8888888888888888,
              "#fdca26"
             ],
             [
              1,
              "#f0f921"
             ]
            ],
            "type": "heatmapgl"
           }
          ],
          "histogram": [
           {
            "marker": {
             "colorbar": {
              "outlinewidth": 0,
              "ticks": ""
             }
            },
            "type": "histogram"
           }
          ],
          "histogram2d": [
           {
            "colorbar": {
             "outlinewidth": 0,
             "ticks": ""
            },
            "colorscale": [
             [
              0,
              "#0d0887"
             ],
             [
              0.1111111111111111,
              "#46039f"
             ],
             [
              0.2222222222222222,
              "#7201a8"
             ],
             [
              0.3333333333333333,
              "#9c179e"
             ],
             [
              0.4444444444444444,
              "#bd3786"
             ],
             [
              0.5555555555555556,
              "#d8576b"
             ],
             [
              0.6666666666666666,
              "#ed7953"
             ],
             [
              0.7777777777777778,
              "#fb9f3a"
             ],
             [
              0.8888888888888888,
              "#fdca26"
             ],
             [
              1,
              "#f0f921"
             ]
            ],
            "type": "histogram2d"
           }
          ],
          "histogram2dcontour": [
           {
            "colorbar": {
             "outlinewidth": 0,
             "ticks": ""
            },
            "colorscale": [
             [
              0,
              "#0d0887"
             ],
             [
              0.1111111111111111,
              "#46039f"
             ],
             [
              0.2222222222222222,
              "#7201a8"
             ],
             [
              0.3333333333333333,
              "#9c179e"
             ],
             [
              0.4444444444444444,
              "#bd3786"
             ],
             [
              0.5555555555555556,
              "#d8576b"
             ],
             [
              0.6666666666666666,
              "#ed7953"
             ],
             [
              0.7777777777777778,
              "#fb9f3a"
             ],
             [
              0.8888888888888888,
              "#fdca26"
             ],
             [
              1,
              "#f0f921"
             ]
            ],
            "type": "histogram2dcontour"
           }
          ],
          "mesh3d": [
           {
            "colorbar": {
             "outlinewidth": 0,
             "ticks": ""
            },
            "type": "mesh3d"
           }
          ],
          "parcoords": [
           {
            "line": {
             "colorbar": {
              "outlinewidth": 0,
              "ticks": ""
             }
            },
            "type": "parcoords"
           }
          ],
          "scatter": [
           {
            "marker": {
             "colorbar": {
              "outlinewidth": 0,
              "ticks": ""
             }
            },
            "type": "scatter"
           }
          ],
          "scatter3d": [
           {
            "line": {
             "colorbar": {
              "outlinewidth": 0,
              "ticks": ""
             }
            },
            "marker": {
             "colorbar": {
              "outlinewidth": 0,
              "ticks": ""
             }
            },
            "type": "scatter3d"
           }
          ],
          "scattercarpet": [
           {
            "marker": {
             "colorbar": {
              "outlinewidth": 0,
              "ticks": ""
             }
            },
            "type": "scattercarpet"
           }
          ],
          "scattergeo": [
           {
            "marker": {
             "colorbar": {
              "outlinewidth": 0,
              "ticks": ""
             }
            },
            "type": "scattergeo"
           }
          ],
          "scattergl": [
           {
            "marker": {
             "colorbar": {
              "outlinewidth": 0,
              "ticks": ""
             }
            },
            "type": "scattergl"
           }
          ],
          "scattermapbox": [
           {
            "marker": {
             "colorbar": {
              "outlinewidth": 0,
              "ticks": ""
             }
            },
            "type": "scattermapbox"
           }
          ],
          "scatterpolar": [
           {
            "marker": {
             "colorbar": {
              "outlinewidth": 0,
              "ticks": ""
             }
            },
            "type": "scatterpolar"
           }
          ],
          "scatterpolargl": [
           {
            "marker": {
             "colorbar": {
              "outlinewidth": 0,
              "ticks": ""
             }
            },
            "type": "scatterpolargl"
           }
          ],
          "scatterternary": [
           {
            "marker": {
             "colorbar": {
              "outlinewidth": 0,
              "ticks": ""
             }
            },
            "type": "scatterternary"
           }
          ],
          "surface": [
           {
            "colorbar": {
             "outlinewidth": 0,
             "ticks": ""
            },
            "colorscale": [
             [
              0,
              "#0d0887"
             ],
             [
              0.1111111111111111,
              "#46039f"
             ],
             [
              0.2222222222222222,
              "#7201a8"
             ],
             [
              0.3333333333333333,
              "#9c179e"
             ],
             [
              0.4444444444444444,
              "#bd3786"
             ],
             [
              0.5555555555555556,
              "#d8576b"
             ],
             [
              0.6666666666666666,
              "#ed7953"
             ],
             [
              0.7777777777777778,
              "#fb9f3a"
             ],
             [
              0.8888888888888888,
              "#fdca26"
             ],
             [
              1,
              "#f0f921"
             ]
            ],
            "type": "surface"
           }
          ],
          "table": [
           {
            "cells": {
             "fill": {
              "color": "#EBF0F8"
             },
             "line": {
              "color": "white"
             }
            },
            "header": {
             "fill": {
              "color": "#C8D4E3"
             },
             "line": {
              "color": "white"
             }
            },
            "type": "table"
           }
          ]
         },
         "layout": {
          "annotationdefaults": {
           "arrowcolor": "#2a3f5f",
           "arrowhead": 0,
           "arrowwidth": 1
          },
          "colorscale": {
           "diverging": [
            [
             0,
             "#8e0152"
            ],
            [
             0.1,
             "#c51b7d"
            ],
            [
             0.2,
             "#de77ae"
            ],
            [
             0.3,
             "#f1b6da"
            ],
            [
             0.4,
             "#fde0ef"
            ],
            [
             0.5,
             "#f7f7f7"
            ],
            [
             0.6,
             "#e6f5d0"
            ],
            [
             0.7,
             "#b8e186"
            ],
            [
             0.8,
             "#7fbc41"
            ],
            [
             0.9,
             "#4d9221"
            ],
            [
             1,
             "#276419"
            ]
           ],
           "sequential": [
            [
             0,
             "#0d0887"
            ],
            [
             0.1111111111111111,
             "#46039f"
            ],
            [
             0.2222222222222222,
             "#7201a8"
            ],
            [
             0.3333333333333333,
             "#9c179e"
            ],
            [
             0.4444444444444444,
             "#bd3786"
            ],
            [
             0.5555555555555556,
             "#d8576b"
            ],
            [
             0.6666666666666666,
             "#ed7953"
            ],
            [
             0.7777777777777778,
             "#fb9f3a"
            ],
            [
             0.8888888888888888,
             "#fdca26"
            ],
            [
             1,
             "#f0f921"
            ]
           ],
           "sequentialminus": [
            [
             0,
             "#0d0887"
            ],
            [
             0.1111111111111111,
             "#46039f"
            ],
            [
             0.2222222222222222,
             "#7201a8"
            ],
            [
             0.3333333333333333,
             "#9c179e"
            ],
            [
             0.4444444444444444,
             "#bd3786"
            ],
            [
             0.5555555555555556,
             "#d8576b"
            ],
            [
             0.6666666666666666,
             "#ed7953"
            ],
            [
             0.7777777777777778,
             "#fb9f3a"
            ],
            [
             0.8888888888888888,
             "#fdca26"
            ],
            [
             1,
             "#f0f921"
            ]
           ]
          },
          "colorway": [
           "#636efa",
           "#EF553B",
           "#00cc96",
           "#ab63fa",
           "#FFA15A",
           "#19d3f3",
           "#FF6692",
           "#B6E880",
           "#FF97FF",
           "#FECB52"
          ],
          "font": {
           "color": "#2a3f5f"
          },
          "geo": {
           "bgcolor": "white",
           "lakecolor": "white",
           "landcolor": "#E5ECF6",
           "showlakes": true,
           "showland": true,
           "subunitcolor": "white"
          },
          "hoverlabel": {
           "align": "left"
          },
          "hovermode": "closest",
          "mapbox": {
           "style": "light"
          },
          "paper_bgcolor": "white",
          "plot_bgcolor": "#E5ECF6",
          "polar": {
           "angularaxis": {
            "gridcolor": "white",
            "linecolor": "white",
            "ticks": ""
           },
           "bgcolor": "#E5ECF6",
           "radialaxis": {
            "gridcolor": "white",
            "linecolor": "white",
            "ticks": ""
           }
          },
          "scene": {
           "xaxis": {
            "backgroundcolor": "#E5ECF6",
            "gridcolor": "white",
            "gridwidth": 2,
            "linecolor": "white",
            "showbackground": true,
            "ticks": "",
            "zerolinecolor": "white"
           },
           "yaxis": {
            "backgroundcolor": "#E5ECF6",
            "gridcolor": "white",
            "gridwidth": 2,
            "linecolor": "white",
            "showbackground": true,
            "ticks": "",
            "zerolinecolor": "white"
           },
           "zaxis": {
            "backgroundcolor": "#E5ECF6",
            "gridcolor": "white",
            "gridwidth": 2,
            "linecolor": "white",
            "showbackground": true,
            "ticks": "",
            "zerolinecolor": "white"
           }
          },
          "shapedefaults": {
           "line": {
            "color": "#2a3f5f"
           }
          },
          "ternary": {
           "aaxis": {
            "gridcolor": "white",
            "linecolor": "white",
            "ticks": ""
           },
           "baxis": {
            "gridcolor": "white",
            "linecolor": "white",
            "ticks": ""
           },
           "bgcolor": "#E5ECF6",
           "caxis": {
            "gridcolor": "white",
            "linecolor": "white",
            "ticks": ""
           }
          },
          "title": {
           "x": 0.05
          },
          "xaxis": {
           "automargin": true,
           "gridcolor": "white",
           "linecolor": "white",
           "ticks": "",
           "zerolinecolor": "white",
           "zerolinewidth": 2
          },
          "yaxis": {
           "automargin": true,
           "gridcolor": "white",
           "linecolor": "white",
           "ticks": "",
           "zerolinecolor": "white",
           "zerolinewidth": 2
          }
         }
        },
        "title": {
         "font": {
          "color": "#D9D9D9"
         },
         "text": "PADD 3 exports vs Fixtures"
        },
        "xaxis": {
         "gridcolor": "#434343",
         "showgrid": true,
         "tickfont": {
          "color": "#C2C2C2"
         },
         "title": {
          "font": {
           "color": "#D9D9D9"
          },
          "text": ""
         },
         "zerolinecolor": "#666570"
        },
        "yaxis": {
         "gridcolor": "#434343",
         "showgrid": true,
         "tickfont": {
          "color": "#C2C2C2"
         },
         "title": {
          "font": {
           "color": "#D9D9D9"
          },
          "text": ""
         },
         "zerolinecolor": "#666570"
        }
       }
      },
      "text/html": [
       "<div>\n",
       "        \n",
       "        \n",
       "            <div id=\"5b997f9c-a760-4506-9355-ec7bf96aa573\" class=\"plotly-graph-div\" style=\"height:525px; width:100%;\"></div>\n",
       "            <script type=\"text/javascript\">\n",
       "                require([\"plotly\"], function(Plotly) {\n",
       "                    window.PLOTLYENV=window.PLOTLYENV || {};\n",
       "                    \n",
       "                if (document.getElementById(\"5b997f9c-a760-4506-9355-ec7bf96aa573\")) {\n",
       "                    Plotly.newPlot(\n",
       "                        '5b997f9c-a760-4506-9355-ec7bf96aa573',\n",
       "                        [{\"marker\": {\"color\": \"rgba(255, 153, 51, 0.6)\", \"line\": {\"color\": \"rgba(255, 153, 51, 1.0)\", \"width\": 1}}, \"name\": \"Barrels\", \"orientation\": \"v\", \"text\": \"\", \"type\": \"bar\", \"x\": [\"2020-01\", \"2020-02\", \"2020-03\", \"2020-04\", \"2020-05\", \"2020-06\", \"2020-07\", \"2020-08\", \"2020-09\", \"2020-10\", \"2020-11\", \"2020-12\", \"2021-01\", \"2021-02\", \"2021-03\", \"2021-04\", \"2021-05\", \"2021-06\"], \"y\": [89681232.0, 91123189.0, 95527112.0, 80933673.0, 75150046.0, 72552870.0, 92885451.0, 86332017.0, 81917545.0, 81828191.0, 67693731.0, 94474581.0, 90430435.0, 58213064.0, 74626309.0, 85550575.0, 41688779.0, \"\"]}, {\"line\": {\"color\": \"lime\"}, \"name\": \"Fixtures qty\", \"type\": \"scatter\", \"x\": [\"2020-01\", \"2020-02\", \"2020-03\", \"2020-04\", \"2020-05\", \"2020-06\", \"2020-07\", \"2020-08\", \"2020-09\", \"2020-10\", \"2020-11\", \"2020-12\", \"2021-01\", \"2021-02\", \"2021-03\", \"2021-04\", \"2021-05\", \"2021-06\"], \"y\": [53874000.0, 39434600.0, 63677900.0, 46574000.0, 46026500.0, 39675427.0, 36536500.0, 48472000.0, 44128500.0, 33981500.0, 20038500.0, 41135500.0, 39785000.0, 35551000.0, 33434000.0, 43727000.0, 37996500.0, 13797000.0]}],\n",
       "                        {\"legend\": {\"bgcolor\": \"#151516\", \"font\": {\"color\": \"#D9D9D9\"}}, \"paper_bgcolor\": \"#151516\", \"plot_bgcolor\": \"#151516\", \"template\": {\"data\": {\"bar\": [{\"error_x\": {\"color\": \"#2a3f5f\"}, \"error_y\": {\"color\": \"#2a3f5f\"}, \"marker\": {\"line\": {\"color\": \"#E5ECF6\", \"width\": 0.5}}, \"type\": \"bar\"}], \"barpolar\": [{\"marker\": {\"line\": {\"color\": \"#E5ECF6\", \"width\": 0.5}}, \"type\": \"barpolar\"}], \"carpet\": [{\"aaxis\": {\"endlinecolor\": \"#2a3f5f\", \"gridcolor\": \"white\", \"linecolor\": \"white\", \"minorgridcolor\": \"white\", \"startlinecolor\": \"#2a3f5f\"}, \"baxis\": {\"endlinecolor\": \"#2a3f5f\", \"gridcolor\": \"white\", \"linecolor\": \"white\", \"minorgridcolor\": \"white\", \"startlinecolor\": \"#2a3f5f\"}, \"type\": \"carpet\"}], \"choropleth\": [{\"colorbar\": {\"outlinewidth\": 0, \"ticks\": \"\"}, \"type\": \"choropleth\"}], \"contour\": [{\"colorbar\": {\"outlinewidth\": 0, \"ticks\": \"\"}, \"colorscale\": [[0.0, \"#0d0887\"], [0.1111111111111111, \"#46039f\"], [0.2222222222222222, \"#7201a8\"], [0.3333333333333333, \"#9c179e\"], [0.4444444444444444, \"#bd3786\"], [0.5555555555555556, \"#d8576b\"], [0.6666666666666666, \"#ed7953\"], [0.7777777777777778, \"#fb9f3a\"], [0.8888888888888888, \"#fdca26\"], [1.0, \"#f0f921\"]], \"type\": \"contour\"}], \"contourcarpet\": [{\"colorbar\": {\"outlinewidth\": 0, \"ticks\": \"\"}, \"type\": \"contourcarpet\"}], \"heatmap\": [{\"colorbar\": {\"outlinewidth\": 0, \"ticks\": \"\"}, \"colorscale\": [[0.0, \"#0d0887\"], [0.1111111111111111, \"#46039f\"], [0.2222222222222222, \"#7201a8\"], [0.3333333333333333, \"#9c179e\"], [0.4444444444444444, \"#bd3786\"], [0.5555555555555556, \"#d8576b\"], [0.6666666666666666, \"#ed7953\"], [0.7777777777777778, \"#fb9f3a\"], [0.8888888888888888, \"#fdca26\"], [1.0, \"#f0f921\"]], \"type\": \"heatmap\"}], \"heatmapgl\": [{\"colorbar\": {\"outlinewidth\": 0, \"ticks\": \"\"}, \"colorscale\": [[0.0, \"#0d0887\"], [0.1111111111111111, \"#46039f\"], [0.2222222222222222, \"#7201a8\"], [0.3333333333333333, \"#9c179e\"], [0.4444444444444444, \"#bd3786\"], [0.5555555555555556, \"#d8576b\"], [0.6666666666666666, \"#ed7953\"], [0.7777777777777778, \"#fb9f3a\"], [0.8888888888888888, \"#fdca26\"], [1.0, \"#f0f921\"]], \"type\": \"heatmapgl\"}], \"histogram\": [{\"marker\": {\"colorbar\": {\"outlinewidth\": 0, \"ticks\": \"\"}}, \"type\": \"histogram\"}], \"histogram2d\": [{\"colorbar\": {\"outlinewidth\": 0, \"ticks\": \"\"}, \"colorscale\": [[0.0, \"#0d0887\"], [0.1111111111111111, \"#46039f\"], [0.2222222222222222, \"#7201a8\"], [0.3333333333333333, \"#9c179e\"], [0.4444444444444444, \"#bd3786\"], [0.5555555555555556, \"#d8576b\"], [0.6666666666666666, \"#ed7953\"], [0.7777777777777778, \"#fb9f3a\"], [0.8888888888888888, \"#fdca26\"], [1.0, \"#f0f921\"]], \"type\": \"histogram2d\"}], \"histogram2dcontour\": [{\"colorbar\": {\"outlinewidth\": 0, \"ticks\": \"\"}, \"colorscale\": [[0.0, \"#0d0887\"], [0.1111111111111111, \"#46039f\"], [0.2222222222222222, \"#7201a8\"], [0.3333333333333333, \"#9c179e\"], [0.4444444444444444, \"#bd3786\"], [0.5555555555555556, \"#d8576b\"], [0.6666666666666666, \"#ed7953\"], [0.7777777777777778, \"#fb9f3a\"], [0.8888888888888888, \"#fdca26\"], [1.0, \"#f0f921\"]], \"type\": \"histogram2dcontour\"}], \"mesh3d\": [{\"colorbar\": {\"outlinewidth\": 0, \"ticks\": \"\"}, \"type\": \"mesh3d\"}], \"parcoords\": [{\"line\": {\"colorbar\": {\"outlinewidth\": 0, \"ticks\": \"\"}}, \"type\": \"parcoords\"}], \"scatter\": [{\"marker\": {\"colorbar\": {\"outlinewidth\": 0, \"ticks\": \"\"}}, \"type\": \"scatter\"}], \"scatter3d\": [{\"line\": {\"colorbar\": {\"outlinewidth\": 0, \"ticks\": \"\"}}, \"marker\": {\"colorbar\": {\"outlinewidth\": 0, \"ticks\": \"\"}}, \"type\": \"scatter3d\"}], \"scattercarpet\": [{\"marker\": {\"colorbar\": {\"outlinewidth\": 0, \"ticks\": \"\"}}, \"type\": \"scattercarpet\"}], \"scattergeo\": [{\"marker\": {\"colorbar\": {\"outlinewidth\": 0, \"ticks\": \"\"}}, \"type\": \"scattergeo\"}], \"scattergl\": [{\"marker\": {\"colorbar\": {\"outlinewidth\": 0, \"ticks\": \"\"}}, \"type\": \"scattergl\"}], \"scattermapbox\": [{\"marker\": {\"colorbar\": {\"outlinewidth\": 0, \"ticks\": \"\"}}, \"type\": \"scattermapbox\"}], \"scatterpolar\": [{\"marker\": {\"colorbar\": {\"outlinewidth\": 0, \"ticks\": \"\"}}, \"type\": \"scatterpolar\"}], \"scatterpolargl\": [{\"marker\": {\"colorbar\": {\"outlinewidth\": 0, \"ticks\": \"\"}}, \"type\": \"scatterpolargl\"}], \"scatterternary\": [{\"marker\": {\"colorbar\": {\"outlinewidth\": 0, \"ticks\": \"\"}}, \"type\": \"scatterternary\"}], \"surface\": [{\"colorbar\": {\"outlinewidth\": 0, \"ticks\": \"\"}, \"colorscale\": [[0.0, \"#0d0887\"], [0.1111111111111111, \"#46039f\"], [0.2222222222222222, \"#7201a8\"], [0.3333333333333333, \"#9c179e\"], [0.4444444444444444, \"#bd3786\"], [0.5555555555555556, \"#d8576b\"], [0.6666666666666666, \"#ed7953\"], [0.7777777777777778, \"#fb9f3a\"], [0.8888888888888888, \"#fdca26\"], [1.0, \"#f0f921\"]], \"type\": \"surface\"}], \"table\": [{\"cells\": {\"fill\": {\"color\": \"#EBF0F8\"}, \"line\": {\"color\": \"white\"}}, \"header\": {\"fill\": {\"color\": \"#C8D4E3\"}, \"line\": {\"color\": \"white\"}}, \"type\": \"table\"}]}, \"layout\": {\"annotationdefaults\": {\"arrowcolor\": \"#2a3f5f\", \"arrowhead\": 0, \"arrowwidth\": 1}, \"colorscale\": {\"diverging\": [[0, \"#8e0152\"], [0.1, \"#c51b7d\"], [0.2, \"#de77ae\"], [0.3, \"#f1b6da\"], [0.4, \"#fde0ef\"], [0.5, \"#f7f7f7\"], [0.6, \"#e6f5d0\"], [0.7, \"#b8e186\"], [0.8, \"#7fbc41\"], [0.9, \"#4d9221\"], [1, \"#276419\"]], \"sequential\": [[0.0, \"#0d0887\"], [0.1111111111111111, \"#46039f\"], [0.2222222222222222, \"#7201a8\"], [0.3333333333333333, \"#9c179e\"], [0.4444444444444444, \"#bd3786\"], [0.5555555555555556, \"#d8576b\"], [0.6666666666666666, \"#ed7953\"], [0.7777777777777778, \"#fb9f3a\"], [0.8888888888888888, \"#fdca26\"], [1.0, \"#f0f921\"]], \"sequentialminus\": [[0.0, \"#0d0887\"], [0.1111111111111111, \"#46039f\"], [0.2222222222222222, \"#7201a8\"], [0.3333333333333333, \"#9c179e\"], [0.4444444444444444, \"#bd3786\"], [0.5555555555555556, \"#d8576b\"], [0.6666666666666666, \"#ed7953\"], [0.7777777777777778, \"#fb9f3a\"], [0.8888888888888888, \"#fdca26\"], [1.0, \"#f0f921\"]]}, \"colorway\": [\"#636efa\", \"#EF553B\", \"#00cc96\", \"#ab63fa\", \"#FFA15A\", \"#19d3f3\", \"#FF6692\", \"#B6E880\", \"#FF97FF\", \"#FECB52\"], \"font\": {\"color\": \"#2a3f5f\"}, \"geo\": {\"bgcolor\": \"white\", \"lakecolor\": \"white\", \"landcolor\": \"#E5ECF6\", \"showlakes\": true, \"showland\": true, \"subunitcolor\": \"white\"}, \"hoverlabel\": {\"align\": \"left\"}, \"hovermode\": \"closest\", \"mapbox\": {\"style\": \"light\"}, \"paper_bgcolor\": \"white\", \"plot_bgcolor\": \"#E5ECF6\", \"polar\": {\"angularaxis\": {\"gridcolor\": \"white\", \"linecolor\": \"white\", \"ticks\": \"\"}, \"bgcolor\": \"#E5ECF6\", \"radialaxis\": {\"gridcolor\": \"white\", \"linecolor\": \"white\", \"ticks\": \"\"}}, \"scene\": {\"xaxis\": {\"backgroundcolor\": \"#E5ECF6\", \"gridcolor\": \"white\", \"gridwidth\": 2, \"linecolor\": \"white\", \"showbackground\": true, \"ticks\": \"\", \"zerolinecolor\": \"white\"}, \"yaxis\": {\"backgroundcolor\": \"#E5ECF6\", \"gridcolor\": \"white\", \"gridwidth\": 2, \"linecolor\": \"white\", \"showbackground\": true, \"ticks\": \"\", \"zerolinecolor\": \"white\"}, \"zaxis\": {\"backgroundcolor\": \"#E5ECF6\", \"gridcolor\": \"white\", \"gridwidth\": 2, \"linecolor\": \"white\", \"showbackground\": true, \"ticks\": \"\", \"zerolinecolor\": \"white\"}}, \"shapedefaults\": {\"line\": {\"color\": \"#2a3f5f\"}}, \"ternary\": {\"aaxis\": {\"gridcolor\": \"white\", \"linecolor\": \"white\", \"ticks\": \"\"}, \"baxis\": {\"gridcolor\": \"white\", \"linecolor\": \"white\", \"ticks\": \"\"}, \"bgcolor\": \"#E5ECF6\", \"caxis\": {\"gridcolor\": \"white\", \"linecolor\": \"white\", \"ticks\": \"\"}}, \"title\": {\"x\": 0.05}, \"xaxis\": {\"automargin\": true, \"gridcolor\": \"white\", \"linecolor\": \"white\", \"ticks\": \"\", \"zerolinecolor\": \"white\", \"zerolinewidth\": 2}, \"yaxis\": {\"automargin\": true, \"gridcolor\": \"white\", \"linecolor\": \"white\", \"ticks\": \"\", \"zerolinecolor\": \"white\", \"zerolinewidth\": 2}}}, \"title\": {\"font\": {\"color\": \"#D9D9D9\"}, \"text\": \"PADD 3 exports vs Fixtures\"}, \"xaxis\": {\"gridcolor\": \"#434343\", \"showgrid\": true, \"tickfont\": {\"color\": \"#C2C2C2\"}, \"title\": {\"font\": {\"color\": \"#D9D9D9\"}, \"text\": \"\"}, \"zerolinecolor\": \"#666570\"}, \"yaxis\": {\"gridcolor\": \"#434343\", \"showgrid\": true, \"tickfont\": {\"color\": \"#C2C2C2\"}, \"title\": {\"font\": {\"color\": \"#D9D9D9\"}, \"text\": \"\"}, \"zerolinecolor\": \"#666570\"}},\n",
       "                        {\"responsive\": true}\n",
       "                    ).then(function(){\n",
       "                            \n",
       "var gd = document.getElementById('5b997f9c-a760-4506-9355-ec7bf96aa573');\n",
       "var x = new MutationObserver(function (mutations, observer) {{\n",
       "        var display = window.getComputedStyle(gd).display;\n",
       "        if (!display || display === 'none') {{\n",
       "            console.log([gd, 'removed!']);\n",
       "            Plotly.purge(gd);\n",
       "            observer.disconnect();\n",
       "        }}\n",
       "}});\n",
       "\n",
       "// Listen for the removal of the full notebook cells\n",
       "var notebookContainer = gd.closest('#notebook-container');\n",
       "if (notebookContainer) {{\n",
       "    x.observe(notebookContainer, {childList: true});\n",
       "}}\n",
       "\n",
       "// Listen for the clearing of the current output cell\n",
       "var outputEl = gd.closest('.output');\n",
       "if (outputEl) {{\n",
       "    x.observe(outputEl, {childList: true});\n",
       "}}\n",
       "\n",
       "                        })\n",
       "                };\n",
       "                });\n",
       "            </script>\n",
       "        </div>"
      ]
     },
     "metadata": {},
     "output_type": "display_data"
    }
   ],
   "source": [
    "fig_fix=fix_pivot[['Barrels']].iplot(kind='bar',title='PADD 3 exports vs Fixtures',asFigure=True)\n",
    "fig_fix.add_trace(trace=go.Scatter(x=fix_pivot.index,y=fix_pivot['CargoSize'],name='Fixtures qty',line=dict(color='lime')))"
   ]
  },
  {
   "cell_type": "markdown",
   "metadata": {},
   "source": [
    "What we can see from this chart is that Refinitiv Fixtures show good correlation with estimated crude exports from PADD 3, and can be reasonably used as a predictor of the direction or trend of U.S. crude exports. Similar analysis can be done for other regions or commodities."
   ]
  }
 ],
 "metadata": {
  "kernelspec": {
   "display_name": "Python 3",
   "language": "python",
   "name": "python3"
  },
  "language_info": {
   "codemirror_mode": {
    "name": "ipython",
    "version": 3
   },
   "file_extension": ".py",
   "mimetype": "text/x-python",
   "name": "python",
   "nbconvert_exporter": "python",
   "pygments_lexer": "ipython3",
   "version": "3.7.3"
  }
 },
 "nbformat": 4,
 "nbformat_minor": 4
}
