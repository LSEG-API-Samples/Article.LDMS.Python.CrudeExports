{
 "cells": [
  {
   "cell_type": "markdown",
   "metadata": {},
   "source": [
    "## Estimating US crude exports"
   ]
  },
  {
   "cell_type": "markdown",
   "metadata": {},
   "source": [
    "In this notebook we have implemented a model to track real-time U.S. crude exports. The official US crude exports figures are available from U.S. Energy Information Administration (EIA). However, these figures are published with a 2-3 months delay. In the world of alternative data sources, could we reliably estimate U.S. crude exports ahead of the official figures? In this example we're using trade flows data retrieved using [LDMS (LSEG Data Management Solution)](https://developers.lseg.com/en/api-catalog/ldms/ldms) to gain insight into crude oil supply trends and buying patterns. We also create a basic arbitrage model using crude prices and freight rates to assess when U.S. crude is more favourable compared to Middle Eastern crude for a crude buyer in Asia. Finally we use fixtures to assess the forward view of exports from the U.S. Gulf.  \n",
    "The notebooks utilizes the following Python packages:  \n",
    "- LSEG Data library to retrieve for pricing information from the Data Platform\n",
    "- JSON, requests and configparser are used for getting LDMS information\n",
    "- Plotly are used for plotting\n",
    "- Other standard python packages such as pandas are used for data manipulation"
   ]
  },
  {
   "cell_type": "code",
   "execution_count": 1,
   "metadata": {},
   "outputs": [
    {
     "data": {
      "text/html": [
       "        <script type=\"text/javascript\">\n",
       "        window.PlotlyConfig = {MathJaxConfig: 'local'};\n",
       "        if (window.MathJax && window.MathJax.Hub && window.MathJax.Hub.Config) {window.MathJax.Hub.Config({SVG: {font: \"STIX-Web\"}});}\n",
       "        if (typeof require !== 'undefined') {\n",
       "        require.undef(\"plotly\");\n",
       "        requirejs.config({\n",
       "            paths: {\n",
       "                'plotly': ['https://cdn.plot.ly/plotly-2.32.0.min']\n",
       "            }\n",
       "        });\n",
       "        require(['plotly'], function(Plotly) {\n",
       "            window._Plotly = Plotly;\n",
       "        });\n",
       "        }\n",
       "        </script>\n",
       "        "
      ]
     },
     "metadata": {},
     "output_type": "display_data"
    },
    {
     "data": {
      "text/plain": [
       "<lseg.data.session.Definition object at 0x19bcc8fb190 {name='workspace'}>"
      ]
     },
     "execution_count": 1,
     "metadata": {},
     "output_type": "execute_result"
    }
   ],
   "source": [
    "import datetime as dt\n",
    "import requests\n",
    "import json\n",
    "import configparser\n",
    "import lseg.data as ld\n",
    "import pandas as pd\n",
    "import numpy as np\n",
    "from datetime import date,timedelta\n",
    "import csv\n",
    "import plotly.express as px\n",
    "import plotly.graph_objects as go\n",
    "from plotly.subplots import make_subplots\n",
    "import cufflinks as cf\n",
    "cf.go_offline()\n",
    "cf.set_config_file(offline=False, world_readable=True)\n",
    "\n",
    "ld.open_session()"
   ]
  },
  {
   "cell_type": "markdown",
   "metadata": {},
   "source": [
    "## Retrieving trade flow data from LDMS. \n",
    "LDMS is an open platform that allows you to integrate the great depth and breadth of LSEG’s commodity data into your workflows. LDMS merges and normalizes data across a range of sources including LSEG, 3rd party and internal customer's data. LSEG sources available through LDMS include our Real-Time datafeed, DataScope Select and Pointconnect feeds. Client application can conveniently retrieve this data using a standard REST API.  \n",
    "  \n",
    "We start by retrieving the data for Dirty flows with Load Country as USA/Virgin Islands and Crude Oil as the Product. We also load Canada pipeline imports data, which we will later add to tanker crude flows originating from U.S. ports to estimate total U.S. crude exports. Static CSV file with U.S. ports locations is used to display port locations on the map."
   ]
  },
  {
   "cell_type": "code",
   "execution_count": 2,
   "metadata": {},
   "outputs": [
    {
     "data": {
      "text/html": [
       "<div>\n",
       "<style scoped>\n",
       "    .dataframe tbody tr th:only-of-type {\n",
       "        vertical-align: middle;\n",
       "    }\n",
       "\n",
       "    .dataframe tbody tr th {\n",
       "        vertical-align: top;\n",
       "    }\n",
       "\n",
       "    .dataframe thead th {\n",
       "        text-align: right;\n",
       "    }\n",
       "</style>\n",
       "<table border=\"1\" class=\"dataframe\">\n",
       "  <thead>\n",
       "    <tr style=\"text-align: right;\">\n",
       "      <th></th>\n",
       "      <th>Departure Date</th>\n",
       "      <th>Vessel</th>\n",
       "      <th>Vessel Type</th>\n",
       "      <th>Load Port</th>\n",
       "      <th>Discharge Port</th>\n",
       "      <th>Barrels</th>\n",
       "      <th>Status</th>\n",
       "    </tr>\n",
       "  </thead>\n",
       "  <tbody>\n",
       "    <tr>\n",
       "      <th>48951</th>\n",
       "      <td>2025-05-08 06:16:35</td>\n",
       "      <td>FRONT NAUSTA</td>\n",
       "      <td>VLCC</td>\n",
       "      <td>Pacific Lightering Area 2</td>\n",
       "      <td>NaN</td>\n",
       "      <td>900416</td>\n",
       "      <td>Vessel Underway</td>\n",
       "    </tr>\n",
       "    <tr>\n",
       "      <th>48952</th>\n",
       "      <td>2025-05-08 06:16:35</td>\n",
       "      <td>FRONT NAUSTA</td>\n",
       "      <td>VLCC</td>\n",
       "      <td>Pacific Lightering Area 2</td>\n",
       "      <td>NaN</td>\n",
       "      <td>900416</td>\n",
       "      <td>Vessel Underway</td>\n",
       "    </tr>\n",
       "    <tr>\n",
       "      <th>48953</th>\n",
       "      <td>2025-06-10 02:00:00</td>\n",
       "      <td>POLAR RESOLUTION</td>\n",
       "      <td>Suezmax</td>\n",
       "      <td>Valdez</td>\n",
       "      <td>NaN</td>\n",
       "      <td>877146</td>\n",
       "      <td>Vessel Ballasting</td>\n",
       "    </tr>\n",
       "    <tr>\n",
       "      <th>48954</th>\n",
       "      <td>2025-06-10 02:00:00</td>\n",
       "      <td>POLAR RESOLUTION</td>\n",
       "      <td>Suezmax</td>\n",
       "      <td>Valdez</td>\n",
       "      <td>NaN</td>\n",
       "      <td>877146</td>\n",
       "      <td>Vessel Ballasting</td>\n",
       "    </tr>\n",
       "    <tr>\n",
       "      <th>48955</th>\n",
       "      <td>2025-06-10 19:00:00</td>\n",
       "      <td>POLAR ENTERPRISE</td>\n",
       "      <td>Suezmax</td>\n",
       "      <td>Valdez</td>\n",
       "      <td>NaN</td>\n",
       "      <td>877146</td>\n",
       "      <td>Vessel Ballasting</td>\n",
       "    </tr>\n",
       "    <tr>\n",
       "      <th>48956</th>\n",
       "      <td>2025-06-10 19:00:00</td>\n",
       "      <td>POLAR ENTERPRISE</td>\n",
       "      <td>Suezmax</td>\n",
       "      <td>Valdez</td>\n",
       "      <td>NaN</td>\n",
       "      <td>877146</td>\n",
       "      <td>Vessel Ballasting</td>\n",
       "    </tr>\n",
       "    <tr>\n",
       "      <th>48957</th>\n",
       "      <td>2025-06-04 01:01:55</td>\n",
       "      <td>SEALOYALTY</td>\n",
       "      <td>Aframax / LRII</td>\n",
       "      <td>St Croix</td>\n",
       "      <td>St Eustatius</td>\n",
       "      <td>592039</td>\n",
       "      <td>Vessel Underway</td>\n",
       "    </tr>\n",
       "    <tr>\n",
       "      <th>48958</th>\n",
       "      <td>2025-06-04 01:01:55</td>\n",
       "      <td>SEALOYALTY</td>\n",
       "      <td>Aframax / LRII</td>\n",
       "      <td>St Croix</td>\n",
       "      <td>St Eustatius</td>\n",
       "      <td>592039</td>\n",
       "      <td>Vessel Underway</td>\n",
       "    </tr>\n",
       "    <tr>\n",
       "      <th>48959</th>\n",
       "      <td>2025-07-01 00:00:00</td>\n",
       "      <td>LONDON VOYAGER</td>\n",
       "      <td>VLCC</td>\n",
       "      <td>NaN</td>\n",
       "      <td>NaN</td>\n",
       "      <td>1979883</td>\n",
       "      <td>Subs</td>\n",
       "    </tr>\n",
       "    <tr>\n",
       "      <th>48960</th>\n",
       "      <td>2025-07-01 00:00:00</td>\n",
       "      <td>LONDON VOYAGER</td>\n",
       "      <td>VLCC</td>\n",
       "      <td>NaN</td>\n",
       "      <td>NaN</td>\n",
       "      <td>1979883</td>\n",
       "      <td>Subs</td>\n",
       "    </tr>\n",
       "  </tbody>\n",
       "</table>\n",
       "</div>"
      ],
      "text/plain": [
       "            Departure Date            Vessel     Vessel Type  \\\n",
       "48951  2025-05-08 06:16:35      FRONT NAUSTA            VLCC   \n",
       "48952  2025-05-08 06:16:35      FRONT NAUSTA            VLCC   \n",
       "48953  2025-06-10 02:00:00  POLAR RESOLUTION         Suezmax   \n",
       "48954  2025-06-10 02:00:00  POLAR RESOLUTION         Suezmax   \n",
       "48955  2025-06-10 19:00:00  POLAR ENTERPRISE         Suezmax   \n",
       "48956  2025-06-10 19:00:00  POLAR ENTERPRISE         Suezmax   \n",
       "48957  2025-06-04 01:01:55        SEALOYALTY  Aframax / LRII   \n",
       "48958  2025-06-04 01:01:55        SEALOYALTY  Aframax / LRII   \n",
       "48959  2025-07-01 00:00:00    LONDON VOYAGER            VLCC   \n",
       "48960  2025-07-01 00:00:00    LONDON VOYAGER            VLCC   \n",
       "\n",
       "                       Load Port Discharge Port  Barrels             Status  \n",
       "48951  Pacific Lightering Area 2            NaN   900416    Vessel Underway  \n",
       "48952  Pacific Lightering Area 2            NaN   900416    Vessel Underway  \n",
       "48953                     Valdez            NaN   877146  Vessel Ballasting  \n",
       "48954                     Valdez            NaN   877146  Vessel Ballasting  \n",
       "48955                     Valdez            NaN   877146  Vessel Ballasting  \n",
       "48956                     Valdez            NaN   877146  Vessel Ballasting  \n",
       "48957                   St Croix   St Eustatius   592039    Vessel Underway  \n",
       "48958                   St Croix   St Eustatius   592039    Vessel Underway  \n",
       "48959                        NaN            NaN  1979883               Subs  \n",
       "48960                        NaN            NaN  1979883               Subs  "
      ]
     },
     "execution_count": 2,
     "metadata": {},
     "output_type": "execute_result"
    }
   ],
   "source": [
    "#A config file with the LDMS api key is stored and accessed separately\n",
    "config = configparser.ConfigParser()\n",
    "config.read('config.ini')\n",
    "api=config['LDMS']['Api']\n",
    "headers = { 'Authorization' : config['LDMS']['Key'],'Accept':\"text/csv\" }\n",
    "#params\n",
    "flowType = 'Dirty'\n",
    "fields = '*'\n",
    "filter = 'LoadCountry=United States,Virgin Islands (U.S.);Product=Crude Oil'\n",
    "result = requests.get(api + '/Flows/FlowData/'+flowType+'?Fields='+fields+'&Filter='+filter, headers=headers, verify=True)\n",
    "flows = open('USflows.csv', \"w\")\n",
    "flows.write(result.text)\n",
    "flows.close()\n",
    "df=pd.read_csv('USflows.csv', parse_dates=True, infer_datetime_format=True)\n",
    "port_locations=pd.read_csv(\"US_Ports_Locations.csv\")\n",
    "canada_imports=pd.read_csv(\"Canada Pipeline Imports.csv\",parse_dates=True,index_col='Bbls',thousands=',')\n",
    "canada_imports.index=canada_imports.index.to_period('M')\n",
    "#Display a sample of flows data we'll be analizing\n",
    "df[['Departure Date','Vessel','Vessel Type','Load Port','Discharge Port','Barrels','Status']].tail(10)"
   ]
  },
  {
   "cell_type": "code",
   "execution_count": 3,
   "metadata": {},
   "outputs": [],
   "source": [
    "df = df[(df['Departure Date'] > '2014-12-31') & (df['Departure Date'] < '2021-06-01')]"
   ]
  },
  {
   "cell_type": "markdown",
   "metadata": {},
   "source": [
    "To produce an estimate for monthly crude exports we need to aggregate the flows into time intervals. For this purpose it's useful to add a number of columns detailing departure and arrival week, month, quarter and year."
   ]
  },
  {
   "cell_type": "code",
   "execution_count": 4,
   "metadata": {},
   "outputs": [],
   "source": [
    "df['Departure Date'] = pd.to_datetime(df['Departure Date'], errors='coerce')\n",
    "df['Arrival Date'] = pd.to_datetime(df['Arrival Date'], errors='coerce')\n",
    "df['Departure Week Number']=df['Departure Date'].dt.isocalendar().week\n",
    "df['Departure Week']=pd.to_datetime(df['Departure Date']).dt.to_period('W')\n",
    "df['Departure Month']=pd.to_datetime(df['Departure Date']).dt.to_period('M')\n",
    "df['Departure Quarter']=pd.to_datetime(df['Departure Date']).dt.to_period('Q')\n",
    "df['Departure Year']=pd.to_datetime(df['Departure Date']).dt.to_period('Y')\n",
    "df['Arrival Week Number']=df['Arrival Date'].dt.isocalendar().week\n",
    "df['Arrival Week']=pd.to_datetime(df['Arrival Date']).dt.to_period('W')\n",
    "df['Arrival Month']=pd.to_datetime(df['Arrival Date']).dt.to_period('M')\n",
    "df['Arrival Quarter']=pd.to_datetime(df['Arrival Date']).dt.to_period('Q')\n",
    "df['Arrival Year']=pd.to_datetime(df['Arrival Date']).dt.to_period('Y')"
   ]
  },
  {
   "cell_type": "markdown",
   "metadata": {},
   "source": [
    "Now we analyze the flows by geography.  \n",
    "Myanmar discharges are treated as imports by China as the Sino-Myanmar pipeline feeds the refineries in China provinces bordering Myanmar.  \n",
    "The trade flows data includes all crude transport. At the moment there's only one U.S. facility (The Louisiana Offshore Oil Port or LOOP) able to accommodate a fully loaded VLCC (Very Large Crude Carrier), a type of oil tanker able to carry approximately 2 mln barrels of crude oil and required for economic transportation of crude across the ocean, such as between the U.S. and Asia. All onshore U.S. ports in the Gulf Coast that actively trade petroleum are located in inland harbors and are connected to the open ocean through shipping channels or navigable rivers. Although these channels and rivers are regularly dredged to maintain depth and enable safe navigation for most ships, they are not deep enough for deep-draft vessels such as fully loaded VLCCs. To circumvent depth restrictions, VLCCs transporting crude oil to or from the U.S. Gulf Coast have typically used partial loadings and the process of ship-to-ship transfers or lightering. To accurately estimate U.S. crude exports, we need to account for lightering in our analysis of trade flows data, to avoid double counting crude first transported in a smaller tanker from a U.S. onshore port to an offshore lightering zone and then transferred to a larger tanker for trasporting to its ultimate destination port. To account for this we have compiled a list of loading and discharge ports to exclude from the trade flows dataset:  \n",
    "<br />\n",
    "<div>\n",
    "<table align=\"left\">\n",
    "    <tr><th style=\"text-align:left\"> Port Name</th><th style=\"text-align:left\"> Port RIC</th></tr>\n",
    "    <tr><td style=\"text-align:left\"> Pacific Area Lightering</td><td style=\"text-align:left\"> C}TS7309641681</td></tr>\n",
    "    <tr><td style=\"text-align:left\"> South Sabine Point</td><td style=\"text-align:left\"> C}TS7309533579</td></tr>\n",
    "    <tr><td style=\"text-align:left\"> US Golf Lightering Zones</td><td style=\"text-align:left\"> C}TS7309533561</td></tr>\n",
    "    <tr><td style=\"text-align:left\"> Calcasieu Pass (S) Anchorage</td><td style=\"text-align:left\"> C}TS7309786001</td></tr>\n",
    "    <tr><td style=\"text-align:left\"> Pacific Lightering Area 2</td><td style=\"text-align:left\"> C}TS7309709063</td></tr>\n",
    "    <tr><td style=\"text-align:left\"> Gulf Gateway Terminal</td><td style=\"text-align:left\"> C}TS7309557398</td></tr>\n",
    "    <tr><td style=\"text-align:left\"> Corpus Christi STS Area 2</td><td style=\"text-align:left\"> C}TS7309789693</td></tr>\n",
    "    <tr><td style=\"text-align:left\"> Pascaguola Lightering Zone</td><td style=\"text-align:left\"> C}TS7309823983</td></tr>\n",
    "    <tr><td style=\"text-align:left\"> GOLA - Galveston Offshore Lightering Area</td><td style=\"text-align:left\"> C}TS7309564485</td></tr>\n",
    "    <tr><td style=\"text-align:left\"> Gulfmex (SW Pass) Lightering</td><td style=\"text-align:left\"> C}TS7309533587</td></tr>\n",
    "    <tr><td style=\"text-align:left\"> Southwest Pass Lightering Area</td><td style=\"text-align:left\"> C}TS7309791374</td></tr>\n",
    "    <tr><td style=\"text-align:left\"> Corpus Christi STS 1</td><td style=\"text-align:left\"> C}TS7309944668</td></tr>\n",
    "</table>\n",
    "</div>\n",
    "<div style=\"clear:both\">\n",
    "<br />\n",
    "Flows are segregated based on their load and discharge port/berth characteristics to avoid double counting of ship-to-ship (STS) loads. Only STS loads with discharge country other than US/Virgin Islands and shore loads with discharge country other than US/Virgin Islands are counted towards exports. Vessels with status as Underway, Discharged, Discharging or Awaiting Discharge are departed flows and are included in the count.\n",
    "</div>"
   ]
  },
  {
   "cell_type": "code",
   "execution_count": 5,
   "metadata": {},
   "outputs": [],
   "source": [
    "df['Adjusted Discharge Country']=np.where(df['Discharge Country']=='Myanmar','China',df['Discharge Country'])\n",
    "sts_port_exclusion_list=['C}TS7309641681','C}TS7309533579','C}TS7309533561','C}TS7309786001','C}TS7309709063','C}TS7309557398',\n",
    "                         'C}TS7309789693','C}TS7309823983','C}TS7309564485','C}TS7309533587','C}TS7309791374','C}TS7309944668']\n",
    "df['Loadport_exclusion']=np.where(df['Load Port RIC'].isin(sts_port_exclusion_list),1,0)\n",
    "df['Disport_exclusion']=np.where(df['Load Port RIC'].isin(sts_port_exclusion_list),1,0)\n",
    "df['Discharge_country']=np.where(df['Discharge Country'].isin(['United States','Virgin Islands (U.S.)']),1,0)\n",
    "df['Flow_exclusion']=np.where((df['Discharge_country']==0)&(df['Loadport_exclusion']==0),1,\n",
    "                              np.where((df['Discharge_country']==0)&(df['Loadport_exclusion']==1),1,0))\n",
    "us_exports=df[df['Flow_exclusion']==1]\n",
    "us_exports=us_exports[us_exports['Status'].isin(['Vessel Underway','Vessel Discharged','Vessel Discharging','Vessel Awaiting Discharge'])]\n",
    "zones=pd.read_csv(\"ports_zones.csv\")\n",
    "merged_df=us_exports.merge(zones,how='left',left_on='Load Port RIC',right_on='Ric')\n",
    "merged_df=merged_df.merge(port_locations,how='left',left_on='Load Port RIC',right_on='Instrument')"
   ]
  },
  {
   "cell_type": "markdown",
   "metadata": {},
   "source": [
    "In the cell above we added port zone info to the dataframe. This allows us to demonstrate that trade flows analysis can be done for a specific PADD. In this example we're only going to consider PADD 3 exports, which account for the bulk of U.S. crude exports. To achieve this we're filtering flows with Tanker zone as US Gulf. Then we can pivot the table to aggregate the flow by departure month and add Canada imports via pipelines."
   ]
  },
  {
   "cell_type": "code",
   "execution_count": 6,
   "metadata": {},
   "outputs": [
    {
     "name": "stdout",
     "output_type": "stream",
     "text": [
      "                   Barrels     PADD 3         mnbpd  LSEG Flows_kbpd  \\\n",
      "Departure Month                                                        \n",
      "2021-01          181258786  7979270.0  5.847058e+06      5847.057613   \n",
      "2021-02          120325446        NaN  4.297337e+06      4297.337357   \n",
      "2021-03          141257496        NaN  4.556693e+06      4556.693419   \n",
      "2021-04          176108758        NaN  5.870292e+06      5870.291933   \n",
      "2021-05          148992032        NaN  4.806195e+06      4806.194581   \n",
      "\n",
      "                 Pipeline exports_kbpd  \n",
      "Departure Month                         \n",
      "2021-01                     257.395806  \n",
      "2021-02                            NaN  \n",
      "2021-03                            NaN  \n",
      "2021-04                            NaN  \n",
      "2021-05                            NaN  \n"
     ]
    }
   ],
   "source": [
    "padd3=merged_df[merged_df['Tanker Zone']=='US Gulf']\n",
    "padd3_table=padd3.pivot_table(index='Departure Month',values='Barrels',aggfunc=np.sum,fill_value=0)\n",
    "padd3_table=padd3_table.merge(canada_imports['PADD 3'],how='left',left_index=True,right_index=True)\n",
    "padd3_mnbpd=padd3_table.copy()\n",
    "padd3_mnbpd['days']=np.where(padd3_mnbpd.index!=pd.Timestamp(dt.datetime.today()).to_period('M'),padd3_mnbpd.index.days_in_month,dt.datetime.today().day)\n",
    "padd3_mnbpd['mnbpd']=padd3_mnbpd.iloc[:,0]/(padd3_mnbpd['days'])\n",
    "padd3_mnbpd['LSEG Flows_kbpd']=padd3_mnbpd['mnbpd']/1000\n",
    "padd3_mnbpd['Pipeline exports_kbpd']=padd3_mnbpd['PADD 3']/1000/(padd3_mnbpd['days'])\n",
    "padd3_mnbpd.drop(columns='days',inplace=True)\n",
    "print(padd3_mnbpd.tail())"
   ]
  },
  {
   "cell_type": "markdown",
   "metadata": {},
   "source": [
    "To visualize how well our estimated PADD 3 exports compare to the official figures from EIA, we're using the Data Library to retrieve the historical data of EIA U.S. PADD 3 crude oil exports, construct a comparison table and plot the timeseries."
   ]
  },
  {
   "cell_type": "code",
   "execution_count": 7,
   "metadata": {},
   "outputs": [
    {
     "data": {
      "application/vnd.plotly.v1+json": {
       "config": {
        "plotlyServerURL": "https://plot.ly"
       },
       "data": [
        {
         "marker": {
          "color": "rgba(255, 153, 51, 0.6)",
          "line": {
           "color": "rgba(255, 153, 51, 1.0)",
           "width": 1
          }
         },
         "name": "LSEG Flows_kbpd",
         "orientation": "v",
         "text": "",
         "type": "bar",
         "x": [
          "2014-12",
          "2015-01",
          "2015-02",
          "2015-03",
          "2015-04",
          "2015-05",
          "2015-06",
          "2015-07",
          "2015-08",
          "2015-09",
          "2015-10",
          "2015-11",
          "2015-12",
          "2016-01",
          "2016-02",
          "2016-03",
          "2016-04",
          "2016-05",
          "2016-06",
          "2016-07",
          "2016-08",
          "2016-09",
          "2016-10",
          "2016-11",
          "2016-12",
          "2017-01",
          "2017-02",
          "2017-03",
          "2017-04",
          "2017-05",
          "2017-06",
          "2017-07",
          "2017-08",
          "2017-09",
          "2017-10",
          "2017-11",
          "2017-12",
          "2018-01",
          "2018-02",
          "2018-03",
          "2018-04",
          "2018-05",
          "2018-06",
          "2018-07",
          "2018-08",
          "2018-09",
          "2018-10",
          "2018-11",
          "2018-12",
          "2019-01",
          "2019-02",
          "2019-03",
          "2019-04",
          "2019-05",
          "2019-06",
          "2019-07",
          "2019-08",
          "2019-09",
          "2019-10",
          "2019-11",
          "2019-12",
          "2020-01",
          "2020-02",
          "2020-03",
          "2020-04",
          "2020-05",
          "2020-06",
          "2020-07",
          "2020-08",
          "2020-09",
          "2020-10",
          "2020-11",
          "2020-12",
          "2021-01",
          "2021-02",
          "2021-03",
          "2021-04",
          "2021-05"
         ],
         "y": [
          5.610064516129032,
          340.5291612903226,
          260.8151785714286,
          239.89951612903226,
          410.8533333333333,
          324.57477419354836,
          356.12216666666666,
          356.30532258064517,
          268.28177419354836,
          386.77863333333335,
          297.5606774193549,
          299.45309999999995,
          253.43783870967744,
          325.69851612903227,
          187.1761724137931,
          415.22890322580645,
          315.06443333333334,
          396.9686129032258,
          262.27346666666665,
          274.1561935483871,
          314.15193548387094,
          701.6613666666667,
          325.60132258064516,
          357.5217666666667,
          240.46009677419354,
          470.2753870967742,
          739.9668571428572,
          615.0404193548387,
          579.0116666666667,
          605.2128387096775,
          594.3601333333334,
          729.8155806451613,
          622.5998064516128,
          982.3702666666667,
          1619.1600322580646,
          1326.6772333333333,
          1434.1813548387095,
          1022.6654193548387,
          1411.7770357142856,
          1569.7605161290323,
          1805.9458,
          1702.3514516129032,
          2567.2282,
          3644.681774193549,
          2866.122064516129,
          3710.2587999999996,
          3441.4030967741933,
          3551.334533333333,
          3996.6103870967745,
          4694.602838709678,
          4644.332571428572,
          4608.562387096774,
          4369.657666666667,
          5114.662193548387,
          5484.593866666666,
          4729.749548387097,
          4654.405032258064,
          5387.890666666667,
          6389.239419354838,
          5217.244933333333,
          6372.428193548387,
          5787.131935483871,
          6274.259517241379,
          6093.201677419355,
          5386.9456,
          4850.191483870967,
          4835.482866666666,
          6059.610903225806,
          5549.398258064516,
          5466.721333333333,
          5293.85470967742,
          4513.653733333334,
          6010.404967741935,
          5847.057612903226,
          4297.337357142857,
          4556.693419354839,
          5870.291933333334,
          4806.194580645161
         ]
        },
        {
         "marker": {
          "color": "rgba(55, 128, 191, 0.6)",
          "line": {
           "color": "rgba(55, 128, 191, 1.0)",
           "width": 1
          }
         },
         "name": "Pipeline exports_kbpd",
         "orientation": "v",
         "text": "",
         "type": "bar",
         "x": [
          "2014-12",
          "2015-01",
          "2015-02",
          "2015-03",
          "2015-04",
          "2015-05",
          "2015-06",
          "2015-07",
          "2015-08",
          "2015-09",
          "2015-10",
          "2015-11",
          "2015-12",
          "2016-01",
          "2016-02",
          "2016-03",
          "2016-04",
          "2016-05",
          "2016-06",
          "2016-07",
          "2016-08",
          "2016-09",
          "2016-10",
          "2016-11",
          "2016-12",
          "2017-01",
          "2017-02",
          "2017-03",
          "2017-04",
          "2017-05",
          "2017-06",
          "2017-07",
          "2017-08",
          "2017-09",
          "2017-10",
          "2017-11",
          "2017-12",
          "2018-01",
          "2018-02",
          "2018-03",
          "2018-04",
          "2018-05",
          "2018-06",
          "2018-07",
          "2018-08",
          "2018-09",
          "2018-10",
          "2018-11",
          "2018-12",
          "2019-01",
          "2019-02",
          "2019-03",
          "2019-04",
          "2019-05",
          "2019-06",
          "2019-07",
          "2019-08",
          "2019-09",
          "2019-10",
          "2019-11",
          "2019-12",
          "2020-01",
          "2020-02",
          "2020-03",
          "2020-04",
          "2020-05",
          "2020-06",
          "2020-07",
          "2020-08",
          "2020-09",
          "2020-10",
          "2020-11",
          "2020-12",
          "2021-01",
          "2021-02",
          "2021-03",
          "2021-04",
          "2021-05"
         ],
         "y": [
          "",
          "",
          "",
          "",
          "",
          "",
          "",
          "",
          "",
          "",
          "",
          "",
          "",
          "",
          "",
          "",
          "",
          "",
          "",
          "",
          "",
          "",
          "",
          "",
          "",
          "",
          "",
          "",
          "",
          "",
          "",
          "",
          "",
          "",
          "",
          "",
          "",
          225.81099999999998,
          314.19989285714286,
          340.3294516129032,
          322.9097333333333,
          306.1351935483871,
          213.23100000000002,
          225.182,
          262.922,
          261.035,
          150.33100000000002,
          130.203,
          159.137,
          105.043,
          249.713,
          217.005,
          227.069,
          200.022,
          150.96,
          225.182,
          262.922,
          261.035,
          206.31199999999998,
          230.843,
          274.873,
          271.72799999999995,
          282.421,
          283.04999999999995,
          242.79399999999998,
          280.534,
          281.79200000000003,
          276.76,
          203.69825806451612,
          196.63770000000002,
          188.56158064516129,
          215.4333,
          255.8006129032258,
          257.39580645161294,
          "",
          "",
          "",
          ""
         ]
        },
        {
         "line": {
          "color": "lime"
         },
         "name": "EIA PADD3",
         "type": "scatter",
         "x": [
          "2014-12",
          "2015-01",
          "2015-02",
          "2015-03",
          "2015-04",
          "2015-05",
          "2015-06",
          "2015-07",
          "2015-08",
          "2015-09",
          "2015-10",
          "2015-11",
          "2015-12",
          "2016-01",
          "2016-02",
          "2016-03",
          "2016-04",
          "2016-05",
          "2016-06",
          "2016-07",
          "2016-08",
          "2016-09",
          "2016-10",
          "2016-11",
          "2016-12",
          "2017-01",
          "2017-02",
          "2017-03",
          "2017-04",
          "2017-05",
          "2017-06",
          "2017-07",
          "2017-08",
          "2017-09",
          "2017-10",
          "2017-11",
          "2017-12",
          "2018-01",
          "2018-02",
          "2018-03",
          "2018-04",
          "2018-05",
          "2018-06",
          "2018-07",
          "2018-08",
          "2018-09",
          "2018-10",
          "2018-11",
          "2018-12",
          "2019-01",
          "2019-02",
          "2019-03",
          "2019-04",
          "2019-05",
          "2019-06",
          "2019-07",
          "2019-08",
          "2019-09",
          "2019-10",
          "2019-11",
          "2019-12",
          "2020-01",
          "2020-02",
          "2020-03",
          "2020-04",
          "2020-05",
          "2020-06",
          "2020-07",
          "2020-08",
          "2020-09",
          "2020-10",
          "2020-11",
          "2020-12",
          "2021-01",
          "2021-02",
          "2021-03",
          "2021-04",
          "2021-05"
         ],
         "y": [
          null,
          270,
          237,
          268,
          333,
          309,
          262,
          316,
          289,
          268,
          408,
          243,
          292,
          207,
          220,
          298,
          302,
          401,
          192,
          132,
          410,
          491,
          221,
          330,
          292,
          421,
          868,
          698,
          862,
          778,
          599,
          710,
          607,
          1277,
          1581,
          1360,
          1314,
          1130,
          1409,
          1644,
          1676,
          1809,
          2050,
          1994,
          1672,
          1888,
          2052,
          2198,
          2198,
          2453,
          2715,
          2511,
          2700,
          2774,
          2931,
          2453,
          2593,
          2784,
          3218,
          2886,
          3354,
          2990,
          3334,
          3441,
          2709,
          2888,
          2575,
          3190,
          3198,
          2872,
          2709,
          2534,
          3160,
          3025,
          2374,
          2622,
          2980,
          2571
         ]
        }
       ],
       "layout": {
        "autosize": true,
        "barmode": "stack",
        "legend": {
         "bgcolor": "#151516",
         "font": {
          "color": "#D9D9D9"
         },
         "traceorder": "normal"
        },
        "paper_bgcolor": "#151516",
        "plot_bgcolor": "#151516",
        "template": {
         "data": {
          "bar": [
           {
            "error_x": {
             "color": "#2a3f5f"
            },
            "error_y": {
             "color": "#2a3f5f"
            },
            "marker": {
             "line": {
              "color": "#E5ECF6",
              "width": 0.5
             },
             "pattern": {
              "fillmode": "overlay",
              "size": 10,
              "solidity": 0.2
             }
            },
            "type": "bar"
           }
          ],
          "barpolar": [
           {
            "marker": {
             "line": {
              "color": "#E5ECF6",
              "width": 0.5
             },
             "pattern": {
              "fillmode": "overlay",
              "size": 10,
              "solidity": 0.2
             }
            },
            "type": "barpolar"
           }
          ],
          "carpet": [
           {
            "aaxis": {
             "endlinecolor": "#2a3f5f",
             "gridcolor": "white",
             "linecolor": "white",
             "minorgridcolor": "white",
             "startlinecolor": "#2a3f5f"
            },
            "baxis": {
             "endlinecolor": "#2a3f5f",
             "gridcolor": "white",
             "linecolor": "white",
             "minorgridcolor": "white",
             "startlinecolor": "#2a3f5f"
            },
            "type": "carpet"
           }
          ],
          "choropleth": [
           {
            "colorbar": {
             "outlinewidth": 0,
             "ticks": ""
            },
            "type": "choropleth"
           }
          ],
          "contour": [
           {
            "colorbar": {
             "outlinewidth": 0,
             "ticks": ""
            },
            "colorscale": [
             [
              0,
              "#0d0887"
             ],
             [
              0.1111111111111111,
              "#46039f"
             ],
             [
              0.2222222222222222,
              "#7201a8"
             ],
             [
              0.3333333333333333,
              "#9c179e"
             ],
             [
              0.4444444444444444,
              "#bd3786"
             ],
             [
              0.5555555555555556,
              "#d8576b"
             ],
             [
              0.6666666666666666,
              "#ed7953"
             ],
             [
              0.7777777777777778,
              "#fb9f3a"
             ],
             [
              0.8888888888888888,
              "#fdca26"
             ],
             [
              1,
              "#f0f921"
             ]
            ],
            "type": "contour"
           }
          ],
          "contourcarpet": [
           {
            "colorbar": {
             "outlinewidth": 0,
             "ticks": ""
            },
            "type": "contourcarpet"
           }
          ],
          "heatmap": [
           {
            "colorbar": {
             "outlinewidth": 0,
             "ticks": ""
            },
            "colorscale": [
             [
              0,
              "#0d0887"
             ],
             [
              0.1111111111111111,
              "#46039f"
             ],
             [
              0.2222222222222222,
              "#7201a8"
             ],
             [
              0.3333333333333333,
              "#9c179e"
             ],
             [
              0.4444444444444444,
              "#bd3786"
             ],
             [
              0.5555555555555556,
              "#d8576b"
             ],
             [
              0.6666666666666666,
              "#ed7953"
             ],
             [
              0.7777777777777778,
              "#fb9f3a"
             ],
             [
              0.8888888888888888,
              "#fdca26"
             ],
             [
              1,
              "#f0f921"
             ]
            ],
            "type": "heatmap"
           }
          ],
          "heatmapgl": [
           {
            "colorbar": {
             "outlinewidth": 0,
             "ticks": ""
            },
            "colorscale": [
             [
              0,
              "#0d0887"
             ],
             [
              0.1111111111111111,
              "#46039f"
             ],
             [
              0.2222222222222222,
              "#7201a8"
             ],
             [
              0.3333333333333333,
              "#9c179e"
             ],
             [
              0.4444444444444444,
              "#bd3786"
             ],
             [
              0.5555555555555556,
              "#d8576b"
             ],
             [
              0.6666666666666666,
              "#ed7953"
             ],
             [
              0.7777777777777778,
              "#fb9f3a"
             ],
             [
              0.8888888888888888,
              "#fdca26"
             ],
             [
              1,
              "#f0f921"
             ]
            ],
            "type": "heatmapgl"
           }
          ],
          "histogram": [
           {
            "marker": {
             "pattern": {
              "fillmode": "overlay",
              "size": 10,
              "solidity": 0.2
             }
            },
            "type": "histogram"
           }
          ],
          "histogram2d": [
           {
            "colorbar": {
             "outlinewidth": 0,
             "ticks": ""
            },
            "colorscale": [
             [
              0,
              "#0d0887"
             ],
             [
              0.1111111111111111,
              "#46039f"
             ],
             [
              0.2222222222222222,
              "#7201a8"
             ],
             [
              0.3333333333333333,
              "#9c179e"
             ],
             [
              0.4444444444444444,
              "#bd3786"
             ],
             [
              0.5555555555555556,
              "#d8576b"
             ],
             [
              0.6666666666666666,
              "#ed7953"
             ],
             [
              0.7777777777777778,
              "#fb9f3a"
             ],
             [
              0.8888888888888888,
              "#fdca26"
             ],
             [
              1,
              "#f0f921"
             ]
            ],
            "type": "histogram2d"
           }
          ],
          "histogram2dcontour": [
           {
            "colorbar": {
             "outlinewidth": 0,
             "ticks": ""
            },
            "colorscale": [
             [
              0,
              "#0d0887"
             ],
             [
              0.1111111111111111,
              "#46039f"
             ],
             [
              0.2222222222222222,
              "#7201a8"
             ],
             [
              0.3333333333333333,
              "#9c179e"
             ],
             [
              0.4444444444444444,
              "#bd3786"
             ],
             [
              0.5555555555555556,
              "#d8576b"
             ],
             [
              0.6666666666666666,
              "#ed7953"
             ],
             [
              0.7777777777777778,
              "#fb9f3a"
             ],
             [
              0.8888888888888888,
              "#fdca26"
             ],
             [
              1,
              "#f0f921"
             ]
            ],
            "type": "histogram2dcontour"
           }
          ],
          "mesh3d": [
           {
            "colorbar": {
             "outlinewidth": 0,
             "ticks": ""
            },
            "type": "mesh3d"
           }
          ],
          "parcoords": [
           {
            "line": {
             "colorbar": {
              "outlinewidth": 0,
              "ticks": ""
             }
            },
            "type": "parcoords"
           }
          ],
          "pie": [
           {
            "automargin": true,
            "type": "pie"
           }
          ],
          "scatter": [
           {
            "fillpattern": {
             "fillmode": "overlay",
             "size": 10,
             "solidity": 0.2
            },
            "type": "scatter"
           }
          ],
          "scatter3d": [
           {
            "line": {
             "colorbar": {
              "outlinewidth": 0,
              "ticks": ""
             }
            },
            "marker": {
             "colorbar": {
              "outlinewidth": 0,
              "ticks": ""
             }
            },
            "type": "scatter3d"
           }
          ],
          "scattercarpet": [
           {
            "marker": {
             "colorbar": {
              "outlinewidth": 0,
              "ticks": ""
             }
            },
            "type": "scattercarpet"
           }
          ],
          "scattergeo": [
           {
            "marker": {
             "colorbar": {
              "outlinewidth": 0,
              "ticks": ""
             }
            },
            "type": "scattergeo"
           }
          ],
          "scattergl": [
           {
            "marker": {
             "colorbar": {
              "outlinewidth": 0,
              "ticks": ""
             }
            },
            "type": "scattergl"
           }
          ],
          "scattermapbox": [
           {
            "marker": {
             "colorbar": {
              "outlinewidth": 0,
              "ticks": ""
             }
            },
            "type": "scattermapbox"
           }
          ],
          "scatterpolar": [
           {
            "marker": {
             "colorbar": {
              "outlinewidth": 0,
              "ticks": ""
             }
            },
            "type": "scatterpolar"
           }
          ],
          "scatterpolargl": [
           {
            "marker": {
             "colorbar": {
              "outlinewidth": 0,
              "ticks": ""
             }
            },
            "type": "scatterpolargl"
           }
          ],
          "scatterternary": [
           {
            "marker": {
             "colorbar": {
              "outlinewidth": 0,
              "ticks": ""
             }
            },
            "type": "scatterternary"
           }
          ],
          "surface": [
           {
            "colorbar": {
             "outlinewidth": 0,
             "ticks": ""
            },
            "colorscale": [
             [
              0,
              "#0d0887"
             ],
             [
              0.1111111111111111,
              "#46039f"
             ],
             [
              0.2222222222222222,
              "#7201a8"
             ],
             [
              0.3333333333333333,
              "#9c179e"
             ],
             [
              0.4444444444444444,
              "#bd3786"
             ],
             [
              0.5555555555555556,
              "#d8576b"
             ],
             [
              0.6666666666666666,
              "#ed7953"
             ],
             [
              0.7777777777777778,
              "#fb9f3a"
             ],
             [
              0.8888888888888888,
              "#fdca26"
             ],
             [
              1,
              "#f0f921"
             ]
            ],
            "type": "surface"
           }
          ],
          "table": [
           {
            "cells": {
             "fill": {
              "color": "#EBF0F8"
             },
             "line": {
              "color": "white"
             }
            },
            "header": {
             "fill": {
              "color": "#C8D4E3"
             },
             "line": {
              "color": "white"
             }
            },
            "type": "table"
           }
          ]
         },
         "layout": {
          "annotationdefaults": {
           "arrowcolor": "#2a3f5f",
           "arrowhead": 0,
           "arrowwidth": 1
          },
          "autotypenumbers": "strict",
          "coloraxis": {
           "colorbar": {
            "outlinewidth": 0,
            "ticks": ""
           }
          },
          "colorscale": {
           "diverging": [
            [
             0,
             "#8e0152"
            ],
            [
             0.1,
             "#c51b7d"
            ],
            [
             0.2,
             "#de77ae"
            ],
            [
             0.3,
             "#f1b6da"
            ],
            [
             0.4,
             "#fde0ef"
            ],
            [
             0.5,
             "#f7f7f7"
            ],
            [
             0.6,
             "#e6f5d0"
            ],
            [
             0.7,
             "#b8e186"
            ],
            [
             0.8,
             "#7fbc41"
            ],
            [
             0.9,
             "#4d9221"
            ],
            [
             1,
             "#276419"
            ]
           ],
           "sequential": [
            [
             0,
             "#0d0887"
            ],
            [
             0.1111111111111111,
             "#46039f"
            ],
            [
             0.2222222222222222,
             "#7201a8"
            ],
            [
             0.3333333333333333,
             "#9c179e"
            ],
            [
             0.4444444444444444,
             "#bd3786"
            ],
            [
             0.5555555555555556,
             "#d8576b"
            ],
            [
             0.6666666666666666,
             "#ed7953"
            ],
            [
             0.7777777777777778,
             "#fb9f3a"
            ],
            [
             0.8888888888888888,
             "#fdca26"
            ],
            [
             1,
             "#f0f921"
            ]
           ],
           "sequentialminus": [
            [
             0,
             "#0d0887"
            ],
            [
             0.1111111111111111,
             "#46039f"
            ],
            [
             0.2222222222222222,
             "#7201a8"
            ],
            [
             0.3333333333333333,
             "#9c179e"
            ],
            [
             0.4444444444444444,
             "#bd3786"
            ],
            [
             0.5555555555555556,
             "#d8576b"
            ],
            [
             0.6666666666666666,
             "#ed7953"
            ],
            [
             0.7777777777777778,
             "#fb9f3a"
            ],
            [
             0.8888888888888888,
             "#fdca26"
            ],
            [
             1,
             "#f0f921"
            ]
           ]
          },
          "colorway": [
           "#636efa",
           "#EF553B",
           "#00cc96",
           "#ab63fa",
           "#FFA15A",
           "#19d3f3",
           "#FF6692",
           "#B6E880",
           "#FF97FF",
           "#FECB52"
          ],
          "font": {
           "color": "#2a3f5f"
          },
          "geo": {
           "bgcolor": "white",
           "lakecolor": "white",
           "landcolor": "#E5ECF6",
           "showlakes": true,
           "showland": true,
           "subunitcolor": "white"
          },
          "hoverlabel": {
           "align": "left"
          },
          "hovermode": "closest",
          "mapbox": {
           "style": "light"
          },
          "paper_bgcolor": "white",
          "plot_bgcolor": "#E5ECF6",
          "polar": {
           "angularaxis": {
            "gridcolor": "white",
            "linecolor": "white",
            "ticks": ""
           },
           "bgcolor": "#E5ECF6",
           "radialaxis": {
            "gridcolor": "white",
            "linecolor": "white",
            "ticks": ""
           }
          },
          "scene": {
           "xaxis": {
            "backgroundcolor": "#E5ECF6",
            "gridcolor": "white",
            "gridwidth": 2,
            "linecolor": "white",
            "showbackground": true,
            "ticks": "",
            "zerolinecolor": "white"
           },
           "yaxis": {
            "backgroundcolor": "#E5ECF6",
            "gridcolor": "white",
            "gridwidth": 2,
            "linecolor": "white",
            "showbackground": true,
            "ticks": "",
            "zerolinecolor": "white"
           },
           "zaxis": {
            "backgroundcolor": "#E5ECF6",
            "gridcolor": "white",
            "gridwidth": 2,
            "linecolor": "white",
            "showbackground": true,
            "ticks": "",
            "zerolinecolor": "white"
           }
          },
          "shapedefaults": {
           "line": {
            "color": "#2a3f5f"
           }
          },
          "ternary": {
           "aaxis": {
            "gridcolor": "white",
            "linecolor": "white",
            "ticks": ""
           },
           "baxis": {
            "gridcolor": "white",
            "linecolor": "white",
            "ticks": ""
           },
           "bgcolor": "#E5ECF6",
           "caxis": {
            "gridcolor": "white",
            "linecolor": "white",
            "ticks": ""
           }
          },
          "title": {
           "x": 0.05
          },
          "xaxis": {
           "automargin": true,
           "gridcolor": "white",
           "linecolor": "white",
           "ticks": "",
           "title": {
            "standoff": 15
           },
           "zerolinecolor": "white",
           "zerolinewidth": 2
          },
          "yaxis": {
           "automargin": true,
           "gridcolor": "white",
           "linecolor": "white",
           "ticks": "",
           "title": {
            "standoff": 15
           },
           "zerolinecolor": "white",
           "zerolinewidth": 2
          }
         }
        },
        "title": {
         "font": {
          "color": "#D9D9D9"
         },
         "text": "Comparison of EIA and LSEG Oil Research flows for US PADD 3 Crude Oil exports"
        },
        "xaxis": {
         "autorange": true,
         "gridcolor": "#434343",
         "range": [
          "2014-11-17",
          "2021-05-15"
         ],
         "showgrid": true,
         "tickfont": {
          "color": "#C2C2C2"
         },
         "title": {
          "font": {
           "color": "#D9D9D9"
          },
          "text": ""
         },
         "type": "date",
         "zerolinecolor": "#666570"
        },
        "yaxis": {
         "autorange": true,
         "gridcolor": "#434343",
         "range": [
          -229.96117741935484,
          7009.262370967741
         ],
         "showgrid": true,
         "tickfont": {
          "color": "#C2C2C2"
         },
         "title": {
          "font": {
           "color": "#D9D9D9"
          },
          "text": ""
         },
         "type": "linear",
         "zerolinecolor": "#666570"
        }
       }
      },
      "text/html": [
       "<div>                            <div id=\"31355f2e-420f-4071-b861-091386afbf73\" class=\"plotly-graph-div\" style=\"height:525px; width:100%;\"></div>            <script type=\"text/javascript\">                require([\"plotly\"], function(Plotly) {                    window.PLOTLYENV=window.PLOTLYENV || {};                                    if (document.getElementById(\"31355f2e-420f-4071-b861-091386afbf73\")) {                    Plotly.newPlot(                        \"31355f2e-420f-4071-b861-091386afbf73\",                        [{\"marker\":{\"color\":\"rgba(255, 153, 51, 0.6)\",\"line\":{\"color\":\"rgba(255, 153, 51, 1.0)\",\"width\":1}},\"name\":\"LSEG Flows_kbpd\",\"orientation\":\"v\",\"text\":\"\",\"x\":[\"2014-12\",\"2015-01\",\"2015-02\",\"2015-03\",\"2015-04\",\"2015-05\",\"2015-06\",\"2015-07\",\"2015-08\",\"2015-09\",\"2015-10\",\"2015-11\",\"2015-12\",\"2016-01\",\"2016-02\",\"2016-03\",\"2016-04\",\"2016-05\",\"2016-06\",\"2016-07\",\"2016-08\",\"2016-09\",\"2016-10\",\"2016-11\",\"2016-12\",\"2017-01\",\"2017-02\",\"2017-03\",\"2017-04\",\"2017-05\",\"2017-06\",\"2017-07\",\"2017-08\",\"2017-09\",\"2017-10\",\"2017-11\",\"2017-12\",\"2018-01\",\"2018-02\",\"2018-03\",\"2018-04\",\"2018-05\",\"2018-06\",\"2018-07\",\"2018-08\",\"2018-09\",\"2018-10\",\"2018-11\",\"2018-12\",\"2019-01\",\"2019-02\",\"2019-03\",\"2019-04\",\"2019-05\",\"2019-06\",\"2019-07\",\"2019-08\",\"2019-09\",\"2019-10\",\"2019-11\",\"2019-12\",\"2020-01\",\"2020-02\",\"2020-03\",\"2020-04\",\"2020-05\",\"2020-06\",\"2020-07\",\"2020-08\",\"2020-09\",\"2020-10\",\"2020-11\",\"2020-12\",\"2021-01\",\"2021-02\",\"2021-03\",\"2021-04\",\"2021-05\"],\"y\":[5.610064516129032,340.5291612903226,260.8151785714286,239.89951612903226,410.8533333333333,324.57477419354836,356.12216666666666,356.30532258064517,268.28177419354836,386.77863333333335,297.5606774193549,299.45309999999995,253.43783870967744,325.69851612903227,187.1761724137931,415.22890322580645,315.06443333333334,396.9686129032258,262.27346666666665,274.1561935483871,314.15193548387094,701.6613666666667,325.60132258064516,357.5217666666667,240.46009677419354,470.2753870967742,739.9668571428572,615.0404193548387,579.0116666666667,605.2128387096775,594.3601333333334,729.8155806451613,622.5998064516128,982.3702666666667,1619.1600322580646,1326.6772333333333,1434.1813548387095,1022.6654193548387,1411.7770357142856,1569.7605161290323,1805.9458,1702.3514516129032,2567.2282,3644.681774193549,2866.122064516129,3710.2587999999996,3441.4030967741933,3551.334533333333,3996.6103870967745,4694.602838709678,4644.332571428572,4608.562387096774,4369.657666666667,5114.662193548387,5484.593866666666,4729.749548387097,4654.405032258064,5387.890666666667,6389.239419354838,5217.244933333333,6372.428193548387,5787.131935483871,6274.259517241379,6093.201677419355,5386.9456,4850.191483870967,4835.482866666666,6059.610903225806,5549.398258064516,5466.721333333333,5293.85470967742,4513.653733333334,6010.404967741935,5847.057612903226,4297.337357142857,4556.693419354839,5870.291933333334,4806.194580645161],\"type\":\"bar\"},{\"marker\":{\"color\":\"rgba(55, 128, 191, 0.6)\",\"line\":{\"color\":\"rgba(55, 128, 191, 1.0)\",\"width\":1}},\"name\":\"Pipeline exports_kbpd\",\"orientation\":\"v\",\"text\":\"\",\"x\":[\"2014-12\",\"2015-01\",\"2015-02\",\"2015-03\",\"2015-04\",\"2015-05\",\"2015-06\",\"2015-07\",\"2015-08\",\"2015-09\",\"2015-10\",\"2015-11\",\"2015-12\",\"2016-01\",\"2016-02\",\"2016-03\",\"2016-04\",\"2016-05\",\"2016-06\",\"2016-07\",\"2016-08\",\"2016-09\",\"2016-10\",\"2016-11\",\"2016-12\",\"2017-01\",\"2017-02\",\"2017-03\",\"2017-04\",\"2017-05\",\"2017-06\",\"2017-07\",\"2017-08\",\"2017-09\",\"2017-10\",\"2017-11\",\"2017-12\",\"2018-01\",\"2018-02\",\"2018-03\",\"2018-04\",\"2018-05\",\"2018-06\",\"2018-07\",\"2018-08\",\"2018-09\",\"2018-10\",\"2018-11\",\"2018-12\",\"2019-01\",\"2019-02\",\"2019-03\",\"2019-04\",\"2019-05\",\"2019-06\",\"2019-07\",\"2019-08\",\"2019-09\",\"2019-10\",\"2019-11\",\"2019-12\",\"2020-01\",\"2020-02\",\"2020-03\",\"2020-04\",\"2020-05\",\"2020-06\",\"2020-07\",\"2020-08\",\"2020-09\",\"2020-10\",\"2020-11\",\"2020-12\",\"2021-01\",\"2021-02\",\"2021-03\",\"2021-04\",\"2021-05\"],\"y\":[\"\",\"\",\"\",\"\",\"\",\"\",\"\",\"\",\"\",\"\",\"\",\"\",\"\",\"\",\"\",\"\",\"\",\"\",\"\",\"\",\"\",\"\",\"\",\"\",\"\",\"\",\"\",\"\",\"\",\"\",\"\",\"\",\"\",\"\",\"\",\"\",\"\",225.81099999999998,314.19989285714286,340.3294516129032,322.9097333333333,306.1351935483871,213.23100000000002,225.182,262.922,261.035,150.33100000000002,130.203,159.137,105.043,249.713,217.005,227.069,200.022,150.96,225.182,262.922,261.035,206.31199999999998,230.843,274.873,271.72799999999995,282.421,283.04999999999995,242.79399999999998,280.534,281.79200000000003,276.76,203.69825806451612,196.63770000000002,188.56158064516129,215.4333,255.8006129032258,257.39580645161294,\"\",\"\",\"\",\"\"],\"type\":\"bar\"},{\"line\":{\"color\":\"lime\"},\"name\":\"EIA PADD3\",\"x\":[\"2014-12\",\"2015-01\",\"2015-02\",\"2015-03\",\"2015-04\",\"2015-05\",\"2015-06\",\"2015-07\",\"2015-08\",\"2015-09\",\"2015-10\",\"2015-11\",\"2015-12\",\"2016-01\",\"2016-02\",\"2016-03\",\"2016-04\",\"2016-05\",\"2016-06\",\"2016-07\",\"2016-08\",\"2016-09\",\"2016-10\",\"2016-11\",\"2016-12\",\"2017-01\",\"2017-02\",\"2017-03\",\"2017-04\",\"2017-05\",\"2017-06\",\"2017-07\",\"2017-08\",\"2017-09\",\"2017-10\",\"2017-11\",\"2017-12\",\"2018-01\",\"2018-02\",\"2018-03\",\"2018-04\",\"2018-05\",\"2018-06\",\"2018-07\",\"2018-08\",\"2018-09\",\"2018-10\",\"2018-11\",\"2018-12\",\"2019-01\",\"2019-02\",\"2019-03\",\"2019-04\",\"2019-05\",\"2019-06\",\"2019-07\",\"2019-08\",\"2019-09\",\"2019-10\",\"2019-11\",\"2019-12\",\"2020-01\",\"2020-02\",\"2020-03\",\"2020-04\",\"2020-05\",\"2020-06\",\"2020-07\",\"2020-08\",\"2020-09\",\"2020-10\",\"2020-11\",\"2020-12\",\"2021-01\",\"2021-02\",\"2021-03\",\"2021-04\",\"2021-05\"],\"y\":[null,270.0,237.0,268.0,333.0,309.0,262.0,316.0,289.0,268.0,408.0,243.0,292.0,207.0,220.0,298.0,302.0,401.0,192.0,132.0,410.0,491.0,221.0,330.0,292.0,421.0,868.0,698.0,862.0,778.0,599.0,710.0,607.0,1277.0,1581.0,1360.0,1314.0,1130.0,1409.0,1644.0,1676.0,1809.0,2050.0,1994.0,1672.0,1888.0,2052.0,2198.0,2198.0,2453.0,2715.0,2511.0,2700.0,2774.0,2931.0,2453.0,2593.0,2784.0,3218.0,2886.0,3354.0,2990.0,3334.0,3441.0,2709.0,2888.0,2575.0,3190.0,3198.0,2872.0,2709.0,2534.0,3160.0,3025.0,2374.0,2622.0,2980.0,2571.0],\"type\":\"scatter\"}],                        {\"barmode\":\"stack\",\"legend\":{\"bgcolor\":\"#151516\",\"font\":{\"color\":\"#D9D9D9\"},\"traceorder\":\"normal\"},\"paper_bgcolor\":\"#151516\",\"plot_bgcolor\":\"#151516\",\"title\":{\"text\":\"Comparison of EIA and LSEG Oil Research flows for US PADD 3 Crude Oil exports\",\"font\":{\"color\":\"#D9D9D9\"}},\"xaxis\":{\"gridcolor\":\"#434343\",\"showgrid\":true,\"tickfont\":{\"color\":\"#C2C2C2\"},\"title\":{\"text\":\"\",\"font\":{\"color\":\"#D9D9D9\"}},\"zerolinecolor\":\"#666570\"},\"yaxis\":{\"gridcolor\":\"#434343\",\"showgrid\":true,\"tickfont\":{\"color\":\"#C2C2C2\"},\"title\":{\"text\":\"\",\"font\":{\"color\":\"#D9D9D9\"}},\"zerolinecolor\":\"#666570\"},\"template\":{\"data\":{\"histogram2dcontour\":[{\"type\":\"histogram2dcontour\",\"colorbar\":{\"outlinewidth\":0,\"ticks\":\"\"},\"colorscale\":[[0.0,\"#0d0887\"],[0.1111111111111111,\"#46039f\"],[0.2222222222222222,\"#7201a8\"],[0.3333333333333333,\"#9c179e\"],[0.4444444444444444,\"#bd3786\"],[0.5555555555555556,\"#d8576b\"],[0.6666666666666666,\"#ed7953\"],[0.7777777777777778,\"#fb9f3a\"],[0.8888888888888888,\"#fdca26\"],[1.0,\"#f0f921\"]]}],\"choropleth\":[{\"type\":\"choropleth\",\"colorbar\":{\"outlinewidth\":0,\"ticks\":\"\"}}],\"histogram2d\":[{\"type\":\"histogram2d\",\"colorbar\":{\"outlinewidth\":0,\"ticks\":\"\"},\"colorscale\":[[0.0,\"#0d0887\"],[0.1111111111111111,\"#46039f\"],[0.2222222222222222,\"#7201a8\"],[0.3333333333333333,\"#9c179e\"],[0.4444444444444444,\"#bd3786\"],[0.5555555555555556,\"#d8576b\"],[0.6666666666666666,\"#ed7953\"],[0.7777777777777778,\"#fb9f3a\"],[0.8888888888888888,\"#fdca26\"],[1.0,\"#f0f921\"]]}],\"heatmap\":[{\"type\":\"heatmap\",\"colorbar\":{\"outlinewidth\":0,\"ticks\":\"\"},\"colorscale\":[[0.0,\"#0d0887\"],[0.1111111111111111,\"#46039f\"],[0.2222222222222222,\"#7201a8\"],[0.3333333333333333,\"#9c179e\"],[0.4444444444444444,\"#bd3786\"],[0.5555555555555556,\"#d8576b\"],[0.6666666666666666,\"#ed7953\"],[0.7777777777777778,\"#fb9f3a\"],[0.8888888888888888,\"#fdca26\"],[1.0,\"#f0f921\"]]}],\"heatmapgl\":[{\"type\":\"heatmapgl\",\"colorbar\":{\"outlinewidth\":0,\"ticks\":\"\"},\"colorscale\":[[0.0,\"#0d0887\"],[0.1111111111111111,\"#46039f\"],[0.2222222222222222,\"#7201a8\"],[0.3333333333333333,\"#9c179e\"],[0.4444444444444444,\"#bd3786\"],[0.5555555555555556,\"#d8576b\"],[0.6666666666666666,\"#ed7953\"],[0.7777777777777778,\"#fb9f3a\"],[0.8888888888888888,\"#fdca26\"],[1.0,\"#f0f921\"]]}],\"contourcarpet\":[{\"type\":\"contourcarpet\",\"colorbar\":{\"outlinewidth\":0,\"ticks\":\"\"}}],\"contour\":[{\"type\":\"contour\",\"colorbar\":{\"outlinewidth\":0,\"ticks\":\"\"},\"colorscale\":[[0.0,\"#0d0887\"],[0.1111111111111111,\"#46039f\"],[0.2222222222222222,\"#7201a8\"],[0.3333333333333333,\"#9c179e\"],[0.4444444444444444,\"#bd3786\"],[0.5555555555555556,\"#d8576b\"],[0.6666666666666666,\"#ed7953\"],[0.7777777777777778,\"#fb9f3a\"],[0.8888888888888888,\"#fdca26\"],[1.0,\"#f0f921\"]]}],\"surface\":[{\"type\":\"surface\",\"colorbar\":{\"outlinewidth\":0,\"ticks\":\"\"},\"colorscale\":[[0.0,\"#0d0887\"],[0.1111111111111111,\"#46039f\"],[0.2222222222222222,\"#7201a8\"],[0.3333333333333333,\"#9c179e\"],[0.4444444444444444,\"#bd3786\"],[0.5555555555555556,\"#d8576b\"],[0.6666666666666666,\"#ed7953\"],[0.7777777777777778,\"#fb9f3a\"],[0.8888888888888888,\"#fdca26\"],[1.0,\"#f0f921\"]]}],\"mesh3d\":[{\"type\":\"mesh3d\",\"colorbar\":{\"outlinewidth\":0,\"ticks\":\"\"}}],\"scatter\":[{\"fillpattern\":{\"fillmode\":\"overlay\",\"size\":10,\"solidity\":0.2},\"type\":\"scatter\"}],\"parcoords\":[{\"type\":\"parcoords\",\"line\":{\"colorbar\":{\"outlinewidth\":0,\"ticks\":\"\"}}}],\"scatterpolargl\":[{\"type\":\"scatterpolargl\",\"marker\":{\"colorbar\":{\"outlinewidth\":0,\"ticks\":\"\"}}}],\"bar\":[{\"error_x\":{\"color\":\"#2a3f5f\"},\"error_y\":{\"color\":\"#2a3f5f\"},\"marker\":{\"line\":{\"color\":\"#E5ECF6\",\"width\":0.5},\"pattern\":{\"fillmode\":\"overlay\",\"size\":10,\"solidity\":0.2}},\"type\":\"bar\"}],\"scattergeo\":[{\"type\":\"scattergeo\",\"marker\":{\"colorbar\":{\"outlinewidth\":0,\"ticks\":\"\"}}}],\"scatterpolar\":[{\"type\":\"scatterpolar\",\"marker\":{\"colorbar\":{\"outlinewidth\":0,\"ticks\":\"\"}}}],\"histogram\":[{\"marker\":{\"pattern\":{\"fillmode\":\"overlay\",\"size\":10,\"solidity\":0.2}},\"type\":\"histogram\"}],\"scattergl\":[{\"type\":\"scattergl\",\"marker\":{\"colorbar\":{\"outlinewidth\":0,\"ticks\":\"\"}}}],\"scatter3d\":[{\"type\":\"scatter3d\",\"line\":{\"colorbar\":{\"outlinewidth\":0,\"ticks\":\"\"}},\"marker\":{\"colorbar\":{\"outlinewidth\":0,\"ticks\":\"\"}}}],\"scattermapbox\":[{\"type\":\"scattermapbox\",\"marker\":{\"colorbar\":{\"outlinewidth\":0,\"ticks\":\"\"}}}],\"scatterternary\":[{\"type\":\"scatterternary\",\"marker\":{\"colorbar\":{\"outlinewidth\":0,\"ticks\":\"\"}}}],\"scattercarpet\":[{\"type\":\"scattercarpet\",\"marker\":{\"colorbar\":{\"outlinewidth\":0,\"ticks\":\"\"}}}],\"carpet\":[{\"aaxis\":{\"endlinecolor\":\"#2a3f5f\",\"gridcolor\":\"white\",\"linecolor\":\"white\",\"minorgridcolor\":\"white\",\"startlinecolor\":\"#2a3f5f\"},\"baxis\":{\"endlinecolor\":\"#2a3f5f\",\"gridcolor\":\"white\",\"linecolor\":\"white\",\"minorgridcolor\":\"white\",\"startlinecolor\":\"#2a3f5f\"},\"type\":\"carpet\"}],\"table\":[{\"cells\":{\"fill\":{\"color\":\"#EBF0F8\"},\"line\":{\"color\":\"white\"}},\"header\":{\"fill\":{\"color\":\"#C8D4E3\"},\"line\":{\"color\":\"white\"}},\"type\":\"table\"}],\"barpolar\":[{\"marker\":{\"line\":{\"color\":\"#E5ECF6\",\"width\":0.5},\"pattern\":{\"fillmode\":\"overlay\",\"size\":10,\"solidity\":0.2}},\"type\":\"barpolar\"}],\"pie\":[{\"automargin\":true,\"type\":\"pie\"}]},\"layout\":{\"autotypenumbers\":\"strict\",\"colorway\":[\"#636efa\",\"#EF553B\",\"#00cc96\",\"#ab63fa\",\"#FFA15A\",\"#19d3f3\",\"#FF6692\",\"#B6E880\",\"#FF97FF\",\"#FECB52\"],\"font\":{\"color\":\"#2a3f5f\"},\"hovermode\":\"closest\",\"hoverlabel\":{\"align\":\"left\"},\"paper_bgcolor\":\"white\",\"plot_bgcolor\":\"#E5ECF6\",\"polar\":{\"bgcolor\":\"#E5ECF6\",\"angularaxis\":{\"gridcolor\":\"white\",\"linecolor\":\"white\",\"ticks\":\"\"},\"radialaxis\":{\"gridcolor\":\"white\",\"linecolor\":\"white\",\"ticks\":\"\"}},\"ternary\":{\"bgcolor\":\"#E5ECF6\",\"aaxis\":{\"gridcolor\":\"white\",\"linecolor\":\"white\",\"ticks\":\"\"},\"baxis\":{\"gridcolor\":\"white\",\"linecolor\":\"white\",\"ticks\":\"\"},\"caxis\":{\"gridcolor\":\"white\",\"linecolor\":\"white\",\"ticks\":\"\"}},\"coloraxis\":{\"colorbar\":{\"outlinewidth\":0,\"ticks\":\"\"}},\"colorscale\":{\"sequential\":[[0.0,\"#0d0887\"],[0.1111111111111111,\"#46039f\"],[0.2222222222222222,\"#7201a8\"],[0.3333333333333333,\"#9c179e\"],[0.4444444444444444,\"#bd3786\"],[0.5555555555555556,\"#d8576b\"],[0.6666666666666666,\"#ed7953\"],[0.7777777777777778,\"#fb9f3a\"],[0.8888888888888888,\"#fdca26\"],[1.0,\"#f0f921\"]],\"sequentialminus\":[[0.0,\"#0d0887\"],[0.1111111111111111,\"#46039f\"],[0.2222222222222222,\"#7201a8\"],[0.3333333333333333,\"#9c179e\"],[0.4444444444444444,\"#bd3786\"],[0.5555555555555556,\"#d8576b\"],[0.6666666666666666,\"#ed7953\"],[0.7777777777777778,\"#fb9f3a\"],[0.8888888888888888,\"#fdca26\"],[1.0,\"#f0f921\"]],\"diverging\":[[0,\"#8e0152\"],[0.1,\"#c51b7d\"],[0.2,\"#de77ae\"],[0.3,\"#f1b6da\"],[0.4,\"#fde0ef\"],[0.5,\"#f7f7f7\"],[0.6,\"#e6f5d0\"],[0.7,\"#b8e186\"],[0.8,\"#7fbc41\"],[0.9,\"#4d9221\"],[1,\"#276419\"]]},\"xaxis\":{\"gridcolor\":\"white\",\"linecolor\":\"white\",\"ticks\":\"\",\"title\":{\"standoff\":15},\"zerolinecolor\":\"white\",\"automargin\":true,\"zerolinewidth\":2},\"yaxis\":{\"gridcolor\":\"white\",\"linecolor\":\"white\",\"ticks\":\"\",\"title\":{\"standoff\":15},\"zerolinecolor\":\"white\",\"automargin\":true,\"zerolinewidth\":2},\"scene\":{\"xaxis\":{\"backgroundcolor\":\"#E5ECF6\",\"gridcolor\":\"white\",\"linecolor\":\"white\",\"showbackground\":true,\"ticks\":\"\",\"zerolinecolor\":\"white\",\"gridwidth\":2},\"yaxis\":{\"backgroundcolor\":\"#E5ECF6\",\"gridcolor\":\"white\",\"linecolor\":\"white\",\"showbackground\":true,\"ticks\":\"\",\"zerolinecolor\":\"white\",\"gridwidth\":2},\"zaxis\":{\"backgroundcolor\":\"#E5ECF6\",\"gridcolor\":\"white\",\"linecolor\":\"white\",\"showbackground\":true,\"ticks\":\"\",\"zerolinecolor\":\"white\",\"gridwidth\":2}},\"shapedefaults\":{\"line\":{\"color\":\"#2a3f5f\"}},\"annotationdefaults\":{\"arrowcolor\":\"#2a3f5f\",\"arrowhead\":0,\"arrowwidth\":1},\"geo\":{\"bgcolor\":\"white\",\"landcolor\":\"#E5ECF6\",\"subunitcolor\":\"white\",\"showland\":true,\"showlakes\":true,\"lakecolor\":\"white\"},\"title\":{\"x\":0.05},\"mapbox\":{\"style\":\"light\"}}}},                        {\"responsive\": true}                    ).then(function(){\n",
       "                            \n",
       "var gd = document.getElementById('31355f2e-420f-4071-b861-091386afbf73');\n",
       "var x = new MutationObserver(function (mutations, observer) {{\n",
       "        var display = window.getComputedStyle(gd).display;\n",
       "        if (!display || display === 'none') {{\n",
       "            console.log([gd, 'removed!']);\n",
       "            Plotly.purge(gd);\n",
       "            observer.disconnect();\n",
       "        }}\n",
       "}});\n",
       "\n",
       "// Listen for the removal of the full notebook cells\n",
       "var notebookContainer = gd.closest('#notebook-container');\n",
       "if (notebookContainer) {{\n",
       "    x.observe(notebookContainer, {childList: true});\n",
       "}}\n",
       "\n",
       "// Listen for the clearing of the current output cell\n",
       "var outputEl = gd.closest('.output');\n",
       "if (outputEl) {{\n",
       "    x.observe(outputEl, {childList: true});\n",
       "}}\n",
       "\n",
       "                        })                };                });            </script>        </div>"
      ]
     },
     "metadata": {},
     "output_type": "display_data"
    }
   ],
   "source": [
    "eia=ld.get_history('EXP-CLPD3D-EIA',start='2015-01-01', end='2025-05-30', interval='monthly')\n",
    "eia.index=eia.index.to_period('M')\n",
    "compare=padd3_mnbpd.merge(eia,how='left',left_index=True,right_index=True)\n",
    "compare['PADD3_calculated']=compare['LSEG Flows_kbpd']+compare['Pipeline exports_kbpd']\n",
    "compare.index=compare.index.astype('str')\n",
    "compare['COMM_LAST']=compare['COMM_LAST'].astype('float64')\n",
    "fig_benchmarking=compare[['LSEG Flows_kbpd','Pipeline exports_kbpd']].iplot(kind='bar',barmode='stack',title='Comparison of EIA and LSEG Oil Research flows for US PADD 3 Crude Oil exports',asFigure=True)\n",
    "fig_benchmarking.add_trace(trace=go.Scatter(x=compare.index,y=compare['COMM_LAST'],name='EIA PADD3',line=dict(color='lime')))\n",
    "fig_benchmarking.show()"
   ]
  },
  {
   "cell_type": "markdown",
   "metadata": {},
   "source": [
    "As one can clearly see from the chart, LSEG Flows data for seaborne exports historically tracks the official EIA figures with very high degree of accuracy. The advantage of our estimate over official EIA data is of course that our estiate can be performed in real-time."
   ]
  },
  {
   "cell_type": "markdown",
   "metadata": {},
   "source": [
    "### Visualising the impact of export infrastructure addition on exports from PADD 3  \n",
    "In this analysis we're using Trade Flows data to visualize the impact of the addidion of the new export infrastructure including pipelines and terminals over the last few years. "
   ]
  },
  {
   "cell_type": "code",
   "execution_count": 8,
   "metadata": {},
   "outputs": [
    {
     "data": {
      "application/vnd.plotly.v1+json": {
       "config": {
        "plotlyServerURL": "https://plot.ly"
       },
       "data": [
        {
         "geo": "geo",
         "hovertemplate": "<b>%{hovertext}</b><br><br>Depyear=2014<br>Barrels=%{marker.size}<br>Latitude=%{lat}<br>Longitude=%{lon}<extra></extra>",
         "hovertext": [
          "Beaumont"
         ],
         "lat": [
          30.053164
         ],
         "legendgroup": "",
         "lon": [
          -94.086511
         ],
         "marker": {
          "color": "#636efa",
          "size": [
           173912
          ],
          "sizemode": "area",
          "sizeref": 1801924.05,
          "symbol": "circle"
         },
         "mode": "markers",
         "name": "",
         "showlegend": false,
         "type": "scattergeo"
        }
       ],
       "frames": [
        {
         "data": [
          {
           "geo": "geo",
           "hovertemplate": "<b>%{hovertext}</b><br><br>Depyear=2014<br>Barrels=%{marker.size}<br>Latitude=%{lat}<br>Longitude=%{lon}<extra></extra>",
           "hovertext": [
            "Beaumont"
           ],
           "lat": [
            30.053164
           ],
           "legendgroup": "",
           "lon": [
            -94.086511
           ],
           "marker": {
            "color": "#636efa",
            "size": [
             173912
            ],
            "sizemode": "area",
            "sizeref": 1801924.05,
            "symbol": "circle"
           },
           "mode": "markers",
           "name": "",
           "showlegend": false,
           "type": "scattergeo"
          }
         ],
         "name": "2014"
        },
        {
         "data": [
          {
           "geo": "geo",
           "hovertemplate": "<b>%{hovertext}</b><br><br>Depyear=2015<br>Barrels=%{marker.size}<br>Latitude=%{lat}<br>Longitude=%{lon}<extra></extra>",
           "hovertext": [
            "Beaumont",
            "Corpus Christi",
            "Freeport (USA)",
            "GOLA - Galveston Offshore Lightering Area",
            "Galveston",
            "Gulfmex (SW Pass) Lightering",
            "Houston",
            "Long Beach",
            "New Orleans",
            "Pacific Lightering Area 2",
            "Philadelphia",
            "Point Comfort",
            "Port Arthur",
            "Sabine (To be removed soon)",
            "South Louisiana Port",
            "South Sabine Point",
            "South West Pass",
            "Texas City",
            "Valdez"
           ],
           "lat": [
            30.053164,
            27.841887,
            28.94974,
            28.56874,
            29.313034,
            28.351253000000003,
            29.727513,
            33.767776684545495,
            29.935441,
            31.897995,
            39.90792,
            28.671686,
            29.851103,
            29.7,
            30.023456,
            28.610161,
            28.844036,
            29.364245,
            61.11411999999999
           ],
           "legendgroup": "",
           "lon": [
            -94.086511,
            -97.270307,
            -95.33753,
            -94.460887,
            -94.810938,
            -90.502712,
            -95.127008,
            -118.210932045218,
            -90.079969,
            -119.438401,
            -75.252483,
            -96.558307,
            -93.915173,
            -93.866667,
            -90.603083,
            -93.488188,
            -89.48700500000001,
            -94.897704,
            -146.37006
           ],
           "marker": {
            "color": "#636efa",
            "size": [
             13729687,
             40852025,
             2871751,
             3094297,
             2965417,
             2072138,
             25154964,
             304359,
             1320994,
             2009912,
             404330,
             292442,
             592328,
             134704,
             11737567,
             1349850,
             513303,
             8715836,
             967985
            ],
            "sizemode": "area",
            "sizeref": 1801924.05,
            "symbol": "circle"
           },
           "mode": "markers",
           "name": "",
           "showlegend": false,
           "type": "scattergeo"
          }
         ],
         "name": "2015"
        },
        {
         "data": [
          {
           "geo": "geo",
           "hovertemplate": "<b>%{hovertext}</b><br><br>Depyear=2016<br>Barrels=%{marker.size}<br>Latitude=%{lat}<br>Longitude=%{lon}<extra></extra>",
           "hovertext": [
            "Beaumont",
            "Camden",
            "Convent",
            "Corpus Christi",
            "Corpus Christi STS 1",
            "Corpus Christi STS Area 2",
            "Freeport (USA)",
            "GOLA - Galveston Offshore Lightering Area",
            "Galveston",
            "Gulfmex (SW Pass) Lightering",
            "Houston",
            "Lake Charles",
            "Long Beach",
            "Miami",
            "Mobile",
            "New Orleans",
            "New York",
            "Pacific Lightering Area 2",
            "Pascagoula",
            "Philadelphia",
            "Port Arthur",
            "Richmond (California)",
            "South Louisiana Port",
            "South Sabine Point",
            "South West Pass",
            "St Croix",
            "St. Charles",
            "St. Rose",
            "US Gulf Lightering Zones",
            "Valdez"
           ],
           "lat": [
            30.053164,
            39.923121,
            30.022438,
            27.841887,
            27.762469,
            27.312478,
            28.94974,
            28.56874,
            29.313034,
            28.351253000000003,
            29.727513,
            30.20095,
            33.767776684545495,
            25.77571,
            30.705183,
            29.935441,
            40.626717,
            31.897995,
            30.339556,
            39.90792,
            29.851103,
            37.943334,
            30.023456,
            28.610161,
            28.844036,
            17.735085,
            29.994154,
            29.936604,
            26.916667,
            61.11411999999999
           ],
           "legendgroup": "",
           "lon": [
            -94.086511,
            -75.10203100000001,
            -90.840309,
            -97.270307,
            -96.424654,
            -96.834451,
            -95.33753,
            -94.460887,
            -94.810938,
            -90.502712,
            -95.127008,
            -93.273925,
            -118.210932045218,
            -80.19185300000001,
            -88.04436899999999,
            -90.079969,
            -73.972511,
            -119.438401,
            -88.527354,
            -75.252483,
            -93.915173,
            -122.373288,
            -90.603083,
            -93.488188,
            -89.48700500000001,
            -64.74277099999999,
            -90.417621,
            -90.339019,
            -91.5,
            -146.37006
           ],
           "marker": {
            "color": "#636efa",
            "size": [
             16568079,
             513303,
             1381262,
             17477053,
             1979883,
             3455503,
             4534720,
             16767349,
             953277,
             1861783,
             32320903,
             586632,
             460433,
             437283,
             586632,
             2165996,
             219485,
             7588407,
             157257,
             334558,
             1531803,
             292898,
             17386001,
             2213363,
             1792979,
             753081,
             512790,
             962064,
             388644,
             6310626
            ],
            "sizemode": "area",
            "sizeref": 1801924.05,
            "symbol": "circle"
           },
           "mode": "markers",
           "name": "",
           "showlegend": false,
           "type": "scattergeo"
          }
         ],
         "name": "2016"
        },
        {
         "data": [
          {
           "geo": "geo",
           "hovertemplate": "<b>%{hovertext}</b><br><br>Depyear=2017<br>Barrels=%{marker.size}<br>Latitude=%{lat}<br>Longitude=%{lon}<extra></extra>",
           "hovertext": [
            "Bayonne (USA - New Jersey)",
            "Beaumont",
            "Brownsville (Texas)",
            "Calcasieu Pass (S) Anchorage",
            "Camden",
            "Convent",
            "Corpus Christi",
            "Corpus Christi STS 1",
            "Corpus Christi STS Area 2",
            "Delaware Bay",
            "Freeport (USA)",
            "GOLA - Galveston Offshore Lightering Area",
            "Galveston",
            "Gulfmex (SW Pass) Lightering",
            "Houston",
            "Lake Charles",
            "Lewes",
            "Long Beach",
            "Marcus Hook",
            "Mobile",
            "New Orleans",
            "Pacific Area Lightering",
            "Pacific Lightering Area 2",
            "Pascagoula Lightering Zone",
            "Pedricktown",
            "Philadelphia",
            "Port Arthur",
            "Port Neches",
            "South Louisiana Port",
            "South Sabine Point",
            "Southwest Pass Lightering Area (test)",
            "St Croix",
            "St. Rose",
            "Texas City",
            "US Gulf Lightering Zones",
            "Valdez",
            "Wilmington (Del.)"
           ],
           "lat": [
            40.666135,
            30.053164,
            25.992855,
            28.97979,
            39.923121,
            30.022438,
            27.841887,
            27.762469,
            27.312478,
            38.928375,
            28.94974,
            28.56874,
            29.313034,
            28.351253000000003,
            29.727513,
            30.20095,
            38.8064639944569,
            33.767776684545495,
            39.815882,
            30.705183,
            29.935441,
            33.07557,
            31.897995,
            29.649432,
            39.7889970260995,
            39.90792,
            29.851103,
            29.975318,
            30.023456,
            28.610161,
            28.312037,
            17.735085,
            29.936604,
            29.364245,
            26.916667,
            61.11411999999999,
            39.728831
           ],
           "legendgroup": "",
           "lon": [
            -74.105377,
            -94.086511,
            -97.304779,
            -93.259846,
            -75.10203100000001,
            -90.840309,
            -97.270307,
            -96.424654,
            -96.834451,
            -75.161867,
            -95.33753,
            -94.460887,
            -94.810938,
            -90.502712,
            -95.127008,
            -93.273925,
            -75.1312493298523,
            -118.210932045218,
            -75.410598,
            -88.04436899999999,
            -90.079969,
            -117.8295,
            -119.438401,
            -88.19617,
            -75.40736339960091,
            -75.252483,
            -93.915173,
            -93.948541,
            -90.603083,
            -93.488188,
            -89.54969399999999,
            -64.74277099999999,
            -90.339019,
            -94.897704,
            -91.5,
            -146.37006,
            -75.53293599999999
           ],
           "marker": {
            "color": "#636efa",
            "size": [
             241428,
             26088446,
             240400,
             953277,
             1060352,
             8153841,
             65055468,
             2622575,
             6452202,
             652367,
             9177206,
             115903265,
             2200897,
             16623266,
             38049999,
             117923,
             293316,
             476087,
             2612071,
             545814,
             829131,
             2315020,
             15684263,
             459465,
             586632,
             1224088,
             2241887,
             513303,
             3083370,
             10291726,
             1236200,
             10232721,
             250405,
             1219633,
             1866800,
             953277,
             3871802
            ],
            "sizemode": "area",
            "sizeref": 1801924.05,
            "symbol": "circle"
           },
           "mode": "markers",
           "name": "",
           "showlegend": false,
           "type": "scattergeo"
          }
         ],
         "name": "2017"
        },
        {
         "data": [
          {
           "geo": "geo",
           "hovertemplate": "<b>%{hovertext}</b><br><br>Depyear=2018<br>Barrels=%{marker.size}<br>Latitude=%{lat}<br>Longitude=%{lon}<extra></extra>",
           "hovertext": [
            "Alliance",
            "Baton Rouge",
            "Bayonne (USA - New Jersey)",
            "Bayport",
            "Beaumont",
            "Brownsville (Texas)",
            "Camden",
            "Chalmette",
            "Convent",
            "Corpus Christi",
            "Corpus Christi STS 1",
            "Corpus Christi STS Area 2",
            "Delaware Bay",
            "Delaware Bay Offshore Lightering Area (test)",
            "El Segundo Terminal",
            "Freeport (USA)",
            "GOLA - Galveston Offshore Lightering Area",
            "Galveston",
            "Gulfmex (SW Pass) Lightering",
            "Gulfmex No.2 Lightering",
            "Houston",
            "Kenai (Nikiski)",
            "LOOP",
            "Los Angeles (incl San Pedro)",
            "Marcus Hook",
            "Mobile",
            "New Orleans",
            "Pacific Area Lightering",
            "Pacific Lightering Area 2",
            "Pascagoula Anchorage and Lightering Area",
            "Paulsboro",
            "Philadelphia",
            "Port Arthur",
            "Port Neches",
            "Portland (Maine)",
            "Portland (US - Oregon)",
            "Richmond (California)",
            "South Louisiana Port",
            "South Sabine Point",
            "South West Pass",
            "Southtex Lightering",
            "Southwest Pass Lightering Area (test)",
            "St Croix",
            "St. Charles",
            "Tacoma",
            "Texas City",
            "Valdez"
           ],
           "lat": [
            29.682195,
            30.466976000000003,
            40.666135,
            29.627453000000003,
            30.053164,
            25.992855,
            39.923121,
            29.94456,
            30.022438,
            27.841887,
            27.762469,
            27.312478,
            38.928375,
            38.70206,
            33.911346,
            28.94974,
            28.56874,
            29.313034,
            28.351253000000003,
            27.199477,
            29.727513,
            60.678764,
            28.87618,
            33.740434,
            39.815882,
            30.705183,
            29.935441,
            33.07557,
            31.897995,
            30.099764,
            39.838137,
            39.90792,
            29.851103,
            29.975318,
            43.6558579744634,
            45.574846,
            37.943334,
            30.023456,
            28.610161,
            28.844036,
            27.116063,
            28.312037,
            17.735085,
            29.994154,
            47.26248,
            29.364245,
            61.11411999999999
           ],
           "legendgroup": "",
           "lon": [
            -89.970254,
            -91.221965,
            -74.105377,
            -95.015405,
            -94.086511,
            -97.304779,
            -75.10203100000001,
            -89.966886,
            -90.840309,
            -97.270307,
            -96.424654,
            -96.834451,
            -75.161867,
            -74.51951600000001,
            -118.489702,
            -95.33753,
            -94.460887,
            -94.810938,
            -90.502712,
            -90.251583,
            -95.127008,
            -151.392557,
            -90.008112,
            -118.269551,
            -75.410598,
            -88.04436899999999,
            -90.079969,
            -117.8295,
            -119.438401,
            -88.550161,
            -75.246143,
            -75.252483,
            -93.915173,
            -93.948541,
            -70.2575675660577,
            -122.746774,
            -122.373288,
            -90.603083,
            -93.488188,
            -89.48700500000001,
            -94.490555,
            -89.54969399999999,
            -64.74277099999999,
            -90.417621,
            -122.412203,
            -94.897704,
            -146.37006
           ],
           "marker": {
            "color": "#636efa",
            "size": [
             3023560,
             1553532,
             286658,
             9618586,
             95891695,
             319145,
             2847716,
             605004,
             29054697,
             167309876,
             22837978,
             21835969,
             765574,
             240701,
             881106,
             25792953,
             283330338,
             140884,
             28936117,
             9195458,
             131882425,
             1084702,
             34263017,
             389139,
             5207079,
             1160006,
             4366592,
             953277,
             20509628,
             1225326,
             1107972,
             949592,
             1723350,
             1173264,
             311590,
             2150918,
             1173264,
             11096952,
             24313185,
             1906554,
             10070523,
             1411584,
             2945586,
             2577126,
             314681,
             27508517,
             2853017
            ],
            "sizemode": "area",
            "sizeref": 1801924.05,
            "symbol": "circle"
           },
           "mode": "markers",
           "name": "",
           "showlegend": false,
           "type": "scattergeo"
          }
         ],
         "name": "2018"
        },
        {
         "data": [
          {
           "geo": "geo",
           "hovertemplate": "<b>%{hovertext}</b><br><br>Depyear=2019<br>Barrels=%{marker.size}<br>Latitude=%{lat}<br>Longitude=%{lon}<extra></extra>",
           "hovertext": [
            "Baton Rouge",
            "Bayport",
            "Beaumont",
            "Brownsville (Texas)",
            "Camden",
            "Convent",
            "Corpus Christi",
            "Corpus Christi STS 1",
            "Corpus Christi STS Area 2",
            "Delaware Bay Offshore Lightering Area (test)",
            "Delaware City",
            "Enterprise HSC (HOU)",
            "Freeport (USA)",
            "GOLA - Galveston Offshore Lightering Area",
            "Gulfmex (SW Pass) Lightering",
            "Gulfmex No.2 Lightering",
            "Houston",
            "Kenai (Nikiski)",
            "LOOP",
            "Lake Charles",
            "Long Beach",
            "Los Angeles (incl San Pedro)",
            "Marcus Hook",
            "New Orleans",
            "Pacific Lightering Area 2",
            "Pascagoula Lightering Zone",
            "Paulsboro",
            "Philadelphia",
            "Port Arthur",
            "Port Neches",
            "Portland (Maine)",
            "Savannah",
            "South Louisiana Port",
            "South Sabine Point",
            "South West Pass",
            "Southtex Lightering",
            "Southwest Pass - River",
            "Southwest Pass Lightering Area (test)",
            "St Croix",
            "St. Charles",
            "St. Rose",
            "Texas City",
            "Valdez"
           ],
           "lat": [
            30.466976000000003,
            29.627453000000003,
            30.053164,
            25.992855,
            39.923121,
            30.022438,
            27.841887,
            27.762469,
            27.312478,
            38.70206,
            39.586314,
            29.73806,
            28.94974,
            28.56874,
            28.351253000000003,
            27.199477,
            29.727513,
            60.678764,
            28.87618,
            30.20095,
            33.767776684545495,
            33.740434,
            39.815882,
            29.935441,
            31.897995,
            29.649432,
            39.838137,
            39.90792,
            29.851103,
            29.975318,
            43.6558579744634,
            32.103894,
            30.023456,
            28.610161,
            28.844036,
            27.116063,
            29.031171,
            28.312037,
            17.735085,
            29.994154,
            29.936604,
            29.364245,
            61.11411999999999
           ],
           "legendgroup": "",
           "lon": [
            -91.221965,
            -95.015405,
            -94.086511,
            -97.304779,
            -75.10203100000001,
            -90.840309,
            -97.270307,
            -96.424654,
            -96.834451,
            -74.51951600000001,
            -75.622899,
            -95.127447,
            -95.33753,
            -94.460887,
            -90.502712,
            -90.251583,
            -95.127008,
            -151.392557,
            -90.008112,
            -93.273925,
            -118.210932045218,
            -118.269551,
            -75.410598,
            -90.079969,
            -119.438401,
            -88.19617,
            -75.246143,
            -75.252483,
            -93.915173,
            -93.948541,
            -70.2575675660577,
            -81.11099499999999,
            -90.603083,
            -93.488188,
            -89.48700500000001,
            -94.490555,
            -89.33159,
            -89.54969399999999,
            -64.74277099999999,
            -90.417621,
            -90.339019,
            -94.897704,
            -146.37006
           ],
           "marker": {
            "color": "#636efa",
            "size": [
             5373418,
             54833062,
             222895424,
             2289646,
             1443012,
             29734804,
             383480008,
             30876266,
             38929776,
             900070,
             2886932,
             54068,
             36112652,
             564986406,
             22938646,
             1446194,
             291885708,
             1409760,
             71567302,
             1173264,
             10010250,
             4106424,
             673666,
             8502962,
             9542378,
             1107956,
             584784,
             2839558,
             1735628,
             129790,
             234406,
             620304,
             3868234,
             41309152,
             2219484,
             8598998,
             783690,
             4231798,
             10481148,
             1246826,
             1491894,
             43493008,
             14161038
            ],
            "sizemode": "area",
            "sizeref": 1801924.05,
            "symbol": "circle"
           },
           "mode": "markers",
           "name": "",
           "showlegend": false,
           "type": "scattergeo"
          }
         ],
         "name": "2019"
        },
        {
         "data": [
          {
           "geo": "geo",
           "hovertemplate": "<b>%{hovertext}</b><br><br>Depyear=2020<br>Barrels=%{marker.size}<br>Latitude=%{lat}<br>Longitude=%{lon}<extra></extra>",
           "hovertext": [
            "Bayport",
            "Beaumont",
            "Brownsville (Texas)",
            "Chalmette",
            "Convent",
            "Corpus Christi",
            "Corpus Christi STS 1",
            "Corpus Christi STS Area 2",
            "Empire",
            "Freeport (USA)",
            "GOLA - Galveston Offshore Lightering Area",
            "Galveston",
            "Gulfmex (SW Pass) Lightering",
            "Gulfmex No.2 Lightering",
            "Houston",
            "LOOP",
            "Limetree Bay",
            "Long Beach",
            "Los Angeles (incl San Pedro)",
            "New Orleans",
            "New York",
            "Pacific Lightering Area 2",
            "Point Comfort",
            "Port Arthur",
            "Riverhead Terminal",
            "Savannah",
            "South Louisiana Port",
            "South Sabine Point",
            "South West Pass",
            "Southtex Lightering",
            "Southwest Pass Lightering Area (test)",
            "St Croix",
            "St. Rose",
            "Texas City",
            "Valdez"
           ],
           "lat": [
            29.627453000000003,
            30.053164,
            25.992855,
            29.94456,
            30.022438,
            27.841887,
            27.762469,
            27.312478,
            29.379917,
            28.94974,
            28.56874,
            29.313034,
            28.351253000000003,
            27.199477,
            29.727513,
            28.87618,
            17.683332999999998,
            33.767776684545495,
            33.740434,
            29.935441,
            40.626717,
            31.897995,
            28.671686,
            29.851103,
            40.9860279096872,
            32.103894,
            30.023456,
            28.610161,
            28.844036,
            27.116063,
            28.312037,
            17.735085,
            29.936604,
            29.364245,
            61.11411999999999
           ],
           "legendgroup": "",
           "lon": [
            -95.015405,
            -94.086511,
            -97.304779,
            -89.966886,
            -90.840309,
            -97.270307,
            -96.424654,
            -96.834451,
            -89.572012,
            -95.33753,
            -94.460887,
            -94.810938,
            -90.502712,
            -90.251583,
            -95.127008,
            -90.008112,
            -64.733333,
            -118.210932045218,
            -118.269551,
            -90.079969,
            -73.972511,
            -119.438401,
            -96.558307,
            -93.915173,
            -72.6475126528167,
            -81.11099499999999,
            -90.603083,
            -93.488188,
            -89.48700500000001,
            -94.490555,
            -89.54969399999999,
            -64.74277099999999,
            -90.339019,
            -94.897704,
            -146.37006
           ],
           "marker": {
            "color": "#636efa",
            "size": [
             93357976,
             114840954,
             7816268,
             917288,
             12013792,
             720769620,
             116592584,
             87930006,
             1173264,
             16906658,
             356701546,
             5124570,
             23429894,
             24551180,
             228807208,
             124092988,
             7964620,
             2051710,
             868978,
             4819230,
             780084,
             3549964,
             500602,
             439202,
             1026606,
             962336,
             1017716,
             16007438,
             918988,
             33668310,
             1906554,
             8673892,
             801046,
             23063626,
             25276912
            ],
            "sizemode": "area",
            "sizeref": 1801924.05,
            "symbol": "circle"
           },
           "mode": "markers",
           "name": "",
           "showlegend": false,
           "type": "scattergeo"
          }
         ],
         "name": "2020"
        },
        {
         "data": [
          {
           "geo": "geo",
           "hovertemplate": "<b>%{hovertext}</b><br><br>Depyear=2021<br>Barrels=%{marker.size}<br>Latitude=%{lat}<br>Longitude=%{lon}<extra></extra>",
           "hovertext": [
            "Baton Rouge Exxon Terminal",
            "Bayport",
            "Beaumont",
            "Brownsville (Texas)",
            "Camden",
            "Convent",
            "Corpus Christi",
            "Corpus Christi STS 1",
            "Corpus Christi STS Area 2",
            "Empire",
            "Enterprise HSC (HOU)",
            "Freeport (USA)",
            "GOLA - Galveston Offshore Lightering Area",
            "Gulfmex (SW Pass) Lightering",
            "Gulfmex No.2 Lightering",
            "Houston",
            "LOOP",
            "Limetree Bay",
            "Long Beach",
            "New Orleans",
            "Pacific Lightering Area 2",
            "Philadelphia",
            "Port Arthur",
            "Riverhead Terminal",
            "South Louisiana Port",
            "South Sabine Point",
            "Southtex Lightering",
            "Southwest Pass Lightering Area (test)",
            "St Croix",
            "St. Rose",
            "Texas City",
            "Valdez"
           ],
           "lat": [
            null,
            29.627453000000003,
            30.053164,
            25.992855,
            39.923121,
            30.022438,
            27.841887,
            27.762469,
            27.312478,
            29.379917,
            29.73806,
            28.94974,
            28.56874,
            28.351253000000003,
            27.199477,
            29.727513,
            28.87618,
            17.683332999999998,
            33.767776684545495,
            29.935441,
            31.897995,
            39.90792,
            29.851103,
            40.9860279096872,
            30.023456,
            28.610161,
            27.116063,
            28.312037,
            17.735085,
            29.936604,
            29.364245,
            61.11411999999999
           ],
           "legendgroup": "",
           "lon": [
            null,
            -95.015405,
            -94.086511,
            -97.304779,
            -75.10203100000001,
            -90.840309,
            -97.270307,
            -96.424654,
            -96.834451,
            -89.572012,
            -95.127447,
            -95.33753,
            -94.460887,
            -90.502712,
            -90.251583,
            -95.127008,
            -90.008112,
            -64.733333,
            -118.210932045218,
            -90.079969,
            -119.438401,
            -75.252483,
            -93.915173,
            -72.6475126528167,
            -90.603083,
            -93.488188,
            -94.490555,
            -89.54969399999999,
            -64.74277099999999,
            -90.339019,
            -94.897704,
            -146.37006
           ],
           "marker": {
            "color": "#636efa",
            "size": [
             136986,
             31376922,
             12636390,
             1457470,
             547532,
             6752694,
             361955436,
             31261484,
             29534124,
             513304,
             1173264,
             12067516,
             123971298,
             4662692,
             934460,
             64201048,
             60020760,
             4010208,
             1173264,
             77128,
             1906554,
             535408,
             226460,
             1050382,
             1965890,
             3959766,
             18584344,
             139474,
             2768416,
             839512,
             7400,
             11944028
            ],
            "sizemode": "area",
            "sizeref": 1801924.05,
            "symbol": "circle"
           },
           "mode": "markers",
           "name": "",
           "showlegend": false,
           "type": "scattergeo"
          }
         ],
         "name": "2021"
        }
       ],
       "layout": {
        "autosize": true,
        "geo": {
         "center": {},
         "domain": {
          "x": [
           0,
           1
          ],
          "y": [
           0,
           1
          ]
         },
         "projection": {
          "type": "albers usa"
         }
        },
        "legend": {
         "itemsizing": "constant",
         "tracegroupgap": 0
        },
        "margin": {
         "t": 60
        },
        "sliders": [
         {
          "active": 0,
          "currentvalue": {
           "prefix": "Depyear="
          },
          "len": 0.9,
          "pad": {
           "b": 10,
           "t": 60
          },
          "steps": [
           {
            "args": [
             [
              "2014"
             ],
             {
              "frame": {
               "duration": 0,
               "redraw": true
              },
              "fromcurrent": true,
              "mode": "immediate",
              "transition": {
               "duration": 0,
               "easing": "linear"
              }
             }
            ],
            "label": "2014",
            "method": "animate"
           },
           {
            "args": [
             [
              "2015"
             ],
             {
              "frame": {
               "duration": 0,
               "redraw": true
              },
              "fromcurrent": true,
              "mode": "immediate",
              "transition": {
               "duration": 0,
               "easing": "linear"
              }
             }
            ],
            "label": "2015",
            "method": "animate"
           },
           {
            "args": [
             [
              "2016"
             ],
             {
              "frame": {
               "duration": 0,
               "redraw": true
              },
              "fromcurrent": true,
              "mode": "immediate",
              "transition": {
               "duration": 0,
               "easing": "linear"
              }
             }
            ],
            "label": "2016",
            "method": "animate"
           },
           {
            "args": [
             [
              "2017"
             ],
             {
              "frame": {
               "duration": 0,
               "redraw": true
              },
              "fromcurrent": true,
              "mode": "immediate",
              "transition": {
               "duration": 0,
               "easing": "linear"
              }
             }
            ],
            "label": "2017",
            "method": "animate"
           },
           {
            "args": [
             [
              "2018"
             ],
             {
              "frame": {
               "duration": 0,
               "redraw": true
              },
              "fromcurrent": true,
              "mode": "immediate",
              "transition": {
               "duration": 0,
               "easing": "linear"
              }
             }
            ],
            "label": "2018",
            "method": "animate"
           },
           {
            "args": [
             [
              "2019"
             ],
             {
              "frame": {
               "duration": 0,
               "redraw": true
              },
              "fromcurrent": true,
              "mode": "immediate",
              "transition": {
               "duration": 0,
               "easing": "linear"
              }
             }
            ],
            "label": "2019",
            "method": "animate"
           },
           {
            "args": [
             [
              "2020"
             ],
             {
              "frame": {
               "duration": 0,
               "redraw": true
              },
              "fromcurrent": true,
              "mode": "immediate",
              "transition": {
               "duration": 0,
               "easing": "linear"
              }
             }
            ],
            "label": "2020",
            "method": "animate"
           },
           {
            "args": [
             [
              "2021"
             ],
             {
              "frame": {
               "duration": 0,
               "redraw": true
              },
              "fromcurrent": true,
              "mode": "immediate",
              "transition": {
               "duration": 0,
               "easing": "linear"
              }
             }
            ],
            "label": "2021",
            "method": "animate"
           }
          ],
          "x": 0.1,
          "xanchor": "left",
          "y": 0,
          "yanchor": "top"
         }
        ],
        "template": {
         "data": {
          "bar": [
           {
            "error_x": {
             "color": "#2a3f5f"
            },
            "error_y": {
             "color": "#2a3f5f"
            },
            "marker": {
             "line": {
              "color": "#E5ECF6",
              "width": 0.5
             },
             "pattern": {
              "fillmode": "overlay",
              "size": 10,
              "solidity": 0.2
             }
            },
            "type": "bar"
           }
          ],
          "barpolar": [
           {
            "marker": {
             "line": {
              "color": "#E5ECF6",
              "width": 0.5
             },
             "pattern": {
              "fillmode": "overlay",
              "size": 10,
              "solidity": 0.2
             }
            },
            "type": "barpolar"
           }
          ],
          "carpet": [
           {
            "aaxis": {
             "endlinecolor": "#2a3f5f",
             "gridcolor": "white",
             "linecolor": "white",
             "minorgridcolor": "white",
             "startlinecolor": "#2a3f5f"
            },
            "baxis": {
             "endlinecolor": "#2a3f5f",
             "gridcolor": "white",
             "linecolor": "white",
             "minorgridcolor": "white",
             "startlinecolor": "#2a3f5f"
            },
            "type": "carpet"
           }
          ],
          "choropleth": [
           {
            "colorbar": {
             "outlinewidth": 0,
             "ticks": ""
            },
            "type": "choropleth"
           }
          ],
          "contour": [
           {
            "colorbar": {
             "outlinewidth": 0,
             "ticks": ""
            },
            "colorscale": [
             [
              0,
              "#0d0887"
             ],
             [
              0.1111111111111111,
              "#46039f"
             ],
             [
              0.2222222222222222,
              "#7201a8"
             ],
             [
              0.3333333333333333,
              "#9c179e"
             ],
             [
              0.4444444444444444,
              "#bd3786"
             ],
             [
              0.5555555555555556,
              "#d8576b"
             ],
             [
              0.6666666666666666,
              "#ed7953"
             ],
             [
              0.7777777777777778,
              "#fb9f3a"
             ],
             [
              0.8888888888888888,
              "#fdca26"
             ],
             [
              1,
              "#f0f921"
             ]
            ],
            "type": "contour"
           }
          ],
          "contourcarpet": [
           {
            "colorbar": {
             "outlinewidth": 0,
             "ticks": ""
            },
            "type": "contourcarpet"
           }
          ],
          "heatmap": [
           {
            "colorbar": {
             "outlinewidth": 0,
             "ticks": ""
            },
            "colorscale": [
             [
              0,
              "#0d0887"
             ],
             [
              0.1111111111111111,
              "#46039f"
             ],
             [
              0.2222222222222222,
              "#7201a8"
             ],
             [
              0.3333333333333333,
              "#9c179e"
             ],
             [
              0.4444444444444444,
              "#bd3786"
             ],
             [
              0.5555555555555556,
              "#d8576b"
             ],
             [
              0.6666666666666666,
              "#ed7953"
             ],
             [
              0.7777777777777778,
              "#fb9f3a"
             ],
             [
              0.8888888888888888,
              "#fdca26"
             ],
             [
              1,
              "#f0f921"
             ]
            ],
            "type": "heatmap"
           }
          ],
          "heatmapgl": [
           {
            "colorbar": {
             "outlinewidth": 0,
             "ticks": ""
            },
            "colorscale": [
             [
              0,
              "#0d0887"
             ],
             [
              0.1111111111111111,
              "#46039f"
             ],
             [
              0.2222222222222222,
              "#7201a8"
             ],
             [
              0.3333333333333333,
              "#9c179e"
             ],
             [
              0.4444444444444444,
              "#bd3786"
             ],
             [
              0.5555555555555556,
              "#d8576b"
             ],
             [
              0.6666666666666666,
              "#ed7953"
             ],
             [
              0.7777777777777778,
              "#fb9f3a"
             ],
             [
              0.8888888888888888,
              "#fdca26"
             ],
             [
              1,
              "#f0f921"
             ]
            ],
            "type": "heatmapgl"
           }
          ],
          "histogram": [
           {
            "marker": {
             "pattern": {
              "fillmode": "overlay",
              "size": 10,
              "solidity": 0.2
             }
            },
            "type": "histogram"
           }
          ],
          "histogram2d": [
           {
            "colorbar": {
             "outlinewidth": 0,
             "ticks": ""
            },
            "colorscale": [
             [
              0,
              "#0d0887"
             ],
             [
              0.1111111111111111,
              "#46039f"
             ],
             [
              0.2222222222222222,
              "#7201a8"
             ],
             [
              0.3333333333333333,
              "#9c179e"
             ],
             [
              0.4444444444444444,
              "#bd3786"
             ],
             [
              0.5555555555555556,
              "#d8576b"
             ],
             [
              0.6666666666666666,
              "#ed7953"
             ],
             [
              0.7777777777777778,
              "#fb9f3a"
             ],
             [
              0.8888888888888888,
              "#fdca26"
             ],
             [
              1,
              "#f0f921"
             ]
            ],
            "type": "histogram2d"
           }
          ],
          "histogram2dcontour": [
           {
            "colorbar": {
             "outlinewidth": 0,
             "ticks": ""
            },
            "colorscale": [
             [
              0,
              "#0d0887"
             ],
             [
              0.1111111111111111,
              "#46039f"
             ],
             [
              0.2222222222222222,
              "#7201a8"
             ],
             [
              0.3333333333333333,
              "#9c179e"
             ],
             [
              0.4444444444444444,
              "#bd3786"
             ],
             [
              0.5555555555555556,
              "#d8576b"
             ],
             [
              0.6666666666666666,
              "#ed7953"
             ],
             [
              0.7777777777777778,
              "#fb9f3a"
             ],
             [
              0.8888888888888888,
              "#fdca26"
             ],
             [
              1,
              "#f0f921"
             ]
            ],
            "type": "histogram2dcontour"
           }
          ],
          "mesh3d": [
           {
            "colorbar": {
             "outlinewidth": 0,
             "ticks": ""
            },
            "type": "mesh3d"
           }
          ],
          "parcoords": [
           {
            "line": {
             "colorbar": {
              "outlinewidth": 0,
              "ticks": ""
             }
            },
            "type": "parcoords"
           }
          ],
          "pie": [
           {
            "automargin": true,
            "type": "pie"
           }
          ],
          "scatter": [
           {
            "fillpattern": {
             "fillmode": "overlay",
             "size": 10,
             "solidity": 0.2
            },
            "type": "scatter"
           }
          ],
          "scatter3d": [
           {
            "line": {
             "colorbar": {
              "outlinewidth": 0,
              "ticks": ""
             }
            },
            "marker": {
             "colorbar": {
              "outlinewidth": 0,
              "ticks": ""
             }
            },
            "type": "scatter3d"
           }
          ],
          "scattercarpet": [
           {
            "marker": {
             "colorbar": {
              "outlinewidth": 0,
              "ticks": ""
             }
            },
            "type": "scattercarpet"
           }
          ],
          "scattergeo": [
           {
            "marker": {
             "colorbar": {
              "outlinewidth": 0,
              "ticks": ""
             }
            },
            "type": "scattergeo"
           }
          ],
          "scattergl": [
           {
            "marker": {
             "colorbar": {
              "outlinewidth": 0,
              "ticks": ""
             }
            },
            "type": "scattergl"
           }
          ],
          "scattermapbox": [
           {
            "marker": {
             "colorbar": {
              "outlinewidth": 0,
              "ticks": ""
             }
            },
            "type": "scattermapbox"
           }
          ],
          "scatterpolar": [
           {
            "marker": {
             "colorbar": {
              "outlinewidth": 0,
              "ticks": ""
             }
            },
            "type": "scatterpolar"
           }
          ],
          "scatterpolargl": [
           {
            "marker": {
             "colorbar": {
              "outlinewidth": 0,
              "ticks": ""
             }
            },
            "type": "scatterpolargl"
           }
          ],
          "scatterternary": [
           {
            "marker": {
             "colorbar": {
              "outlinewidth": 0,
              "ticks": ""
             }
            },
            "type": "scatterternary"
           }
          ],
          "surface": [
           {
            "colorbar": {
             "outlinewidth": 0,
             "ticks": ""
            },
            "colorscale": [
             [
              0,
              "#0d0887"
             ],
             [
              0.1111111111111111,
              "#46039f"
             ],
             [
              0.2222222222222222,
              "#7201a8"
             ],
             [
              0.3333333333333333,
              "#9c179e"
             ],
             [
              0.4444444444444444,
              "#bd3786"
             ],
             [
              0.5555555555555556,
              "#d8576b"
             ],
             [
              0.6666666666666666,
              "#ed7953"
             ],
             [
              0.7777777777777778,
              "#fb9f3a"
             ],
             [
              0.8888888888888888,
              "#fdca26"
             ],
             [
              1,
              "#f0f921"
             ]
            ],
            "type": "surface"
           }
          ],
          "table": [
           {
            "cells": {
             "fill": {
              "color": "#EBF0F8"
             },
             "line": {
              "color": "white"
             }
            },
            "header": {
             "fill": {
              "color": "#C8D4E3"
             },
             "line": {
              "color": "white"
             }
            },
            "type": "table"
           }
          ]
         },
         "layout": {
          "annotationdefaults": {
           "arrowcolor": "#2a3f5f",
           "arrowhead": 0,
           "arrowwidth": 1
          },
          "autotypenumbers": "strict",
          "coloraxis": {
           "colorbar": {
            "outlinewidth": 0,
            "ticks": ""
           }
          },
          "colorscale": {
           "diverging": [
            [
             0,
             "#8e0152"
            ],
            [
             0.1,
             "#c51b7d"
            ],
            [
             0.2,
             "#de77ae"
            ],
            [
             0.3,
             "#f1b6da"
            ],
            [
             0.4,
             "#fde0ef"
            ],
            [
             0.5,
             "#f7f7f7"
            ],
            [
             0.6,
             "#e6f5d0"
            ],
            [
             0.7,
             "#b8e186"
            ],
            [
             0.8,
             "#7fbc41"
            ],
            [
             0.9,
             "#4d9221"
            ],
            [
             1,
             "#276419"
            ]
           ],
           "sequential": [
            [
             0,
             "#0d0887"
            ],
            [
             0.1111111111111111,
             "#46039f"
            ],
            [
             0.2222222222222222,
             "#7201a8"
            ],
            [
             0.3333333333333333,
             "#9c179e"
            ],
            [
             0.4444444444444444,
             "#bd3786"
            ],
            [
             0.5555555555555556,
             "#d8576b"
            ],
            [
             0.6666666666666666,
             "#ed7953"
            ],
            [
             0.7777777777777778,
             "#fb9f3a"
            ],
            [
             0.8888888888888888,
             "#fdca26"
            ],
            [
             1,
             "#f0f921"
            ]
           ],
           "sequentialminus": [
            [
             0,
             "#0d0887"
            ],
            [
             0.1111111111111111,
             "#46039f"
            ],
            [
             0.2222222222222222,
             "#7201a8"
            ],
            [
             0.3333333333333333,
             "#9c179e"
            ],
            [
             0.4444444444444444,
             "#bd3786"
            ],
            [
             0.5555555555555556,
             "#d8576b"
            ],
            [
             0.6666666666666666,
             "#ed7953"
            ],
            [
             0.7777777777777778,
             "#fb9f3a"
            ],
            [
             0.8888888888888888,
             "#fdca26"
            ],
            [
             1,
             "#f0f921"
            ]
           ]
          },
          "colorway": [
           "#636efa",
           "#EF553B",
           "#00cc96",
           "#ab63fa",
           "#FFA15A",
           "#19d3f3",
           "#FF6692",
           "#B6E880",
           "#FF97FF",
           "#FECB52"
          ],
          "font": {
           "color": "#2a3f5f"
          },
          "geo": {
           "bgcolor": "white",
           "lakecolor": "white",
           "landcolor": "#E5ECF6",
           "showlakes": true,
           "showland": true,
           "subunitcolor": "white"
          },
          "hoverlabel": {
           "align": "left"
          },
          "hovermode": "closest",
          "mapbox": {
           "style": "light"
          },
          "paper_bgcolor": "white",
          "plot_bgcolor": "#E5ECF6",
          "polar": {
           "angularaxis": {
            "gridcolor": "white",
            "linecolor": "white",
            "ticks": ""
           },
           "bgcolor": "#E5ECF6",
           "radialaxis": {
            "gridcolor": "white",
            "linecolor": "white",
            "ticks": ""
           }
          },
          "scene": {
           "xaxis": {
            "backgroundcolor": "#E5ECF6",
            "gridcolor": "white",
            "gridwidth": 2,
            "linecolor": "white",
            "showbackground": true,
            "ticks": "",
            "zerolinecolor": "white"
           },
           "yaxis": {
            "backgroundcolor": "#E5ECF6",
            "gridcolor": "white",
            "gridwidth": 2,
            "linecolor": "white",
            "showbackground": true,
            "ticks": "",
            "zerolinecolor": "white"
           },
           "zaxis": {
            "backgroundcolor": "#E5ECF6",
            "gridcolor": "white",
            "gridwidth": 2,
            "linecolor": "white",
            "showbackground": true,
            "ticks": "",
            "zerolinecolor": "white"
           }
          },
          "shapedefaults": {
           "line": {
            "color": "#2a3f5f"
           }
          },
          "ternary": {
           "aaxis": {
            "gridcolor": "white",
            "linecolor": "white",
            "ticks": ""
           },
           "baxis": {
            "gridcolor": "white",
            "linecolor": "white",
            "ticks": ""
           },
           "bgcolor": "#E5ECF6",
           "caxis": {
            "gridcolor": "white",
            "linecolor": "white",
            "ticks": ""
           }
          },
          "title": {
           "x": 0.05
          },
          "xaxis": {
           "automargin": true,
           "gridcolor": "white",
           "linecolor": "white",
           "ticks": "",
           "title": {
            "standoff": 15
           },
           "zerolinecolor": "white",
           "zerolinewidth": 2
          },
          "yaxis": {
           "automargin": true,
           "gridcolor": "white",
           "linecolor": "white",
           "ticks": "",
           "title": {
            "standoff": 15
           },
           "zerolinecolor": "white",
           "zerolinewidth": 2
          }
         }
        },
        "updatemenus": [
         {
          "buttons": [
           {
            "args": [
             null,
             {
              "frame": {
               "duration": 1000,
               "redraw": true
              },
              "fromcurrent": true,
              "mode": "immediate",
              "transition": {
               "duration": 500,
               "easing": "linear"
              }
             }
            ],
            "label": "&#9654;",
            "method": "animate"
           },
           {
            "args": [
             [
              null
             ],
             {
              "frame": {
               "duration": 0,
               "redraw": true
              },
              "fromcurrent": true,
              "mode": "immediate",
              "transition": {
               "duration": 0,
               "easing": "linear"
              }
             }
            ],
            "label": "&#9724;",
            "method": "animate"
           }
          ],
          "direction": "left",
          "pad": {
           "r": 10,
           "t": 70
          },
          "showactive": false,
          "type": "buttons",
          "x": 0.1,
          "xanchor": "right",
          "y": 0,
          "yanchor": "top"
         }
        ]
       }
      },
      "text/html": [
       "<div>                            <div id=\"20249e7b-6d93-4baf-beeb-0c9b34337d37\" class=\"plotly-graph-div\" style=\"height:525px; width:100%;\"></div>            <script type=\"text/javascript\">                require([\"plotly\"], function(Plotly) {                    window.PLOTLYENV=window.PLOTLYENV || {};                                    if (document.getElementById(\"20249e7b-6d93-4baf-beeb-0c9b34337d37\")) {                    Plotly.newPlot(                        \"20249e7b-6d93-4baf-beeb-0c9b34337d37\",                        [{\"geo\":\"geo\",\"hovertemplate\":\"\\u003cb\\u003e%{hovertext}\\u003c\\u002fb\\u003e\\u003cbr\\u003e\\u003cbr\\u003eDepyear=2014\\u003cbr\\u003eBarrels=%{marker.size}\\u003cbr\\u003eLatitude=%{lat}\\u003cbr\\u003eLongitude=%{lon}\\u003cextra\\u003e\\u003c\\u002fextra\\u003e\",\"hovertext\":[\"Beaumont\"],\"lat\":[30.053164],\"legendgroup\":\"\",\"lon\":[-94.086511],\"marker\":{\"color\":\"#636efa\",\"size\":[173912],\"sizemode\":\"area\",\"sizeref\":1801924.05,\"symbol\":\"circle\"},\"mode\":\"markers\",\"name\":\"\",\"showlegend\":false,\"type\":\"scattergeo\"}],                        {\"template\":{\"data\":{\"histogram2dcontour\":[{\"type\":\"histogram2dcontour\",\"colorbar\":{\"outlinewidth\":0,\"ticks\":\"\"},\"colorscale\":[[0.0,\"#0d0887\"],[0.1111111111111111,\"#46039f\"],[0.2222222222222222,\"#7201a8\"],[0.3333333333333333,\"#9c179e\"],[0.4444444444444444,\"#bd3786\"],[0.5555555555555556,\"#d8576b\"],[0.6666666666666666,\"#ed7953\"],[0.7777777777777778,\"#fb9f3a\"],[0.8888888888888888,\"#fdca26\"],[1.0,\"#f0f921\"]]}],\"choropleth\":[{\"type\":\"choropleth\",\"colorbar\":{\"outlinewidth\":0,\"ticks\":\"\"}}],\"histogram2d\":[{\"type\":\"histogram2d\",\"colorbar\":{\"outlinewidth\":0,\"ticks\":\"\"},\"colorscale\":[[0.0,\"#0d0887\"],[0.1111111111111111,\"#46039f\"],[0.2222222222222222,\"#7201a8\"],[0.3333333333333333,\"#9c179e\"],[0.4444444444444444,\"#bd3786\"],[0.5555555555555556,\"#d8576b\"],[0.6666666666666666,\"#ed7953\"],[0.7777777777777778,\"#fb9f3a\"],[0.8888888888888888,\"#fdca26\"],[1.0,\"#f0f921\"]]}],\"heatmap\":[{\"type\":\"heatmap\",\"colorbar\":{\"outlinewidth\":0,\"ticks\":\"\"},\"colorscale\":[[0.0,\"#0d0887\"],[0.1111111111111111,\"#46039f\"],[0.2222222222222222,\"#7201a8\"],[0.3333333333333333,\"#9c179e\"],[0.4444444444444444,\"#bd3786\"],[0.5555555555555556,\"#d8576b\"],[0.6666666666666666,\"#ed7953\"],[0.7777777777777778,\"#fb9f3a\"],[0.8888888888888888,\"#fdca26\"],[1.0,\"#f0f921\"]]}],\"heatmapgl\":[{\"type\":\"heatmapgl\",\"colorbar\":{\"outlinewidth\":0,\"ticks\":\"\"},\"colorscale\":[[0.0,\"#0d0887\"],[0.1111111111111111,\"#46039f\"],[0.2222222222222222,\"#7201a8\"],[0.3333333333333333,\"#9c179e\"],[0.4444444444444444,\"#bd3786\"],[0.5555555555555556,\"#d8576b\"],[0.6666666666666666,\"#ed7953\"],[0.7777777777777778,\"#fb9f3a\"],[0.8888888888888888,\"#fdca26\"],[1.0,\"#f0f921\"]]}],\"contourcarpet\":[{\"type\":\"contourcarpet\",\"colorbar\":{\"outlinewidth\":0,\"ticks\":\"\"}}],\"contour\":[{\"type\":\"contour\",\"colorbar\":{\"outlinewidth\":0,\"ticks\":\"\"},\"colorscale\":[[0.0,\"#0d0887\"],[0.1111111111111111,\"#46039f\"],[0.2222222222222222,\"#7201a8\"],[0.3333333333333333,\"#9c179e\"],[0.4444444444444444,\"#bd3786\"],[0.5555555555555556,\"#d8576b\"],[0.6666666666666666,\"#ed7953\"],[0.7777777777777778,\"#fb9f3a\"],[0.8888888888888888,\"#fdca26\"],[1.0,\"#f0f921\"]]}],\"surface\":[{\"type\":\"surface\",\"colorbar\":{\"outlinewidth\":0,\"ticks\":\"\"},\"colorscale\":[[0.0,\"#0d0887\"],[0.1111111111111111,\"#46039f\"],[0.2222222222222222,\"#7201a8\"],[0.3333333333333333,\"#9c179e\"],[0.4444444444444444,\"#bd3786\"],[0.5555555555555556,\"#d8576b\"],[0.6666666666666666,\"#ed7953\"],[0.7777777777777778,\"#fb9f3a\"],[0.8888888888888888,\"#fdca26\"],[1.0,\"#f0f921\"]]}],\"mesh3d\":[{\"type\":\"mesh3d\",\"colorbar\":{\"outlinewidth\":0,\"ticks\":\"\"}}],\"scatter\":[{\"fillpattern\":{\"fillmode\":\"overlay\",\"size\":10,\"solidity\":0.2},\"type\":\"scatter\"}],\"parcoords\":[{\"type\":\"parcoords\",\"line\":{\"colorbar\":{\"outlinewidth\":0,\"ticks\":\"\"}}}],\"scatterpolargl\":[{\"type\":\"scatterpolargl\",\"marker\":{\"colorbar\":{\"outlinewidth\":0,\"ticks\":\"\"}}}],\"bar\":[{\"error_x\":{\"color\":\"#2a3f5f\"},\"error_y\":{\"color\":\"#2a3f5f\"},\"marker\":{\"line\":{\"color\":\"#E5ECF6\",\"width\":0.5},\"pattern\":{\"fillmode\":\"overlay\",\"size\":10,\"solidity\":0.2}},\"type\":\"bar\"}],\"scattergeo\":[{\"type\":\"scattergeo\",\"marker\":{\"colorbar\":{\"outlinewidth\":0,\"ticks\":\"\"}}}],\"scatterpolar\":[{\"type\":\"scatterpolar\",\"marker\":{\"colorbar\":{\"outlinewidth\":0,\"ticks\":\"\"}}}],\"histogram\":[{\"marker\":{\"pattern\":{\"fillmode\":\"overlay\",\"size\":10,\"solidity\":0.2}},\"type\":\"histogram\"}],\"scattergl\":[{\"type\":\"scattergl\",\"marker\":{\"colorbar\":{\"outlinewidth\":0,\"ticks\":\"\"}}}],\"scatter3d\":[{\"type\":\"scatter3d\",\"line\":{\"colorbar\":{\"outlinewidth\":0,\"ticks\":\"\"}},\"marker\":{\"colorbar\":{\"outlinewidth\":0,\"ticks\":\"\"}}}],\"scattermapbox\":[{\"type\":\"scattermapbox\",\"marker\":{\"colorbar\":{\"outlinewidth\":0,\"ticks\":\"\"}}}],\"scatterternary\":[{\"type\":\"scatterternary\",\"marker\":{\"colorbar\":{\"outlinewidth\":0,\"ticks\":\"\"}}}],\"scattercarpet\":[{\"type\":\"scattercarpet\",\"marker\":{\"colorbar\":{\"outlinewidth\":0,\"ticks\":\"\"}}}],\"carpet\":[{\"aaxis\":{\"endlinecolor\":\"#2a3f5f\",\"gridcolor\":\"white\",\"linecolor\":\"white\",\"minorgridcolor\":\"white\",\"startlinecolor\":\"#2a3f5f\"},\"baxis\":{\"endlinecolor\":\"#2a3f5f\",\"gridcolor\":\"white\",\"linecolor\":\"white\",\"minorgridcolor\":\"white\",\"startlinecolor\":\"#2a3f5f\"},\"type\":\"carpet\"}],\"table\":[{\"cells\":{\"fill\":{\"color\":\"#EBF0F8\"},\"line\":{\"color\":\"white\"}},\"header\":{\"fill\":{\"color\":\"#C8D4E3\"},\"line\":{\"color\":\"white\"}},\"type\":\"table\"}],\"barpolar\":[{\"marker\":{\"line\":{\"color\":\"#E5ECF6\",\"width\":0.5},\"pattern\":{\"fillmode\":\"overlay\",\"size\":10,\"solidity\":0.2}},\"type\":\"barpolar\"}],\"pie\":[{\"automargin\":true,\"type\":\"pie\"}]},\"layout\":{\"autotypenumbers\":\"strict\",\"colorway\":[\"#636efa\",\"#EF553B\",\"#00cc96\",\"#ab63fa\",\"#FFA15A\",\"#19d3f3\",\"#FF6692\",\"#B6E880\",\"#FF97FF\",\"#FECB52\"],\"font\":{\"color\":\"#2a3f5f\"},\"hovermode\":\"closest\",\"hoverlabel\":{\"align\":\"left\"},\"paper_bgcolor\":\"white\",\"plot_bgcolor\":\"#E5ECF6\",\"polar\":{\"bgcolor\":\"#E5ECF6\",\"angularaxis\":{\"gridcolor\":\"white\",\"linecolor\":\"white\",\"ticks\":\"\"},\"radialaxis\":{\"gridcolor\":\"white\",\"linecolor\":\"white\",\"ticks\":\"\"}},\"ternary\":{\"bgcolor\":\"#E5ECF6\",\"aaxis\":{\"gridcolor\":\"white\",\"linecolor\":\"white\",\"ticks\":\"\"},\"baxis\":{\"gridcolor\":\"white\",\"linecolor\":\"white\",\"ticks\":\"\"},\"caxis\":{\"gridcolor\":\"white\",\"linecolor\":\"white\",\"ticks\":\"\"}},\"coloraxis\":{\"colorbar\":{\"outlinewidth\":0,\"ticks\":\"\"}},\"colorscale\":{\"sequential\":[[0.0,\"#0d0887\"],[0.1111111111111111,\"#46039f\"],[0.2222222222222222,\"#7201a8\"],[0.3333333333333333,\"#9c179e\"],[0.4444444444444444,\"#bd3786\"],[0.5555555555555556,\"#d8576b\"],[0.6666666666666666,\"#ed7953\"],[0.7777777777777778,\"#fb9f3a\"],[0.8888888888888888,\"#fdca26\"],[1.0,\"#f0f921\"]],\"sequentialminus\":[[0.0,\"#0d0887\"],[0.1111111111111111,\"#46039f\"],[0.2222222222222222,\"#7201a8\"],[0.3333333333333333,\"#9c179e\"],[0.4444444444444444,\"#bd3786\"],[0.5555555555555556,\"#d8576b\"],[0.6666666666666666,\"#ed7953\"],[0.7777777777777778,\"#fb9f3a\"],[0.8888888888888888,\"#fdca26\"],[1.0,\"#f0f921\"]],\"diverging\":[[0,\"#8e0152\"],[0.1,\"#c51b7d\"],[0.2,\"#de77ae\"],[0.3,\"#f1b6da\"],[0.4,\"#fde0ef\"],[0.5,\"#f7f7f7\"],[0.6,\"#e6f5d0\"],[0.7,\"#b8e186\"],[0.8,\"#7fbc41\"],[0.9,\"#4d9221\"],[1,\"#276419\"]]},\"xaxis\":{\"gridcolor\":\"white\",\"linecolor\":\"white\",\"ticks\":\"\",\"title\":{\"standoff\":15},\"zerolinecolor\":\"white\",\"automargin\":true,\"zerolinewidth\":2},\"yaxis\":{\"gridcolor\":\"white\",\"linecolor\":\"white\",\"ticks\":\"\",\"title\":{\"standoff\":15},\"zerolinecolor\":\"white\",\"automargin\":true,\"zerolinewidth\":2},\"scene\":{\"xaxis\":{\"backgroundcolor\":\"#E5ECF6\",\"gridcolor\":\"white\",\"linecolor\":\"white\",\"showbackground\":true,\"ticks\":\"\",\"zerolinecolor\":\"white\",\"gridwidth\":2},\"yaxis\":{\"backgroundcolor\":\"#E5ECF6\",\"gridcolor\":\"white\",\"linecolor\":\"white\",\"showbackground\":true,\"ticks\":\"\",\"zerolinecolor\":\"white\",\"gridwidth\":2},\"zaxis\":{\"backgroundcolor\":\"#E5ECF6\",\"gridcolor\":\"white\",\"linecolor\":\"white\",\"showbackground\":true,\"ticks\":\"\",\"zerolinecolor\":\"white\",\"gridwidth\":2}},\"shapedefaults\":{\"line\":{\"color\":\"#2a3f5f\"}},\"annotationdefaults\":{\"arrowcolor\":\"#2a3f5f\",\"arrowhead\":0,\"arrowwidth\":1},\"geo\":{\"bgcolor\":\"white\",\"landcolor\":\"#E5ECF6\",\"subunitcolor\":\"white\",\"showland\":true,\"showlakes\":true,\"lakecolor\":\"white\"},\"title\":{\"x\":0.05},\"mapbox\":{\"style\":\"light\"}}},\"geo\":{\"domain\":{\"x\":[0.0,1.0],\"y\":[0.0,1.0]},\"projection\":{\"type\":\"albers usa\"},\"center\":{}},\"legend\":{\"tracegroupgap\":0,\"itemsizing\":\"constant\"},\"margin\":{\"t\":60},\"updatemenus\":[{\"buttons\":[{\"args\":[null,{\"frame\":{\"duration\":1000,\"redraw\":true},\"mode\":\"immediate\",\"fromcurrent\":true,\"transition\":{\"duration\":500,\"easing\":\"linear\"}}],\"label\":\"&#9654;\",\"method\":\"animate\"},{\"args\":[[null],{\"frame\":{\"duration\":0,\"redraw\":true},\"mode\":\"immediate\",\"fromcurrent\":true,\"transition\":{\"duration\":0,\"easing\":\"linear\"}}],\"label\":\"&#9724;\",\"method\":\"animate\"}],\"direction\":\"left\",\"pad\":{\"r\":10,\"t\":70},\"showactive\":false,\"type\":\"buttons\",\"x\":0.1,\"xanchor\":\"right\",\"y\":0,\"yanchor\":\"top\"}],\"sliders\":[{\"active\":0,\"currentvalue\":{\"prefix\":\"Depyear=\"},\"len\":0.9,\"pad\":{\"b\":10,\"t\":60},\"steps\":[{\"args\":[[\"2014\"],{\"frame\":{\"duration\":0,\"redraw\":true},\"mode\":\"immediate\",\"fromcurrent\":true,\"transition\":{\"duration\":0,\"easing\":\"linear\"}}],\"label\":\"2014\",\"method\":\"animate\"},{\"args\":[[\"2015\"],{\"frame\":{\"duration\":0,\"redraw\":true},\"mode\":\"immediate\",\"fromcurrent\":true,\"transition\":{\"duration\":0,\"easing\":\"linear\"}}],\"label\":\"2015\",\"method\":\"animate\"},{\"args\":[[\"2016\"],{\"frame\":{\"duration\":0,\"redraw\":true},\"mode\":\"immediate\",\"fromcurrent\":true,\"transition\":{\"duration\":0,\"easing\":\"linear\"}}],\"label\":\"2016\",\"method\":\"animate\"},{\"args\":[[\"2017\"],{\"frame\":{\"duration\":0,\"redraw\":true},\"mode\":\"immediate\",\"fromcurrent\":true,\"transition\":{\"duration\":0,\"easing\":\"linear\"}}],\"label\":\"2017\",\"method\":\"animate\"},{\"args\":[[\"2018\"],{\"frame\":{\"duration\":0,\"redraw\":true},\"mode\":\"immediate\",\"fromcurrent\":true,\"transition\":{\"duration\":0,\"easing\":\"linear\"}}],\"label\":\"2018\",\"method\":\"animate\"},{\"args\":[[\"2019\"],{\"frame\":{\"duration\":0,\"redraw\":true},\"mode\":\"immediate\",\"fromcurrent\":true,\"transition\":{\"duration\":0,\"easing\":\"linear\"}}],\"label\":\"2019\",\"method\":\"animate\"},{\"args\":[[\"2020\"],{\"frame\":{\"duration\":0,\"redraw\":true},\"mode\":\"immediate\",\"fromcurrent\":true,\"transition\":{\"duration\":0,\"easing\":\"linear\"}}],\"label\":\"2020\",\"method\":\"animate\"},{\"args\":[[\"2021\"],{\"frame\":{\"duration\":0,\"redraw\":true},\"mode\":\"immediate\",\"fromcurrent\":true,\"transition\":{\"duration\":0,\"easing\":\"linear\"}}],\"label\":\"2021\",\"method\":\"animate\"}],\"x\":0.1,\"xanchor\":\"left\",\"y\":0,\"yanchor\":\"top\"}]},                        {\"responsive\": true}                    ).then(function(){\n",
       "                            Plotly.addFrames('20249e7b-6d93-4baf-beeb-0c9b34337d37', [{\"data\":[{\"geo\":\"geo\",\"hovertemplate\":\"\\u003cb\\u003e%{hovertext}\\u003c\\u002fb\\u003e\\u003cbr\\u003e\\u003cbr\\u003eDepyear=2014\\u003cbr\\u003eBarrels=%{marker.size}\\u003cbr\\u003eLatitude=%{lat}\\u003cbr\\u003eLongitude=%{lon}\\u003cextra\\u003e\\u003c\\u002fextra\\u003e\",\"hovertext\":[\"Beaumont\"],\"lat\":[30.053164],\"legendgroup\":\"\",\"lon\":[-94.086511],\"marker\":{\"color\":\"#636efa\",\"size\":[173912],\"sizemode\":\"area\",\"sizeref\":1801924.05,\"symbol\":\"circle\"},\"mode\":\"markers\",\"name\":\"\",\"showlegend\":false,\"type\":\"scattergeo\"}],\"name\":\"2014\"},{\"data\":[{\"geo\":\"geo\",\"hovertemplate\":\"\\u003cb\\u003e%{hovertext}\\u003c\\u002fb\\u003e\\u003cbr\\u003e\\u003cbr\\u003eDepyear=2015\\u003cbr\\u003eBarrels=%{marker.size}\\u003cbr\\u003eLatitude=%{lat}\\u003cbr\\u003eLongitude=%{lon}\\u003cextra\\u003e\\u003c\\u002fextra\\u003e\",\"hovertext\":[\"Beaumont\",\"Corpus Christi\",\"Freeport (USA)\",\"GOLA - Galveston Offshore Lightering Area\",\"Galveston\",\"Gulfmex (SW Pass) Lightering\",\"Houston\",\"Long Beach\",\"New Orleans\",\"Pacific Lightering Area 2\",\"Philadelphia\",\"Point Comfort\",\"Port Arthur\",\"Sabine (To be removed soon)\",\"South Louisiana Port\",\"South Sabine Point\",\"South West Pass\",\"Texas City\",\"Valdez\"],\"lat\":[30.053164,27.841887,28.94974,28.56874,29.313034,28.351253000000003,29.727513,33.767776684545495,29.935441,31.897995,39.90792,28.671686,29.851103,29.7,30.023456,28.610161,28.844036,29.364245,61.11411999999999],\"legendgroup\":\"\",\"lon\":[-94.086511,-97.270307,-95.33753,-94.460887,-94.810938,-90.502712,-95.127008,-118.210932045218,-90.079969,-119.438401,-75.252483,-96.558307,-93.915173,-93.866667,-90.603083,-93.488188,-89.48700500000001,-94.897704,-146.37006],\"marker\":{\"color\":\"#636efa\",\"size\":[13729687,40852025,2871751,3094297,2965417,2072138,25154964,304359,1320994,2009912,404330,292442,592328,134704,11737567,1349850,513303,8715836,967985],\"sizemode\":\"area\",\"sizeref\":1801924.05,\"symbol\":\"circle\"},\"mode\":\"markers\",\"name\":\"\",\"showlegend\":false,\"type\":\"scattergeo\"}],\"name\":\"2015\"},{\"data\":[{\"geo\":\"geo\",\"hovertemplate\":\"\\u003cb\\u003e%{hovertext}\\u003c\\u002fb\\u003e\\u003cbr\\u003e\\u003cbr\\u003eDepyear=2016\\u003cbr\\u003eBarrels=%{marker.size}\\u003cbr\\u003eLatitude=%{lat}\\u003cbr\\u003eLongitude=%{lon}\\u003cextra\\u003e\\u003c\\u002fextra\\u003e\",\"hovertext\":[\"Beaumont\",\"Camden\",\"Convent\",\"Corpus Christi\",\"Corpus Christi STS 1\",\"Corpus Christi STS Area 2\",\"Freeport (USA)\",\"GOLA - Galveston Offshore Lightering Area\",\"Galveston\",\"Gulfmex (SW Pass) Lightering\",\"Houston\",\"Lake Charles\",\"Long Beach\",\"Miami\",\"Mobile\",\"New Orleans\",\"New York\",\"Pacific Lightering Area 2\",\"Pascagoula\",\"Philadelphia\",\"Port Arthur\",\"Richmond (California)\",\"South Louisiana Port\",\"South Sabine Point\",\"South West Pass\",\"St Croix\",\"St. Charles\",\"St. Rose\",\"US Gulf Lightering Zones\",\"Valdez\"],\"lat\":[30.053164,39.923121,30.022438,27.841887,27.762469,27.312478,28.94974,28.56874,29.313034,28.351253000000003,29.727513,30.20095,33.767776684545495,25.77571,30.705183,29.935441,40.626717,31.897995,30.339556,39.90792,29.851103,37.943334,30.023456,28.610161,28.844036,17.735085,29.994154,29.936604,26.916667,61.11411999999999],\"legendgroup\":\"\",\"lon\":[-94.086511,-75.10203100000001,-90.840309,-97.270307,-96.424654,-96.834451,-95.33753,-94.460887,-94.810938,-90.502712,-95.127008,-93.273925,-118.210932045218,-80.19185300000001,-88.04436899999999,-90.079969,-73.972511,-119.438401,-88.527354,-75.252483,-93.915173,-122.373288,-90.603083,-93.488188,-89.48700500000001,-64.74277099999999,-90.417621,-90.339019,-91.5,-146.37006],\"marker\":{\"color\":\"#636efa\",\"size\":[16568079,513303,1381262,17477053,1979883,3455503,4534720,16767349,953277,1861783,32320903,586632,460433,437283,586632,2165996,219485,7588407,157257,334558,1531803,292898,17386001,2213363,1792979,753081,512790,962064,388644,6310626],\"sizemode\":\"area\",\"sizeref\":1801924.05,\"symbol\":\"circle\"},\"mode\":\"markers\",\"name\":\"\",\"showlegend\":false,\"type\":\"scattergeo\"}],\"name\":\"2016\"},{\"data\":[{\"geo\":\"geo\",\"hovertemplate\":\"\\u003cb\\u003e%{hovertext}\\u003c\\u002fb\\u003e\\u003cbr\\u003e\\u003cbr\\u003eDepyear=2017\\u003cbr\\u003eBarrels=%{marker.size}\\u003cbr\\u003eLatitude=%{lat}\\u003cbr\\u003eLongitude=%{lon}\\u003cextra\\u003e\\u003c\\u002fextra\\u003e\",\"hovertext\":[\"Bayonne (USA - New Jersey)\",\"Beaumont\",\"Brownsville (Texas)\",\"Calcasieu Pass (S) Anchorage\",\"Camden\",\"Convent\",\"Corpus Christi\",\"Corpus Christi STS 1\",\"Corpus Christi STS Area 2\",\"Delaware Bay\",\"Freeport (USA)\",\"GOLA - Galveston Offshore Lightering Area\",\"Galveston\",\"Gulfmex (SW Pass) Lightering\",\"Houston\",\"Lake Charles\",\"Lewes\",\"Long Beach\",\"Marcus Hook\",\"Mobile\",\"New Orleans\",\"Pacific Area Lightering\",\"Pacific Lightering Area 2\",\"Pascagoula Lightering Zone\",\"Pedricktown\",\"Philadelphia\",\"Port Arthur\",\"Port Neches\",\"South Louisiana Port\",\"South Sabine Point\",\"Southwest Pass Lightering Area (test)\",\"St Croix\",\"St. Rose\",\"Texas City\",\"US Gulf Lightering Zones\",\"Valdez\",\"Wilmington (Del.)\"],\"lat\":[40.666135,30.053164,25.992855,28.97979,39.923121,30.022438,27.841887,27.762469,27.312478,38.928375,28.94974,28.56874,29.313034,28.351253000000003,29.727513,30.20095,38.8064639944569,33.767776684545495,39.815882,30.705183,29.935441,33.07557,31.897995,29.649432,39.7889970260995,39.90792,29.851103,29.975318,30.023456,28.610161,28.312037,17.735085,29.936604,29.364245,26.916667,61.11411999999999,39.728831],\"legendgroup\":\"\",\"lon\":[-74.105377,-94.086511,-97.304779,-93.259846,-75.10203100000001,-90.840309,-97.270307,-96.424654,-96.834451,-75.161867,-95.33753,-94.460887,-94.810938,-90.502712,-95.127008,-93.273925,-75.1312493298523,-118.210932045218,-75.410598,-88.04436899999999,-90.079969,-117.8295,-119.438401,-88.19617,-75.40736339960091,-75.252483,-93.915173,-93.948541,-90.603083,-93.488188,-89.54969399999999,-64.74277099999999,-90.339019,-94.897704,-91.5,-146.37006,-75.53293599999999],\"marker\":{\"color\":\"#636efa\",\"size\":[241428,26088446,240400,953277,1060352,8153841,65055468,2622575,6452202,652367,9177206,115903265,2200897,16623266,38049999,117923,293316,476087,2612071,545814,829131,2315020,15684263,459465,586632,1224088,2241887,513303,3083370,10291726,1236200,10232721,250405,1219633,1866800,953277,3871802],\"sizemode\":\"area\",\"sizeref\":1801924.05,\"symbol\":\"circle\"},\"mode\":\"markers\",\"name\":\"\",\"showlegend\":false,\"type\":\"scattergeo\"}],\"name\":\"2017\"},{\"data\":[{\"geo\":\"geo\",\"hovertemplate\":\"\\u003cb\\u003e%{hovertext}\\u003c\\u002fb\\u003e\\u003cbr\\u003e\\u003cbr\\u003eDepyear=2018\\u003cbr\\u003eBarrels=%{marker.size}\\u003cbr\\u003eLatitude=%{lat}\\u003cbr\\u003eLongitude=%{lon}\\u003cextra\\u003e\\u003c\\u002fextra\\u003e\",\"hovertext\":[\"Alliance\",\"Baton Rouge\",\"Bayonne (USA - New Jersey)\",\"Bayport\",\"Beaumont\",\"Brownsville (Texas)\",\"Camden\",\"Chalmette\",\"Convent\",\"Corpus Christi\",\"Corpus Christi STS 1\",\"Corpus Christi STS Area 2\",\"Delaware Bay\",\"Delaware Bay Offshore Lightering Area (test)\",\"El Segundo Terminal\",\"Freeport (USA)\",\"GOLA - Galveston Offshore Lightering Area\",\"Galveston\",\"Gulfmex (SW Pass) Lightering\",\"Gulfmex No.2 Lightering\",\"Houston\",\"Kenai (Nikiski)\",\"LOOP\",\"Los Angeles (incl San Pedro)\",\"Marcus Hook\",\"Mobile\",\"New Orleans\",\"Pacific Area Lightering\",\"Pacific Lightering Area 2\",\"Pascagoula Anchorage and Lightering Area\",\"Paulsboro\",\"Philadelphia\",\"Port Arthur\",\"Port Neches\",\"Portland (Maine)\",\"Portland (US - Oregon)\",\"Richmond (California)\",\"South Louisiana Port\",\"South Sabine Point\",\"South West Pass\",\"Southtex Lightering\",\"Southwest Pass Lightering Area (test)\",\"St Croix\",\"St. Charles\",\"Tacoma\",\"Texas City\",\"Valdez\"],\"lat\":[29.682195,30.466976000000003,40.666135,29.627453000000003,30.053164,25.992855,39.923121,29.94456,30.022438,27.841887,27.762469,27.312478,38.928375,38.70206,33.911346,28.94974,28.56874,29.313034,28.351253000000003,27.199477,29.727513,60.678764,28.87618,33.740434,39.815882,30.705183,29.935441,33.07557,31.897995,30.099764,39.838137,39.90792,29.851103,29.975318,43.6558579744634,45.574846,37.943334,30.023456,28.610161,28.844036,27.116063,28.312037,17.735085,29.994154,47.26248,29.364245,61.11411999999999],\"legendgroup\":\"\",\"lon\":[-89.970254,-91.221965,-74.105377,-95.015405,-94.086511,-97.304779,-75.10203100000001,-89.966886,-90.840309,-97.270307,-96.424654,-96.834451,-75.161867,-74.51951600000001,-118.489702,-95.33753,-94.460887,-94.810938,-90.502712,-90.251583,-95.127008,-151.392557,-90.008112,-118.269551,-75.410598,-88.04436899999999,-90.079969,-117.8295,-119.438401,-88.550161,-75.246143,-75.252483,-93.915173,-93.948541,-70.2575675660577,-122.746774,-122.373288,-90.603083,-93.488188,-89.48700500000001,-94.490555,-89.54969399999999,-64.74277099999999,-90.417621,-122.412203,-94.897704,-146.37006],\"marker\":{\"color\":\"#636efa\",\"size\":[3023560,1553532,286658,9618586,95891695,319145,2847716,605004,29054697,167309876,22837978,21835969,765574,240701,881106,25792953,283330338,140884,28936117,9195458,131882425,1084702,34263017,389139,5207079,1160006,4366592,953277,20509628,1225326,1107972,949592,1723350,1173264,311590,2150918,1173264,11096952,24313185,1906554,10070523,1411584,2945586,2577126,314681,27508517,2853017],\"sizemode\":\"area\",\"sizeref\":1801924.05,\"symbol\":\"circle\"},\"mode\":\"markers\",\"name\":\"\",\"showlegend\":false,\"type\":\"scattergeo\"}],\"name\":\"2018\"},{\"data\":[{\"geo\":\"geo\",\"hovertemplate\":\"\\u003cb\\u003e%{hovertext}\\u003c\\u002fb\\u003e\\u003cbr\\u003e\\u003cbr\\u003eDepyear=2019\\u003cbr\\u003eBarrels=%{marker.size}\\u003cbr\\u003eLatitude=%{lat}\\u003cbr\\u003eLongitude=%{lon}\\u003cextra\\u003e\\u003c\\u002fextra\\u003e\",\"hovertext\":[\"Baton Rouge\",\"Bayport\",\"Beaumont\",\"Brownsville (Texas)\",\"Camden\",\"Convent\",\"Corpus Christi\",\"Corpus Christi STS 1\",\"Corpus Christi STS Area 2\",\"Delaware Bay Offshore Lightering Area (test)\",\"Delaware City\",\"Enterprise HSC (HOU)\",\"Freeport (USA)\",\"GOLA - Galveston Offshore Lightering Area\",\"Gulfmex (SW Pass) Lightering\",\"Gulfmex No.2 Lightering\",\"Houston\",\"Kenai (Nikiski)\",\"LOOP\",\"Lake Charles\",\"Long Beach\",\"Los Angeles (incl San Pedro)\",\"Marcus Hook\",\"New Orleans\",\"Pacific Lightering Area 2\",\"Pascagoula Lightering Zone\",\"Paulsboro\",\"Philadelphia\",\"Port Arthur\",\"Port Neches\",\"Portland (Maine)\",\"Savannah\",\"South Louisiana Port\",\"South Sabine Point\",\"South West Pass\",\"Southtex Lightering\",\"Southwest Pass - River\",\"Southwest Pass Lightering Area (test)\",\"St Croix\",\"St. Charles\",\"St. Rose\",\"Texas City\",\"Valdez\"],\"lat\":[30.466976000000003,29.627453000000003,30.053164,25.992855,39.923121,30.022438,27.841887,27.762469,27.312478,38.70206,39.586314,29.73806,28.94974,28.56874,28.351253000000003,27.199477,29.727513,60.678764,28.87618,30.20095,33.767776684545495,33.740434,39.815882,29.935441,31.897995,29.649432,39.838137,39.90792,29.851103,29.975318,43.6558579744634,32.103894,30.023456,28.610161,28.844036,27.116063,29.031171,28.312037,17.735085,29.994154,29.936604,29.364245,61.11411999999999],\"legendgroup\":\"\",\"lon\":[-91.221965,-95.015405,-94.086511,-97.304779,-75.10203100000001,-90.840309,-97.270307,-96.424654,-96.834451,-74.51951600000001,-75.622899,-95.127447,-95.33753,-94.460887,-90.502712,-90.251583,-95.127008,-151.392557,-90.008112,-93.273925,-118.210932045218,-118.269551,-75.410598,-90.079969,-119.438401,-88.19617,-75.246143,-75.252483,-93.915173,-93.948541,-70.2575675660577,-81.11099499999999,-90.603083,-93.488188,-89.48700500000001,-94.490555,-89.33159,-89.54969399999999,-64.74277099999999,-90.417621,-90.339019,-94.897704,-146.37006],\"marker\":{\"color\":\"#636efa\",\"size\":[5373418,54833062,222895424,2289646,1443012,29734804,383480008,30876266,38929776,900070,2886932,54068,36112652,564986406,22938646,1446194,291885708,1409760,71567302,1173264,10010250,4106424,673666,8502962,9542378,1107956,584784,2839558,1735628,129790,234406,620304,3868234,41309152,2219484,8598998,783690,4231798,10481148,1246826,1491894,43493008,14161038],\"sizemode\":\"area\",\"sizeref\":1801924.05,\"symbol\":\"circle\"},\"mode\":\"markers\",\"name\":\"\",\"showlegend\":false,\"type\":\"scattergeo\"}],\"name\":\"2019\"},{\"data\":[{\"geo\":\"geo\",\"hovertemplate\":\"\\u003cb\\u003e%{hovertext}\\u003c\\u002fb\\u003e\\u003cbr\\u003e\\u003cbr\\u003eDepyear=2020\\u003cbr\\u003eBarrels=%{marker.size}\\u003cbr\\u003eLatitude=%{lat}\\u003cbr\\u003eLongitude=%{lon}\\u003cextra\\u003e\\u003c\\u002fextra\\u003e\",\"hovertext\":[\"Bayport\",\"Beaumont\",\"Brownsville (Texas)\",\"Chalmette\",\"Convent\",\"Corpus Christi\",\"Corpus Christi STS 1\",\"Corpus Christi STS Area 2\",\"Empire\",\"Freeport (USA)\",\"GOLA - Galveston Offshore Lightering Area\",\"Galveston\",\"Gulfmex (SW Pass) Lightering\",\"Gulfmex No.2 Lightering\",\"Houston\",\"LOOP\",\"Limetree Bay\",\"Long Beach\",\"Los Angeles (incl San Pedro)\",\"New Orleans\",\"New York\",\"Pacific Lightering Area 2\",\"Point Comfort\",\"Port Arthur\",\"Riverhead Terminal\",\"Savannah\",\"South Louisiana Port\",\"South Sabine Point\",\"South West Pass\",\"Southtex Lightering\",\"Southwest Pass Lightering Area (test)\",\"St Croix\",\"St. Rose\",\"Texas City\",\"Valdez\"],\"lat\":[29.627453000000003,30.053164,25.992855,29.94456,30.022438,27.841887,27.762469,27.312478,29.379917,28.94974,28.56874,29.313034,28.351253000000003,27.199477,29.727513,28.87618,17.683332999999998,33.767776684545495,33.740434,29.935441,40.626717,31.897995,28.671686,29.851103,40.9860279096872,32.103894,30.023456,28.610161,28.844036,27.116063,28.312037,17.735085,29.936604,29.364245,61.11411999999999],\"legendgroup\":\"\",\"lon\":[-95.015405,-94.086511,-97.304779,-89.966886,-90.840309,-97.270307,-96.424654,-96.834451,-89.572012,-95.33753,-94.460887,-94.810938,-90.502712,-90.251583,-95.127008,-90.008112,-64.733333,-118.210932045218,-118.269551,-90.079969,-73.972511,-119.438401,-96.558307,-93.915173,-72.6475126528167,-81.11099499999999,-90.603083,-93.488188,-89.48700500000001,-94.490555,-89.54969399999999,-64.74277099999999,-90.339019,-94.897704,-146.37006],\"marker\":{\"color\":\"#636efa\",\"size\":[93357976,114840954,7816268,917288,12013792,720769620,116592584,87930006,1173264,16906658,356701546,5124570,23429894,24551180,228807208,124092988,7964620,2051710,868978,4819230,780084,3549964,500602,439202,1026606,962336,1017716,16007438,918988,33668310,1906554,8673892,801046,23063626,25276912],\"sizemode\":\"area\",\"sizeref\":1801924.05,\"symbol\":\"circle\"},\"mode\":\"markers\",\"name\":\"\",\"showlegend\":false,\"type\":\"scattergeo\"}],\"name\":\"2020\"},{\"data\":[{\"geo\":\"geo\",\"hovertemplate\":\"\\u003cb\\u003e%{hovertext}\\u003c\\u002fb\\u003e\\u003cbr\\u003e\\u003cbr\\u003eDepyear=2021\\u003cbr\\u003eBarrels=%{marker.size}\\u003cbr\\u003eLatitude=%{lat}\\u003cbr\\u003eLongitude=%{lon}\\u003cextra\\u003e\\u003c\\u002fextra\\u003e\",\"hovertext\":[\"Baton Rouge Exxon Terminal\",\"Bayport\",\"Beaumont\",\"Brownsville (Texas)\",\"Camden\",\"Convent\",\"Corpus Christi\",\"Corpus Christi STS 1\",\"Corpus Christi STS Area 2\",\"Empire\",\"Enterprise HSC (HOU)\",\"Freeport (USA)\",\"GOLA - Galveston Offshore Lightering Area\",\"Gulfmex (SW Pass) Lightering\",\"Gulfmex No.2 Lightering\",\"Houston\",\"LOOP\",\"Limetree Bay\",\"Long Beach\",\"New Orleans\",\"Pacific Lightering Area 2\",\"Philadelphia\",\"Port Arthur\",\"Riverhead Terminal\",\"South Louisiana Port\",\"South Sabine Point\",\"Southtex Lightering\",\"Southwest Pass Lightering Area (test)\",\"St Croix\",\"St. Rose\",\"Texas City\",\"Valdez\"],\"lat\":[null,29.627453000000003,30.053164,25.992855,39.923121,30.022438,27.841887,27.762469,27.312478,29.379917,29.73806,28.94974,28.56874,28.351253000000003,27.199477,29.727513,28.87618,17.683332999999998,33.767776684545495,29.935441,31.897995,39.90792,29.851103,40.9860279096872,30.023456,28.610161,27.116063,28.312037,17.735085,29.936604,29.364245,61.11411999999999],\"legendgroup\":\"\",\"lon\":[null,-95.015405,-94.086511,-97.304779,-75.10203100000001,-90.840309,-97.270307,-96.424654,-96.834451,-89.572012,-95.127447,-95.33753,-94.460887,-90.502712,-90.251583,-95.127008,-90.008112,-64.733333,-118.210932045218,-90.079969,-119.438401,-75.252483,-93.915173,-72.6475126528167,-90.603083,-93.488188,-94.490555,-89.54969399999999,-64.74277099999999,-90.339019,-94.897704,-146.37006],\"marker\":{\"color\":\"#636efa\",\"size\":[136986,31376922,12636390,1457470,547532,6752694,361955436,31261484,29534124,513304,1173264,12067516,123971298,4662692,934460,64201048,60020760,4010208,1173264,77128,1906554,535408,226460,1050382,1965890,3959766,18584344,139474,2768416,839512,7400,11944028],\"sizemode\":\"area\",\"sizeref\":1801924.05,\"symbol\":\"circle\"},\"mode\":\"markers\",\"name\":\"\",\"showlegend\":false,\"type\":\"scattergeo\"}],\"name\":\"2021\"}]);\n",
       "                        }).then(function(){\n",
       "                            \n",
       "var gd = document.getElementById('20249e7b-6d93-4baf-beeb-0c9b34337d37');\n",
       "var x = new MutationObserver(function (mutations, observer) {{\n",
       "        var display = window.getComputedStyle(gd).display;\n",
       "        if (!display || display === 'none') {{\n",
       "            console.log([gd, 'removed!']);\n",
       "            Plotly.purge(gd);\n",
       "            observer.disconnect();\n",
       "        }}\n",
       "}});\n",
       "\n",
       "// Listen for the removal of the full notebook cells\n",
       "var notebookContainer = gd.closest('#notebook-container');\n",
       "if (notebookContainer) {{\n",
       "    x.observe(notebookContainer, {childList: true});\n",
       "}}\n",
       "\n",
       "// Listen for the clearing of the current output cell\n",
       "var outputEl = gd.closest('.output');\n",
       "if (outputEl) {{\n",
       "    x.observe(outputEl, {childList: true});\n",
       "}}\n",
       "\n",
       "                        })                };                });            </script>        </div>"
      ]
     },
     "metadata": {},
     "output_type": "display_data"
    }
   ],
   "source": [
    "map_data=merged_df.pivot_table(index=['Departure Year','Load Port'],values='Barrels',aggfunc=np.sum)\n",
    "map_data=map_data.reset_index()\n",
    "map_data=map_data.merge(port_locations[['Latitude','Longitude','Name']],how='left',left_on='Load Port',right_on='Name')\n",
    "map_data['Depyear']=map_data['Departure Year'].astype('str')\n",
    "#map_data['Depyear']=pd.to_datetime(map_data['Depyear'])\n",
    "#map_data['Depyear']=map_data['Depyear'].astype('str')\n",
    "fig_export_infra=px.scatter_geo(map_data,lat='Latitude',lon='Longitude',size='Barrels',projection='albers usa',animation_frame='Depyear',hover_name='Load Port')\n",
    "fig_export_infra.layout.updatemenus[0].buttons[0].args[1][\"frame\"][\"duration\"] = 1000\n",
    "fig_export_infra.show()"
   ]
  },
  {
   "cell_type": "markdown",
   "metadata": {},
   "source": [
    "In this visual we can see the story of how U.S. crude exports from the Gulf of Mexico ports grew from 2015 to 2020. Before 2015 U.S. was primarily importing oil and was exporting very little of it. The legislation enacted in 2015 authorized the export of U.S. crude without a license. This legislation combined with shale production boom resulted in the U.S. producers starting to export significant amounts of oil to get better value in international markets, particular from countries with significant demand for light sweet crude. We can also see that it took a couple of years for the export volumes to pick up. This is because the traditionally import oriented infrastructure had to catch up with the demand for exports. It's interesting to note how Corpus Christi became a major loading port for U.S. crude exports with addition of new export infrastructure including pipelines from the Permian basin and new terminals."
   ]
  },
  {
   "cell_type": "markdown",
   "metadata": {},
   "source": [
    "### Top regions where U.S. crude flows to\n",
    "In the following visualization we can see where the U.S. crude flows to and how the flows evolved over the last 3 years. It's very clear that the emphasis on the top 4 Asian buyers: China, India, South Korea and Japan has been increasing."
   ]
  },
  {
   "cell_type": "code",
   "execution_count": 9,
   "metadata": {},
   "outputs": [
    {
     "data": {
      "application/vnd.plotly.v1+json": {
       "config": {
        "plotlyServerURL": "https://plot.ly"
       },
       "data": [
        {
         "link": {
          "hovertemplate": "%{value} bbls",
          "source": [
           0,
           0,
           0,
           0,
           0,
           0,
           0,
           0,
           0,
           0,
           0,
           0,
           1,
           1,
           1,
           1,
           1,
           1,
           1,
           1,
           1,
           1,
           1,
           2,
           2,
           2,
           2,
           2,
           2,
           2,
           2,
           2,
           2,
           2,
           2,
           3,
           3,
           3,
           3,
           3,
           3,
           3,
           3,
           3,
           3,
           3
          ],
          "target": [
           4,
           5,
           6,
           7,
           8,
           9,
           10,
           11,
           12,
           13,
           14,
           15,
           4,
           5,
           6,
           16,
           7,
           8,
           9,
           10,
           11,
           12,
           14,
           4,
           5,
           6,
           16,
           7,
           8,
           9,
           11,
           12,
           13,
           14,
           15,
           4,
           5,
           6,
           7,
           8,
           9,
           10,
           11,
           12,
           13,
           14
          ],
          "value": [
           138475541,
           310362460,
           6340275,
           10967943,
           87376804,
           84365311,
           12084251,
           97918965,
           5907334,
           761969,
           186813881,
           623282,
           283887034,
           567077516,
           15915446,
           3776934,
           17744040,
           142210604,
           166987228,
           6295718,
           206192072,
           12264614,
           453760780,
           272605134,
           678284812,
           34803376,
           4044422,
           26343356,
           115553898,
           199565614,
           166077564,
           8137430,
           5327458,
           503224954,
           1991156,
           94583408,
           283476224,
           7039238,
           997974,
           46580516,
           65288348,
           3605322,
           52145448,
           8302144,
           1596000,
           204327896
          ]
         },
         "node": {
          "color": "blue",
          "hovertemplate": "%{value} bbls",
          "label": [
           "2018",
           "2019",
           "2020",
           "2021",
           "APAC-Others",
           "APAC-Top 4",
           "Baltics",
           "Carribean",
           "Latin America",
           "Med and North Africa",
           "Middle East",
           "North America",
           "Others",
           "South Africa and Indian Ocean",
           "UKC/NWE",
           "West Africa",
           "Black Sea"
          ],
          "line": {
           "color": "black",
           "width": 0.5
          },
          "pad": 15,
          "thickness": 20
         },
         "type": "sankey"
        }
       ],
       "layout": {
        "autosize": true,
        "font": {
         "size": 10
        },
        "template": {
         "data": {
          "bar": [
           {
            "error_x": {
             "color": "#2a3f5f"
            },
            "error_y": {
             "color": "#2a3f5f"
            },
            "marker": {
             "line": {
              "color": "#E5ECF6",
              "width": 0.5
             },
             "pattern": {
              "fillmode": "overlay",
              "size": 10,
              "solidity": 0.2
             }
            },
            "type": "bar"
           }
          ],
          "barpolar": [
           {
            "marker": {
             "line": {
              "color": "#E5ECF6",
              "width": 0.5
             },
             "pattern": {
              "fillmode": "overlay",
              "size": 10,
              "solidity": 0.2
             }
            },
            "type": "barpolar"
           }
          ],
          "carpet": [
           {
            "aaxis": {
             "endlinecolor": "#2a3f5f",
             "gridcolor": "white",
             "linecolor": "white",
             "minorgridcolor": "white",
             "startlinecolor": "#2a3f5f"
            },
            "baxis": {
             "endlinecolor": "#2a3f5f",
             "gridcolor": "white",
             "linecolor": "white",
             "minorgridcolor": "white",
             "startlinecolor": "#2a3f5f"
            },
            "type": "carpet"
           }
          ],
          "choropleth": [
           {
            "colorbar": {
             "outlinewidth": 0,
             "ticks": ""
            },
            "type": "choropleth"
           }
          ],
          "contour": [
           {
            "colorbar": {
             "outlinewidth": 0,
             "ticks": ""
            },
            "colorscale": [
             [
              0,
              "#0d0887"
             ],
             [
              0.1111111111111111,
              "#46039f"
             ],
             [
              0.2222222222222222,
              "#7201a8"
             ],
             [
              0.3333333333333333,
              "#9c179e"
             ],
             [
              0.4444444444444444,
              "#bd3786"
             ],
             [
              0.5555555555555556,
              "#d8576b"
             ],
             [
              0.6666666666666666,
              "#ed7953"
             ],
             [
              0.7777777777777778,
              "#fb9f3a"
             ],
             [
              0.8888888888888888,
              "#fdca26"
             ],
             [
              1,
              "#f0f921"
             ]
            ],
            "type": "contour"
           }
          ],
          "contourcarpet": [
           {
            "colorbar": {
             "outlinewidth": 0,
             "ticks": ""
            },
            "type": "contourcarpet"
           }
          ],
          "heatmap": [
           {
            "colorbar": {
             "outlinewidth": 0,
             "ticks": ""
            },
            "colorscale": [
             [
              0,
              "#0d0887"
             ],
             [
              0.1111111111111111,
              "#46039f"
             ],
             [
              0.2222222222222222,
              "#7201a8"
             ],
             [
              0.3333333333333333,
              "#9c179e"
             ],
             [
              0.4444444444444444,
              "#bd3786"
             ],
             [
              0.5555555555555556,
              "#d8576b"
             ],
             [
              0.6666666666666666,
              "#ed7953"
             ],
             [
              0.7777777777777778,
              "#fb9f3a"
             ],
             [
              0.8888888888888888,
              "#fdca26"
             ],
             [
              1,
              "#f0f921"
             ]
            ],
            "type": "heatmap"
           }
          ],
          "heatmapgl": [
           {
            "colorbar": {
             "outlinewidth": 0,
             "ticks": ""
            },
            "colorscale": [
             [
              0,
              "#0d0887"
             ],
             [
              0.1111111111111111,
              "#46039f"
             ],
             [
              0.2222222222222222,
              "#7201a8"
             ],
             [
              0.3333333333333333,
              "#9c179e"
             ],
             [
              0.4444444444444444,
              "#bd3786"
             ],
             [
              0.5555555555555556,
              "#d8576b"
             ],
             [
              0.6666666666666666,
              "#ed7953"
             ],
             [
              0.7777777777777778,
              "#fb9f3a"
             ],
             [
              0.8888888888888888,
              "#fdca26"
             ],
             [
              1,
              "#f0f921"
             ]
            ],
            "type": "heatmapgl"
           }
          ],
          "histogram": [
           {
            "marker": {
             "pattern": {
              "fillmode": "overlay",
              "size": 10,
              "solidity": 0.2
             }
            },
            "type": "histogram"
           }
          ],
          "histogram2d": [
           {
            "colorbar": {
             "outlinewidth": 0,
             "ticks": ""
            },
            "colorscale": [
             [
              0,
              "#0d0887"
             ],
             [
              0.1111111111111111,
              "#46039f"
             ],
             [
              0.2222222222222222,
              "#7201a8"
             ],
             [
              0.3333333333333333,
              "#9c179e"
             ],
             [
              0.4444444444444444,
              "#bd3786"
             ],
             [
              0.5555555555555556,
              "#d8576b"
             ],
             [
              0.6666666666666666,
              "#ed7953"
             ],
             [
              0.7777777777777778,
              "#fb9f3a"
             ],
             [
              0.8888888888888888,
              "#fdca26"
             ],
             [
              1,
              "#f0f921"
             ]
            ],
            "type": "histogram2d"
           }
          ],
          "histogram2dcontour": [
           {
            "colorbar": {
             "outlinewidth": 0,
             "ticks": ""
            },
            "colorscale": [
             [
              0,
              "#0d0887"
             ],
             [
              0.1111111111111111,
              "#46039f"
             ],
             [
              0.2222222222222222,
              "#7201a8"
             ],
             [
              0.3333333333333333,
              "#9c179e"
             ],
             [
              0.4444444444444444,
              "#bd3786"
             ],
             [
              0.5555555555555556,
              "#d8576b"
             ],
             [
              0.6666666666666666,
              "#ed7953"
             ],
             [
              0.7777777777777778,
              "#fb9f3a"
             ],
             [
              0.8888888888888888,
              "#fdca26"
             ],
             [
              1,
              "#f0f921"
             ]
            ],
            "type": "histogram2dcontour"
           }
          ],
          "mesh3d": [
           {
            "colorbar": {
             "outlinewidth": 0,
             "ticks": ""
            },
            "type": "mesh3d"
           }
          ],
          "parcoords": [
           {
            "line": {
             "colorbar": {
              "outlinewidth": 0,
              "ticks": ""
             }
            },
            "type": "parcoords"
           }
          ],
          "pie": [
           {
            "automargin": true,
            "type": "pie"
           }
          ],
          "scatter": [
           {
            "fillpattern": {
             "fillmode": "overlay",
             "size": 10,
             "solidity": 0.2
            },
            "type": "scatter"
           }
          ],
          "scatter3d": [
           {
            "line": {
             "colorbar": {
              "outlinewidth": 0,
              "ticks": ""
             }
            },
            "marker": {
             "colorbar": {
              "outlinewidth": 0,
              "ticks": ""
             }
            },
            "type": "scatter3d"
           }
          ],
          "scattercarpet": [
           {
            "marker": {
             "colorbar": {
              "outlinewidth": 0,
              "ticks": ""
             }
            },
            "type": "scattercarpet"
           }
          ],
          "scattergeo": [
           {
            "marker": {
             "colorbar": {
              "outlinewidth": 0,
              "ticks": ""
             }
            },
            "type": "scattergeo"
           }
          ],
          "scattergl": [
           {
            "marker": {
             "colorbar": {
              "outlinewidth": 0,
              "ticks": ""
             }
            },
            "type": "scattergl"
           }
          ],
          "scattermapbox": [
           {
            "marker": {
             "colorbar": {
              "outlinewidth": 0,
              "ticks": ""
             }
            },
            "type": "scattermapbox"
           }
          ],
          "scatterpolar": [
           {
            "marker": {
             "colorbar": {
              "outlinewidth": 0,
              "ticks": ""
             }
            },
            "type": "scatterpolar"
           }
          ],
          "scatterpolargl": [
           {
            "marker": {
             "colorbar": {
              "outlinewidth": 0,
              "ticks": ""
             }
            },
            "type": "scatterpolargl"
           }
          ],
          "scatterternary": [
           {
            "marker": {
             "colorbar": {
              "outlinewidth": 0,
              "ticks": ""
             }
            },
            "type": "scatterternary"
           }
          ],
          "surface": [
           {
            "colorbar": {
             "outlinewidth": 0,
             "ticks": ""
            },
            "colorscale": [
             [
              0,
              "#0d0887"
             ],
             [
              0.1111111111111111,
              "#46039f"
             ],
             [
              0.2222222222222222,
              "#7201a8"
             ],
             [
              0.3333333333333333,
              "#9c179e"
             ],
             [
              0.4444444444444444,
              "#bd3786"
             ],
             [
              0.5555555555555556,
              "#d8576b"
             ],
             [
              0.6666666666666666,
              "#ed7953"
             ],
             [
              0.7777777777777778,
              "#fb9f3a"
             ],
             [
              0.8888888888888888,
              "#fdca26"
             ],
             [
              1,
              "#f0f921"
             ]
            ],
            "type": "surface"
           }
          ],
          "table": [
           {
            "cells": {
             "fill": {
              "color": "#EBF0F8"
             },
             "line": {
              "color": "white"
             }
            },
            "header": {
             "fill": {
              "color": "#C8D4E3"
             },
             "line": {
              "color": "white"
             }
            },
            "type": "table"
           }
          ]
         },
         "layout": {
          "annotationdefaults": {
           "arrowcolor": "#2a3f5f",
           "arrowhead": 0,
           "arrowwidth": 1
          },
          "autotypenumbers": "strict",
          "coloraxis": {
           "colorbar": {
            "outlinewidth": 0,
            "ticks": ""
           }
          },
          "colorscale": {
           "diverging": [
            [
             0,
             "#8e0152"
            ],
            [
             0.1,
             "#c51b7d"
            ],
            [
             0.2,
             "#de77ae"
            ],
            [
             0.3,
             "#f1b6da"
            ],
            [
             0.4,
             "#fde0ef"
            ],
            [
             0.5,
             "#f7f7f7"
            ],
            [
             0.6,
             "#e6f5d0"
            ],
            [
             0.7,
             "#b8e186"
            ],
            [
             0.8,
             "#7fbc41"
            ],
            [
             0.9,
             "#4d9221"
            ],
            [
             1,
             "#276419"
            ]
           ],
           "sequential": [
            [
             0,
             "#0d0887"
            ],
            [
             0.1111111111111111,
             "#46039f"
            ],
            [
             0.2222222222222222,
             "#7201a8"
            ],
            [
             0.3333333333333333,
             "#9c179e"
            ],
            [
             0.4444444444444444,
             "#bd3786"
            ],
            [
             0.5555555555555556,
             "#d8576b"
            ],
            [
             0.6666666666666666,
             "#ed7953"
            ],
            [
             0.7777777777777778,
             "#fb9f3a"
            ],
            [
             0.8888888888888888,
             "#fdca26"
            ],
            [
             1,
             "#f0f921"
            ]
           ],
           "sequentialminus": [
            [
             0,
             "#0d0887"
            ],
            [
             0.1111111111111111,
             "#46039f"
            ],
            [
             0.2222222222222222,
             "#7201a8"
            ],
            [
             0.3333333333333333,
             "#9c179e"
            ],
            [
             0.4444444444444444,
             "#bd3786"
            ],
            [
             0.5555555555555556,
             "#d8576b"
            ],
            [
             0.6666666666666666,
             "#ed7953"
            ],
            [
             0.7777777777777778,
             "#fb9f3a"
            ],
            [
             0.8888888888888888,
             "#fdca26"
            ],
            [
             1,
             "#f0f921"
            ]
           ]
          },
          "colorway": [
           "#636efa",
           "#EF553B",
           "#00cc96",
           "#ab63fa",
           "#FFA15A",
           "#19d3f3",
           "#FF6692",
           "#B6E880",
           "#FF97FF",
           "#FECB52"
          ],
          "font": {
           "color": "#2a3f5f"
          },
          "geo": {
           "bgcolor": "white",
           "lakecolor": "white",
           "landcolor": "#E5ECF6",
           "showlakes": true,
           "showland": true,
           "subunitcolor": "white"
          },
          "hoverlabel": {
           "align": "left"
          },
          "hovermode": "closest",
          "mapbox": {
           "style": "light"
          },
          "paper_bgcolor": "white",
          "plot_bgcolor": "#E5ECF6",
          "polar": {
           "angularaxis": {
            "gridcolor": "white",
            "linecolor": "white",
            "ticks": ""
           },
           "bgcolor": "#E5ECF6",
           "radialaxis": {
            "gridcolor": "white",
            "linecolor": "white",
            "ticks": ""
           }
          },
          "scene": {
           "xaxis": {
            "backgroundcolor": "#E5ECF6",
            "gridcolor": "white",
            "gridwidth": 2,
            "linecolor": "white",
            "showbackground": true,
            "ticks": "",
            "zerolinecolor": "white"
           },
           "yaxis": {
            "backgroundcolor": "#E5ECF6",
            "gridcolor": "white",
            "gridwidth": 2,
            "linecolor": "white",
            "showbackground": true,
            "ticks": "",
            "zerolinecolor": "white"
           },
           "zaxis": {
            "backgroundcolor": "#E5ECF6",
            "gridcolor": "white",
            "gridwidth": 2,
            "linecolor": "white",
            "showbackground": true,
            "ticks": "",
            "zerolinecolor": "white"
           }
          },
          "shapedefaults": {
           "line": {
            "color": "#2a3f5f"
           }
          },
          "ternary": {
           "aaxis": {
            "gridcolor": "white",
            "linecolor": "white",
            "ticks": ""
           },
           "baxis": {
            "gridcolor": "white",
            "linecolor": "white",
            "ticks": ""
           },
           "bgcolor": "#E5ECF6",
           "caxis": {
            "gridcolor": "white",
            "linecolor": "white",
            "ticks": ""
           }
          },
          "title": {
           "x": 0.05
          },
          "xaxis": {
           "automargin": true,
           "gridcolor": "white",
           "linecolor": "white",
           "ticks": "",
           "title": {
            "standoff": 15
           },
           "zerolinecolor": "white",
           "zerolinewidth": 2
          },
          "yaxis": {
           "automargin": true,
           "gridcolor": "white",
           "linecolor": "white",
           "ticks": "",
           "title": {
            "standoff": 15
           },
           "zerolinecolor": "white",
           "zerolinewidth": 2
          }
         }
        },
        "title": {
         "text": "Export destinations of crude oil exported from PADD 3"
        }
       }
      },
      "text/html": [
       "<div>                            <div id=\"7bbff46d-aa0a-473a-a23f-bf65e24e4a4b\" class=\"plotly-graph-div\" style=\"height:525px; width:100%;\"></div>            <script type=\"text/javascript\">                require([\"plotly\"], function(Plotly) {                    window.PLOTLYENV=window.PLOTLYENV || {};                                    if (document.getElementById(\"7bbff46d-aa0a-473a-a23f-bf65e24e4a4b\")) {                    Plotly.newPlot(                        \"7bbff46d-aa0a-473a-a23f-bf65e24e4a4b\",                        [{\"link\":{\"hovertemplate\":\"%{value} bbls\",\"source\":[0,0,0,0,0,0,0,0,0,0,0,0,1,1,1,1,1,1,1,1,1,1,1,2,2,2,2,2,2,2,2,2,2,2,2,3,3,3,3,3,3,3,3,3,3,3],\"target\":[4,5,6,7,8,9,10,11,12,13,14,15,4,5,6,16,7,8,9,10,11,12,14,4,5,6,16,7,8,9,11,12,13,14,15,4,5,6,7,8,9,10,11,12,13,14],\"value\":[138475541,310362460,6340275,10967943,87376804,84365311,12084251,97918965,5907334,761969,186813881,623282,283887034,567077516,15915446,3776934,17744040,142210604,166987228,6295718,206192072,12264614,453760780,272605134,678284812,34803376,4044422,26343356,115553898,199565614,166077564,8137430,5327458,503224954,1991156,94583408,283476224,7039238,997974,46580516,65288348,3605322,52145448,8302144,1596000,204327896]},\"node\":{\"color\":\"blue\",\"hovertemplate\":\"%{value} bbls\",\"label\":[\"2018\",\"2019\",\"2020\",\"2021\",\"APAC-Others\",\"APAC-Top 4\",\"Baltics\",\"Carribean\",\"Latin America\",\"Med and North Africa\",\"Middle East\",\"North America\",\"Others\",\"South Africa and Indian Ocean\",\"UKC\\u002fNWE\",\"West Africa\",\"Black Sea\"],\"line\":{\"color\":\"black\",\"width\":0.5},\"pad\":15,\"thickness\":20},\"type\":\"sankey\"}],                        {\"template\":{\"data\":{\"histogram2dcontour\":[{\"type\":\"histogram2dcontour\",\"colorbar\":{\"outlinewidth\":0,\"ticks\":\"\"},\"colorscale\":[[0.0,\"#0d0887\"],[0.1111111111111111,\"#46039f\"],[0.2222222222222222,\"#7201a8\"],[0.3333333333333333,\"#9c179e\"],[0.4444444444444444,\"#bd3786\"],[0.5555555555555556,\"#d8576b\"],[0.6666666666666666,\"#ed7953\"],[0.7777777777777778,\"#fb9f3a\"],[0.8888888888888888,\"#fdca26\"],[1.0,\"#f0f921\"]]}],\"choropleth\":[{\"type\":\"choropleth\",\"colorbar\":{\"outlinewidth\":0,\"ticks\":\"\"}}],\"histogram2d\":[{\"type\":\"histogram2d\",\"colorbar\":{\"outlinewidth\":0,\"ticks\":\"\"},\"colorscale\":[[0.0,\"#0d0887\"],[0.1111111111111111,\"#46039f\"],[0.2222222222222222,\"#7201a8\"],[0.3333333333333333,\"#9c179e\"],[0.4444444444444444,\"#bd3786\"],[0.5555555555555556,\"#d8576b\"],[0.6666666666666666,\"#ed7953\"],[0.7777777777777778,\"#fb9f3a\"],[0.8888888888888888,\"#fdca26\"],[1.0,\"#f0f921\"]]}],\"heatmap\":[{\"type\":\"heatmap\",\"colorbar\":{\"outlinewidth\":0,\"ticks\":\"\"},\"colorscale\":[[0.0,\"#0d0887\"],[0.1111111111111111,\"#46039f\"],[0.2222222222222222,\"#7201a8\"],[0.3333333333333333,\"#9c179e\"],[0.4444444444444444,\"#bd3786\"],[0.5555555555555556,\"#d8576b\"],[0.6666666666666666,\"#ed7953\"],[0.7777777777777778,\"#fb9f3a\"],[0.8888888888888888,\"#fdca26\"],[1.0,\"#f0f921\"]]}],\"heatmapgl\":[{\"type\":\"heatmapgl\",\"colorbar\":{\"outlinewidth\":0,\"ticks\":\"\"},\"colorscale\":[[0.0,\"#0d0887\"],[0.1111111111111111,\"#46039f\"],[0.2222222222222222,\"#7201a8\"],[0.3333333333333333,\"#9c179e\"],[0.4444444444444444,\"#bd3786\"],[0.5555555555555556,\"#d8576b\"],[0.6666666666666666,\"#ed7953\"],[0.7777777777777778,\"#fb9f3a\"],[0.8888888888888888,\"#fdca26\"],[1.0,\"#f0f921\"]]}],\"contourcarpet\":[{\"type\":\"contourcarpet\",\"colorbar\":{\"outlinewidth\":0,\"ticks\":\"\"}}],\"contour\":[{\"type\":\"contour\",\"colorbar\":{\"outlinewidth\":0,\"ticks\":\"\"},\"colorscale\":[[0.0,\"#0d0887\"],[0.1111111111111111,\"#46039f\"],[0.2222222222222222,\"#7201a8\"],[0.3333333333333333,\"#9c179e\"],[0.4444444444444444,\"#bd3786\"],[0.5555555555555556,\"#d8576b\"],[0.6666666666666666,\"#ed7953\"],[0.7777777777777778,\"#fb9f3a\"],[0.8888888888888888,\"#fdca26\"],[1.0,\"#f0f921\"]]}],\"surface\":[{\"type\":\"surface\",\"colorbar\":{\"outlinewidth\":0,\"ticks\":\"\"},\"colorscale\":[[0.0,\"#0d0887\"],[0.1111111111111111,\"#46039f\"],[0.2222222222222222,\"#7201a8\"],[0.3333333333333333,\"#9c179e\"],[0.4444444444444444,\"#bd3786\"],[0.5555555555555556,\"#d8576b\"],[0.6666666666666666,\"#ed7953\"],[0.7777777777777778,\"#fb9f3a\"],[0.8888888888888888,\"#fdca26\"],[1.0,\"#f0f921\"]]}],\"mesh3d\":[{\"type\":\"mesh3d\",\"colorbar\":{\"outlinewidth\":0,\"ticks\":\"\"}}],\"scatter\":[{\"fillpattern\":{\"fillmode\":\"overlay\",\"size\":10,\"solidity\":0.2},\"type\":\"scatter\"}],\"parcoords\":[{\"type\":\"parcoords\",\"line\":{\"colorbar\":{\"outlinewidth\":0,\"ticks\":\"\"}}}],\"scatterpolargl\":[{\"type\":\"scatterpolargl\",\"marker\":{\"colorbar\":{\"outlinewidth\":0,\"ticks\":\"\"}}}],\"bar\":[{\"error_x\":{\"color\":\"#2a3f5f\"},\"error_y\":{\"color\":\"#2a3f5f\"},\"marker\":{\"line\":{\"color\":\"#E5ECF6\",\"width\":0.5},\"pattern\":{\"fillmode\":\"overlay\",\"size\":10,\"solidity\":0.2}},\"type\":\"bar\"}],\"scattergeo\":[{\"type\":\"scattergeo\",\"marker\":{\"colorbar\":{\"outlinewidth\":0,\"ticks\":\"\"}}}],\"scatterpolar\":[{\"type\":\"scatterpolar\",\"marker\":{\"colorbar\":{\"outlinewidth\":0,\"ticks\":\"\"}}}],\"histogram\":[{\"marker\":{\"pattern\":{\"fillmode\":\"overlay\",\"size\":10,\"solidity\":0.2}},\"type\":\"histogram\"}],\"scattergl\":[{\"type\":\"scattergl\",\"marker\":{\"colorbar\":{\"outlinewidth\":0,\"ticks\":\"\"}}}],\"scatter3d\":[{\"type\":\"scatter3d\",\"line\":{\"colorbar\":{\"outlinewidth\":0,\"ticks\":\"\"}},\"marker\":{\"colorbar\":{\"outlinewidth\":0,\"ticks\":\"\"}}}],\"scattermapbox\":[{\"type\":\"scattermapbox\",\"marker\":{\"colorbar\":{\"outlinewidth\":0,\"ticks\":\"\"}}}],\"scatterternary\":[{\"type\":\"scatterternary\",\"marker\":{\"colorbar\":{\"outlinewidth\":0,\"ticks\":\"\"}}}],\"scattercarpet\":[{\"type\":\"scattercarpet\",\"marker\":{\"colorbar\":{\"outlinewidth\":0,\"ticks\":\"\"}}}],\"carpet\":[{\"aaxis\":{\"endlinecolor\":\"#2a3f5f\",\"gridcolor\":\"white\",\"linecolor\":\"white\",\"minorgridcolor\":\"white\",\"startlinecolor\":\"#2a3f5f\"},\"baxis\":{\"endlinecolor\":\"#2a3f5f\",\"gridcolor\":\"white\",\"linecolor\":\"white\",\"minorgridcolor\":\"white\",\"startlinecolor\":\"#2a3f5f\"},\"type\":\"carpet\"}],\"table\":[{\"cells\":{\"fill\":{\"color\":\"#EBF0F8\"},\"line\":{\"color\":\"white\"}},\"header\":{\"fill\":{\"color\":\"#C8D4E3\"},\"line\":{\"color\":\"white\"}},\"type\":\"table\"}],\"barpolar\":[{\"marker\":{\"line\":{\"color\":\"#E5ECF6\",\"width\":0.5},\"pattern\":{\"fillmode\":\"overlay\",\"size\":10,\"solidity\":0.2}},\"type\":\"barpolar\"}],\"pie\":[{\"automargin\":true,\"type\":\"pie\"}]},\"layout\":{\"autotypenumbers\":\"strict\",\"colorway\":[\"#636efa\",\"#EF553B\",\"#00cc96\",\"#ab63fa\",\"#FFA15A\",\"#19d3f3\",\"#FF6692\",\"#B6E880\",\"#FF97FF\",\"#FECB52\"],\"font\":{\"color\":\"#2a3f5f\"},\"hovermode\":\"closest\",\"hoverlabel\":{\"align\":\"left\"},\"paper_bgcolor\":\"white\",\"plot_bgcolor\":\"#E5ECF6\",\"polar\":{\"bgcolor\":\"#E5ECF6\",\"angularaxis\":{\"gridcolor\":\"white\",\"linecolor\":\"white\",\"ticks\":\"\"},\"radialaxis\":{\"gridcolor\":\"white\",\"linecolor\":\"white\",\"ticks\":\"\"}},\"ternary\":{\"bgcolor\":\"#E5ECF6\",\"aaxis\":{\"gridcolor\":\"white\",\"linecolor\":\"white\",\"ticks\":\"\"},\"baxis\":{\"gridcolor\":\"white\",\"linecolor\":\"white\",\"ticks\":\"\"},\"caxis\":{\"gridcolor\":\"white\",\"linecolor\":\"white\",\"ticks\":\"\"}},\"coloraxis\":{\"colorbar\":{\"outlinewidth\":0,\"ticks\":\"\"}},\"colorscale\":{\"sequential\":[[0.0,\"#0d0887\"],[0.1111111111111111,\"#46039f\"],[0.2222222222222222,\"#7201a8\"],[0.3333333333333333,\"#9c179e\"],[0.4444444444444444,\"#bd3786\"],[0.5555555555555556,\"#d8576b\"],[0.6666666666666666,\"#ed7953\"],[0.7777777777777778,\"#fb9f3a\"],[0.8888888888888888,\"#fdca26\"],[1.0,\"#f0f921\"]],\"sequentialminus\":[[0.0,\"#0d0887\"],[0.1111111111111111,\"#46039f\"],[0.2222222222222222,\"#7201a8\"],[0.3333333333333333,\"#9c179e\"],[0.4444444444444444,\"#bd3786\"],[0.5555555555555556,\"#d8576b\"],[0.6666666666666666,\"#ed7953\"],[0.7777777777777778,\"#fb9f3a\"],[0.8888888888888888,\"#fdca26\"],[1.0,\"#f0f921\"]],\"diverging\":[[0,\"#8e0152\"],[0.1,\"#c51b7d\"],[0.2,\"#de77ae\"],[0.3,\"#f1b6da\"],[0.4,\"#fde0ef\"],[0.5,\"#f7f7f7\"],[0.6,\"#e6f5d0\"],[0.7,\"#b8e186\"],[0.8,\"#7fbc41\"],[0.9,\"#4d9221\"],[1,\"#276419\"]]},\"xaxis\":{\"gridcolor\":\"white\",\"linecolor\":\"white\",\"ticks\":\"\",\"title\":{\"standoff\":15},\"zerolinecolor\":\"white\",\"automargin\":true,\"zerolinewidth\":2},\"yaxis\":{\"gridcolor\":\"white\",\"linecolor\":\"white\",\"ticks\":\"\",\"title\":{\"standoff\":15},\"zerolinecolor\":\"white\",\"automargin\":true,\"zerolinewidth\":2},\"scene\":{\"xaxis\":{\"backgroundcolor\":\"#E5ECF6\",\"gridcolor\":\"white\",\"linecolor\":\"white\",\"showbackground\":true,\"ticks\":\"\",\"zerolinecolor\":\"white\",\"gridwidth\":2},\"yaxis\":{\"backgroundcolor\":\"#E5ECF6\",\"gridcolor\":\"white\",\"linecolor\":\"white\",\"showbackground\":true,\"ticks\":\"\",\"zerolinecolor\":\"white\",\"gridwidth\":2},\"zaxis\":{\"backgroundcolor\":\"#E5ECF6\",\"gridcolor\":\"white\",\"linecolor\":\"white\",\"showbackground\":true,\"ticks\":\"\",\"zerolinecolor\":\"white\",\"gridwidth\":2}},\"shapedefaults\":{\"line\":{\"color\":\"#2a3f5f\"}},\"annotationdefaults\":{\"arrowcolor\":\"#2a3f5f\",\"arrowhead\":0,\"arrowwidth\":1},\"geo\":{\"bgcolor\":\"white\",\"landcolor\":\"#E5ECF6\",\"subunitcolor\":\"white\",\"showland\":true,\"showlakes\":true,\"lakecolor\":\"white\"},\"title\":{\"x\":0.05},\"mapbox\":{\"style\":\"light\"}}},\"title\":{\"text\":\"Export destinations of crude oil exported from PADD 3\"},\"font\":{\"size\":10}},                        {\"responsive\": true}                    ).then(function(){\n",
       "                            \n",
       "var gd = document.getElementById('7bbff46d-aa0a-473a-a23f-bf65e24e4a4b');\n",
       "var x = new MutationObserver(function (mutations, observer) {{\n",
       "        var display = window.getComputedStyle(gd).display;\n",
       "        if (!display || display === 'none') {{\n",
       "            console.log([gd, 'removed!']);\n",
       "            Plotly.purge(gd);\n",
       "            observer.disconnect();\n",
       "        }}\n",
       "}});\n",
       "\n",
       "// Listen for the removal of the full notebook cells\n",
       "var notebookContainer = gd.closest('#notebook-container');\n",
       "if (notebookContainer) {{\n",
       "    x.observe(notebookContainer, {childList: true});\n",
       "}}\n",
       "\n",
       "// Listen for the clearing of the current output cell\n",
       "var outputEl = gd.closest('.output');\n",
       "if (outputEl) {{\n",
       "    x.observe(outputEl, {childList: true});\n",
       "}}\n",
       "\n",
       "                        })                };                });            </script>        </div>"
      ]
     },
     "metadata": {},
     "output_type": "display_data"
    }
   ],
   "source": [
    "sankey_data=merged_df[merged_df['Tanker Zone']=='US Gulf']\n",
    "regions=pd.read_csv('Regions.csv')\n",
    "sankey_data=sankey_data.merge(regions,how='left',left_on='Adjusted Discharge Country',right_on='Country')\n",
    "sankey_data=sankey_data.pivot_table(index=['Departure Year','Region'],values='Barrels',aggfunc=np.sum)\n",
    "sankey_data=sankey_data.reset_index()\n",
    "sankey_data['Departure Year']=sankey_data['Departure Year'].astype('str')\n",
    "sankey_data=sankey_data[sankey_data['Departure Year'].isin(['2018','2019','2020','2021'])]\n",
    "labels=sankey_data['Departure Year'].drop_duplicates().to_list()\n",
    "labels.extend(sankey_data['Region'].drop_duplicates().to_list())\n",
    "source=list()\n",
    "target=list()\n",
    "values=list()\n",
    "for index,rows in sankey_data.iterrows():\n",
    "    source.append(labels.index(rows['Departure Year']))\n",
    "    target.append(labels.index(rows['Region']))\n",
    "    values.append(rows['Barrels'])\n",
    "sankey = go.Figure(data=[go.Sankey(\n",
    "    node = dict(\n",
    "      pad = 15,\n",
    "      thickness = 20,\n",
    "      line = dict(color = \"black\", width = 0.5),\n",
    "      label = labels,\n",
    "      color = \"blue\",\n",
    "      hovertemplate='%{value} bbls',\n",
    "    ),\n",
    "    link = dict(\n",
    "      source = source, # indices correspond to labels, eg A1, A2, A1, B1, ...\n",
    "      target = target,\n",
    "      value = values,\n",
    "      hovertemplate='%{value} bbls',\n",
    "        \n",
    "  ))])\n",
    "\n",
    "sankey.update_layout(title_text=\"Export destinations of crude oil exported from PADD 3\", font_size=10)\n",
    "sankey.show()"
   ]
  },
  {
   "cell_type": "markdown",
   "metadata": {},
   "source": [
    "### How the key customers have changed over time"
   ]
  },
  {
   "cell_type": "code",
   "execution_count": 10,
   "metadata": {},
   "outputs": [
    {
     "data": {
      "application/vnd.plotly.v1+json": {
       "config": {
        "plotlyServerURL": "https://plot.ly"
       },
       "data": [
        {
         "geo": "geo",
         "hovertemplate": "<b>%{hovertext}</b><br><br>Depyear=2014<br>Barrels=%{marker.color}<br>ISO ALPHA-3 code=%{location}<extra></extra>",
         "hovertext": [
          "Canada"
         ],
         "legendgroup": "",
         "locations": [
          "CAN"
         ],
         "marker": {
          "color": [
           173912
          ],
          "coloraxis": "coloraxis",
          "size": [
           173912
          ],
          "sizemode": "area",
          "sizeref": 759364.75,
          "symbol": "circle"
         },
         "mode": "markers",
         "name": "",
         "showlegend": false,
         "type": "scattergeo"
        }
       ],
       "frames": [
        {
         "data": [
          {
           "geo": "geo",
           "hovertemplate": "<b>%{hovertext}</b><br><br>Depyear=2014<br>Barrels=%{marker.color}<br>ISO ALPHA-3 code=%{location}<extra></extra>",
           "hovertext": [
            "Canada"
           ],
           "legendgroup": "",
           "locations": [
            "CAN"
           ],
           "marker": {
            "color": [
             173912
            ],
            "coloraxis": "coloraxis",
            "size": [
             173912
            ],
            "sizemode": "area",
            "sizeref": 759364.75,
            "symbol": "circle"
           },
           "mode": "markers",
           "name": "",
           "showlegend": false,
           "type": "scattergeo"
          }
         ],
         "name": "2014"
        },
        {
         "data": [
          {
           "geo": "geo",
           "hovertemplate": "<b>%{hovertext}</b><br><br>Depyear=2015<br>Barrels=%{marker.color}<br>ISO ALPHA-3 code=%{location}<extra></extra>",
           "hovertext": [
            "Bahamas",
            "Brazil",
            "Canada",
            "Egypt",
            "France (Southern)",
            "India",
            "Italy",
            "Japan",
            "Malta",
            "Mexico",
            "Netherlands",
            "Singapore",
            "South Korea",
            "Spain",
            "United Arab Emirates",
            "United Kingdom",
            "Venezuela"
           ],
           "legendgroup": "",
           "locations": [
            "BHS",
            "BRA",
            "CAN",
            "EGY",
            "FRA",
            "IND",
            "ITA",
            "JPN",
            "MLT",
            "MEX",
            "NLD",
            "SGP",
            "KOR",
            "ESP",
            "ARE",
            "GBR",
            "VEN"
           ],
           "marker": {
            "color": [
             107961,
             1825231,
             84994827,
             575282,
             2787193,
             2009912,
             4037532,
             250169,
             538369,
             896398,
             10968531,
             2111522,
             2262827,
             1920700,
             1930049,
             871017,
             996369
            ],
            "coloraxis": "coloraxis",
            "size": [
             107961,
             1825231,
             84994827,
             575282,
             2787193,
             2009912,
             4037532,
             250169,
             538369,
             896398,
             10968531,
             2111522,
             2262827,
             1920700,
             1930049,
             871017,
             996369
            ],
            "sizemode": "area",
            "sizeref": 759364.75,
            "symbol": "circle"
           },
           "mode": "markers",
           "name": "",
           "showlegend": false,
           "type": "scattergeo"
          }
         ],
         "name": "2015"
        },
        {
         "data": [
          {
           "geo": "geo",
           "hovertemplate": "<b>%{hovertext}</b><br><br>Depyear=2016<br>Barrels=%{marker.color}<br>ISO ALPHA-3 code=%{location}<extra></extra>",
           "hovertext": [
            "Argentina",
            "Aruba",
            "Bahamas",
            "Belgium",
            "Bonaire, Sint Eustatius and Saba",
            "Brazil",
            "Canada",
            "Chile",
            "China",
            "Colombia",
            "Curacao",
            "Cyprus",
            "Dominican Republic",
            "Egypt",
            "France (Northern)",
            "France (Southern)",
            "Germany",
            "India",
            "Indonesia",
            "Italy",
            "Japan",
            "Malaysia",
            "Mexico",
            "Netherlands",
            "Nicaragua",
            "Panama",
            "Peru",
            "Puerto Rico",
            "Singapore",
            "South Korea",
            "Spain",
            "Thailand",
            "Togo",
            "United Kingdom",
            "Venezuela"
           ],
           "legendgroup": "",
           "locations": [
            "ARG",
            "ABW",
            "BHS",
            "BEL",
            "BES",
            "BRA",
            "CAN",
            "CHL",
            "CHN",
            "COL",
            "CUW",
            "CYP",
            "DOM",
            "EGY",
            "FRA",
            "FRA",
            "DEU",
            "IND",
            "IDN",
            "ITA",
            "JPN",
            "MYS",
            "MEX",
            "NLD",
            "NIC",
            "PAN",
            "PER",
            "PRI",
            "SGP",
            "KOR",
            "ESP",
            "THA",
            "TGO",
            "GBR",
            "VEN"
           ],
           "marker": {
            "color": [
             589173,
             512790,
             1984483,
             542332,
             513303,
             1269240,
             29749205,
             157257,
             4445382,
             4312972,
             11947613,
             867851,
             533703,
             4038542,
             813952,
             6026196,
             524371,
             2053212,
             1979883,
             6567768,
             2882688,
             3568201,
             366314,
             16019626,
             1221786,
             4399693,
             2292312,
             753081,
             7145323,
             2417616,
             5552351,
             989942,
             832635,
             6354405,
             2785414
            ],
            "coloraxis": "coloraxis",
            "size": [
             589173,
             512790,
             1984483,
             542332,
             513303,
             1269240,
             29749205,
             157257,
             4445382,
             4312972,
             11947613,
             867851,
             533703,
             4038542,
             813952,
             6026196,
             524371,
             2053212,
             1979883,
             6567768,
             2882688,
             3568201,
             366314,
             16019626,
             1221786,
             4399693,
             2292312,
             753081,
             7145323,
             2417616,
             5552351,
             989942,
             832635,
             6354405,
             2785414
            ],
            "sizemode": "area",
            "sizeref": 759364.75,
            "symbol": "circle"
           },
           "mode": "markers",
           "name": "",
           "showlegend": false,
           "type": "scattergeo"
          }
         ],
         "name": "2016"
        },
        {
         "data": [
          {
           "geo": "geo",
           "hovertemplate": "<b>%{hovertext}</b><br><br>Depyear=2017<br>Barrels=%{marker.color}<br>ISO ALPHA-3 code=%{location}<extra></extra>",
           "hovertext": [
            "Argentina",
            "Aruba",
            "Bahamas",
            "Bonaire, Sint Eustatius and Saba",
            "Brazil",
            "Canada",
            "China",
            "Colombia",
            "Curacao",
            "Denmark",
            "Dominican Republic",
            "France (Northern)",
            "France (Southern)",
            "Gibraltar",
            "Guatemala",
            "Honduras",
            "India",
            "Indonesia",
            "Ireland",
            "Italy",
            "Jamaica",
            "Japan",
            "Lithuania",
            "Malaysia",
            "Malta",
            "Mexico",
            "Netherlands",
            "Nicaragua",
            "Norway",
            "Panama",
            "Peru",
            "Poland",
            "Singapore",
            "South Africa",
            "South Korea",
            "Spain",
            "Taiwan",
            "Thailand",
            "Turkey",
            "United Arab Emirates",
            "United Kingdom",
            "Uruguay",
            "Venezuela"
           ],
           "legendgroup": "",
           "locations": [
            "ARG",
            "ABW",
            "BHS",
            "BES",
            "BRA",
            "CAN",
            "CHN",
            "COL",
            "CUW",
            "DNK",
            "DOM",
            "FRA",
            "FRA",
            "GIB",
            "GTM",
            "HND",
            "IND",
            "IDN",
            "IRL",
            "ITA",
            "JAM",
            "JPN",
            "LTU",
            "MYS",
            "MLT",
            "MEX",
            "NLD",
            "NIC",
            "NOR",
            "PAN",
            "PER",
            "POL",
            "SGP",
            "ZAF",
            "KOR",
            "ESP",
            "TWN",
            "THA",
            "TUR",
            "ARE",
            "GBR",
            "URY",
            "VEN"
           ],
           "marker": {
            "color": [
             1761694,
             4553882,
             3712262,
             626762,
             6043766,
             41544867,
             72772074,
             4482688,
             5528887,
             734317,
             729562,
             2718849,
             2826821,
             1063851,
             371017,
             320361,
             13945479,
             3788836,
             183323,
             12165727,
             388303,
             11701494,
             1326373,
             17700795,
             953277,
             3638966,
             19551935,
             402144,
             1037182,
             2193109,
             938269,
             2607202,
             13969576,
             646034,
             20137097,
             8220339,
             8500661,
             2122376,
             787830,
             1596159,
             28630080,
             284772,
             13706164
            ],
            "coloraxis": "coloraxis",
            "size": [
             1761694,
             4553882,
             3712262,
             626762,
             6043766,
             41544867,
             72772074,
             4482688,
             5528887,
             734317,
             729562,
             2718849,
             2826821,
             1063851,
             371017,
             320361,
             13945479,
             3788836,
             183323,
             12165727,
             388303,
             11701494,
             1326373,
             17700795,
             953277,
             3638966,
             19551935,
             402144,
             1037182,
             2193109,
             938269,
             2607202,
             13969576,
             646034,
             20137097,
             8220339,
             8500661,
             2122376,
             787830,
             1596159,
             28630080,
             284772,
             13706164
            ],
            "sizemode": "area",
            "sizeref": 759364.75,
            "symbol": "circle"
           },
           "mode": "markers",
           "name": "",
           "showlegend": false,
           "type": "scattergeo"
          }
         ],
         "name": "2017"
        },
        {
         "data": [
          {
           "geo": "geo",
           "hovertemplate": "<b>%{hovertext}</b><br><br>Depyear=2018<br>Barrels=%{marker.color}<br>ISO ALPHA-3 code=%{location}<extra></extra>",
           "hovertext": [
            "Bahamas",
            "Bonaire, Sint Eustatius and Saba",
            "Brazil",
            "Canada",
            "Chile",
            "China",
            "Colombia",
            "Cote DIvoire",
            "Croatia",
            "Curacao",
            "Denmark",
            "Dominican Republic",
            "France (Northern)",
            "France (Southern)",
            "Germany",
            "Gibraltar",
            "Greece",
            "India",
            "Indonesia",
            "Ireland",
            "Italy",
            "Jamaica",
            "Japan",
            "Lebanon",
            "Malaysia",
            "Mexico",
            "Netherlands",
            "Nicaragua",
            "Norway",
            "Panama",
            "Peru",
            "Poland",
            "Portugal",
            "Singapore",
            "South Africa",
            "South Korea",
            "Spain",
            "Sweden",
            "Taiwan",
            "Thailand",
            "Togo",
            "Trinidad and Tobago",
            "United Arab Emirates",
            "United Kingdom",
            "Uruguay",
            "Venezuela"
           ],
           "legendgroup": "",
           "locations": [
            "BHS",
            "BES",
            "BRA",
            "CAN",
            "CHL",
            "CHN",
            "COL",
            "CIV",
            "HRV",
            "CUW",
            "DNK",
            "DOM",
            "FRA",
            "FRA",
            "DEU",
            "GIB",
            "GRC",
            "IND",
            "IDN",
            "IRL",
            "ITA",
            "JAM",
            "JPN",
            "LBN",
            "MYS",
            "MEX",
            "NLD",
            "NIC",
            "NOR",
            "PAN",
            "PER",
            "POL",
            "PRT",
            "SGP",
            "ZAF",
            "KOR",
            "ESP",
            "SWE",
            "TWN",
            "THA",
            "TGO",
            "TTO",
            "ARE",
            "GBR",
            "URY",
            "VEN"
           ],
           "marker": {
            "color": [
             3623877,
             5162870,
             17345811,
             100138884,
             6392807,
             86968384,
             10288154,
             464657,
             2538454,
             2008516,
             10414170,
             6376314,
             5929407,
             8703009,
             2135540,
             912304,
             4305369,
             64984462,
             2786813,
             9006658,
             52794237,
             2099438,
             49694372,
             366645,
             13069178,
             12003053,
             68147257,
             1483672,
             13958127,
             8616490,
             4523464,
             5313669,
             1697381,
             50010355,
             761969,
             120178278,
             13960216,
             1026606,
             74985685,
             11519723,
             623282,
             281198,
             12084251,
             79068876,
             4103418,
             32019752
            ],
            "coloraxis": "coloraxis",
            "size": [
             3623877,
             5162870,
             17345811,
             100138884,
             6392807,
             86968384,
             10288154,
             464657,
             2538454,
             2008516,
             10414170,
             6376314,
             5929407,
             8703009,
             2135540,
             912304,
             4305369,
             64984462,
             2786813,
             9006658,
             52794237,
             2099438,
             49694372,
             366645,
             13069178,
             12003053,
             68147257,
             1483672,
             13958127,
             8616490,
             4523464,
             5313669,
             1697381,
             50010355,
             761969,
             120178278,
             13960216,
             1026606,
             74985685,
             11519723,
             623282,
             281198,
             12084251,
             79068876,
             4103418,
             32019752
            ],
            "sizemode": "area",
            "sizeref": 759364.75,
            "symbol": "circle"
           },
           "mode": "markers",
           "name": "",
           "showlegend": false,
           "type": "scattergeo"
          }
         ],
         "name": "2018"
        },
        {
         "data": [
          {
           "geo": "geo",
           "hovertemplate": "<b>%{hovertext}</b><br><br>Depyear=2019<br>Barrels=%{marker.color}<br>ISO ALPHA-3 code=%{location}<extra></extra>",
           "hovertext": [
            "Argentina",
            "Aruba",
            "Australia",
            "Bahamas",
            "Belgium",
            "Bonaire, Sint Eustatius and Saba",
            "Brazil",
            "Bulgaria",
            "Canada",
            "Chile",
            "China",
            "Colombia",
            "Croatia",
            "Denmark",
            "Dominican Republic",
            "Egypt",
            "France (Northern)",
            "France (Southern)",
            "Germany",
            "Gibraltar",
            "Greece",
            "Honduras",
            "Hong Kong",
            "India",
            "Indonesia",
            "Ireland",
            "Israel",
            "Italy",
            "Jamaica",
            "Japan",
            "Lithuania",
            "Malaysia",
            "Malta",
            "Mexico",
            "Morocco",
            "Netherlands",
            "Nicaragua",
            "Norway",
            "Panama",
            "Peru",
            "Philippines",
            "Poland",
            "Singapore",
            "South Korea",
            "Spain",
            "Sweden",
            "Taiwan",
            "Thailand",
            "Trinidad and Tobago",
            "Ukraine",
            "United Arab Emirates",
            "United Kingdom",
            "Uruguay",
            "Venezuela",
            "Vietnam"
           ],
           "legendgroup": "",
           "locations": [
            "ARG",
            "ABW",
            "AUS",
            "BHS",
            "BEL",
            "BES",
            "BRA",
            "BGR",
            "CAN",
            "CHL",
            "CHN",
            "COL",
            "HRV",
            "DNK",
            "DOM",
            "EGY",
            "FRA",
            "FRA",
            "DEU",
            "GIB",
            "GRC",
            "HND",
            "HKG",
            "IND",
            "IDN",
            "IRL",
            "ISR",
            "ITA",
            "JAM",
            "JPN",
            "LTU",
            "MYS",
            "MLT",
            "MEX",
            "MAR",
            "NLD",
            "NIC",
            "NOR",
            "PAN",
            "PER",
            "PHL",
            "POL",
            "SGP",
            "KOR",
            "ESP",
            "SWE",
            "TWN",
            "THA",
            "TTO",
            "UKR",
            "ARE",
            "GBR",
            "URY",
            "VEN",
            "VNM"
           ],
           "marker": {
            "color": [
             3884080,
             1227868,
             26533246,
             15392328,
             582322,
             4371630,
             35584558,
             1077982,
             207061272,
             17666344,
             82602060,
             15285222,
             3234172,
             20831514,
             11604846,
             1144254,
             37324376,
             31435974,
             20362552,
             1270604,
             10005400,
             659768,
             2053212,
             168133944,
             3901834,
             27187384,
             3369646,
             78026466,
             1215444,
             38846160,
             536080,
             42183094,
             2922516,
             15245354,
             765026,
             157451134,
             8119644,
             15940546,
             50853140,
             14802746,
             4135476,
             10447034,
             39316350,
             292688152,
             36719724,
             4932332,
             115778606,
             51869976,
             673666,
             2698952,
             6295718,
             174814242,
             4644256,
             3247790,
             7154110
            ],
            "coloraxis": "coloraxis",
            "size": [
             3884080,
             1227868,
             26533246,
             15392328,
             582322,
             4371630,
             35584558,
             1077982,
             207061272,
             17666344,
             82602060,
             15285222,
             3234172,
             20831514,
             11604846,
             1144254,
             37324376,
             31435974,
             20362552,
             1270604,
             10005400,
             659768,
             2053212,
             168133944,
             3901834,
             27187384,
             3369646,
             78026466,
             1215444,
             38846160,
             536080,
             42183094,
             2922516,
             15245354,
             765026,
             157451134,
             8119644,
             15940546,
             50853140,
             14802746,
             4135476,
             10447034,
             39316350,
             292688152,
             36719724,
             4932332,
             115778606,
             51869976,
             673666,
             2698952,
             6295718,
             174814242,
             4644256,
             3247790,
             7154110
            ],
            "sizemode": "area",
            "sizeref": 759364.75,
            "symbol": "circle"
           },
           "mode": "markers",
           "name": "",
           "showlegend": false,
           "type": "scattergeo"
          }
         ],
         "name": "2019"
        },
        {
         "data": [
          {
           "geo": "geo",
           "hovertemplate": "<b>%{hovertext}</b><br><br>Depyear=2020<br>Barrels=%{marker.color}<br>ISO ALPHA-3 code=%{location}<extra></extra>",
           "hovertext": [
            "Aruba",
            "Australia",
            "Bahamas",
            "Belgium",
            "Bonaire, Sint Eustatius and Saba",
            "Brazil",
            "Canada",
            "Chile",
            "China",
            "Colombia",
            "Croatia",
            "Curacao",
            "Cyprus",
            "Denmark",
            "Dominican Republic",
            "Egypt",
            "Finland",
            "France (Northern)",
            "France (Southern)",
            "Germany",
            "Greece",
            "Honduras",
            "Hong Kong",
            "India",
            "Indonesia",
            "Ireland",
            "Israel",
            "Italy",
            "Jamaica",
            "Japan",
            "Lebanon",
            "Lithuania",
            "Malaysia",
            "Mexico",
            "Netherlands",
            "New Zealand",
            "Nicaragua",
            "Norway",
            "Panama",
            "Peru",
            "Portugal",
            "Saint Lucia",
            "Singapore",
            "South Africa",
            "South Korea",
            "Spain",
            "Sweden",
            "Taiwan",
            "Thailand",
            "Togo",
            "Ukraine",
            "United Kingdom",
            "Uruguay",
            "Vietnam"
           ],
           "legendgroup": "",
           "locations": [
            "ABW",
            "AUS",
            "BHS",
            "BEL",
            "BES",
            "BRA",
            "CAN",
            "CHL",
            "CHN",
            "COL",
            "HRV",
            "CUW",
            "CYP",
            "DNK",
            "DOM",
            "EGY",
            "FIN",
            "FRA",
            "FRA",
            "DEU",
            "GRC",
            "HND",
            "HKG",
            "IND",
            "IDN",
            "IRL",
            "ISR",
            "ITA",
            "JAM",
            "JPN",
            "LBN",
            "LTU",
            "MYS",
            "MEX",
            "NLD",
            "NZL",
            "NIC",
            "NOR",
            "PAN",
            "PER",
            "PRT",
            "LCA",
            "SGP",
            "ZAF",
            "KOR",
            "ESP",
            "SWE",
            "TWN",
            "THA",
            "TGO",
            "UKR",
            "GBR",
            "URY",
            "VNM"
           ],
           "marker": {
            "color": [
             1991154,
             17582202,
             17194330,
             223622,
             8217326,
             26218588,
             167250828,
             13870638,
             303745900,
             11649378,
             1663712,
             723654,
             420410,
             19738556,
             6057916,
             1473836,
             1225326,
             36591624,
             30718240,
             73932952,
             5761376,
             2079514,
             1232884,
             200665412,
             14137126,
             30416214,
             4248062,
             102299328,
             970888,
             23257910,
             970596,
             5169944,
             53167398,
             6238626,
             165896368,
             1072160,
             4869924,
             6624672,
             38518202,
             12909134,
             11686394,
             4484750,
             43497720,
             5327458,
             185539228,
             41359730,
             28408106,
             90291704,
             45344010,
             1991156,
             4044422,
             172348612,
             5741926,
             7226394
            ],
            "coloraxis": "coloraxis",
            "size": [
             1991154,
             17582202,
             17194330,
             223622,
             8217326,
             26218588,
             167250828,
             13870638,
             303745900,
             11649378,
             1663712,
             723654,
             420410,
             19738556,
             6057916,
             1473836,
             1225326,
             36591624,
             30718240,
             73932952,
             5761376,
             2079514,
             1232884,
             200665412,
             14137126,
             30416214,
             4248062,
             102299328,
             970888,
             23257910,
             970596,
             5169944,
             53167398,
             6238626,
             165896368,
             1072160,
             4869924,
             6624672,
             38518202,
             12909134,
             11686394,
             4484750,
             43497720,
             5327458,
             185539228,
             41359730,
             28408106,
             90291704,
             45344010,
             1991156,
             4044422,
             172348612,
             5741926,
             7226394
            ],
            "sizemode": "area",
            "sizeref": 759364.75,
            "symbol": "circle"
           },
           "mode": "markers",
           "name": "",
           "showlegend": false,
           "type": "scattergeo"
          }
         ],
         "name": "2020"
        },
        {
         "data": [
          {
           "geo": "geo",
           "hovertemplate": "<b>%{hovertext}</b><br><br>Depyear=2021<br>Barrels=%{marker.color}<br>ISO ALPHA-3 code=%{location}<extra></extra>",
           "hovertext": [
            "Australia",
            "Bahamas",
            "Bangladesh",
            "Bonaire, Sint Eustatius and Saba",
            "Brazil",
            "Canada",
            "Chile",
            "China",
            "Colombia",
            "Denmark",
            "Dominican Republic",
            "France (Northern)",
            "France (Southern)",
            "Germany",
            "India",
            "Indonesia",
            "Ireland",
            "Italy",
            "Japan",
            "Lithuania",
            "Malaysia",
            "Martinique",
            "Mexico",
            "Netherlands",
            "Nicaragua",
            "Norway",
            "Panama",
            "Peru",
            "Portugal",
            "Singapore",
            "South Africa",
            "South Korea",
            "Spain",
            "Sweden",
            "Taiwan",
            "Thailand",
            "Trinidad and Tobago",
            "United Arab Emirates",
            "United Kingdom",
            "Vietnam"
           ],
           "legendgroup": "",
           "locations": [
            "AUS",
            "BHS",
            "BGD",
            "BES",
            "BRA",
            "CAN",
            "CHL",
            "CHN",
            "COL",
            "DNK",
            "DOM",
            "FRA",
            "FRA",
            "DEU",
            "IND",
            "IDN",
            "IRL",
            "ITA",
            "JPN",
            "LTU",
            "MYS",
            "MTQ",
            "MEX",
            "NLD",
            "NIC",
            "NOR",
            "PAN",
            "PER",
            "PRT",
            "SGP",
            "ZAF",
            "KOR",
            "ESP",
            "SWE",
            "TWN",
            "THA",
            "TTO",
            "ARE",
            "GBR",
            "VNM"
           ],
           "marker": {
            "color": [
             7908358,
             1802860,
             522816,
             927460,
             11673736,
             54242354,
             7052502,
             70377870,
             6498922,
             5597788,
             7182144,
             13739648,
             8650886,
             25663230,
             118052450,
             613504,
             6302326,
             33519326,
             7025956,
             2945110,
             3953768,
             1120000,
             4562304,
             71974050,
             3062532,
             12446878,
             9513460,
             5390324,
             5061422,
             22719604,
             1596000,
             103974184,
             18056714,
             4094128,
             45576976,
             13068394,
             535408,
             3605322,
             69654358,
             2126542
            ],
            "coloraxis": "coloraxis",
            "size": [
             7908358,
             1802860,
             522816,
             927460,
             11673736,
             54242354,
             7052502,
             70377870,
             6498922,
             5597788,
             7182144,
             13739648,
             8650886,
             25663230,
             118052450,
             613504,
             6302326,
             33519326,
             7025956,
             2945110,
             3953768,
             1120000,
             4562304,
             71974050,
             3062532,
             12446878,
             9513460,
             5390324,
             5061422,
             22719604,
             1596000,
             103974184,
             18056714,
             4094128,
             45576976,
             13068394,
             535408,
             3605322,
             69654358,
             2126542
            ],
            "sizemode": "area",
            "sizeref": 759364.75,
            "symbol": "circle"
           },
           "mode": "markers",
           "name": "",
           "showlegend": false,
           "type": "scattergeo"
          }
         ],
         "name": "2021"
        }
       ],
       "layout": {
        "autosize": true,
        "coloraxis": {
         "colorbar": {
          "title": {
           "text": "Barrels"
          }
         },
         "colorscale": [
          [
           0,
           "rgb(237, 229, 207)"
          ],
          [
           0.16666666666666666,
           "rgb(224, 194, 162)"
          ],
          [
           0.3333333333333333,
           "rgb(211, 156, 131)"
          ],
          [
           0.5,
           "rgb(193, 118, 111)"
          ],
          [
           0.6666666666666666,
           "rgb(166, 84, 97)"
          ],
          [
           0.8333333333333334,
           "rgb(129, 55, 83)"
          ],
          [
           1,
           "rgb(84, 31, 63)"
          ]
         ]
        },
        "geo": {
         "center": {},
         "domain": {
          "x": [
           0,
           1
          ],
          "y": [
           0,
           1
          ]
         }
        },
        "legend": {
         "itemsizing": "constant",
         "tracegroupgap": 0
        },
        "margin": {
         "t": 60
        },
        "sliders": [
         {
          "active": 0,
          "currentvalue": {
           "prefix": "Depyear="
          },
          "len": 0.9,
          "pad": {
           "b": 10,
           "t": 60
          },
          "steps": [
           {
            "args": [
             [
              "2014"
             ],
             {
              "frame": {
               "duration": 0,
               "redraw": true
              },
              "fromcurrent": true,
              "mode": "immediate",
              "transition": {
               "duration": 0,
               "easing": "linear"
              }
             }
            ],
            "label": "2014",
            "method": "animate"
           },
           {
            "args": [
             [
              "2015"
             ],
             {
              "frame": {
               "duration": 0,
               "redraw": true
              },
              "fromcurrent": true,
              "mode": "immediate",
              "transition": {
               "duration": 0,
               "easing": "linear"
              }
             }
            ],
            "label": "2015",
            "method": "animate"
           },
           {
            "args": [
             [
              "2016"
             ],
             {
              "frame": {
               "duration": 0,
               "redraw": true
              },
              "fromcurrent": true,
              "mode": "immediate",
              "transition": {
               "duration": 0,
               "easing": "linear"
              }
             }
            ],
            "label": "2016",
            "method": "animate"
           },
           {
            "args": [
             [
              "2017"
             ],
             {
              "frame": {
               "duration": 0,
               "redraw": true
              },
              "fromcurrent": true,
              "mode": "immediate",
              "transition": {
               "duration": 0,
               "easing": "linear"
              }
             }
            ],
            "label": "2017",
            "method": "animate"
           },
           {
            "args": [
             [
              "2018"
             ],
             {
              "frame": {
               "duration": 0,
               "redraw": true
              },
              "fromcurrent": true,
              "mode": "immediate",
              "transition": {
               "duration": 0,
               "easing": "linear"
              }
             }
            ],
            "label": "2018",
            "method": "animate"
           },
           {
            "args": [
             [
              "2019"
             ],
             {
              "frame": {
               "duration": 0,
               "redraw": true
              },
              "fromcurrent": true,
              "mode": "immediate",
              "transition": {
               "duration": 0,
               "easing": "linear"
              }
             }
            ],
            "label": "2019",
            "method": "animate"
           },
           {
            "args": [
             [
              "2020"
             ],
             {
              "frame": {
               "duration": 0,
               "redraw": true
              },
              "fromcurrent": true,
              "mode": "immediate",
              "transition": {
               "duration": 0,
               "easing": "linear"
              }
             }
            ],
            "label": "2020",
            "method": "animate"
           },
           {
            "args": [
             [
              "2021"
             ],
             {
              "frame": {
               "duration": 0,
               "redraw": true
              },
              "fromcurrent": true,
              "mode": "immediate",
              "transition": {
               "duration": 0,
               "easing": "linear"
              }
             }
            ],
            "label": "2021",
            "method": "animate"
           }
          ],
          "x": 0.1,
          "xanchor": "left",
          "y": 0,
          "yanchor": "top"
         }
        ],
        "template": {
         "data": {
          "bar": [
           {
            "error_x": {
             "color": "#2a3f5f"
            },
            "error_y": {
             "color": "#2a3f5f"
            },
            "marker": {
             "line": {
              "color": "#E5ECF6",
              "width": 0.5
             },
             "pattern": {
              "fillmode": "overlay",
              "size": 10,
              "solidity": 0.2
             }
            },
            "type": "bar"
           }
          ],
          "barpolar": [
           {
            "marker": {
             "line": {
              "color": "#E5ECF6",
              "width": 0.5
             },
             "pattern": {
              "fillmode": "overlay",
              "size": 10,
              "solidity": 0.2
             }
            },
            "type": "barpolar"
           }
          ],
          "carpet": [
           {
            "aaxis": {
             "endlinecolor": "#2a3f5f",
             "gridcolor": "white",
             "linecolor": "white",
             "minorgridcolor": "white",
             "startlinecolor": "#2a3f5f"
            },
            "baxis": {
             "endlinecolor": "#2a3f5f",
             "gridcolor": "white",
             "linecolor": "white",
             "minorgridcolor": "white",
             "startlinecolor": "#2a3f5f"
            },
            "type": "carpet"
           }
          ],
          "choropleth": [
           {
            "colorbar": {
             "outlinewidth": 0,
             "ticks": ""
            },
            "type": "choropleth"
           }
          ],
          "contour": [
           {
            "colorbar": {
             "outlinewidth": 0,
             "ticks": ""
            },
            "colorscale": [
             [
              0,
              "#0d0887"
             ],
             [
              0.1111111111111111,
              "#46039f"
             ],
             [
              0.2222222222222222,
              "#7201a8"
             ],
             [
              0.3333333333333333,
              "#9c179e"
             ],
             [
              0.4444444444444444,
              "#bd3786"
             ],
             [
              0.5555555555555556,
              "#d8576b"
             ],
             [
              0.6666666666666666,
              "#ed7953"
             ],
             [
              0.7777777777777778,
              "#fb9f3a"
             ],
             [
              0.8888888888888888,
              "#fdca26"
             ],
             [
              1,
              "#f0f921"
             ]
            ],
            "type": "contour"
           }
          ],
          "contourcarpet": [
           {
            "colorbar": {
             "outlinewidth": 0,
             "ticks": ""
            },
            "type": "contourcarpet"
           }
          ],
          "heatmap": [
           {
            "colorbar": {
             "outlinewidth": 0,
             "ticks": ""
            },
            "colorscale": [
             [
              0,
              "#0d0887"
             ],
             [
              0.1111111111111111,
              "#46039f"
             ],
             [
              0.2222222222222222,
              "#7201a8"
             ],
             [
              0.3333333333333333,
              "#9c179e"
             ],
             [
              0.4444444444444444,
              "#bd3786"
             ],
             [
              0.5555555555555556,
              "#d8576b"
             ],
             [
              0.6666666666666666,
              "#ed7953"
             ],
             [
              0.7777777777777778,
              "#fb9f3a"
             ],
             [
              0.8888888888888888,
              "#fdca26"
             ],
             [
              1,
              "#f0f921"
             ]
            ],
            "type": "heatmap"
           }
          ],
          "heatmapgl": [
           {
            "colorbar": {
             "outlinewidth": 0,
             "ticks": ""
            },
            "colorscale": [
             [
              0,
              "#0d0887"
             ],
             [
              0.1111111111111111,
              "#46039f"
             ],
             [
              0.2222222222222222,
              "#7201a8"
             ],
             [
              0.3333333333333333,
              "#9c179e"
             ],
             [
              0.4444444444444444,
              "#bd3786"
             ],
             [
              0.5555555555555556,
              "#d8576b"
             ],
             [
              0.6666666666666666,
              "#ed7953"
             ],
             [
              0.7777777777777778,
              "#fb9f3a"
             ],
             [
              0.8888888888888888,
              "#fdca26"
             ],
             [
              1,
              "#f0f921"
             ]
            ],
            "type": "heatmapgl"
           }
          ],
          "histogram": [
           {
            "marker": {
             "pattern": {
              "fillmode": "overlay",
              "size": 10,
              "solidity": 0.2
             }
            },
            "type": "histogram"
           }
          ],
          "histogram2d": [
           {
            "colorbar": {
             "outlinewidth": 0,
             "ticks": ""
            },
            "colorscale": [
             [
              0,
              "#0d0887"
             ],
             [
              0.1111111111111111,
              "#46039f"
             ],
             [
              0.2222222222222222,
              "#7201a8"
             ],
             [
              0.3333333333333333,
              "#9c179e"
             ],
             [
              0.4444444444444444,
              "#bd3786"
             ],
             [
              0.5555555555555556,
              "#d8576b"
             ],
             [
              0.6666666666666666,
              "#ed7953"
             ],
             [
              0.7777777777777778,
              "#fb9f3a"
             ],
             [
              0.8888888888888888,
              "#fdca26"
             ],
             [
              1,
              "#f0f921"
             ]
            ],
            "type": "histogram2d"
           }
          ],
          "histogram2dcontour": [
           {
            "colorbar": {
             "outlinewidth": 0,
             "ticks": ""
            },
            "colorscale": [
             [
              0,
              "#0d0887"
             ],
             [
              0.1111111111111111,
              "#46039f"
             ],
             [
              0.2222222222222222,
              "#7201a8"
             ],
             [
              0.3333333333333333,
              "#9c179e"
             ],
             [
              0.4444444444444444,
              "#bd3786"
             ],
             [
              0.5555555555555556,
              "#d8576b"
             ],
             [
              0.6666666666666666,
              "#ed7953"
             ],
             [
              0.7777777777777778,
              "#fb9f3a"
             ],
             [
              0.8888888888888888,
              "#fdca26"
             ],
             [
              1,
              "#f0f921"
             ]
            ],
            "type": "histogram2dcontour"
           }
          ],
          "mesh3d": [
           {
            "colorbar": {
             "outlinewidth": 0,
             "ticks": ""
            },
            "type": "mesh3d"
           }
          ],
          "parcoords": [
           {
            "line": {
             "colorbar": {
              "outlinewidth": 0,
              "ticks": ""
             }
            },
            "type": "parcoords"
           }
          ],
          "pie": [
           {
            "automargin": true,
            "type": "pie"
           }
          ],
          "scatter": [
           {
            "fillpattern": {
             "fillmode": "overlay",
             "size": 10,
             "solidity": 0.2
            },
            "type": "scatter"
           }
          ],
          "scatter3d": [
           {
            "line": {
             "colorbar": {
              "outlinewidth": 0,
              "ticks": ""
             }
            },
            "marker": {
             "colorbar": {
              "outlinewidth": 0,
              "ticks": ""
             }
            },
            "type": "scatter3d"
           }
          ],
          "scattercarpet": [
           {
            "marker": {
             "colorbar": {
              "outlinewidth": 0,
              "ticks": ""
             }
            },
            "type": "scattercarpet"
           }
          ],
          "scattergeo": [
           {
            "marker": {
             "colorbar": {
              "outlinewidth": 0,
              "ticks": ""
             }
            },
            "type": "scattergeo"
           }
          ],
          "scattergl": [
           {
            "marker": {
             "colorbar": {
              "outlinewidth": 0,
              "ticks": ""
             }
            },
            "type": "scattergl"
           }
          ],
          "scattermapbox": [
           {
            "marker": {
             "colorbar": {
              "outlinewidth": 0,
              "ticks": ""
             }
            },
            "type": "scattermapbox"
           }
          ],
          "scatterpolar": [
           {
            "marker": {
             "colorbar": {
              "outlinewidth": 0,
              "ticks": ""
             }
            },
            "type": "scatterpolar"
           }
          ],
          "scatterpolargl": [
           {
            "marker": {
             "colorbar": {
              "outlinewidth": 0,
              "ticks": ""
             }
            },
            "type": "scatterpolargl"
           }
          ],
          "scatterternary": [
           {
            "marker": {
             "colorbar": {
              "outlinewidth": 0,
              "ticks": ""
             }
            },
            "type": "scatterternary"
           }
          ],
          "surface": [
           {
            "colorbar": {
             "outlinewidth": 0,
             "ticks": ""
            },
            "colorscale": [
             [
              0,
              "#0d0887"
             ],
             [
              0.1111111111111111,
              "#46039f"
             ],
             [
              0.2222222222222222,
              "#7201a8"
             ],
             [
              0.3333333333333333,
              "#9c179e"
             ],
             [
              0.4444444444444444,
              "#bd3786"
             ],
             [
              0.5555555555555556,
              "#d8576b"
             ],
             [
              0.6666666666666666,
              "#ed7953"
             ],
             [
              0.7777777777777778,
              "#fb9f3a"
             ],
             [
              0.8888888888888888,
              "#fdca26"
             ],
             [
              1,
              "#f0f921"
             ]
            ],
            "type": "surface"
           }
          ],
          "table": [
           {
            "cells": {
             "fill": {
              "color": "#EBF0F8"
             },
             "line": {
              "color": "white"
             }
            },
            "header": {
             "fill": {
              "color": "#C8D4E3"
             },
             "line": {
              "color": "white"
             }
            },
            "type": "table"
           }
          ]
         },
         "layout": {
          "annotationdefaults": {
           "arrowcolor": "#2a3f5f",
           "arrowhead": 0,
           "arrowwidth": 1
          },
          "autotypenumbers": "strict",
          "coloraxis": {
           "colorbar": {
            "outlinewidth": 0,
            "ticks": ""
           }
          },
          "colorscale": {
           "diverging": [
            [
             0,
             "#8e0152"
            ],
            [
             0.1,
             "#c51b7d"
            ],
            [
             0.2,
             "#de77ae"
            ],
            [
             0.3,
             "#f1b6da"
            ],
            [
             0.4,
             "#fde0ef"
            ],
            [
             0.5,
             "#f7f7f7"
            ],
            [
             0.6,
             "#e6f5d0"
            ],
            [
             0.7,
             "#b8e186"
            ],
            [
             0.8,
             "#7fbc41"
            ],
            [
             0.9,
             "#4d9221"
            ],
            [
             1,
             "#276419"
            ]
           ],
           "sequential": [
            [
             0,
             "#0d0887"
            ],
            [
             0.1111111111111111,
             "#46039f"
            ],
            [
             0.2222222222222222,
             "#7201a8"
            ],
            [
             0.3333333333333333,
             "#9c179e"
            ],
            [
             0.4444444444444444,
             "#bd3786"
            ],
            [
             0.5555555555555556,
             "#d8576b"
            ],
            [
             0.6666666666666666,
             "#ed7953"
            ],
            [
             0.7777777777777778,
             "#fb9f3a"
            ],
            [
             0.8888888888888888,
             "#fdca26"
            ],
            [
             1,
             "#f0f921"
            ]
           ],
           "sequentialminus": [
            [
             0,
             "#0d0887"
            ],
            [
             0.1111111111111111,
             "#46039f"
            ],
            [
             0.2222222222222222,
             "#7201a8"
            ],
            [
             0.3333333333333333,
             "#9c179e"
            ],
            [
             0.4444444444444444,
             "#bd3786"
            ],
            [
             0.5555555555555556,
             "#d8576b"
            ],
            [
             0.6666666666666666,
             "#ed7953"
            ],
            [
             0.7777777777777778,
             "#fb9f3a"
            ],
            [
             0.8888888888888888,
             "#fdca26"
            ],
            [
             1,
             "#f0f921"
            ]
           ]
          },
          "colorway": [
           "#636efa",
           "#EF553B",
           "#00cc96",
           "#ab63fa",
           "#FFA15A",
           "#19d3f3",
           "#FF6692",
           "#B6E880",
           "#FF97FF",
           "#FECB52"
          ],
          "font": {
           "color": "#2a3f5f"
          },
          "geo": {
           "bgcolor": "white",
           "lakecolor": "white",
           "landcolor": "#E5ECF6",
           "showlakes": true,
           "showland": true,
           "subunitcolor": "white"
          },
          "hoverlabel": {
           "align": "left"
          },
          "hovermode": "closest",
          "mapbox": {
           "style": "light"
          },
          "paper_bgcolor": "white",
          "plot_bgcolor": "#E5ECF6",
          "polar": {
           "angularaxis": {
            "gridcolor": "white",
            "linecolor": "white",
            "ticks": ""
           },
           "bgcolor": "#E5ECF6",
           "radialaxis": {
            "gridcolor": "white",
            "linecolor": "white",
            "ticks": ""
           }
          },
          "scene": {
           "xaxis": {
            "backgroundcolor": "#E5ECF6",
            "gridcolor": "white",
            "gridwidth": 2,
            "linecolor": "white",
            "showbackground": true,
            "ticks": "",
            "zerolinecolor": "white"
           },
           "yaxis": {
            "backgroundcolor": "#E5ECF6",
            "gridcolor": "white",
            "gridwidth": 2,
            "linecolor": "white",
            "showbackground": true,
            "ticks": "",
            "zerolinecolor": "white"
           },
           "zaxis": {
            "backgroundcolor": "#E5ECF6",
            "gridcolor": "white",
            "gridwidth": 2,
            "linecolor": "white",
            "showbackground": true,
            "ticks": "",
            "zerolinecolor": "white"
           }
          },
          "shapedefaults": {
           "line": {
            "color": "#2a3f5f"
           }
          },
          "ternary": {
           "aaxis": {
            "gridcolor": "white",
            "linecolor": "white",
            "ticks": ""
           },
           "baxis": {
            "gridcolor": "white",
            "linecolor": "white",
            "ticks": ""
           },
           "bgcolor": "#E5ECF6",
           "caxis": {
            "gridcolor": "white",
            "linecolor": "white",
            "ticks": ""
           }
          },
          "title": {
           "x": 0.05
          },
          "xaxis": {
           "automargin": true,
           "gridcolor": "white",
           "linecolor": "white",
           "ticks": "",
           "title": {
            "standoff": 15
           },
           "zerolinecolor": "white",
           "zerolinewidth": 2
          },
          "yaxis": {
           "automargin": true,
           "gridcolor": "white",
           "linecolor": "white",
           "ticks": "",
           "title": {
            "standoff": 15
           },
           "zerolinecolor": "white",
           "zerolinewidth": 2
          }
         }
        },
        "updatemenus": [
         {
          "buttons": [
           {
            "args": [
             null,
             {
              "frame": {
               "duration": 2000,
               "redraw": true
              },
              "fromcurrent": true,
              "mode": "immediate",
              "transition": {
               "duration": 500,
               "easing": "linear"
              }
             }
            ],
            "label": "&#9654;",
            "method": "animate"
           },
           {
            "args": [
             [
              null
             ],
             {
              "frame": {
               "duration": 0,
               "redraw": true
              },
              "fromcurrent": true,
              "mode": "immediate",
              "transition": {
               "duration": 0,
               "easing": "linear"
              }
             }
            ],
            "label": "&#9724;",
            "method": "animate"
           }
          ],
          "direction": "left",
          "pad": {
           "r": 10,
           "t": 70
          },
          "showactive": false,
          "type": "buttons",
          "x": 0.1,
          "xanchor": "right",
          "y": 0,
          "yanchor": "top"
         }
        ]
       }
      },
      "text/html": [
       "<div>                            <div id=\"9bc1d65a-2f75-46d3-881c-9f86b65a813a\" class=\"plotly-graph-div\" style=\"height:525px; width:100%;\"></div>            <script type=\"text/javascript\">                require([\"plotly\"], function(Plotly) {                    window.PLOTLYENV=window.PLOTLYENV || {};                                    if (document.getElementById(\"9bc1d65a-2f75-46d3-881c-9f86b65a813a\")) {                    Plotly.newPlot(                        \"9bc1d65a-2f75-46d3-881c-9f86b65a813a\",                        [{\"geo\":\"geo\",\"hovertemplate\":\"\\u003cb\\u003e%{hovertext}\\u003c\\u002fb\\u003e\\u003cbr\\u003e\\u003cbr\\u003eDepyear=2014\\u003cbr\\u003eBarrels=%{marker.color}\\u003cbr\\u003eISO ALPHA-3 code=%{location}\\u003cextra\\u003e\\u003c\\u002fextra\\u003e\",\"hovertext\":[\"Canada\"],\"legendgroup\":\"\",\"locations\":[\"CAN\"],\"marker\":{\"color\":[173912],\"coloraxis\":\"coloraxis\",\"size\":[173912],\"sizemode\":\"area\",\"sizeref\":759364.75,\"symbol\":\"circle\"},\"mode\":\"markers\",\"name\":\"\",\"showlegend\":false,\"type\":\"scattergeo\"}],                        {\"template\":{\"data\":{\"histogram2dcontour\":[{\"type\":\"histogram2dcontour\",\"colorbar\":{\"outlinewidth\":0,\"ticks\":\"\"},\"colorscale\":[[0.0,\"#0d0887\"],[0.1111111111111111,\"#46039f\"],[0.2222222222222222,\"#7201a8\"],[0.3333333333333333,\"#9c179e\"],[0.4444444444444444,\"#bd3786\"],[0.5555555555555556,\"#d8576b\"],[0.6666666666666666,\"#ed7953\"],[0.7777777777777778,\"#fb9f3a\"],[0.8888888888888888,\"#fdca26\"],[1.0,\"#f0f921\"]]}],\"choropleth\":[{\"type\":\"choropleth\",\"colorbar\":{\"outlinewidth\":0,\"ticks\":\"\"}}],\"histogram2d\":[{\"type\":\"histogram2d\",\"colorbar\":{\"outlinewidth\":0,\"ticks\":\"\"},\"colorscale\":[[0.0,\"#0d0887\"],[0.1111111111111111,\"#46039f\"],[0.2222222222222222,\"#7201a8\"],[0.3333333333333333,\"#9c179e\"],[0.4444444444444444,\"#bd3786\"],[0.5555555555555556,\"#d8576b\"],[0.6666666666666666,\"#ed7953\"],[0.7777777777777778,\"#fb9f3a\"],[0.8888888888888888,\"#fdca26\"],[1.0,\"#f0f921\"]]}],\"heatmap\":[{\"type\":\"heatmap\",\"colorbar\":{\"outlinewidth\":0,\"ticks\":\"\"},\"colorscale\":[[0.0,\"#0d0887\"],[0.1111111111111111,\"#46039f\"],[0.2222222222222222,\"#7201a8\"],[0.3333333333333333,\"#9c179e\"],[0.4444444444444444,\"#bd3786\"],[0.5555555555555556,\"#d8576b\"],[0.6666666666666666,\"#ed7953\"],[0.7777777777777778,\"#fb9f3a\"],[0.8888888888888888,\"#fdca26\"],[1.0,\"#f0f921\"]]}],\"heatmapgl\":[{\"type\":\"heatmapgl\",\"colorbar\":{\"outlinewidth\":0,\"ticks\":\"\"},\"colorscale\":[[0.0,\"#0d0887\"],[0.1111111111111111,\"#46039f\"],[0.2222222222222222,\"#7201a8\"],[0.3333333333333333,\"#9c179e\"],[0.4444444444444444,\"#bd3786\"],[0.5555555555555556,\"#d8576b\"],[0.6666666666666666,\"#ed7953\"],[0.7777777777777778,\"#fb9f3a\"],[0.8888888888888888,\"#fdca26\"],[1.0,\"#f0f921\"]]}],\"contourcarpet\":[{\"type\":\"contourcarpet\",\"colorbar\":{\"outlinewidth\":0,\"ticks\":\"\"}}],\"contour\":[{\"type\":\"contour\",\"colorbar\":{\"outlinewidth\":0,\"ticks\":\"\"},\"colorscale\":[[0.0,\"#0d0887\"],[0.1111111111111111,\"#46039f\"],[0.2222222222222222,\"#7201a8\"],[0.3333333333333333,\"#9c179e\"],[0.4444444444444444,\"#bd3786\"],[0.5555555555555556,\"#d8576b\"],[0.6666666666666666,\"#ed7953\"],[0.7777777777777778,\"#fb9f3a\"],[0.8888888888888888,\"#fdca26\"],[1.0,\"#f0f921\"]]}],\"surface\":[{\"type\":\"surface\",\"colorbar\":{\"outlinewidth\":0,\"ticks\":\"\"},\"colorscale\":[[0.0,\"#0d0887\"],[0.1111111111111111,\"#46039f\"],[0.2222222222222222,\"#7201a8\"],[0.3333333333333333,\"#9c179e\"],[0.4444444444444444,\"#bd3786\"],[0.5555555555555556,\"#d8576b\"],[0.6666666666666666,\"#ed7953\"],[0.7777777777777778,\"#fb9f3a\"],[0.8888888888888888,\"#fdca26\"],[1.0,\"#f0f921\"]]}],\"mesh3d\":[{\"type\":\"mesh3d\",\"colorbar\":{\"outlinewidth\":0,\"ticks\":\"\"}}],\"scatter\":[{\"fillpattern\":{\"fillmode\":\"overlay\",\"size\":10,\"solidity\":0.2},\"type\":\"scatter\"}],\"parcoords\":[{\"type\":\"parcoords\",\"line\":{\"colorbar\":{\"outlinewidth\":0,\"ticks\":\"\"}}}],\"scatterpolargl\":[{\"type\":\"scatterpolargl\",\"marker\":{\"colorbar\":{\"outlinewidth\":0,\"ticks\":\"\"}}}],\"bar\":[{\"error_x\":{\"color\":\"#2a3f5f\"},\"error_y\":{\"color\":\"#2a3f5f\"},\"marker\":{\"line\":{\"color\":\"#E5ECF6\",\"width\":0.5},\"pattern\":{\"fillmode\":\"overlay\",\"size\":10,\"solidity\":0.2}},\"type\":\"bar\"}],\"scattergeo\":[{\"type\":\"scattergeo\",\"marker\":{\"colorbar\":{\"outlinewidth\":0,\"ticks\":\"\"}}}],\"scatterpolar\":[{\"type\":\"scatterpolar\",\"marker\":{\"colorbar\":{\"outlinewidth\":0,\"ticks\":\"\"}}}],\"histogram\":[{\"marker\":{\"pattern\":{\"fillmode\":\"overlay\",\"size\":10,\"solidity\":0.2}},\"type\":\"histogram\"}],\"scattergl\":[{\"type\":\"scattergl\",\"marker\":{\"colorbar\":{\"outlinewidth\":0,\"ticks\":\"\"}}}],\"scatter3d\":[{\"type\":\"scatter3d\",\"line\":{\"colorbar\":{\"outlinewidth\":0,\"ticks\":\"\"}},\"marker\":{\"colorbar\":{\"outlinewidth\":0,\"ticks\":\"\"}}}],\"scattermapbox\":[{\"type\":\"scattermapbox\",\"marker\":{\"colorbar\":{\"outlinewidth\":0,\"ticks\":\"\"}}}],\"scatterternary\":[{\"type\":\"scatterternary\",\"marker\":{\"colorbar\":{\"outlinewidth\":0,\"ticks\":\"\"}}}],\"scattercarpet\":[{\"type\":\"scattercarpet\",\"marker\":{\"colorbar\":{\"outlinewidth\":0,\"ticks\":\"\"}}}],\"carpet\":[{\"aaxis\":{\"endlinecolor\":\"#2a3f5f\",\"gridcolor\":\"white\",\"linecolor\":\"white\",\"minorgridcolor\":\"white\",\"startlinecolor\":\"#2a3f5f\"},\"baxis\":{\"endlinecolor\":\"#2a3f5f\",\"gridcolor\":\"white\",\"linecolor\":\"white\",\"minorgridcolor\":\"white\",\"startlinecolor\":\"#2a3f5f\"},\"type\":\"carpet\"}],\"table\":[{\"cells\":{\"fill\":{\"color\":\"#EBF0F8\"},\"line\":{\"color\":\"white\"}},\"header\":{\"fill\":{\"color\":\"#C8D4E3\"},\"line\":{\"color\":\"white\"}},\"type\":\"table\"}],\"barpolar\":[{\"marker\":{\"line\":{\"color\":\"#E5ECF6\",\"width\":0.5},\"pattern\":{\"fillmode\":\"overlay\",\"size\":10,\"solidity\":0.2}},\"type\":\"barpolar\"}],\"pie\":[{\"automargin\":true,\"type\":\"pie\"}]},\"layout\":{\"autotypenumbers\":\"strict\",\"colorway\":[\"#636efa\",\"#EF553B\",\"#00cc96\",\"#ab63fa\",\"#FFA15A\",\"#19d3f3\",\"#FF6692\",\"#B6E880\",\"#FF97FF\",\"#FECB52\"],\"font\":{\"color\":\"#2a3f5f\"},\"hovermode\":\"closest\",\"hoverlabel\":{\"align\":\"left\"},\"paper_bgcolor\":\"white\",\"plot_bgcolor\":\"#E5ECF6\",\"polar\":{\"bgcolor\":\"#E5ECF6\",\"angularaxis\":{\"gridcolor\":\"white\",\"linecolor\":\"white\",\"ticks\":\"\"},\"radialaxis\":{\"gridcolor\":\"white\",\"linecolor\":\"white\",\"ticks\":\"\"}},\"ternary\":{\"bgcolor\":\"#E5ECF6\",\"aaxis\":{\"gridcolor\":\"white\",\"linecolor\":\"white\",\"ticks\":\"\"},\"baxis\":{\"gridcolor\":\"white\",\"linecolor\":\"white\",\"ticks\":\"\"},\"caxis\":{\"gridcolor\":\"white\",\"linecolor\":\"white\",\"ticks\":\"\"}},\"coloraxis\":{\"colorbar\":{\"outlinewidth\":0,\"ticks\":\"\"}},\"colorscale\":{\"sequential\":[[0.0,\"#0d0887\"],[0.1111111111111111,\"#46039f\"],[0.2222222222222222,\"#7201a8\"],[0.3333333333333333,\"#9c179e\"],[0.4444444444444444,\"#bd3786\"],[0.5555555555555556,\"#d8576b\"],[0.6666666666666666,\"#ed7953\"],[0.7777777777777778,\"#fb9f3a\"],[0.8888888888888888,\"#fdca26\"],[1.0,\"#f0f921\"]],\"sequentialminus\":[[0.0,\"#0d0887\"],[0.1111111111111111,\"#46039f\"],[0.2222222222222222,\"#7201a8\"],[0.3333333333333333,\"#9c179e\"],[0.4444444444444444,\"#bd3786\"],[0.5555555555555556,\"#d8576b\"],[0.6666666666666666,\"#ed7953\"],[0.7777777777777778,\"#fb9f3a\"],[0.8888888888888888,\"#fdca26\"],[1.0,\"#f0f921\"]],\"diverging\":[[0,\"#8e0152\"],[0.1,\"#c51b7d\"],[0.2,\"#de77ae\"],[0.3,\"#f1b6da\"],[0.4,\"#fde0ef\"],[0.5,\"#f7f7f7\"],[0.6,\"#e6f5d0\"],[0.7,\"#b8e186\"],[0.8,\"#7fbc41\"],[0.9,\"#4d9221\"],[1,\"#276419\"]]},\"xaxis\":{\"gridcolor\":\"white\",\"linecolor\":\"white\",\"ticks\":\"\",\"title\":{\"standoff\":15},\"zerolinecolor\":\"white\",\"automargin\":true,\"zerolinewidth\":2},\"yaxis\":{\"gridcolor\":\"white\",\"linecolor\":\"white\",\"ticks\":\"\",\"title\":{\"standoff\":15},\"zerolinecolor\":\"white\",\"automargin\":true,\"zerolinewidth\":2},\"scene\":{\"xaxis\":{\"backgroundcolor\":\"#E5ECF6\",\"gridcolor\":\"white\",\"linecolor\":\"white\",\"showbackground\":true,\"ticks\":\"\",\"zerolinecolor\":\"white\",\"gridwidth\":2},\"yaxis\":{\"backgroundcolor\":\"#E5ECF6\",\"gridcolor\":\"white\",\"linecolor\":\"white\",\"showbackground\":true,\"ticks\":\"\",\"zerolinecolor\":\"white\",\"gridwidth\":2},\"zaxis\":{\"backgroundcolor\":\"#E5ECF6\",\"gridcolor\":\"white\",\"linecolor\":\"white\",\"showbackground\":true,\"ticks\":\"\",\"zerolinecolor\":\"white\",\"gridwidth\":2}},\"shapedefaults\":{\"line\":{\"color\":\"#2a3f5f\"}},\"annotationdefaults\":{\"arrowcolor\":\"#2a3f5f\",\"arrowhead\":0,\"arrowwidth\":1},\"geo\":{\"bgcolor\":\"white\",\"landcolor\":\"#E5ECF6\",\"subunitcolor\":\"white\",\"showland\":true,\"showlakes\":true,\"lakecolor\":\"white\"},\"title\":{\"x\":0.05},\"mapbox\":{\"style\":\"light\"}}},\"geo\":{\"domain\":{\"x\":[0.0,1.0],\"y\":[0.0,1.0]},\"center\":{}},\"coloraxis\":{\"colorbar\":{\"title\":{\"text\":\"Barrels\"}},\"colorscale\":[[0.0,\"rgb(237, 229, 207)\"],[0.16666666666666666,\"rgb(224, 194, 162)\"],[0.3333333333333333,\"rgb(211, 156, 131)\"],[0.5,\"rgb(193, 118, 111)\"],[0.6666666666666666,\"rgb(166, 84, 97)\"],[0.8333333333333334,\"rgb(129, 55, 83)\"],[1.0,\"rgb(84, 31, 63)\"]]},\"legend\":{\"tracegroupgap\":0,\"itemsizing\":\"constant\"},\"margin\":{\"t\":60},\"updatemenus\":[{\"buttons\":[{\"args\":[null,{\"frame\":{\"duration\":2000,\"redraw\":true},\"mode\":\"immediate\",\"fromcurrent\":true,\"transition\":{\"duration\":500,\"easing\":\"linear\"}}],\"label\":\"&#9654;\",\"method\":\"animate\"},{\"args\":[[null],{\"frame\":{\"duration\":0,\"redraw\":true},\"mode\":\"immediate\",\"fromcurrent\":true,\"transition\":{\"duration\":0,\"easing\":\"linear\"}}],\"label\":\"&#9724;\",\"method\":\"animate\"}],\"direction\":\"left\",\"pad\":{\"r\":10,\"t\":70},\"showactive\":false,\"type\":\"buttons\",\"x\":0.1,\"xanchor\":\"right\",\"y\":0,\"yanchor\":\"top\"}],\"sliders\":[{\"active\":0,\"currentvalue\":{\"prefix\":\"Depyear=\"},\"len\":0.9,\"pad\":{\"b\":10,\"t\":60},\"steps\":[{\"args\":[[\"2014\"],{\"frame\":{\"duration\":0,\"redraw\":true},\"mode\":\"immediate\",\"fromcurrent\":true,\"transition\":{\"duration\":0,\"easing\":\"linear\"}}],\"label\":\"2014\",\"method\":\"animate\"},{\"args\":[[\"2015\"],{\"frame\":{\"duration\":0,\"redraw\":true},\"mode\":\"immediate\",\"fromcurrent\":true,\"transition\":{\"duration\":0,\"easing\":\"linear\"}}],\"label\":\"2015\",\"method\":\"animate\"},{\"args\":[[\"2016\"],{\"frame\":{\"duration\":0,\"redraw\":true},\"mode\":\"immediate\",\"fromcurrent\":true,\"transition\":{\"duration\":0,\"easing\":\"linear\"}}],\"label\":\"2016\",\"method\":\"animate\"},{\"args\":[[\"2017\"],{\"frame\":{\"duration\":0,\"redraw\":true},\"mode\":\"immediate\",\"fromcurrent\":true,\"transition\":{\"duration\":0,\"easing\":\"linear\"}}],\"label\":\"2017\",\"method\":\"animate\"},{\"args\":[[\"2018\"],{\"frame\":{\"duration\":0,\"redraw\":true},\"mode\":\"immediate\",\"fromcurrent\":true,\"transition\":{\"duration\":0,\"easing\":\"linear\"}}],\"label\":\"2018\",\"method\":\"animate\"},{\"args\":[[\"2019\"],{\"frame\":{\"duration\":0,\"redraw\":true},\"mode\":\"immediate\",\"fromcurrent\":true,\"transition\":{\"duration\":0,\"easing\":\"linear\"}}],\"label\":\"2019\",\"method\":\"animate\"},{\"args\":[[\"2020\"],{\"frame\":{\"duration\":0,\"redraw\":true},\"mode\":\"immediate\",\"fromcurrent\":true,\"transition\":{\"duration\":0,\"easing\":\"linear\"}}],\"label\":\"2020\",\"method\":\"animate\"},{\"args\":[[\"2021\"],{\"frame\":{\"duration\":0,\"redraw\":true},\"mode\":\"immediate\",\"fromcurrent\":true,\"transition\":{\"duration\":0,\"easing\":\"linear\"}}],\"label\":\"2021\",\"method\":\"animate\"}],\"x\":0.1,\"xanchor\":\"left\",\"y\":0,\"yanchor\":\"top\"}]},                        {\"responsive\": true}                    ).then(function(){\n",
       "                            Plotly.addFrames('9bc1d65a-2f75-46d3-881c-9f86b65a813a', [{\"data\":[{\"geo\":\"geo\",\"hovertemplate\":\"\\u003cb\\u003e%{hovertext}\\u003c\\u002fb\\u003e\\u003cbr\\u003e\\u003cbr\\u003eDepyear=2014\\u003cbr\\u003eBarrels=%{marker.color}\\u003cbr\\u003eISO ALPHA-3 code=%{location}\\u003cextra\\u003e\\u003c\\u002fextra\\u003e\",\"hovertext\":[\"Canada\"],\"legendgroup\":\"\",\"locations\":[\"CAN\"],\"marker\":{\"color\":[173912],\"coloraxis\":\"coloraxis\",\"size\":[173912],\"sizemode\":\"area\",\"sizeref\":759364.75,\"symbol\":\"circle\"},\"mode\":\"markers\",\"name\":\"\",\"showlegend\":false,\"type\":\"scattergeo\"}],\"name\":\"2014\"},{\"data\":[{\"geo\":\"geo\",\"hovertemplate\":\"\\u003cb\\u003e%{hovertext}\\u003c\\u002fb\\u003e\\u003cbr\\u003e\\u003cbr\\u003eDepyear=2015\\u003cbr\\u003eBarrels=%{marker.color}\\u003cbr\\u003eISO ALPHA-3 code=%{location}\\u003cextra\\u003e\\u003c\\u002fextra\\u003e\",\"hovertext\":[\"Bahamas\",\"Brazil\",\"Canada\",\"Egypt\",\"France (Southern)\",\"India\",\"Italy\",\"Japan\",\"Malta\",\"Mexico\",\"Netherlands\",\"Singapore\",\"South Korea\",\"Spain\",\"United Arab Emirates\",\"United Kingdom\",\"Venezuela\"],\"legendgroup\":\"\",\"locations\":[\"BHS\",\"BRA\",\"CAN\",\"EGY\",\"FRA\",\"IND\",\"ITA\",\"JPN\",\"MLT\",\"MEX\",\"NLD\",\"SGP\",\"KOR\",\"ESP\",\"ARE\",\"GBR\",\"VEN\"],\"marker\":{\"color\":[107961,1825231,84994827,575282,2787193,2009912,4037532,250169,538369,896398,10968531,2111522,2262827,1920700,1930049,871017,996369],\"coloraxis\":\"coloraxis\",\"size\":[107961,1825231,84994827,575282,2787193,2009912,4037532,250169,538369,896398,10968531,2111522,2262827,1920700,1930049,871017,996369],\"sizemode\":\"area\",\"sizeref\":759364.75,\"symbol\":\"circle\"},\"mode\":\"markers\",\"name\":\"\",\"showlegend\":false,\"type\":\"scattergeo\"}],\"name\":\"2015\"},{\"data\":[{\"geo\":\"geo\",\"hovertemplate\":\"\\u003cb\\u003e%{hovertext}\\u003c\\u002fb\\u003e\\u003cbr\\u003e\\u003cbr\\u003eDepyear=2016\\u003cbr\\u003eBarrels=%{marker.color}\\u003cbr\\u003eISO ALPHA-3 code=%{location}\\u003cextra\\u003e\\u003c\\u002fextra\\u003e\",\"hovertext\":[\"Argentina\",\"Aruba\",\"Bahamas\",\"Belgium\",\"Bonaire, Sint Eustatius and Saba\",\"Brazil\",\"Canada\",\"Chile\",\"China\",\"Colombia\",\"Curacao\",\"Cyprus\",\"Dominican Republic\",\"Egypt\",\"France (Northern)\",\"France (Southern)\",\"Germany\",\"India\",\"Indonesia\",\"Italy\",\"Japan\",\"Malaysia\",\"Mexico\",\"Netherlands\",\"Nicaragua\",\"Panama\",\"Peru\",\"Puerto Rico\",\"Singapore\",\"South Korea\",\"Spain\",\"Thailand\",\"Togo\",\"United Kingdom\",\"Venezuela\"],\"legendgroup\":\"\",\"locations\":[\"ARG\",\"ABW\",\"BHS\",\"BEL\",\"BES\",\"BRA\",\"CAN\",\"CHL\",\"CHN\",\"COL\",\"CUW\",\"CYP\",\"DOM\",\"EGY\",\"FRA\",\"FRA\",\"DEU\",\"IND\",\"IDN\",\"ITA\",\"JPN\",\"MYS\",\"MEX\",\"NLD\",\"NIC\",\"PAN\",\"PER\",\"PRI\",\"SGP\",\"KOR\",\"ESP\",\"THA\",\"TGO\",\"GBR\",\"VEN\"],\"marker\":{\"color\":[589173,512790,1984483,542332,513303,1269240,29749205,157257,4445382,4312972,11947613,867851,533703,4038542,813952,6026196,524371,2053212,1979883,6567768,2882688,3568201,366314,16019626,1221786,4399693,2292312,753081,7145323,2417616,5552351,989942,832635,6354405,2785414],\"coloraxis\":\"coloraxis\",\"size\":[589173,512790,1984483,542332,513303,1269240,29749205,157257,4445382,4312972,11947613,867851,533703,4038542,813952,6026196,524371,2053212,1979883,6567768,2882688,3568201,366314,16019626,1221786,4399693,2292312,753081,7145323,2417616,5552351,989942,832635,6354405,2785414],\"sizemode\":\"area\",\"sizeref\":759364.75,\"symbol\":\"circle\"},\"mode\":\"markers\",\"name\":\"\",\"showlegend\":false,\"type\":\"scattergeo\"}],\"name\":\"2016\"},{\"data\":[{\"geo\":\"geo\",\"hovertemplate\":\"\\u003cb\\u003e%{hovertext}\\u003c\\u002fb\\u003e\\u003cbr\\u003e\\u003cbr\\u003eDepyear=2017\\u003cbr\\u003eBarrels=%{marker.color}\\u003cbr\\u003eISO ALPHA-3 code=%{location}\\u003cextra\\u003e\\u003c\\u002fextra\\u003e\",\"hovertext\":[\"Argentina\",\"Aruba\",\"Bahamas\",\"Bonaire, Sint Eustatius and Saba\",\"Brazil\",\"Canada\",\"China\",\"Colombia\",\"Curacao\",\"Denmark\",\"Dominican Republic\",\"France (Northern)\",\"France (Southern)\",\"Gibraltar\",\"Guatemala\",\"Honduras\",\"India\",\"Indonesia\",\"Ireland\",\"Italy\",\"Jamaica\",\"Japan\",\"Lithuania\",\"Malaysia\",\"Malta\",\"Mexico\",\"Netherlands\",\"Nicaragua\",\"Norway\",\"Panama\",\"Peru\",\"Poland\",\"Singapore\",\"South Africa\",\"South Korea\",\"Spain\",\"Taiwan\",\"Thailand\",\"Turkey\",\"United Arab Emirates\",\"United Kingdom\",\"Uruguay\",\"Venezuela\"],\"legendgroup\":\"\",\"locations\":[\"ARG\",\"ABW\",\"BHS\",\"BES\",\"BRA\",\"CAN\",\"CHN\",\"COL\",\"CUW\",\"DNK\",\"DOM\",\"FRA\",\"FRA\",\"GIB\",\"GTM\",\"HND\",\"IND\",\"IDN\",\"IRL\",\"ITA\",\"JAM\",\"JPN\",\"LTU\",\"MYS\",\"MLT\",\"MEX\",\"NLD\",\"NIC\",\"NOR\",\"PAN\",\"PER\",\"POL\",\"SGP\",\"ZAF\",\"KOR\",\"ESP\",\"TWN\",\"THA\",\"TUR\",\"ARE\",\"GBR\",\"URY\",\"VEN\"],\"marker\":{\"color\":[1761694,4553882,3712262,626762,6043766,41544867,72772074,4482688,5528887,734317,729562,2718849,2826821,1063851,371017,320361,13945479,3788836,183323,12165727,388303,11701494,1326373,17700795,953277,3638966,19551935,402144,1037182,2193109,938269,2607202,13969576,646034,20137097,8220339,8500661,2122376,787830,1596159,28630080,284772,13706164],\"coloraxis\":\"coloraxis\",\"size\":[1761694,4553882,3712262,626762,6043766,41544867,72772074,4482688,5528887,734317,729562,2718849,2826821,1063851,371017,320361,13945479,3788836,183323,12165727,388303,11701494,1326373,17700795,953277,3638966,19551935,402144,1037182,2193109,938269,2607202,13969576,646034,20137097,8220339,8500661,2122376,787830,1596159,28630080,284772,13706164],\"sizemode\":\"area\",\"sizeref\":759364.75,\"symbol\":\"circle\"},\"mode\":\"markers\",\"name\":\"\",\"showlegend\":false,\"type\":\"scattergeo\"}],\"name\":\"2017\"},{\"data\":[{\"geo\":\"geo\",\"hovertemplate\":\"\\u003cb\\u003e%{hovertext}\\u003c\\u002fb\\u003e\\u003cbr\\u003e\\u003cbr\\u003eDepyear=2018\\u003cbr\\u003eBarrels=%{marker.color}\\u003cbr\\u003eISO ALPHA-3 code=%{location}\\u003cextra\\u003e\\u003c\\u002fextra\\u003e\",\"hovertext\":[\"Bahamas\",\"Bonaire, Sint Eustatius and Saba\",\"Brazil\",\"Canada\",\"Chile\",\"China\",\"Colombia\",\"Cote DIvoire\",\"Croatia\",\"Curacao\",\"Denmark\",\"Dominican Republic\",\"France (Northern)\",\"France (Southern)\",\"Germany\",\"Gibraltar\",\"Greece\",\"India\",\"Indonesia\",\"Ireland\",\"Italy\",\"Jamaica\",\"Japan\",\"Lebanon\",\"Malaysia\",\"Mexico\",\"Netherlands\",\"Nicaragua\",\"Norway\",\"Panama\",\"Peru\",\"Poland\",\"Portugal\",\"Singapore\",\"South Africa\",\"South Korea\",\"Spain\",\"Sweden\",\"Taiwan\",\"Thailand\",\"Togo\",\"Trinidad and Tobago\",\"United Arab Emirates\",\"United Kingdom\",\"Uruguay\",\"Venezuela\"],\"legendgroup\":\"\",\"locations\":[\"BHS\",\"BES\",\"BRA\",\"CAN\",\"CHL\",\"CHN\",\"COL\",\"CIV\",\"HRV\",\"CUW\",\"DNK\",\"DOM\",\"FRA\",\"FRA\",\"DEU\",\"GIB\",\"GRC\",\"IND\",\"IDN\",\"IRL\",\"ITA\",\"JAM\",\"JPN\",\"LBN\",\"MYS\",\"MEX\",\"NLD\",\"NIC\",\"NOR\",\"PAN\",\"PER\",\"POL\",\"PRT\",\"SGP\",\"ZAF\",\"KOR\",\"ESP\",\"SWE\",\"TWN\",\"THA\",\"TGO\",\"TTO\",\"ARE\",\"GBR\",\"URY\",\"VEN\"],\"marker\":{\"color\":[3623877,5162870,17345811,100138884,6392807,86968384,10288154,464657,2538454,2008516,10414170,6376314,5929407,8703009,2135540,912304,4305369,64984462,2786813,9006658,52794237,2099438,49694372,366645,13069178,12003053,68147257,1483672,13958127,8616490,4523464,5313669,1697381,50010355,761969,120178278,13960216,1026606,74985685,11519723,623282,281198,12084251,79068876,4103418,32019752],\"coloraxis\":\"coloraxis\",\"size\":[3623877,5162870,17345811,100138884,6392807,86968384,10288154,464657,2538454,2008516,10414170,6376314,5929407,8703009,2135540,912304,4305369,64984462,2786813,9006658,52794237,2099438,49694372,366645,13069178,12003053,68147257,1483672,13958127,8616490,4523464,5313669,1697381,50010355,761969,120178278,13960216,1026606,74985685,11519723,623282,281198,12084251,79068876,4103418,32019752],\"sizemode\":\"area\",\"sizeref\":759364.75,\"symbol\":\"circle\"},\"mode\":\"markers\",\"name\":\"\",\"showlegend\":false,\"type\":\"scattergeo\"}],\"name\":\"2018\"},{\"data\":[{\"geo\":\"geo\",\"hovertemplate\":\"\\u003cb\\u003e%{hovertext}\\u003c\\u002fb\\u003e\\u003cbr\\u003e\\u003cbr\\u003eDepyear=2019\\u003cbr\\u003eBarrels=%{marker.color}\\u003cbr\\u003eISO ALPHA-3 code=%{location}\\u003cextra\\u003e\\u003c\\u002fextra\\u003e\",\"hovertext\":[\"Argentina\",\"Aruba\",\"Australia\",\"Bahamas\",\"Belgium\",\"Bonaire, Sint Eustatius and Saba\",\"Brazil\",\"Bulgaria\",\"Canada\",\"Chile\",\"China\",\"Colombia\",\"Croatia\",\"Denmark\",\"Dominican Republic\",\"Egypt\",\"France (Northern)\",\"France (Southern)\",\"Germany\",\"Gibraltar\",\"Greece\",\"Honduras\",\"Hong Kong\",\"India\",\"Indonesia\",\"Ireland\",\"Israel\",\"Italy\",\"Jamaica\",\"Japan\",\"Lithuania\",\"Malaysia\",\"Malta\",\"Mexico\",\"Morocco\",\"Netherlands\",\"Nicaragua\",\"Norway\",\"Panama\",\"Peru\",\"Philippines\",\"Poland\",\"Singapore\",\"South Korea\",\"Spain\",\"Sweden\",\"Taiwan\",\"Thailand\",\"Trinidad and Tobago\",\"Ukraine\",\"United Arab Emirates\",\"United Kingdom\",\"Uruguay\",\"Venezuela\",\"Vietnam\"],\"legendgroup\":\"\",\"locations\":[\"ARG\",\"ABW\",\"AUS\",\"BHS\",\"BEL\",\"BES\",\"BRA\",\"BGR\",\"CAN\",\"CHL\",\"CHN\",\"COL\",\"HRV\",\"DNK\",\"DOM\",\"EGY\",\"FRA\",\"FRA\",\"DEU\",\"GIB\",\"GRC\",\"HND\",\"HKG\",\"IND\",\"IDN\",\"IRL\",\"ISR\",\"ITA\",\"JAM\",\"JPN\",\"LTU\",\"MYS\",\"MLT\",\"MEX\",\"MAR\",\"NLD\",\"NIC\",\"NOR\",\"PAN\",\"PER\",\"PHL\",\"POL\",\"SGP\",\"KOR\",\"ESP\",\"SWE\",\"TWN\",\"THA\",\"TTO\",\"UKR\",\"ARE\",\"GBR\",\"URY\",\"VEN\",\"VNM\"],\"marker\":{\"color\":[3884080,1227868,26533246,15392328,582322,4371630,35584558,1077982,207061272,17666344,82602060,15285222,3234172,20831514,11604846,1144254,37324376,31435974,20362552,1270604,10005400,659768,2053212,168133944,3901834,27187384,3369646,78026466,1215444,38846160,536080,42183094,2922516,15245354,765026,157451134,8119644,15940546,50853140,14802746,4135476,10447034,39316350,292688152,36719724,4932332,115778606,51869976,673666,2698952,6295718,174814242,4644256,3247790,7154110],\"coloraxis\":\"coloraxis\",\"size\":[3884080,1227868,26533246,15392328,582322,4371630,35584558,1077982,207061272,17666344,82602060,15285222,3234172,20831514,11604846,1144254,37324376,31435974,20362552,1270604,10005400,659768,2053212,168133944,3901834,27187384,3369646,78026466,1215444,38846160,536080,42183094,2922516,15245354,765026,157451134,8119644,15940546,50853140,14802746,4135476,10447034,39316350,292688152,36719724,4932332,115778606,51869976,673666,2698952,6295718,174814242,4644256,3247790,7154110],\"sizemode\":\"area\",\"sizeref\":759364.75,\"symbol\":\"circle\"},\"mode\":\"markers\",\"name\":\"\",\"showlegend\":false,\"type\":\"scattergeo\"}],\"name\":\"2019\"},{\"data\":[{\"geo\":\"geo\",\"hovertemplate\":\"\\u003cb\\u003e%{hovertext}\\u003c\\u002fb\\u003e\\u003cbr\\u003e\\u003cbr\\u003eDepyear=2020\\u003cbr\\u003eBarrels=%{marker.color}\\u003cbr\\u003eISO ALPHA-3 code=%{location}\\u003cextra\\u003e\\u003c\\u002fextra\\u003e\",\"hovertext\":[\"Aruba\",\"Australia\",\"Bahamas\",\"Belgium\",\"Bonaire, Sint Eustatius and Saba\",\"Brazil\",\"Canada\",\"Chile\",\"China\",\"Colombia\",\"Croatia\",\"Curacao\",\"Cyprus\",\"Denmark\",\"Dominican Republic\",\"Egypt\",\"Finland\",\"France (Northern)\",\"France (Southern)\",\"Germany\",\"Greece\",\"Honduras\",\"Hong Kong\",\"India\",\"Indonesia\",\"Ireland\",\"Israel\",\"Italy\",\"Jamaica\",\"Japan\",\"Lebanon\",\"Lithuania\",\"Malaysia\",\"Mexico\",\"Netherlands\",\"New Zealand\",\"Nicaragua\",\"Norway\",\"Panama\",\"Peru\",\"Portugal\",\"Saint Lucia\",\"Singapore\",\"South Africa\",\"South Korea\",\"Spain\",\"Sweden\",\"Taiwan\",\"Thailand\",\"Togo\",\"Ukraine\",\"United Kingdom\",\"Uruguay\",\"Vietnam\"],\"legendgroup\":\"\",\"locations\":[\"ABW\",\"AUS\",\"BHS\",\"BEL\",\"BES\",\"BRA\",\"CAN\",\"CHL\",\"CHN\",\"COL\",\"HRV\",\"CUW\",\"CYP\",\"DNK\",\"DOM\",\"EGY\",\"FIN\",\"FRA\",\"FRA\",\"DEU\",\"GRC\",\"HND\",\"HKG\",\"IND\",\"IDN\",\"IRL\",\"ISR\",\"ITA\",\"JAM\",\"JPN\",\"LBN\",\"LTU\",\"MYS\",\"MEX\",\"NLD\",\"NZL\",\"NIC\",\"NOR\",\"PAN\",\"PER\",\"PRT\",\"LCA\",\"SGP\",\"ZAF\",\"KOR\",\"ESP\",\"SWE\",\"TWN\",\"THA\",\"TGO\",\"UKR\",\"GBR\",\"URY\",\"VNM\"],\"marker\":{\"color\":[1991154,17582202,17194330,223622,8217326,26218588,167250828,13870638,303745900,11649378,1663712,723654,420410,19738556,6057916,1473836,1225326,36591624,30718240,73932952,5761376,2079514,1232884,200665412,14137126,30416214,4248062,102299328,970888,23257910,970596,5169944,53167398,6238626,165896368,1072160,4869924,6624672,38518202,12909134,11686394,4484750,43497720,5327458,185539228,41359730,28408106,90291704,45344010,1991156,4044422,172348612,5741926,7226394],\"coloraxis\":\"coloraxis\",\"size\":[1991154,17582202,17194330,223622,8217326,26218588,167250828,13870638,303745900,11649378,1663712,723654,420410,19738556,6057916,1473836,1225326,36591624,30718240,73932952,5761376,2079514,1232884,200665412,14137126,30416214,4248062,102299328,970888,23257910,970596,5169944,53167398,6238626,165896368,1072160,4869924,6624672,38518202,12909134,11686394,4484750,43497720,5327458,185539228,41359730,28408106,90291704,45344010,1991156,4044422,172348612,5741926,7226394],\"sizemode\":\"area\",\"sizeref\":759364.75,\"symbol\":\"circle\"},\"mode\":\"markers\",\"name\":\"\",\"showlegend\":false,\"type\":\"scattergeo\"}],\"name\":\"2020\"},{\"data\":[{\"geo\":\"geo\",\"hovertemplate\":\"\\u003cb\\u003e%{hovertext}\\u003c\\u002fb\\u003e\\u003cbr\\u003e\\u003cbr\\u003eDepyear=2021\\u003cbr\\u003eBarrels=%{marker.color}\\u003cbr\\u003eISO ALPHA-3 code=%{location}\\u003cextra\\u003e\\u003c\\u002fextra\\u003e\",\"hovertext\":[\"Australia\",\"Bahamas\",\"Bangladesh\",\"Bonaire, Sint Eustatius and Saba\",\"Brazil\",\"Canada\",\"Chile\",\"China\",\"Colombia\",\"Denmark\",\"Dominican Republic\",\"France (Northern)\",\"France (Southern)\",\"Germany\",\"India\",\"Indonesia\",\"Ireland\",\"Italy\",\"Japan\",\"Lithuania\",\"Malaysia\",\"Martinique\",\"Mexico\",\"Netherlands\",\"Nicaragua\",\"Norway\",\"Panama\",\"Peru\",\"Portugal\",\"Singapore\",\"South Africa\",\"South Korea\",\"Spain\",\"Sweden\",\"Taiwan\",\"Thailand\",\"Trinidad and Tobago\",\"United Arab Emirates\",\"United Kingdom\",\"Vietnam\"],\"legendgroup\":\"\",\"locations\":[\"AUS\",\"BHS\",\"BGD\",\"BES\",\"BRA\",\"CAN\",\"CHL\",\"CHN\",\"COL\",\"DNK\",\"DOM\",\"FRA\",\"FRA\",\"DEU\",\"IND\",\"IDN\",\"IRL\",\"ITA\",\"JPN\",\"LTU\",\"MYS\",\"MTQ\",\"MEX\",\"NLD\",\"NIC\",\"NOR\",\"PAN\",\"PER\",\"PRT\",\"SGP\",\"ZAF\",\"KOR\",\"ESP\",\"SWE\",\"TWN\",\"THA\",\"TTO\",\"ARE\",\"GBR\",\"VNM\"],\"marker\":{\"color\":[7908358,1802860,522816,927460,11673736,54242354,7052502,70377870,6498922,5597788,7182144,13739648,8650886,25663230,118052450,613504,6302326,33519326,7025956,2945110,3953768,1120000,4562304,71974050,3062532,12446878,9513460,5390324,5061422,22719604,1596000,103974184,18056714,4094128,45576976,13068394,535408,3605322,69654358,2126542],\"coloraxis\":\"coloraxis\",\"size\":[7908358,1802860,522816,927460,11673736,54242354,7052502,70377870,6498922,5597788,7182144,13739648,8650886,25663230,118052450,613504,6302326,33519326,7025956,2945110,3953768,1120000,4562304,71974050,3062532,12446878,9513460,5390324,5061422,22719604,1596000,103974184,18056714,4094128,45576976,13068394,535408,3605322,69654358,2126542],\"sizemode\":\"area\",\"sizeref\":759364.75,\"symbol\":\"circle\"},\"mode\":\"markers\",\"name\":\"\",\"showlegend\":false,\"type\":\"scattergeo\"}],\"name\":\"2021\"}]);\n",
       "                        }).then(function(){\n",
       "                            \n",
       "var gd = document.getElementById('9bc1d65a-2f75-46d3-881c-9f86b65a813a');\n",
       "var x = new MutationObserver(function (mutations, observer) {{\n",
       "        var display = window.getComputedStyle(gd).display;\n",
       "        if (!display || display === 'none') {{\n",
       "            console.log([gd, 'removed!']);\n",
       "            Plotly.purge(gd);\n",
       "            observer.disconnect();\n",
       "        }}\n",
       "}});\n",
       "\n",
       "// Listen for the removal of the full notebook cells\n",
       "var notebookContainer = gd.closest('#notebook-container');\n",
       "if (notebookContainer) {{\n",
       "    x.observe(notebookContainer, {childList: true});\n",
       "}}\n",
       "\n",
       "// Listen for the clearing of the current output cell\n",
       "var outputEl = gd.closest('.output');\n",
       "if (outputEl) {{\n",
       "    x.observe(outputEl, {childList: true});\n",
       "}}\n",
       "\n",
       "                        })                };                });            </script>        </div>"
      ]
     },
     "metadata": {},
     "output_type": "display_data"
    }
   ],
   "source": [
    "iso=pd.read_csv(\"country_code_web.csv\")\n",
    "merged_df=merged_df.merge(iso,left_on='Discharge Country',right_on='Load Country')\n",
    "discharge_countries=merged_df.pivot_table(index=['Departure Year','Adjusted Discharge Country'],values='Barrels',aggfunc=np.sum)\n",
    "discharge_countries.reset_index(inplace=True)\n",
    "discharge_countries=discharge_countries.merge(iso,left_on='Adjusted Discharge Country',right_on='Load Country')\n",
    "discharge_countries['Depyear']=discharge_countries['Departure Year'].astype('str')\n",
    "discharge_countries['Depyear']=discharge_countries['Depyear'].astype('int')\n",
    "fig_exports_destinations=px.scatter_geo(discharge_countries,locations='ISO ALPHA-3 code',size='Barrels',color='Barrels',color_continuous_scale='Brwnyl',animation_frame='Depyear',hover_name='Adjusted Discharge Country')\n",
    "fig_exports_destinations.layout.updatemenus[0].buttons[0].args[1][\"frame\"][\"duration\"] = 2000\n",
    "fig_exports_destinations.show()"
   ]
  },
  {
   "cell_type": "markdown",
   "metadata": {},
   "source": [
    "Exports originally limited to Canada picked up pace to other parts of the world especially to North-West Europe and Asia starting in 2017 and 2018. As Chinese refining capacity grew, the demand for U.S. crude steadily increased till 2019 when the trade wars caused a sharp drop in the imports by China. While the volumes went to South Korea and India, this raised a lot of friction between the USA and China. In 2020, the 2 countries agreed on a mechanism to resolve the trade dispute under which China was to reduce the trade deficit by purchasing increased value of energy commodities. That, coupled with the sharp decoupling of WTI prices during Covid-19 related crash, led to a strong rebound in 2020 volumes."
   ]
  },
  {
   "cell_type": "markdown",
   "metadata": {},
   "source": [
    "### Using Fixtures data to forecast crude exports. \n",
    "Finally we're going to see if fixtures data could be a predictor of U.S. crude exports. We retrieve LSEG Fixtures data through LDMS API call and combining it with our estimates of crude exports from PADD 3 we compiled before using trade flows."
   ]
  },
  {
   "cell_type": "code",
   "execution_count": 11,
   "metadata": {},
   "outputs": [],
   "source": [
    "fixturesType = 'Tanker'\n",
    "fields = '*'\n",
    "headers = { 'Authorization' : config['LDMS']['Key'],'Accept':\"text/csv\" }\n",
    "result = requests.get(api + '/Fixtures/FixtureData/'+fixturesType+'?Fields='+fields, headers=headers, verify=True)\n",
    "fixtures = open('Fixtures.csv', \"w\")\n",
    "fixtures.write(result.text)\n",
    "fixtures.close()\n",
    "fixtures_df=pd.read_csv('Fixtures.csv',parse_dates=True,infer_datetime_format=True, encoding='latin-1')"
   ]
  },
  {
   "cell_type": "code",
   "execution_count": 12,
   "metadata": {},
   "outputs": [],
   "source": [
    "filtered_fixtures_df=fixtures_df[fixtures_df['Load Zone']=='US Gulf']\n",
    "filtered_fixtures_df=filtered_fixtures_df[filtered_fixtures_df['Commodity']=='Crude Oil']\n",
    "filtered_fixtures_df['Laycan Month']=pd.to_datetime(filtered_fixtures_df['Laycan From']).dt.to_period('M')\n",
    "fix_pivot=filtered_fixtures_df.pivot_table(index='Laycan Month',values='Cargo Size',aggfunc=np.sum)\n",
    "fix_pivot=fix_pivot.merge(padd3_mnbpd,how='left',left_index=True,right_index=True)\n",
    "fix_pivot.drop(columns=['PADD 3','mnbpd','Pipeline exports_kbpd'],inplace=True)\n",
    "fix_pivot['Cargo Size']=fix_pivot['Cargo Size']*7.3 #Converting from Tonnes to Barrels using BPT\n",
    "fix_pivot=fix_pivot.loc[pd.Period('2020-01'):]\n",
    "fix_pivot.index=fix_pivot.index.astype('str')"
   ]
  },
  {
   "cell_type": "code",
   "execution_count": 13,
   "metadata": {},
   "outputs": [],
   "source": [
    "fp_20 = fix_pivot[['2020-' in s for s in fix_pivot.index]]\n",
    "fp_21 = fix_pivot[['2021-' in s for s in fix_pivot.index]]\n",
    "fix_pivot = pd.concat([fp_20, fp_21])"
   ]
  },
  {
   "cell_type": "code",
   "execution_count": 14,
   "metadata": {},
   "outputs": [
    {
     "data": {
      "application/vnd.plotly.v1+json": {
       "config": {
        "plotlyServerURL": "https://plot.ly"
       },
       "data": [
        {
         "marker": {
          "color": "rgba(255, 153, 51, 0.6)",
          "line": {
           "color": "rgba(255, 153, 51, 1.0)",
           "width": 1
          }
         },
         "name": "Barrels",
         "orientation": "v",
         "text": "",
         "type": "bar",
         "x": [
          "2020-01",
          "2020-02",
          "2020-03",
          "2020-04",
          "2020-05",
          "2020-06",
          "2020-07",
          "2020-08",
          "2020-09",
          "2020-10",
          "2020-11",
          "2020-12",
          "2021-01",
          "2021-02",
          "2021-03",
          "2021-04",
          "2021-05",
          "2021-06",
          "2021-07"
         ],
         "y": [
          179401090,
          181953526,
          188889252,
          161608368,
          150355936,
          145064486,
          187847938,
          172031346,
          164001640,
          164109496,
          135409612,
          186322554,
          181258786,
          120325446,
          141257496,
          176108758,
          148992032,
          "",
          ""
         ]
        },
        {
         "line": {
          "color": "lime"
         },
         "name": "Fixtures qty",
         "type": "scatter",
         "x": [
          "2020-01",
          "2020-02",
          "2020-03",
          "2020-04",
          "2020-05",
          "2020-06",
          "2020-07",
          "2020-08",
          "2020-09",
          "2020-10",
          "2020-11",
          "2020-12",
          "2021-01",
          "2021-02",
          "2021-03",
          "2021-04",
          "2021-05",
          "2021-06",
          "2021-07"
         ],
         "y": [
          53874000,
          39434600,
          63677900,
          46574000,
          46026500,
          39675427,
          36536500,
          48472000,
          44128500,
          33981500,
          20038500,
          41135500,
          39785000,
          35551000,
          32923000,
          43216000,
          38617000,
          53399500,
          21681000
         ]
        }
       ],
       "layout": {
        "autosize": true,
        "legend": {
         "bgcolor": "#151516",
         "font": {
          "color": "#D9D9D9"
         }
        },
        "paper_bgcolor": "#151516",
        "plot_bgcolor": "#151516",
        "template": {
         "data": {
          "bar": [
           {
            "error_x": {
             "color": "#2a3f5f"
            },
            "error_y": {
             "color": "#2a3f5f"
            },
            "marker": {
             "line": {
              "color": "#E5ECF6",
              "width": 0.5
             },
             "pattern": {
              "fillmode": "overlay",
              "size": 10,
              "solidity": 0.2
             }
            },
            "type": "bar"
           }
          ],
          "barpolar": [
           {
            "marker": {
             "line": {
              "color": "#E5ECF6",
              "width": 0.5
             },
             "pattern": {
              "fillmode": "overlay",
              "size": 10,
              "solidity": 0.2
             }
            },
            "type": "barpolar"
           }
          ],
          "carpet": [
           {
            "aaxis": {
             "endlinecolor": "#2a3f5f",
             "gridcolor": "white",
             "linecolor": "white",
             "minorgridcolor": "white",
             "startlinecolor": "#2a3f5f"
            },
            "baxis": {
             "endlinecolor": "#2a3f5f",
             "gridcolor": "white",
             "linecolor": "white",
             "minorgridcolor": "white",
             "startlinecolor": "#2a3f5f"
            },
            "type": "carpet"
           }
          ],
          "choropleth": [
           {
            "colorbar": {
             "outlinewidth": 0,
             "ticks": ""
            },
            "type": "choropleth"
           }
          ],
          "contour": [
           {
            "colorbar": {
             "outlinewidth": 0,
             "ticks": ""
            },
            "colorscale": [
             [
              0,
              "#0d0887"
             ],
             [
              0.1111111111111111,
              "#46039f"
             ],
             [
              0.2222222222222222,
              "#7201a8"
             ],
             [
              0.3333333333333333,
              "#9c179e"
             ],
             [
              0.4444444444444444,
              "#bd3786"
             ],
             [
              0.5555555555555556,
              "#d8576b"
             ],
             [
              0.6666666666666666,
              "#ed7953"
             ],
             [
              0.7777777777777778,
              "#fb9f3a"
             ],
             [
              0.8888888888888888,
              "#fdca26"
             ],
             [
              1,
              "#f0f921"
             ]
            ],
            "type": "contour"
           }
          ],
          "contourcarpet": [
           {
            "colorbar": {
             "outlinewidth": 0,
             "ticks": ""
            },
            "type": "contourcarpet"
           }
          ],
          "heatmap": [
           {
            "colorbar": {
             "outlinewidth": 0,
             "ticks": ""
            },
            "colorscale": [
             [
              0,
              "#0d0887"
             ],
             [
              0.1111111111111111,
              "#46039f"
             ],
             [
              0.2222222222222222,
              "#7201a8"
             ],
             [
              0.3333333333333333,
              "#9c179e"
             ],
             [
              0.4444444444444444,
              "#bd3786"
             ],
             [
              0.5555555555555556,
              "#d8576b"
             ],
             [
              0.6666666666666666,
              "#ed7953"
             ],
             [
              0.7777777777777778,
              "#fb9f3a"
             ],
             [
              0.8888888888888888,
              "#fdca26"
             ],
             [
              1,
              "#f0f921"
             ]
            ],
            "type": "heatmap"
           }
          ],
          "heatmapgl": [
           {
            "colorbar": {
             "outlinewidth": 0,
             "ticks": ""
            },
            "colorscale": [
             [
              0,
              "#0d0887"
             ],
             [
              0.1111111111111111,
              "#46039f"
             ],
             [
              0.2222222222222222,
              "#7201a8"
             ],
             [
              0.3333333333333333,
              "#9c179e"
             ],
             [
              0.4444444444444444,
              "#bd3786"
             ],
             [
              0.5555555555555556,
              "#d8576b"
             ],
             [
              0.6666666666666666,
              "#ed7953"
             ],
             [
              0.7777777777777778,
              "#fb9f3a"
             ],
             [
              0.8888888888888888,
              "#fdca26"
             ],
             [
              1,
              "#f0f921"
             ]
            ],
            "type": "heatmapgl"
           }
          ],
          "histogram": [
           {
            "marker": {
             "pattern": {
              "fillmode": "overlay",
              "size": 10,
              "solidity": 0.2
             }
            },
            "type": "histogram"
           }
          ],
          "histogram2d": [
           {
            "colorbar": {
             "outlinewidth": 0,
             "ticks": ""
            },
            "colorscale": [
             [
              0,
              "#0d0887"
             ],
             [
              0.1111111111111111,
              "#46039f"
             ],
             [
              0.2222222222222222,
              "#7201a8"
             ],
             [
              0.3333333333333333,
              "#9c179e"
             ],
             [
              0.4444444444444444,
              "#bd3786"
             ],
             [
              0.5555555555555556,
              "#d8576b"
             ],
             [
              0.6666666666666666,
              "#ed7953"
             ],
             [
              0.7777777777777778,
              "#fb9f3a"
             ],
             [
              0.8888888888888888,
              "#fdca26"
             ],
             [
              1,
              "#f0f921"
             ]
            ],
            "type": "histogram2d"
           }
          ],
          "histogram2dcontour": [
           {
            "colorbar": {
             "outlinewidth": 0,
             "ticks": ""
            },
            "colorscale": [
             [
              0,
              "#0d0887"
             ],
             [
              0.1111111111111111,
              "#46039f"
             ],
             [
              0.2222222222222222,
              "#7201a8"
             ],
             [
              0.3333333333333333,
              "#9c179e"
             ],
             [
              0.4444444444444444,
              "#bd3786"
             ],
             [
              0.5555555555555556,
              "#d8576b"
             ],
             [
              0.6666666666666666,
              "#ed7953"
             ],
             [
              0.7777777777777778,
              "#fb9f3a"
             ],
             [
              0.8888888888888888,
              "#fdca26"
             ],
             [
              1,
              "#f0f921"
             ]
            ],
            "type": "histogram2dcontour"
           }
          ],
          "mesh3d": [
           {
            "colorbar": {
             "outlinewidth": 0,
             "ticks": ""
            },
            "type": "mesh3d"
           }
          ],
          "parcoords": [
           {
            "line": {
             "colorbar": {
              "outlinewidth": 0,
              "ticks": ""
             }
            },
            "type": "parcoords"
           }
          ],
          "pie": [
           {
            "automargin": true,
            "type": "pie"
           }
          ],
          "scatter": [
           {
            "fillpattern": {
             "fillmode": "overlay",
             "size": 10,
             "solidity": 0.2
            },
            "type": "scatter"
           }
          ],
          "scatter3d": [
           {
            "line": {
             "colorbar": {
              "outlinewidth": 0,
              "ticks": ""
             }
            },
            "marker": {
             "colorbar": {
              "outlinewidth": 0,
              "ticks": ""
             }
            },
            "type": "scatter3d"
           }
          ],
          "scattercarpet": [
           {
            "marker": {
             "colorbar": {
              "outlinewidth": 0,
              "ticks": ""
             }
            },
            "type": "scattercarpet"
           }
          ],
          "scattergeo": [
           {
            "marker": {
             "colorbar": {
              "outlinewidth": 0,
              "ticks": ""
             }
            },
            "type": "scattergeo"
           }
          ],
          "scattergl": [
           {
            "marker": {
             "colorbar": {
              "outlinewidth": 0,
              "ticks": ""
             }
            },
            "type": "scattergl"
           }
          ],
          "scattermapbox": [
           {
            "marker": {
             "colorbar": {
              "outlinewidth": 0,
              "ticks": ""
             }
            },
            "type": "scattermapbox"
           }
          ],
          "scatterpolar": [
           {
            "marker": {
             "colorbar": {
              "outlinewidth": 0,
              "ticks": ""
             }
            },
            "type": "scatterpolar"
           }
          ],
          "scatterpolargl": [
           {
            "marker": {
             "colorbar": {
              "outlinewidth": 0,
              "ticks": ""
             }
            },
            "type": "scatterpolargl"
           }
          ],
          "scatterternary": [
           {
            "marker": {
             "colorbar": {
              "outlinewidth": 0,
              "ticks": ""
             }
            },
            "type": "scatterternary"
           }
          ],
          "surface": [
           {
            "colorbar": {
             "outlinewidth": 0,
             "ticks": ""
            },
            "colorscale": [
             [
              0,
              "#0d0887"
             ],
             [
              0.1111111111111111,
              "#46039f"
             ],
             [
              0.2222222222222222,
              "#7201a8"
             ],
             [
              0.3333333333333333,
              "#9c179e"
             ],
             [
              0.4444444444444444,
              "#bd3786"
             ],
             [
              0.5555555555555556,
              "#d8576b"
             ],
             [
              0.6666666666666666,
              "#ed7953"
             ],
             [
              0.7777777777777778,
              "#fb9f3a"
             ],
             [
              0.8888888888888888,
              "#fdca26"
             ],
             [
              1,
              "#f0f921"
             ]
            ],
            "type": "surface"
           }
          ],
          "table": [
           {
            "cells": {
             "fill": {
              "color": "#EBF0F8"
             },
             "line": {
              "color": "white"
             }
            },
            "header": {
             "fill": {
              "color": "#C8D4E3"
             },
             "line": {
              "color": "white"
             }
            },
            "type": "table"
           }
          ]
         },
         "layout": {
          "annotationdefaults": {
           "arrowcolor": "#2a3f5f",
           "arrowhead": 0,
           "arrowwidth": 1
          },
          "autotypenumbers": "strict",
          "coloraxis": {
           "colorbar": {
            "outlinewidth": 0,
            "ticks": ""
           }
          },
          "colorscale": {
           "diverging": [
            [
             0,
             "#8e0152"
            ],
            [
             0.1,
             "#c51b7d"
            ],
            [
             0.2,
             "#de77ae"
            ],
            [
             0.3,
             "#f1b6da"
            ],
            [
             0.4,
             "#fde0ef"
            ],
            [
             0.5,
             "#f7f7f7"
            ],
            [
             0.6,
             "#e6f5d0"
            ],
            [
             0.7,
             "#b8e186"
            ],
            [
             0.8,
             "#7fbc41"
            ],
            [
             0.9,
             "#4d9221"
            ],
            [
             1,
             "#276419"
            ]
           ],
           "sequential": [
            [
             0,
             "#0d0887"
            ],
            [
             0.1111111111111111,
             "#46039f"
            ],
            [
             0.2222222222222222,
             "#7201a8"
            ],
            [
             0.3333333333333333,
             "#9c179e"
            ],
            [
             0.4444444444444444,
             "#bd3786"
            ],
            [
             0.5555555555555556,
             "#d8576b"
            ],
            [
             0.6666666666666666,
             "#ed7953"
            ],
            [
             0.7777777777777778,
             "#fb9f3a"
            ],
            [
             0.8888888888888888,
             "#fdca26"
            ],
            [
             1,
             "#f0f921"
            ]
           ],
           "sequentialminus": [
            [
             0,
             "#0d0887"
            ],
            [
             0.1111111111111111,
             "#46039f"
            ],
            [
             0.2222222222222222,
             "#7201a8"
            ],
            [
             0.3333333333333333,
             "#9c179e"
            ],
            [
             0.4444444444444444,
             "#bd3786"
            ],
            [
             0.5555555555555556,
             "#d8576b"
            ],
            [
             0.6666666666666666,
             "#ed7953"
            ],
            [
             0.7777777777777778,
             "#fb9f3a"
            ],
            [
             0.8888888888888888,
             "#fdca26"
            ],
            [
             1,
             "#f0f921"
            ]
           ]
          },
          "colorway": [
           "#636efa",
           "#EF553B",
           "#00cc96",
           "#ab63fa",
           "#FFA15A",
           "#19d3f3",
           "#FF6692",
           "#B6E880",
           "#FF97FF",
           "#FECB52"
          ],
          "font": {
           "color": "#2a3f5f"
          },
          "geo": {
           "bgcolor": "white",
           "lakecolor": "white",
           "landcolor": "#E5ECF6",
           "showlakes": true,
           "showland": true,
           "subunitcolor": "white"
          },
          "hoverlabel": {
           "align": "left"
          },
          "hovermode": "closest",
          "mapbox": {
           "style": "light"
          },
          "paper_bgcolor": "white",
          "plot_bgcolor": "#E5ECF6",
          "polar": {
           "angularaxis": {
            "gridcolor": "white",
            "linecolor": "white",
            "ticks": ""
           },
           "bgcolor": "#E5ECF6",
           "radialaxis": {
            "gridcolor": "white",
            "linecolor": "white",
            "ticks": ""
           }
          },
          "scene": {
           "xaxis": {
            "backgroundcolor": "#E5ECF6",
            "gridcolor": "white",
            "gridwidth": 2,
            "linecolor": "white",
            "showbackground": true,
            "ticks": "",
            "zerolinecolor": "white"
           },
           "yaxis": {
            "backgroundcolor": "#E5ECF6",
            "gridcolor": "white",
            "gridwidth": 2,
            "linecolor": "white",
            "showbackground": true,
            "ticks": "",
            "zerolinecolor": "white"
           },
           "zaxis": {
            "backgroundcolor": "#E5ECF6",
            "gridcolor": "white",
            "gridwidth": 2,
            "linecolor": "white",
            "showbackground": true,
            "ticks": "",
            "zerolinecolor": "white"
           }
          },
          "shapedefaults": {
           "line": {
            "color": "#2a3f5f"
           }
          },
          "ternary": {
           "aaxis": {
            "gridcolor": "white",
            "linecolor": "white",
            "ticks": ""
           },
           "baxis": {
            "gridcolor": "white",
            "linecolor": "white",
            "ticks": ""
           },
           "bgcolor": "#E5ECF6",
           "caxis": {
            "gridcolor": "white",
            "linecolor": "white",
            "ticks": ""
           }
          },
          "title": {
           "x": 0.05
          },
          "xaxis": {
           "automargin": true,
           "gridcolor": "white",
           "linecolor": "white",
           "ticks": "",
           "title": {
            "standoff": 15
           },
           "zerolinecolor": "white",
           "zerolinewidth": 2
          },
          "yaxis": {
           "automargin": true,
           "gridcolor": "white",
           "linecolor": "white",
           "ticks": "",
           "title": {
            "standoff": 15
           },
           "zerolinecolor": "white",
           "zerolinewidth": 2
          }
         }
        },
        "title": {
         "font": {
          "color": "#D9D9D9"
         },
         "text": "PADD 3 exports vs Fixtures"
        },
        "xaxis": {
         "autorange": true,
         "gridcolor": "#434343",
         "range": [
          "2019-11-27 02:38:57.4408",
          "2021-08-04 21:21:02.5592"
         ],
         "showgrid": true,
         "tickfont": {
          "color": "#C2C2C2"
         },
         "title": {
          "font": {
           "color": "#D9D9D9"
          },
          "text": ""
         },
         "type": "date",
         "zerolinecolor": "#666570"
        },
        "yaxis": {
         "autorange": true,
         "gridcolor": "#434343",
         "range": [
          0,
          198830791.57894737
         ],
         "showgrid": true,
         "tickfont": {
          "color": "#C2C2C2"
         },
         "title": {
          "font": {
           "color": "#D9D9D9"
          },
          "text": ""
         },
         "type": "linear",
         "zerolinecolor": "#666570"
        }
       }
      },
      "image/png": "[encoded data removed]",
      "text/html": [
       "<div>                            <div id=\"f26e2c42-6f31-4a42-a202-8616ce1497d2\" class=\"plotly-graph-div\" style=\"height:525px; width:100%;\"></div>            <script type=\"text/javascript\">                require([\"plotly\"], function(Plotly) {                    window.PLOTLYENV=window.PLOTLYENV || {};                                    if (document.getElementById(\"f26e2c42-6f31-4a42-a202-8616ce1497d2\")) {                    Plotly.newPlot(                        \"f26e2c42-6f31-4a42-a202-8616ce1497d2\",                        [{\"marker\":{\"color\":\"rgba(255, 153, 51, 0.6)\",\"line\":{\"color\":\"rgba(255, 153, 51, 1.0)\",\"width\":1}},\"name\":\"Barrels\",\"orientation\":\"v\",\"text\":\"\",\"x\":[\"2020-01\",\"2020-02\",\"2020-03\",\"2020-04\",\"2020-05\",\"2020-06\",\"2020-07\",\"2020-08\",\"2020-09\",\"2020-10\",\"2020-11\",\"2020-12\",\"2021-01\",\"2021-02\",\"2021-03\",\"2021-04\",\"2021-05\",\"2021-06\",\"2021-07\"],\"y\":[179401090.0,181953526.0,188889252.0,161608368.0,150355936.0,145064486.0,187847938.0,172031346.0,164001640.0,164109496.0,135409612.0,186322554.0,181258786.0,120325446.0,141257496.0,176108758.0,148992032.0,\"\",\"\"],\"type\":\"bar\"},{\"line\":{\"color\":\"lime\"},\"name\":\"Fixtures qty\",\"x\":[\"2020-01\",\"2020-02\",\"2020-03\",\"2020-04\",\"2020-05\",\"2020-06\",\"2020-07\",\"2020-08\",\"2020-09\",\"2020-10\",\"2020-11\",\"2020-12\",\"2021-01\",\"2021-02\",\"2021-03\",\"2021-04\",\"2021-05\",\"2021-06\",\"2021-07\"],\"y\":[53874000.0,39434600.0,63677900.0,46574000.0,46026500.0,39675427.0,36536500.0,48472000.0,44128500.0,33981500.0,20038500.0,41135500.0,39785000.0,35551000.0,32923000.0,43216000.0,38617000.0,53399500.0,21681000.0],\"type\":\"scatter\"}],                        {\"legend\":{\"bgcolor\":\"#151516\",\"font\":{\"color\":\"#D9D9D9\"}},\"paper_bgcolor\":\"#151516\",\"plot_bgcolor\":\"#151516\",\"title\":{\"text\":\"PADD 3 exports vs Fixtures\",\"font\":{\"color\":\"#D9D9D9\"}},\"xaxis\":{\"gridcolor\":\"#434343\",\"showgrid\":true,\"tickfont\":{\"color\":\"#C2C2C2\"},\"title\":{\"text\":\"\",\"font\":{\"color\":\"#D9D9D9\"}},\"zerolinecolor\":\"#666570\"},\"yaxis\":{\"gridcolor\":\"#434343\",\"showgrid\":true,\"tickfont\":{\"color\":\"#C2C2C2\"},\"title\":{\"text\":\"\",\"font\":{\"color\":\"#D9D9D9\"}},\"zerolinecolor\":\"#666570\"},\"template\":{\"data\":{\"histogram2dcontour\":[{\"type\":\"histogram2dcontour\",\"colorbar\":{\"outlinewidth\":0,\"ticks\":\"\"},\"colorscale\":[[0.0,\"#0d0887\"],[0.1111111111111111,\"#46039f\"],[0.2222222222222222,\"#7201a8\"],[0.3333333333333333,\"#9c179e\"],[0.4444444444444444,\"#bd3786\"],[0.5555555555555556,\"#d8576b\"],[0.6666666666666666,\"#ed7953\"],[0.7777777777777778,\"#fb9f3a\"],[0.8888888888888888,\"#fdca26\"],[1.0,\"#f0f921\"]]}],\"choropleth\":[{\"type\":\"choropleth\",\"colorbar\":{\"outlinewidth\":0,\"ticks\":\"\"}}],\"histogram2d\":[{\"type\":\"histogram2d\",\"colorbar\":{\"outlinewidth\":0,\"ticks\":\"\"},\"colorscale\":[[0.0,\"#0d0887\"],[0.1111111111111111,\"#46039f\"],[0.2222222222222222,\"#7201a8\"],[0.3333333333333333,\"#9c179e\"],[0.4444444444444444,\"#bd3786\"],[0.5555555555555556,\"#d8576b\"],[0.6666666666666666,\"#ed7953\"],[0.7777777777777778,\"#fb9f3a\"],[0.8888888888888888,\"#fdca26\"],[1.0,\"#f0f921\"]]}],\"heatmap\":[{\"type\":\"heatmap\",\"colorbar\":{\"outlinewidth\":0,\"ticks\":\"\"},\"colorscale\":[[0.0,\"#0d0887\"],[0.1111111111111111,\"#46039f\"],[0.2222222222222222,\"#7201a8\"],[0.3333333333333333,\"#9c179e\"],[0.4444444444444444,\"#bd3786\"],[0.5555555555555556,\"#d8576b\"],[0.6666666666666666,\"#ed7953\"],[0.7777777777777778,\"#fb9f3a\"],[0.8888888888888888,\"#fdca26\"],[1.0,\"#f0f921\"]]}],\"heatmapgl\":[{\"type\":\"heatmapgl\",\"colorbar\":{\"outlinewidth\":0,\"ticks\":\"\"},\"colorscale\":[[0.0,\"#0d0887\"],[0.1111111111111111,\"#46039f\"],[0.2222222222222222,\"#7201a8\"],[0.3333333333333333,\"#9c179e\"],[0.4444444444444444,\"#bd3786\"],[0.5555555555555556,\"#d8576b\"],[0.6666666666666666,\"#ed7953\"],[0.7777777777777778,\"#fb9f3a\"],[0.8888888888888888,\"#fdca26\"],[1.0,\"#f0f921\"]]}],\"contourcarpet\":[{\"type\":\"contourcarpet\",\"colorbar\":{\"outlinewidth\":0,\"ticks\":\"\"}}],\"contour\":[{\"type\":\"contour\",\"colorbar\":{\"outlinewidth\":0,\"ticks\":\"\"},\"colorscale\":[[0.0,\"#0d0887\"],[0.1111111111111111,\"#46039f\"],[0.2222222222222222,\"#7201a8\"],[0.3333333333333333,\"#9c179e\"],[0.4444444444444444,\"#bd3786\"],[0.5555555555555556,\"#d8576b\"],[0.6666666666666666,\"#ed7953\"],[0.7777777777777778,\"#fb9f3a\"],[0.8888888888888888,\"#fdca26\"],[1.0,\"#f0f921\"]]}],\"surface\":[{\"type\":\"surface\",\"colorbar\":{\"outlinewidth\":0,\"ticks\":\"\"},\"colorscale\":[[0.0,\"#0d0887\"],[0.1111111111111111,\"#46039f\"],[0.2222222222222222,\"#7201a8\"],[0.3333333333333333,\"#9c179e\"],[0.4444444444444444,\"#bd3786\"],[0.5555555555555556,\"#d8576b\"],[0.6666666666666666,\"#ed7953\"],[0.7777777777777778,\"#fb9f3a\"],[0.8888888888888888,\"#fdca26\"],[1.0,\"#f0f921\"]]}],\"mesh3d\":[{\"type\":\"mesh3d\",\"colorbar\":{\"outlinewidth\":0,\"ticks\":\"\"}}],\"scatter\":[{\"fillpattern\":{\"fillmode\":\"overlay\",\"size\":10,\"solidity\":0.2},\"type\":\"scatter\"}],\"parcoords\":[{\"type\":\"parcoords\",\"line\":{\"colorbar\":{\"outlinewidth\":0,\"ticks\":\"\"}}}],\"scatterpolargl\":[{\"type\":\"scatterpolargl\",\"marker\":{\"colorbar\":{\"outlinewidth\":0,\"ticks\":\"\"}}}],\"bar\":[{\"error_x\":{\"color\":\"#2a3f5f\"},\"error_y\":{\"color\":\"#2a3f5f\"},\"marker\":{\"line\":{\"color\":\"#E5ECF6\",\"width\":0.5},\"pattern\":{\"fillmode\":\"overlay\",\"size\":10,\"solidity\":0.2}},\"type\":\"bar\"}],\"scattergeo\":[{\"type\":\"scattergeo\",\"marker\":{\"colorbar\":{\"outlinewidth\":0,\"ticks\":\"\"}}}],\"scatterpolar\":[{\"type\":\"scatterpolar\",\"marker\":{\"colorbar\":{\"outlinewidth\":0,\"ticks\":\"\"}}}],\"histogram\":[{\"marker\":{\"pattern\":{\"fillmode\":\"overlay\",\"size\":10,\"solidity\":0.2}},\"type\":\"histogram\"}],\"scattergl\":[{\"type\":\"scattergl\",\"marker\":{\"colorbar\":{\"outlinewidth\":0,\"ticks\":\"\"}}}],\"scatter3d\":[{\"type\":\"scatter3d\",\"line\":{\"colorbar\":{\"outlinewidth\":0,\"ticks\":\"\"}},\"marker\":{\"colorbar\":{\"outlinewidth\":0,\"ticks\":\"\"}}}],\"scattermapbox\":[{\"type\":\"scattermapbox\",\"marker\":{\"colorbar\":{\"outlinewidth\":0,\"ticks\":\"\"}}}],\"scatterternary\":[{\"type\":\"scatterternary\",\"marker\":{\"colorbar\":{\"outlinewidth\":0,\"ticks\":\"\"}}}],\"scattercarpet\":[{\"type\":\"scattercarpet\",\"marker\":{\"colorbar\":{\"outlinewidth\":0,\"ticks\":\"\"}}}],\"carpet\":[{\"aaxis\":{\"endlinecolor\":\"#2a3f5f\",\"gridcolor\":\"white\",\"linecolor\":\"white\",\"minorgridcolor\":\"white\",\"startlinecolor\":\"#2a3f5f\"},\"baxis\":{\"endlinecolor\":\"#2a3f5f\",\"gridcolor\":\"white\",\"linecolor\":\"white\",\"minorgridcolor\":\"white\",\"startlinecolor\":\"#2a3f5f\"},\"type\":\"carpet\"}],\"table\":[{\"cells\":{\"fill\":{\"color\":\"#EBF0F8\"},\"line\":{\"color\":\"white\"}},\"header\":{\"fill\":{\"color\":\"#C8D4E3\"},\"line\":{\"color\":\"white\"}},\"type\":\"table\"}],\"barpolar\":[{\"marker\":{\"line\":{\"color\":\"#E5ECF6\",\"width\":0.5},\"pattern\":{\"fillmode\":\"overlay\",\"size\":10,\"solidity\":0.2}},\"type\":\"barpolar\"}],\"pie\":[{\"automargin\":true,\"type\":\"pie\"}]},\"layout\":{\"autotypenumbers\":\"strict\",\"colorway\":[\"#636efa\",\"#EF553B\",\"#00cc96\",\"#ab63fa\",\"#FFA15A\",\"#19d3f3\",\"#FF6692\",\"#B6E880\",\"#FF97FF\",\"#FECB52\"],\"font\":{\"color\":\"#2a3f5f\"},\"hovermode\":\"closest\",\"hoverlabel\":{\"align\":\"left\"},\"paper_bgcolor\":\"white\",\"plot_bgcolor\":\"#E5ECF6\",\"polar\":{\"bgcolor\":\"#E5ECF6\",\"angularaxis\":{\"gridcolor\":\"white\",\"linecolor\":\"white\",\"ticks\":\"\"},\"radialaxis\":{\"gridcolor\":\"white\",\"linecolor\":\"white\",\"ticks\":\"\"}},\"ternary\":{\"bgcolor\":\"#E5ECF6\",\"aaxis\":{\"gridcolor\":\"white\",\"linecolor\":\"white\",\"ticks\":\"\"},\"baxis\":{\"gridcolor\":\"white\",\"linecolor\":\"white\",\"ticks\":\"\"},\"caxis\":{\"gridcolor\":\"white\",\"linecolor\":\"white\",\"ticks\":\"\"}},\"coloraxis\":{\"colorbar\":{\"outlinewidth\":0,\"ticks\":\"\"}},\"colorscale\":{\"sequential\":[[0.0,\"#0d0887\"],[0.1111111111111111,\"#46039f\"],[0.2222222222222222,\"#7201a8\"],[0.3333333333333333,\"#9c179e\"],[0.4444444444444444,\"#bd3786\"],[0.5555555555555556,\"#d8576b\"],[0.6666666666666666,\"#ed7953\"],[0.7777777777777778,\"#fb9f3a\"],[0.8888888888888888,\"#fdca26\"],[1.0,\"#f0f921\"]],\"sequentialminus\":[[0.0,\"#0d0887\"],[0.1111111111111111,\"#46039f\"],[0.2222222222222222,\"#7201a8\"],[0.3333333333333333,\"#9c179e\"],[0.4444444444444444,\"#bd3786\"],[0.5555555555555556,\"#d8576b\"],[0.6666666666666666,\"#ed7953\"],[0.7777777777777778,\"#fb9f3a\"],[0.8888888888888888,\"#fdca26\"],[1.0,\"#f0f921\"]],\"diverging\":[[0,\"#8e0152\"],[0.1,\"#c51b7d\"],[0.2,\"#de77ae\"],[0.3,\"#f1b6da\"],[0.4,\"#fde0ef\"],[0.5,\"#f7f7f7\"],[0.6,\"#e6f5d0\"],[0.7,\"#b8e186\"],[0.8,\"#7fbc41\"],[0.9,\"#4d9221\"],[1,\"#276419\"]]},\"xaxis\":{\"gridcolor\":\"white\",\"linecolor\":\"white\",\"ticks\":\"\",\"title\":{\"standoff\":15},\"zerolinecolor\":\"white\",\"automargin\":true,\"zerolinewidth\":2},\"yaxis\":{\"gridcolor\":\"white\",\"linecolor\":\"white\",\"ticks\":\"\",\"title\":{\"standoff\":15},\"zerolinecolor\":\"white\",\"automargin\":true,\"zerolinewidth\":2},\"scene\":{\"xaxis\":{\"backgroundcolor\":\"#E5ECF6\",\"gridcolor\":\"white\",\"linecolor\":\"white\",\"showbackground\":true,\"ticks\":\"\",\"zerolinecolor\":\"white\",\"gridwidth\":2},\"yaxis\":{\"backgroundcolor\":\"#E5ECF6\",\"gridcolor\":\"white\",\"linecolor\":\"white\",\"showbackground\":true,\"ticks\":\"\",\"zerolinecolor\":\"white\",\"gridwidth\":2},\"zaxis\":{\"backgroundcolor\":\"#E5ECF6\",\"gridcolor\":\"white\",\"linecolor\":\"white\",\"showbackground\":true,\"ticks\":\"\",\"zerolinecolor\":\"white\",\"gridwidth\":2}},\"shapedefaults\":{\"line\":{\"color\":\"#2a3f5f\"}},\"annotationdefaults\":{\"arrowcolor\":\"#2a3f5f\",\"arrowhead\":0,\"arrowwidth\":1},\"geo\":{\"bgcolor\":\"white\",\"landcolor\":\"#E5ECF6\",\"subunitcolor\":\"white\",\"showland\":true,\"showlakes\":true,\"lakecolor\":\"white\"},\"title\":{\"x\":0.05},\"mapbox\":{\"style\":\"light\"}}}},                        {\"responsive\": true}                    ).then(function(){\n",
       "                            \n",
       "var gd = document.getElementById('f26e2c42-6f31-4a42-a202-8616ce1497d2');\n",
       "var x = new MutationObserver(function (mutations, observer) {{\n",
       "        var display = window.getComputedStyle(gd).display;\n",
       "        if (!display || display === 'none') {{\n",
       "            console.log([gd, 'removed!']);\n",
       "            Plotly.purge(gd);\n",
       "            observer.disconnect();\n",
       "        }}\n",
       "}});\n",
       "\n",
       "// Listen for the removal of the full notebook cells\n",
       "var notebookContainer = gd.closest('#notebook-container');\n",
       "if (notebookContainer) {{\n",
       "    x.observe(notebookContainer, {childList: true});\n",
       "}}\n",
       "\n",
       "// Listen for the clearing of the current output cell\n",
       "var outputEl = gd.closest('.output');\n",
       "if (outputEl) {{\n",
       "    x.observe(outputEl, {childList: true});\n",
       "}}\n",
       "\n",
       "                        })                };                });            </script>        </div>"
      ]
     },
     "metadata": {},
     "output_type": "display_data"
    }
   ],
   "source": [
    "fig_fix=fix_pivot[['Barrels']].iplot(kind='bar',title='PADD 3 exports vs Fixtures',asFigure=True)\n",
    "fig_fix.add_trace(trace=go.Scatter(x=fix_pivot.index,y=fix_pivot['Cargo Size'],name='Fixtures qty',line=dict(color='lime')))"
   ]
  },
  {
   "cell_type": "markdown",
   "metadata": {},
   "source": [
    "What we can see from this chart is that LSEG Fixtures show good correlation with estimated crude exports from PADD 3, and can be reasonably used as a predictor of the direction or trend of U.S. crude exports. Similar analysis can be done for other regions or commodities."
   ]
  },
  {
   "cell_type": "code",
   "execution_count": null,
   "metadata": {},
   "outputs": [],
   "source": []
  }
 ],
 "metadata": {
  "kernelspec": {
   "display_name": "Python 3 (ipykernel)",
   "language": "python",
   "name": "python3"
  },
  "language_info": {
   "codemirror_mode": {
    "name": "ipython",
    "version": 3
   },
   "file_extension": ".py",
   "mimetype": "text/x-python",
   "name": "python",
   "nbconvert_exporter": "python",
   "pygments_lexer": "ipython3",
   "version": "3.9.12"
  }
 },
 "nbformat": 4,
 "nbformat_minor": 4
}
